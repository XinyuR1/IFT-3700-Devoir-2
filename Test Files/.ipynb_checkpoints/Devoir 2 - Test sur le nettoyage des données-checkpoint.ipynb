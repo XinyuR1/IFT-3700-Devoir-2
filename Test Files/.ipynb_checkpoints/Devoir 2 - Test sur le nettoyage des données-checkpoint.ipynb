{
 "cells": [
  {
   "cell_type": "code",
   "execution_count": 1,
   "id": "d18516bd",
   "metadata": {},
   "outputs": [],
   "source": [
    "# TEST\n",
    "import numpy as np\n",
    "import pandas as pd"
   ]
  },
  {
   "cell_type": "code",
   "execution_count": 2,
   "id": "a5ca7812",
   "metadata": {},
   "outputs": [
    {
     "data": {
      "text/plain": [
       "array([['Anguilla', 'Anguilla (UK)', nan, nan, nan],\n",
       "       ['Aruba', 'Aruba (Netherlands)', nan, nan, nan],\n",
       "       ['Channel Islands', 'Channel Islands (UK)',\n",
       "        'Channel Islands - (11) Guernsey (UK) and (12) Jersey (UK)', nan,\n",
       "        nan],\n",
       "       ['Bolivia', 'Plurinational State of Bolivia', nan, nan, nan],\n",
       "       ['Congo', 'Congo-Kinshasa', 'Congo DR',\n",
       "        'Democratic Republic of Congo', 'DR Congo']], dtype=object)"
      ]
     },
     "execution_count": 2,
     "metadata": {},
     "output_type": "execute_result"
    }
   ],
   "source": [
    "# Créer un tableau vide avec tous les pays/territoires\n",
    "df_test = pd.read_csv('countries_test.csv')\n",
    "df_test.head()\n",
    "countries_matrix = df_test.values\n",
    "countries_matrix"
   ]
  },
  {
   "cell_type": "code",
   "execution_count": 3,
   "id": "02b16de6",
   "metadata": {},
   "outputs": [
    {
     "data": {
      "text/plain": [
       "array([['Anguilla', nan],\n",
       "       ['Aruba', nan],\n",
       "       ['Channel Islands', nan],\n",
       "       ['Bolivia', nan],\n",
       "       ['Congo', nan]], dtype=object)"
      ]
     },
     "execution_count": 3,
     "metadata": {},
     "output_type": "execute_result"
    }
   ],
   "source": [
    "# Première variable explicative\n",
    "countries = df_test.iloc[:,0].values\n",
    "factor_1 = np.empty(countries.shape[0], dtype=float)\n",
    "factor_1[:] = np.NaN\n",
    "\n",
    "matrix = np.column_stack((countries, factor_1))\n",
    "matrix"
   ]
  },
  {
   "cell_type": "code",
   "execution_count": 30,
   "id": "dba228dd",
   "metadata": {},
   "outputs": [
    {
     "data": {
      "text/plain": [
       "array([['Anguilla (UK)', 1.3],\n",
       "       ['Channel Islands', 2.6],\n",
       "       ['DR Congo', 3.12],\n",
       "       ['World', 4.9]], dtype=object)"
      ]
     },
     "execution_count": 30,
     "metadata": {},
     "output_type": "execute_result"
    }
   ],
   "source": [
    "# Compléter la matrice vide\n",
    "df = pd.read_csv('test.csv')\n",
    "test_matrix = np.column_stack((df.iloc[:,0].values, df.iloc[:,1].values))\n",
    "test_matrix"
   ]
  },
  {
   "cell_type": "code",
   "execution_count": 31,
   "id": "fe5dfa22",
   "metadata": {},
   "outputs": [],
   "source": [
    "def find_index(name):\n",
    "    for i in range(countries_matrix.shape[0]):\n",
    "        for j in range(countries_matrix.shape[1]):\n",
    "            if countries_matrix[i][j] == name:\n",
    "                return i\n",
    "            \n",
    "    return -1"
   ]
  },
  {
   "cell_type": "code",
   "execution_count": 32,
   "id": "972969b9",
   "metadata": {},
   "outputs": [
    {
     "name": "stdout",
     "output_type": "stream",
     "text": [
      "COUNTRIES/TERRITORIES NOT FOUND: World\n"
     ]
    }
   ],
   "source": [
    "for i in range(test_matrix.shape[0]):\n",
    "    index = find_index(test_matrix[i][0])\n",
    "    if index == -1:\n",
    "        print(f'COUNTRIES/TERRITORIES NOT FOUND: {test_matrix[i][0]}')\n",
    "    else:\n",
    "        matrix[index][1] = test_matrix[i][1]"
   ]
  },
  {
   "cell_type": "code",
   "execution_count": 40,
   "id": "cae4a350",
   "metadata": {},
   "outputs": [
    {
     "data": {
      "text/plain": [
       "array([['Anguilla', 1.3],\n",
       "       ['Aruba', nan],\n",
       "       ['Channel Islands', 2.6],\n",
       "       ['Bolivia', nan],\n",
       "       ['Congo', 3.12]], dtype=object)"
      ]
     },
     "execution_count": 40,
     "metadata": {},
     "output_type": "execute_result"
    }
   ],
   "source": [
    "matrix"
   ]
  },
  {
   "cell_type": "code",
   "execution_count": 52,
   "id": "74948774",
   "metadata": {},
   "outputs": [
    {
     "data": {
      "text/plain": [
       "COUNTRY     object\n",
       "GDP        float64\n",
       "dtype: object"
      ]
     },
     "execution_count": 52,
     "metadata": {},
     "output_type": "execute_result"
    }
   ],
   "source": [
    "final = pd.DataFrame(matrix, columns=['COUNTRY', 'GDP'])\n",
    "# Convert the features to numeric numbers (float64)\n",
    "final[\"GDP\"] = pd.to_numeric(final[\"GDP\"])\n",
    "final.head()\n",
    "final.dtypes"
   ]
  },
  {
   "cell_type": "code",
   "execution_count": null,
   "id": "d9e92dfb",
   "metadata": {},
   "outputs": [],
   "source": []
  }
 ],
 "metadata": {
  "kernelspec": {
   "display_name": "Python 3 (ipykernel)",
   "language": "python",
   "name": "python3"
  },
  "language_info": {
   "codemirror_mode": {
    "name": "ipython",
    "version": 3
   },
   "file_extension": ".py",
   "mimetype": "text/x-python",
   "name": "python",
   "nbconvert_exporter": "python",
   "pygments_lexer": "ipython3",
   "version": "3.9.5"
  }
 },
 "nbformat": 4,
 "nbformat_minor": 5
}
