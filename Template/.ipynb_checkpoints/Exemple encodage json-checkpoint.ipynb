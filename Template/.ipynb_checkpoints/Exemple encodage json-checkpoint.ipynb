{
 "cells": [
  {
   "cell_type": "code",
   "execution_count": null,
   "metadata": {
    "id": "vrVlXtnYVnM3"
   },
   "outputs": [],
   "source": [
    "import json"
   ]
  },
  {
   "cell_type": "markdown",
   "metadata": {
    "id": "X67cDKxhVnM7"
   },
   "source": [
    "## Les bases de json\n",
    "\n",
    "json permet d'encoder les objets python en texte. Les objets encodables sont les ```int```, ```float```, ```str```, ```list``` et ```dict```. Les ```list``` et ```dict``` doivent contenir seulement des objets encodable. Il n'est pas obligatoire que ces objets soient du même type.\n",
    "\n",
    "> Il est donc possible d'encoder un dictionaire contenant d'autres dictionaires, une liste de listes ou une liste de dictionaires!\n",
    "\n",
    "On utilise la fonction ```json.dumps(mon_objet, fichier)``` pour enregistrer l'encodage json de notre objet sur le disque. Par exemple, pour encoder une list ```a = [42, 3.1416, 'hello world', '42']``` dans le fichier \"maliste.json\" on procède ainsi:"
   ]
  },
  {
   "cell_type": "code",
   "execution_count": null,
   "metadata": {
    "id": "tlVFt6BbVnM9"
   },
   "outputs": [],
   "source": [
    "filename = 'maliste.json'\n",
    "a = [42, 3.1416, 'hello world', '42']\n",
    "\n",
    "with open(filename, 'w') as f:\n",
    "    json.dump(a, f)"
   ]
  },
  {
   "cell_type": "markdown",
   "metadata": {
    "id": "asSxYI2bVnM-"
   },
   "source": [
    "Pour convertir un fichier json en objet on utilise la fonction ```json.load(fichier)```."
   ]
  },
  {
   "cell_type": "code",
   "execution_count": null,
   "metadata": {
    "id": "18kQPVQjVnM-",
    "outputId": "ad2e5543-3b06-4021-ffd4-33712bae0b80"
   },
   "outputs": [
    {
     "name": "stdout",
     "output_type": "stream",
     "text": [
      "[42, 3.1416, 'hello world', '42']\n",
      "a == b est True\n"
     ]
    }
   ],
   "source": [
    "with open(filename, 'r') as f:\n",
    "    b = json.load(f)\n",
    "    \n",
    "print(b)\n",
    "print(f'a == b est {a == b}')"
   ]
  },
  {
   "cell_type": "markdown",
   "metadata": {
    "id": "9JI3LdZAVnNA"
   },
   "source": [
    "### Encoder un array numpy\n",
    "\n",
    "Les arrays numpy ne sont pas encodable directement en json. Par contre, on peut utiliser la méthode ```tolist``` pour convertir les arrays en liste de listes."
   ]
  },
  {
   "cell_type": "code",
   "execution_count": null,
   "metadata": {
    "id": "J8N8pqFgVnNA",
    "outputId": "18818754-afa8-49de-dd68-6ba18377dd6e"
   },
   "outputs": [
    {
     "name": "stdout",
     "output_type": "stream",
     "text": [
      "[[ True  True  True  True  True]\n",
      " [ True  True  True  True  True]\n",
      " [ True  True  True  True  True]\n",
      " [ True  True  True  True  True]]\n"
     ]
    }
   ],
   "source": [
    "array = np.random.uniform(-1, 1, size=(4,5))\n",
    "\n",
    "#écrire dans le fichier monarray.json notre array numpy\n",
    "list_of_lists = array.tolist() #on doit convertir en liste\n",
    "with open('monarray.json', 'w') as f:\n",
    "    json.dump(list_of_lists, f)\n",
    "    \n",
    "#lire un notre array à partir du ficher monarray.json\n",
    "with open('monarray.json', 'r') as f:\n",
    "    loaded_list_of_lists = json.load(f)\n",
    "loaded_array = np.array(loaded_list_of_lists) #on doit convertir en array\n",
    "\n",
    "print(array == loaded_array)"
   ]
  },
  {
   "cell_type": "markdown",
   "metadata": {
    "id": "YABpJ8NvVnNC"
   },
   "source": [
    "### Encoder un réseau bayésien\n",
    "Les réseaux bayésiens écrits avec ```pomegranate``` on la méthode ```to_json()``` qui permet"
   ]
  },
  {
   "cell_type": "code",
   "execution_count": null,
   "metadata": {
    "id": "_M1cqVsEVnNC"
   },
   "outputs": [],
   "source": [
    "from pomegranate import DiscreteDistribution, ConditionalProbabilityTable, Node, BayesianNetwork\n",
    "\n",
    "voleur = DiscreteDistribution({False: 0.999, True: 0.001})\n",
    "seisme = DiscreteDistribution({False: 0.998, True: 0.002})\n",
    "alarme = ConditionalProbabilityTable(\n",
    "    [[False, False, False, 0.999],\n",
    "     [False, False, True, 0.001],\n",
    "     \n",
    "     [False, True, False, 0.71],\n",
    "     [False, True, True, 0.29],\n",
    "     \n",
    "     [True, False, False, 0.06],\n",
    "     [True, False, True, 0.94],\n",
    "     \n",
    "     [True, True, False, 0.05],\n",
    "     [True, True, True, 0.95]\n",
    "    ],\n",
    "    [voleur, seisme]\n",
    ")\n",
    "jean_appelle = ConditionalProbabilityTable(\n",
    "    [[False, False, 0.95],\n",
    "     [False, True, 0.05],\n",
    "     \n",
    "     [True, False, 0.1],\n",
    "     [True, True, 0.9],\n",
    "    ],\n",
    "    [alarme]\n",
    ")\n",
    "marie_appelle = ConditionalProbabilityTable(\n",
    "    [[False, False, 0.99],\n",
    "     [False, True, 0.01],\n",
    "     \n",
    "     [True, False, 0.3],\n",
    "     [True, True, 0.7],\n",
    "    ],\n",
    "    [alarme]\n",
    ")\n",
    "\n",
    "voleur_node = Node(voleur, name='Voleur')\n",
    "seisme_node = Node(seisme, name='Séisme')\n",
    "alarme_node = Node(alarme, name='Alarme')\n",
    "jean_appelle_node = Node(jean_appelle, name='JeanAppelle')\n",
    "marie_appelle_node = Node(marie_appelle, name='MarieAppelle')\n",
    "\n",
    "bayesnet = BayesianNetwork(\"Problème classique de l'alarme\")\n",
    "bayesnet.add_nodes(\n",
    "    voleur_node,\n",
    "    seisme_node,\n",
    "    alarme_node,\n",
    "    jean_appelle_node,\n",
    "    marie_appelle_node,\n",
    ")\n",
    "bayesnet.add_edge(voleur_node, alarme_node)\n",
    "bayesnet.add_edge(seisme_node, alarme_node)\n",
    "bayesnet.add_edge(alarme_node, jean_appelle_node)\n",
    "bayesnet.add_edge(alarme_node, marie_appelle_node)\n",
    "\n",
    "bayesnet.bake()"
   ]
  },
  {
   "cell_type": "code",
   "execution_count": null,
   "metadata": {
    "id": "6iJsnlGSVnNE"
   },
   "outputs": [],
   "source": [
    "with open('monreseaubayesien.json', 'w') as f:\n",
    "    f.write(bayesnet.to_json())"
   ]
  },
  {
   "cell_type": "markdown",
   "metadata": {
    "id": "wfWIAhdLVnNF"
   },
   "source": [
    "Pour récupérer le réseau vous pouvez utiliser la méthode statique ```from_json```."
   ]
  },
  {
   "cell_type": "code",
   "execution_count": null,
   "metadata": {
    "id": "UbS4sQRoVnNF"
   },
   "outputs": [],
   "source": [
    "with open('monreseaubayesien.json', 'r') as f:\n",
    "    loaded_bayesnet = BayesianNetwork.from_json(f.read())"
   ]
  },
  {
   "cell_type": "code",
   "execution_count": null,
   "metadata": {
    "id": "9nCC2YXhVnNG",
    "outputId": "350e0f47-73a6-4bc0-c10a-e3f55c4398f6",
    "scrolled": true
   },
   "outputs": [
    {
     "data": {
      "image/png": "[encoded data removed]",
      "text/plain": [
       "<Figure size 432x288 with 1 Axes>"
      ]
     },
     "metadata": {
      "needs_background": "light"
     },
     "output_type": "display_data"
    }
   ],
   "source": [
    "#si vous avez pygraphviz\n",
    "loaded_bayesnet.plot()"
   ]
  },
  {
   "cell_type": "code",
   "execution_count": null,
   "metadata": {
    "id": "Yw9xBox-VnNG"
   },
   "outputs": [],
   "source": []
  }
 ],
 "metadata": {
  "colab": {
   "name": "Exemple encodage json.ipynb",
   "provenance": []
  },
  "kernelspec": {
   "display_name": "Python 3 (ipykernel)",
   "language": "python",
   "name": "python3"
  },
  "language_info": {
   "codemirror_mode": {
    "name": "ipython",
    "version": 3
   },
   "file_extension": ".py",
   "mimetype": "text/x-python",
   "name": "python",
   "nbconvert_exporter": "python",
   "pygments_lexer": "ipython3",
   "version": "3.9.5"
  }
 },
 "nbformat": 4,
 "nbformat_minor": 1
}
