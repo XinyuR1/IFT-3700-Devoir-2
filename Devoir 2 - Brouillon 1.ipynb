{
 "cells": [
  {
   "cell_type": "code",
   "execution_count": 75,
   "id": "ad7a1db2",
   "metadata": {},
   "outputs": [],
   "source": [
    "# DEVOIR 2 - QUESTION 2\n",
    "# PARTIE A: NETTOYAGE DES DONNÉES\n",
    "\n",
    "import csv\n",
    "import numpy as np\n",
    "import pandas as pd"
   ]
  },
  {
   "cell_type": "code",
   "execution_count": 56,
   "id": "05a71bcb",
   "metadata": {},
   "outputs": [
    {
     "data": {
      "text/plain": [
       "array([['Anguilla', ' Anguilla (UK)', nan, nan, nan],\n",
       "       ['Aruba', ' Aruba (Netherlands)', nan, nan, nan],\n",
       "       ['Channel Islands', ' Channel Islands (UK)',\n",
       "        ' Channel Islands - (11) Guernsey (UK) and (12) Jersey (UK)',\n",
       "        nan, nan],\n",
       "       ['Bolivia', ' Plurinational State of Bolivia', nan, nan, nan],\n",
       "       ['Congo', ' Congo-Kinshasa', ' Congo DR',\n",
       "        ' Democratic Republic of Congo', ' DR Congo']], dtype=object)"
      ]
     },
     "execution_count": 56,
     "metadata": {},
     "output_type": "execute_result"
    }
   ],
   "source": [
    "# Créer un tableau vide avec tous les pays/territoires\n",
    "df_test = pd.read_csv('countries_test.csv')\n",
    "df_test.head()\n",
    "countries_matrix = df_test.values\n",
    "countries_matrix"
   ]
  },
  {
   "cell_type": "code",
   "execution_count": 54,
   "id": "d8cf1fad",
   "metadata": {},
   "outputs": [
    {
     "data": {
      "text/plain": [
       "array([nan, nan, nan, nan, nan])"
      ]
     },
     "execution_count": 54,
     "metadata": {},
     "output_type": "execute_result"
    }
   ],
   "source": [
    "countries = df_test.iloc[:,0].values\n",
    "new_array = np.empty(countries.shape[0], dtype=float)\n",
    "new_array[:] = np.NaN\n",
    "new_array"
   ]
  },
  {
   "cell_type": "code",
   "execution_count": 67,
   "id": "6997ea7d",
   "metadata": {},
   "outputs": [
    {
     "data": {
      "text/plain": [
       "array([1., 2., 3., 4.])"
      ]
     },
     "execution_count": 67,
     "metadata": {},
     "output_type": "execute_result"
    }
   ],
   "source": [
    "df = pd.read_csv(\"test.csv\")\n",
    "df.head()\n",
    "test_country = df.iloc[:,0].values\n",
    "estimate = df.iloc[:,1].values"
   ]
  },
  {
   "cell_type": "code",
   "execution_count": 79,
   "id": "9250b5ef",
   "metadata": {},
   "outputs": [
    {
     "name": "stdout",
     "output_type": "stream",
     "text": [
      "['Anguilla (UK)' 'Channel Islands' 'DR Congo' 'World']\n",
      "[1. 2. 3. 4.]\n"
     ]
    }
   ],
   "source": [
    "print(test_country)\n",
    "print(estimate)"
   ]
  },
  {
   "cell_type": "code",
   "execution_count": null,
   "id": "53ec95ba",
   "metadata": {},
   "outputs": [],
   "source": []
  },
  {
   "cell_type": "code",
   "execution_count": 26,
   "id": "f4023a37",
   "metadata": {},
   "outputs": [],
   "source": [
    "def clean_name(country_array, is_asterics):\n",
    "    new_array = np.empty(country_array.shape[0], dtype=object)\n",
    "    \n",
    "    #1. Remove the asterics next to each name\n",
    "    if is_asterics:\n",
    "        for i in range(country_array.shape[0]):\n",
    "            country = country_array[i]\n",
    "            new_array[i] = country[:-2]\n",
    "        \n",
    "    return new_array"
   ]
  },
  {
   "cell_type": "code",
   "execution_count": 155,
   "id": "4f5716a2",
   "metadata": {},
   "outputs": [
    {
     "data": {
      "text/html": [
       "<div>\n",
       "<style scoped>\n",
       "    .dataframe tbody tr th:only-of-type {\n",
       "        vertical-align: middle;\n",
       "    }\n",
       "\n",
       "    .dataframe tbody tr th {\n",
       "        vertical-align: top;\n",
       "    }\n",
       "\n",
       "    .dataframe thead th {\n",
       "        text-align: right;\n",
       "    }\n",
       "</style>\n",
       "<table border=\"1\" class=\"dataframe\">\n",
       "  <thead>\n",
       "    <tr style=\"text-align: right;\">\n",
       "      <th></th>\n",
       "      <th>Country/Territory</th>\n",
       "      <th>Subregion</th>\n",
       "      <th>Region</th>\n",
       "      <th>IMF[3]</th>\n",
       "      <th>IMF[3].1</th>\n",
       "      <th>United Nations[4]</th>\n",
       "      <th>United Nations[4].1</th>\n",
       "      <th>World Bank[5]</th>\n",
       "      <th>World Bank[5].1</th>\n",
       "    </tr>\n",
       "  </thead>\n",
       "  <tbody>\n",
       "    <tr>\n",
       "      <th>0</th>\n",
       "      <td>Country/Territory</td>\n",
       "      <td>Subregion</td>\n",
       "      <td>Region</td>\n",
       "      <td>Estimate</td>\n",
       "      <td>Year</td>\n",
       "      <td>Estimate</td>\n",
       "      <td>Year</td>\n",
       "      <td>Estimate</td>\n",
       "      <td>Year</td>\n",
       "    </tr>\n",
       "    <tr>\n",
       "      <th>1</th>\n",
       "      <td>Monaco *</td>\n",
       "      <td>Western Europe</td>\n",
       "      <td>Europe</td>\n",
       "      <td>NaN</td>\n",
       "      <td>NaN</td>\n",
       "      <td>190,532</td>\n",
       "      <td>2019</td>\n",
       "      <td>190,513</td>\n",
       "      <td>2019</td>\n",
       "    </tr>\n",
       "    <tr>\n",
       "      <th>2</th>\n",
       "      <td>Liechtenstein *</td>\n",
       "      <td>Western Europe</td>\n",
       "      <td>Europe</td>\n",
       "      <td>NaN</td>\n",
       "      <td>NaN</td>\n",
       "      <td>179,258</td>\n",
       "      <td>2019</td>\n",
       "      <td>180,367</td>\n",
       "      <td>2018</td>\n",
       "    </tr>\n",
       "    <tr>\n",
       "      <th>3</th>\n",
       "      <td>Luxembourg *</td>\n",
       "      <td>Western Europe</td>\n",
       "      <td>Europe</td>\n",
       "      <td>131,782</td>\n",
       "      <td>2021</td>\n",
       "      <td>115,481</td>\n",
       "      <td>2019</td>\n",
       "      <td>115,874</td>\n",
       "      <td>2020</td>\n",
       "    </tr>\n",
       "    <tr>\n",
       "      <th>4</th>\n",
       "      <td>Bermuda *</td>\n",
       "      <td>Northern America</td>\n",
       "      <td>Americas</td>\n",
       "      <td>NaN</td>\n",
       "      <td>NaN</td>\n",
       "      <td>117,768</td>\n",
       "      <td>2019</td>\n",
       "      <td>117,098</td>\n",
       "      <td>2019</td>\n",
       "    </tr>\n",
       "  </tbody>\n",
       "</table>\n",
       "</div>"
      ],
      "text/plain": [
       "   Country/Territory         Subregion    Region    IMF[3] IMF[3].1  \\\n",
       "0  Country/Territory         Subregion    Region  Estimate     Year   \n",
       "1           Monaco *    Western Europe    Europe       NaN      NaN   \n",
       "2    Liechtenstein *    Western Europe    Europe       NaN      NaN   \n",
       "3       Luxembourg *    Western Europe    Europe   131,782     2021   \n",
       "4          Bermuda *  Northern America  Americas       NaN      NaN   \n",
       "\n",
       "  United Nations[4] United Nations[4].1 World Bank[5] World Bank[5].1  \n",
       "0          Estimate                Year      Estimate            Year  \n",
       "1           190,532                2019       190,513            2019  \n",
       "2           179,258                2019       180,367            2018  \n",
       "3           115,481                2019       115,874            2020  \n",
       "4           117,768                2019       117,098            2019  "
      ]
     },
     "execution_count": 155,
     "metadata": {},
     "output_type": "execute_result"
    }
   ],
   "source": [
    "df_1 = pd.read_csv(\"CSV Brute Files/1.csv\")\n",
    "df_1.head()"
   ]
  },
  {
   "cell_type": "code",
   "execution_count": 125,
   "id": "1ff6db7d",
   "metadata": {},
   "outputs": [
    {
     "name": "stdout",
     "output_type": "stream",
     "text": [
      "<class 'str'>\n",
      "Monaco *\n"
     ]
    }
   ],
   "source": [
    "df_1 = pd.read_csv(\"CSV Brute Files/1.csv\")\n",
    "df_1.head()\n",
    "df_1 = df_1.iloc[1:,[0,5]]\n",
    "countries = df_1.iloc[:,0].values\n",
    "test = countries[0]\n",
    "print(type(test))\n",
    "print(test)"
   ]
  },
  {
   "cell_type": "code",
   "execution_count": 126,
   "id": "f74a96a9",
   "metadata": {},
   "outputs": [
    {
     "data": {
      "text/plain": [
       "(216,)"
      ]
     },
     "execution_count": 126,
     "metadata": {},
     "output_type": "execute_result"
    }
   ],
   "source": [
    "new_countries = clean_name(countries, True)\n",
    "new_countries.shape"
   ]
  },
  {
   "cell_type": "code",
   "execution_count": 147,
   "id": "6075f100",
   "metadata": {},
   "outputs": [
    {
     "name": "stdout",
     "output_type": "stream",
     "text": [
      "190,532\n"
     ]
    }
   ],
   "source": [
    "estimate = df_1.iloc[:,1].values\n",
    "test2 = estimate[0]\n",
    "print(test2)"
   ]
  },
  {
   "cell_type": "code",
   "execution_count": 150,
   "id": "4a4045f2",
   "metadata": {},
   "outputs": [
    {
     "name": "stdout",
     "output_type": "stream",
     "text": [
      "190.532\n",
      "<class 'float'>\n"
     ]
    }
   ],
   "source": [
    "test2 = float(str(test2).replace(',','.'))\n",
    "print(test2)\n",
    "print(type(test2))"
   ]
  },
  {
   "cell_type": "code",
   "execution_count": 171,
   "id": "438567a8",
   "metadata": {},
   "outputs": [],
   "source": [
    "new_estimate = np.zeros(estimate.shape[0], dtype=float)\n",
    "for i in range(estimate.shape[0]):\n",
    "    new_estimate[i] = float(str(estimate[i]).replace(',','.'))"
   ]
  },
  {
   "cell_type": "code",
   "execution_count": null,
   "id": "e6e81f6d",
   "metadata": {},
   "outputs": [],
   "source": []
  }
 ],
 "metadata": {
  "kernelspec": {
   "display_name": "Python 3 (ipykernel)",
   "language": "python",
   "name": "python3"
  },
  "language_info": {
   "codemirror_mode": {
    "name": "ipython",
    "version": 3
   },
   "file_extension": ".py",
   "mimetype": "text/x-python",
   "name": "python",
   "nbconvert_exporter": "python",
   "pygments_lexer": "ipython3",
   "version": "3.9.5"
  }
 },
 "nbformat": 4,
 "nbformat_minor": 5
}
