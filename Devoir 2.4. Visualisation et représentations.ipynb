{
 "cells": [
  {
   "cell_type": "code",
   "execution_count": 79,
   "id": "c83a653f",
   "metadata": {},
   "outputs": [],
   "source": [
    "# DEVOIR 2\n",
    "# PARTIE IV: VISUALISATION ET REPRÉSENTATIONS\n",
    "import numpy as np\n",
    "import pandas as pd\n",
    "import plotly.express as px\n",
    "\n",
    "from sklearn.preprocessing import StandardScaler\n",
    "from sklearn.decomposition import PCA\n",
    "from sklearn.manifold import Isomap\n",
    "from sklearn.manifold import TSNE"
   ]
  },
  {
   "cell_type": "code",
   "execution_count": 45,
   "id": "987b6fc4",
   "metadata": {},
   "outputs": [
    {
     "data": {
      "text/html": [
       "<div>\n",
       "<style scoped>\n",
       "    .dataframe tbody tr th:only-of-type {\n",
       "        vertical-align: middle;\n",
       "    }\n",
       "\n",
       "    .dataframe tbody tr th {\n",
       "        vertical-align: top;\n",
       "    }\n",
       "\n",
       "    .dataframe thead th {\n",
       "        text-align: right;\n",
       "    }\n",
       "</style>\n",
       "<table border=\"1\" class=\"dataframe\">\n",
       "  <thead>\n",
       "    <tr style=\"text-align: right;\">\n",
       "      <th></th>\n",
       "      <th>COUNTRY</th>\n",
       "    </tr>\n",
       "  </thead>\n",
       "  <tbody>\n",
       "    <tr>\n",
       "      <th>0</th>\n",
       "      <td>Afghanistan</td>\n",
       "    </tr>\n",
       "    <tr>\n",
       "      <th>1</th>\n",
       "      <td>Albania</td>\n",
       "    </tr>\n",
       "    <tr>\n",
       "      <th>2</th>\n",
       "      <td>Algeria</td>\n",
       "    </tr>\n",
       "    <tr>\n",
       "      <th>3</th>\n",
       "      <td>Angola</td>\n",
       "    </tr>\n",
       "    <tr>\n",
       "      <th>4</th>\n",
       "      <td>Argentina</td>\n",
       "    </tr>\n",
       "    <tr>\n",
       "      <th>...</th>\n",
       "      <td>...</td>\n",
       "    </tr>\n",
       "    <tr>\n",
       "      <th>152</th>\n",
       "      <td>Venezuela</td>\n",
       "    </tr>\n",
       "    <tr>\n",
       "      <th>153</th>\n",
       "      <td>Vietnam</td>\n",
       "    </tr>\n",
       "    <tr>\n",
       "      <th>154</th>\n",
       "      <td>Yemen</td>\n",
       "    </tr>\n",
       "    <tr>\n",
       "      <th>155</th>\n",
       "      <td>Zambia</td>\n",
       "    </tr>\n",
       "    <tr>\n",
       "      <th>156</th>\n",
       "      <td>Zimbabwe</td>\n",
       "    </tr>\n",
       "  </tbody>\n",
       "</table>\n",
       "<p>157 rows × 1 columns</p>\n",
       "</div>"
      ],
      "text/plain": [
       "         COUNTRY\n",
       "0    Afghanistan\n",
       "1        Albania\n",
       "2        Algeria\n",
       "3         Angola\n",
       "4      Argentina\n",
       "..           ...\n",
       "152    Venezuela\n",
       "153      Vietnam\n",
       "154        Yemen\n",
       "155       Zambia\n",
       "156     Zimbabwe\n",
       "\n",
       "[157 rows x 1 columns]"
      ]
     },
     "execution_count": 45,
     "metadata": {},
     "output_type": "execute_result"
    }
   ],
   "source": [
    "data=pd.read_csv('dataB.csv', index_col=0)\n",
    "x = data.values\n",
    "countries = data.index.values\n",
    "countries = pd.DataFrame(countries, columns=['COUNTRY'])\n",
    "countries"
   ]
  },
  {
   "cell_type": "code",
   "execution_count": 112,
   "id": "b5dae12e",
   "metadata": {},
   "outputs": [],
   "source": [
    "def pca_data(x, components):\n",
    "    pca = PCA(n_components = components)\n",
    "    pc = pca.fit_transform(x)\n",
    "    \n",
    "    if components == 2:\n",
    "        pc_df = pd.DataFrame(data = pc, columns=['PC1', 'PC2'])\n",
    "    else:\n",
    "        pc_df = pd.DataFrame(data = pc, columns=['PC1', 'PC2', 'PC3', 'PC4', 'PC5'])\n",
    "    \n",
    "    pc_df = pd.concat([countries, pc_df],axis = 1)\n",
    "    return pc_df"
   ]
  },
  {
   "cell_type": "code",
   "execution_count": 113,
   "id": "a30aece6",
   "metadata": {},
   "outputs": [],
   "source": [
    "def isomap_data(x, components, neighbors):\n",
    "    isomap = Isomap(n_components = components, n_neighbors = neighbors)\n",
    "    isomap_data = isomap.fit_transform(x)\n",
    "    isomap_df = pd.DataFrame(data = isomap_data, columns=['PC1', 'PC2'])\n",
    "    isomap_df = pd.concat([countries, isomap_df],axis = 1)\n",
    "    return isomap_df"
   ]
  },
  {
   "cell_type": "code",
   "execution_count": 163,
   "id": "88154cab",
   "metadata": {},
   "outputs": [],
   "source": [
    "def tSNE_data(x, components):\n",
    "    tsne = TSNE(n_components=components, verbose=1, perplexity=40, n_iter=300)\n",
    "    tsne_data = tsne.fit_transform(x)\n",
    "    tsne_df = pd.DataFrame(data = tsne_data, columns=['PC1', 'PC2'])\n",
    "    tsne_df = pd.concat([countries, tsne_df],axis = 1)\n",
    "    return tsne_df"
   ]
  },
  {
   "cell_type": "code",
   "execution_count": 172,
   "id": "f9d308cd",
   "metadata": {},
   "outputs": [
    {
     "data": {
      "application/vnd.plotly.v1+json": {
       "config": {
        "plotlyServerURL": "https://plot.ly"
       },
       "data": [
        {
         "hovertemplate": "PC1=%{x}<br>PC2=%{y}<br>COUNTRY=%{text}<extra></extra>",
         "legendgroup": "",
         "marker": {
          "color": "#636efa",
          "symbol": "circle"
         },
         "mode": "markers+text",
         "name": "",
         "orientation": "v",
         "showlegend": false,
         "text": [
          "Afghanistan",
          "Albania",
          "Algeria",
          "Angola",
          "Argentina",
          "Armenia",
          "Australia",
          "Austria",
          "Azerbaijan",
          "Bahrain",
          "Bangladesh",
          "Barbados",
          "Belarus",
          "Belgium",
          "Belize",
          "Benin",
          "Bhutan",
          "Bolivia",
          "Bosnia and Herzegovina",
          "Botswana",
          "Brazil",
          "Bulgaria",
          "Burkina Faso",
          "Burundi",
          "Cambodia",
          "Cameroon",
          "Canada",
          "Central African Republic",
          "Chad",
          "Chile",
          "China",
          "Colombia",
          "Comoros",
          "Democratic Republic of the Congo",
          "Costa Rica",
          "Croatia",
          "Cuba",
          "Cyprus",
          "Czech Republic",
          "Denmark",
          "Dominican Republic",
          "Ecuador",
          "Egypt",
          "El Salvador",
          "Estonia",
          "Ethiopia",
          "Fiji",
          "Finland",
          "France",
          "Gabon",
          "Georgia",
          "Germany",
          "Ghana",
          "Greece",
          "Guatemala",
          "Guinea",
          "Guinea Bissau",
          "Guyana",
          "Haiti",
          "Honduras",
          "Hungary",
          "Iceland",
          "India",
          "Indonesia",
          "Iran",
          "Iraq",
          "Ireland",
          "Israel",
          "Italy",
          "Jamaica",
          "Japan",
          "Jordan",
          "Kazakhstan",
          "Kenya",
          "Kuwait",
          "Kyrgyzstan",
          "Laos",
          "Latvia",
          "Lebanon",
          "Lesotho",
          "Liberia",
          "Libya",
          "Lithuania",
          "Luxembourg",
          "Madagascar",
          "Malawi",
          "Malaysia",
          "Mali",
          "Malta",
          "Mauritania",
          "Mauritius",
          "Mexico",
          "Moldova",
          "Mongolia",
          "Montenegro",
          "Morocco",
          "Mozambique",
          "Myanmar",
          "Namibia",
          "Nepal",
          "Netherlands",
          "New Zealand",
          "Nicaragua",
          "Niger",
          "Nigeria",
          "North Macedonia",
          "Norway",
          "Oman",
          "Pakistan",
          "Panama",
          "Papua New Guinea",
          "Paraguay",
          "Peru",
          "Philippines",
          "Poland",
          "Portugal",
          "Qatar",
          "Romania",
          "Russia",
          "Rwanda",
          "Saudi Arabia",
          "Senegal",
          "Serbia",
          "Seychelles",
          "Sierra Leone",
          "Singapore",
          "Slovakia",
          "Slovenia",
          "South Africa",
          "South Korea",
          "Spain",
          "Sri Lanka",
          "Sudan",
          "Suriname",
          "Sweden",
          "Switzerland",
          "Syria",
          "Tajikistan",
          "Tanzania",
          "Thailand",
          "Togo",
          "Trinidad and Tobago",
          "Tunisia",
          "Turkey",
          "Turkmenistan",
          "Uganda",
          "Ukraine",
          "United Arab Emirates",
          "United Kingdom",
          "United States",
          "Uruguay",
          "Uzbekistan",
          "Venezuela",
          "Vietnam",
          "Yemen",
          "Zambia",
          "Zimbabwe"
         ],
         "textposition": "top center",
         "type": "scatter",
         "x": [
          -5.549892317555514,
          1.5081397589416288,
          -1.6176716306712715,
          -4.997684401249303,
          2.440172731558657,
          0.8759299173250542,
          5.973413548037297,
          6.199364578227759,
          -0.2934317486623922,
          -0.22237186696549724,
          -2.8497905002705552,
          1.839191410433636,
          2.3493234357331354,
          6.061350042132398,
          -0.8513282040411453,
          -5.268215502639589,
          -1.8232072804724175,
          -1.8083275532605043,
          1.3249472285126427,
          -1.4507352721285958,
          1.0457325671402093,
          2.987427571103471,
          -5.145307409559311,
          -5.672438973031422,
          -2.970211027282801,
          -5.065529774911684,
          6.762811110075137,
          -6.797578726237283,
          -7.109267829185316,
          3.3504922282763965,
          1.0413062603297578,
          -0.17472243144830432,
          -5.303390159214109,
          -5.9527378764320895,
          1.1702769673468578,
          3.0715051222022436,
          1.3275181312731472,
          4.484527382748226,
          4.970475506155227,
          7.7631857852063035,
          -1.0583486940897213,
          -0.608626075375961,
          -2.4504772958096686,
          -1.1499771734441364,
          4.95419325371042,
          -5.043397371175136,
          -0.8207288006664768,
          6.828140214931827,
          6.045279347759015,
          -2.2047184369714374,
          1.6311405074016132,
          6.477566348476389,
          -3.9084455449545334,
          4.296743397875491,
          -2.7031765844630096,
          -6.021557229666594,
          -5.717000964343032,
          -1.2895878225460013,
          -4.177341620312368,
          -2.213166878624051,
          4.233047727376389,
          6.805787169370595,
          -2.197387806877159,
          -1.942436859405856,
          -0.6480956750642961,
          -2.5755745655498936,
          7.266941493888998,
          3.8091294665236655,
          4.632498099675163,
          -0.1353047747757082,
          4.676567567042412,
          -0.8872693937630414,
          1.283005044037028,
          -4.013358439453619,
          0.7786328035290944,
          -0.6738577117787999,
          -2.8758690815731156,
          3.9374458418040588,
          0.323202356685006,
          -3.3281107151409617,
          -4.4435365787195895,
          -1.8536887968453215,
          4.567137911820952,
          7.759393393016687,
          -4.339836844654578,
          -4.921316036758434,
          -0.13563040383636274,
          -5.941037485007092,
          4.643136938020498,
          -4.544752998344277,
          1.457421921149433,
          0.493572524740004,
          1.5121154846847058,
          0.33599112883484883,
          2.3250816870977418,
          -1.3444996477278692,
          -5.725996294930752,
          -2.690880891023311,
          -1.974658004717514,
          -2.4027284132768907,
          6.559425495677508,
          6.013757648834208,
          -1.808890205839868,
          -6.846122847592427,
          -5.031445150621509,
          1.3305749706712529,
          7.4323469760163,
          -1.4719643884462739,
          -4.1523204565747065,
          0.306573875027431,
          -3.5533691909107628,
          -0.3258238208718825,
          -0.1794576521245946,
          -1.5967299850357477,
          4.152173030805007,
          4.564289903992396,
          1.2199483180996225,
          3.1883785086660477,
          2.926224980892662,
          -3.4087103011290973,
          -0.1416942803557153,
          -4.813241047714433,
          2.5321150297910897,
          0.25444983604448274,
          -5.721424401205793,
          3.9132201478129263,
          3.597398681446918,
          4.89605747963147,
          -0.6808321710157604,
          4.8141387513594145,
          5.441298479471452,
          -1.50633967892855,
          -4.778596126796332,
          -0.6210708273426799,
          7.266122129855845,
          7.561127696647148,
          -2.3252184170897507,
          -2.876343205616874,
          -4.330749643533631,
          0.16219694311504707,
          -5.186440282856204,
          0.6592569218384249,
          -0.1416882356451864,
          0.9803690255785994,
          -1.715186784609949,
          -4.410269874123458,
          2.024658236611452,
          1.3702044960501596,
          6.385971841718197,
          6.360565821361071,
          2.8949091136316905,
          -1.596551533496653,
          -2.0758318520352805,
          -0.6807749814165854,
          -5.219351392303693,
          -5.070262240264932,
          -4.2750978804750295
         ],
         "xaxis": "x",
         "y": [
          -1.9900812012790416,
          -0.7218535861445917,
          -2.606199810965301,
          1.4072739282350646,
          1.5008756192508363,
          0.2750822734653045,
          -0.5989802811746958,
          -0.38043238136724916,
          -2.631893580589057,
          -1.5646792951560307,
          -2.3990441191790484,
          0.99024877995343,
          1.3237900157963425,
          -0.19909088268766184,
          3.1049504774484675,
          0.4367462298322957,
          -0.6105132964545857,
          1.707338494122244,
          -0.39846343033489273,
          2.586137466134634,
          2.6934594827267144,
          1.3437789699735496,
          -1.0088546838243235,
          1.0107314942246823,
          -0.04637951842759859,
          0.9346583577441527,
          -0.4834823380231836,
          1.161401430799869,
          -0.5638635694505406,
          0.9636570586813731,
          -0.7467654249016058,
          1.6364410895202122,
          -1.6946772271009305,
          0.11578925555554909,
          2.0524677188448006,
          0.6684369504496243,
          2.9685561878283186,
          0.679889586449293,
          0.1415469042542449,
          -0.6592010235651513,
          1.3264449112750156,
          1.7021190859097823,
          -2.957762009860671,
          3.3513445840971317,
          0.5820411040500798,
          -0.03570545870539627,
          0.8762398907018873,
          -0.3763180117926537,
          -0.358826956555502,
          1.2611364325698544,
          0.4878212924673434,
          -0.5064637562007991,
          0.6118151218675271,
          0.6822147009389898,
          1.331155245662927,
          -1.788818824802138,
          0.026968582992118285,
          3.1178804617286247,
          1.1994672575445349,
          1.7466804963230662,
          0.40901093347513895,
          -1.133283122829611,
          -0.515315299236786,
          -1.8350266749558128,
          -1.8110653380053885,
          -2.868500954206495,
          -1.2883361556602273,
          -0.3030598939156302,
          -0.17172943498489165,
          1.7852705999893308,
          -0.7790124859337199,
          -2.690751836450206,
          -0.9353802525070464,
          0.6273432233382547,
          -5.106451443833473,
          -0.8954681207725287,
          -0.4277698831004454,
          1.5903034193040477,
          -1.3174803094673215,
          6.128397338632209,
          -0.46839337198527664,
          -3.4426222665114787,
          1.6025275895871607,
          -2.4913342660142215,
          0.9831082400738075,
          0.9680947730544658,
          -1.248152281199009,
          -2.253084833109384,
          -0.19453322696856806,
          -2.603339916806221,
          1.8764543116640184,
          1.8225979419504632,
          1.3235746727520261,
          1.1086269356935965,
          0.9565831854350586,
          -1.6839137604057468,
          1.7741693603337547,
          -0.8256914605070367,
          3.1148515726669865,
          -0.2514763755251822,
          -1.1180156259875857,
          -0.5528280802508584,
          1.7001876224727348,
          -2.0391340663350537,
          -0.823811358190668,
          0.12869665179881076,
          -1.384801098244949,
          -3.210082104479164,
          -3.223412914430456,
          1.8856150831577982,
          0.49349267826251214,
          1.7497000959128062,
          1.4376248892891301,
          0.9757510025686779,
          0.6573459341880802,
          0.48334344485328556,
          -4.495067313012115,
          0.40410978371694395,
          1.4815620963372387,
          2.11744706673487,
          -4.238747822188906,
          -1.245622727730176,
          1.2844464882724727,
          2.696831404523592,
          -0.5862368664641561,
          -2.2271864107018997,
          0.6264925800772718,
          0.04178014790572933,
          3.9748040011921084,
          -0.1802295635260565,
          -0.2590229562298778,
          0.06437724099455999,
          -2.7992701738487287,
          2.1814770591410144,
          -0.6241549700589734,
          -1.6601947523556155,
          -5.054099025933734,
          -1.570528571415076,
          0.6649142024748834,
          0.21668010776027385,
          0.19499222481687523,
          1.4194061044791542,
          -1.7126305367581605,
          -1.5595691984174085,
          -0.2859426846215083,
          1.3189078907177443,
          1.3658949645790586,
          -4.126284342588988,
          -0.4377483060454585,
          0.5522574194057347,
          2.287231856850956,
          -1.391502616832753,
          2.439746114528594,
          0.2990512104959842,
          -2.986626470278556,
          2.1382890438011755,
          1.3023167416809696
         ],
         "yaxis": "y"
        }
       ],
       "layout": {
        "legend": {
         "tracegroupgap": 0
        },
        "margin": {
         "t": 60
        },
        "template": {
         "data": {
          "bar": [
           {
            "error_x": {
             "color": "#2a3f5f"
            },
            "error_y": {
             "color": "#2a3f5f"
            },
            "marker": {
             "line": {
              "color": "#E5ECF6",
              "width": 0.5
             },
             "pattern": {
              "fillmode": "overlay",
              "size": 10,
              "solidity": 0.2
             }
            },
            "type": "bar"
           }
          ],
          "barpolar": [
           {
            "marker": {
             "line": {
              "color": "#E5ECF6",
              "width": 0.5
             },
             "pattern": {
              "fillmode": "overlay",
              "size": 10,
              "solidity": 0.2
             }
            },
            "type": "barpolar"
           }
          ],
          "carpet": [
           {
            "aaxis": {
             "endlinecolor": "#2a3f5f",
             "gridcolor": "white",
             "linecolor": "white",
             "minorgridcolor": "white",
             "startlinecolor": "#2a3f5f"
            },
            "baxis": {
             "endlinecolor": "#2a3f5f",
             "gridcolor": "white",
             "linecolor": "white",
             "minorgridcolor": "white",
             "startlinecolor": "#2a3f5f"
            },
            "type": "carpet"
           }
          ],
          "choropleth": [
           {
            "colorbar": {
             "outlinewidth": 0,
             "ticks": ""
            },
            "type": "choropleth"
           }
          ],
          "contour": [
           {
            "colorbar": {
             "outlinewidth": 0,
             "ticks": ""
            },
            "colorscale": [
             [
              0,
              "#0d0887"
             ],
             [
              0.1111111111111111,
              "#46039f"
             ],
             [
              0.2222222222222222,
              "#7201a8"
             ],
             [
              0.3333333333333333,
              "#9c179e"
             ],
             [
              0.4444444444444444,
              "#bd3786"
             ],
             [
              0.5555555555555556,
              "#d8576b"
             ],
             [
              0.6666666666666666,
              "#ed7953"
             ],
             [
              0.7777777777777778,
              "#fb9f3a"
             ],
             [
              0.8888888888888888,
              "#fdca26"
             ],
             [
              1,
              "#f0f921"
             ]
            ],
            "type": "contour"
           }
          ],
          "contourcarpet": [
           {
            "colorbar": {
             "outlinewidth": 0,
             "ticks": ""
            },
            "type": "contourcarpet"
           }
          ],
          "heatmap": [
           {
            "colorbar": {
             "outlinewidth": 0,
             "ticks": ""
            },
            "colorscale": [
             [
              0,
              "#0d0887"
             ],
             [
              0.1111111111111111,
              "#46039f"
             ],
             [
              0.2222222222222222,
              "#7201a8"
             ],
             [
              0.3333333333333333,
              "#9c179e"
             ],
             [
              0.4444444444444444,
              "#bd3786"
             ],
             [
              0.5555555555555556,
              "#d8576b"
             ],
             [
              0.6666666666666666,
              "#ed7953"
             ],
             [
              0.7777777777777778,
              "#fb9f3a"
             ],
             [
              0.8888888888888888,
              "#fdca26"
             ],
             [
              1,
              "#f0f921"
             ]
            ],
            "type": "heatmap"
           }
          ],
          "heatmapgl": [
           {
            "colorbar": {
             "outlinewidth": 0,
             "ticks": ""
            },
            "colorscale": [
             [
              0,
              "#0d0887"
             ],
             [
              0.1111111111111111,
              "#46039f"
             ],
             [
              0.2222222222222222,
              "#7201a8"
             ],
             [
              0.3333333333333333,
              "#9c179e"
             ],
             [
              0.4444444444444444,
              "#bd3786"
             ],
             [
              0.5555555555555556,
              "#d8576b"
             ],
             [
              0.6666666666666666,
              "#ed7953"
             ],
             [
              0.7777777777777778,
              "#fb9f3a"
             ],
             [
              0.8888888888888888,
              "#fdca26"
             ],
             [
              1,
              "#f0f921"
             ]
            ],
            "type": "heatmapgl"
           }
          ],
          "histogram": [
           {
            "marker": {
             "pattern": {
              "fillmode": "overlay",
              "size": 10,
              "solidity": 0.2
             }
            },
            "type": "histogram"
           }
          ],
          "histogram2d": [
           {
            "colorbar": {
             "outlinewidth": 0,
             "ticks": ""
            },
            "colorscale": [
             [
              0,
              "#0d0887"
             ],
             [
              0.1111111111111111,
              "#46039f"
             ],
             [
              0.2222222222222222,
              "#7201a8"
             ],
             [
              0.3333333333333333,
              "#9c179e"
             ],
             [
              0.4444444444444444,
              "#bd3786"
             ],
             [
              0.5555555555555556,
              "#d8576b"
             ],
             [
              0.6666666666666666,
              "#ed7953"
             ],
             [
              0.7777777777777778,
              "#fb9f3a"
             ],
             [
              0.8888888888888888,
              "#fdca26"
             ],
             [
              1,
              "#f0f921"
             ]
            ],
            "type": "histogram2d"
           }
          ],
          "histogram2dcontour": [
           {
            "colorbar": {
             "outlinewidth": 0,
             "ticks": ""
            },
            "colorscale": [
             [
              0,
              "#0d0887"
             ],
             [
              0.1111111111111111,
              "#46039f"
             ],
             [
              0.2222222222222222,
              "#7201a8"
             ],
             [
              0.3333333333333333,
              "#9c179e"
             ],
             [
              0.4444444444444444,
              "#bd3786"
             ],
             [
              0.5555555555555556,
              "#d8576b"
             ],
             [
              0.6666666666666666,
              "#ed7953"
             ],
             [
              0.7777777777777778,
              "#fb9f3a"
             ],
             [
              0.8888888888888888,
              "#fdca26"
             ],
             [
              1,
              "#f0f921"
             ]
            ],
            "type": "histogram2dcontour"
           }
          ],
          "mesh3d": [
           {
            "colorbar": {
             "outlinewidth": 0,
             "ticks": ""
            },
            "type": "mesh3d"
           }
          ],
          "parcoords": [
           {
            "line": {
             "colorbar": {
              "outlinewidth": 0,
              "ticks": ""
             }
            },
            "type": "parcoords"
           }
          ],
          "pie": [
           {
            "automargin": true,
            "type": "pie"
           }
          ],
          "scatter": [
           {
            "marker": {
             "colorbar": {
              "outlinewidth": 0,
              "ticks": ""
             }
            },
            "type": "scatter"
           }
          ],
          "scatter3d": [
           {
            "line": {
             "colorbar": {
              "outlinewidth": 0,
              "ticks": ""
             }
            },
            "marker": {
             "colorbar": {
              "outlinewidth": 0,
              "ticks": ""
             }
            },
            "type": "scatter3d"
           }
          ],
          "scattercarpet": [
           {
            "marker": {
             "colorbar": {
              "outlinewidth": 0,
              "ticks": ""
             }
            },
            "type": "scattercarpet"
           }
          ],
          "scattergeo": [
           {
            "marker": {
             "colorbar": {
              "outlinewidth": 0,
              "ticks": ""
             }
            },
            "type": "scattergeo"
           }
          ],
          "scattergl": [
           {
            "marker": {
             "colorbar": {
              "outlinewidth": 0,
              "ticks": ""
             }
            },
            "type": "scattergl"
           }
          ],
          "scattermapbox": [
           {
            "marker": {
             "colorbar": {
              "outlinewidth": 0,
              "ticks": ""
             }
            },
            "type": "scattermapbox"
           }
          ],
          "scatterpolar": [
           {
            "marker": {
             "colorbar": {
              "outlinewidth": 0,
              "ticks": ""
             }
            },
            "type": "scatterpolar"
           }
          ],
          "scatterpolargl": [
           {
            "marker": {
             "colorbar": {
              "outlinewidth": 0,
              "ticks": ""
             }
            },
            "type": "scatterpolargl"
           }
          ],
          "scatterternary": [
           {
            "marker": {
             "colorbar": {
              "outlinewidth": 0,
              "ticks": ""
             }
            },
            "type": "scatterternary"
           }
          ],
          "surface": [
           {
            "colorbar": {
             "outlinewidth": 0,
             "ticks": ""
            },
            "colorscale": [
             [
              0,
              "#0d0887"
             ],
             [
              0.1111111111111111,
              "#46039f"
             ],
             [
              0.2222222222222222,
              "#7201a8"
             ],
             [
              0.3333333333333333,
              "#9c179e"
             ],
             [
              0.4444444444444444,
              "#bd3786"
             ],
             [
              0.5555555555555556,
              "#d8576b"
             ],
             [
              0.6666666666666666,
              "#ed7953"
             ],
             [
              0.7777777777777778,
              "#fb9f3a"
             ],
             [
              0.8888888888888888,
              "#fdca26"
             ],
             [
              1,
              "#f0f921"
             ]
            ],
            "type": "surface"
           }
          ],
          "table": [
           {
            "cells": {
             "fill": {
              "color": "#EBF0F8"
             },
             "line": {
              "color": "white"
             }
            },
            "header": {
             "fill": {
              "color": "#C8D4E3"
             },
             "line": {
              "color": "white"
             }
            },
            "type": "table"
           }
          ]
         },
         "layout": {
          "annotationdefaults": {
           "arrowcolor": "#2a3f5f",
           "arrowhead": 0,
           "arrowwidth": 1
          },
          "autotypenumbers": "strict",
          "coloraxis": {
           "colorbar": {
            "outlinewidth": 0,
            "ticks": ""
           }
          },
          "colorscale": {
           "diverging": [
            [
             0,
             "#8e0152"
            ],
            [
             0.1,
             "#c51b7d"
            ],
            [
             0.2,
             "#de77ae"
            ],
            [
             0.3,
             "#f1b6da"
            ],
            [
             0.4,
             "#fde0ef"
            ],
            [
             0.5,
             "#f7f7f7"
            ],
            [
             0.6,
             "#e6f5d0"
            ],
            [
             0.7,
             "#b8e186"
            ],
            [
             0.8,
             "#7fbc41"
            ],
            [
             0.9,
             "#4d9221"
            ],
            [
             1,
             "#276419"
            ]
           ],
           "sequential": [
            [
             0,
             "#0d0887"
            ],
            [
             0.1111111111111111,
             "#46039f"
            ],
            [
             0.2222222222222222,
             "#7201a8"
            ],
            [
             0.3333333333333333,
             "#9c179e"
            ],
            [
             0.4444444444444444,
             "#bd3786"
            ],
            [
             0.5555555555555556,
             "#d8576b"
            ],
            [
             0.6666666666666666,
             "#ed7953"
            ],
            [
             0.7777777777777778,
             "#fb9f3a"
            ],
            [
             0.8888888888888888,
             "#fdca26"
            ],
            [
             1,
             "#f0f921"
            ]
           ],
           "sequentialminus": [
            [
             0,
             "#0d0887"
            ],
            [
             0.1111111111111111,
             "#46039f"
            ],
            [
             0.2222222222222222,
             "#7201a8"
            ],
            [
             0.3333333333333333,
             "#9c179e"
            ],
            [
             0.4444444444444444,
             "#bd3786"
            ],
            [
             0.5555555555555556,
             "#d8576b"
            ],
            [
             0.6666666666666666,
             "#ed7953"
            ],
            [
             0.7777777777777778,
             "#fb9f3a"
            ],
            [
             0.8888888888888888,
             "#fdca26"
            ],
            [
             1,
             "#f0f921"
            ]
           ]
          },
          "colorway": [
           "#636efa",
           "#EF553B",
           "#00cc96",
           "#ab63fa",
           "#FFA15A",
           "#19d3f3",
           "#FF6692",
           "#B6E880",
           "#FF97FF",
           "#FECB52"
          ],
          "font": {
           "color": "#2a3f5f"
          },
          "geo": {
           "bgcolor": "white",
           "lakecolor": "white",
           "landcolor": "#E5ECF6",
           "showlakes": true,
           "showland": true,
           "subunitcolor": "white"
          },
          "hoverlabel": {
           "align": "left"
          },
          "hovermode": "closest",
          "mapbox": {
           "style": "light"
          },
          "paper_bgcolor": "white",
          "plot_bgcolor": "#E5ECF6",
          "polar": {
           "angularaxis": {
            "gridcolor": "white",
            "linecolor": "white",
            "ticks": ""
           },
           "bgcolor": "#E5ECF6",
           "radialaxis": {
            "gridcolor": "white",
            "linecolor": "white",
            "ticks": ""
           }
          },
          "scene": {
           "xaxis": {
            "backgroundcolor": "#E5ECF6",
            "gridcolor": "white",
            "gridwidth": 2,
            "linecolor": "white",
            "showbackground": true,
            "ticks": "",
            "zerolinecolor": "white"
           },
           "yaxis": {
            "backgroundcolor": "#E5ECF6",
            "gridcolor": "white",
            "gridwidth": 2,
            "linecolor": "white",
            "showbackground": true,
            "ticks": "",
            "zerolinecolor": "white"
           },
           "zaxis": {
            "backgroundcolor": "#E5ECF6",
            "gridcolor": "white",
            "gridwidth": 2,
            "linecolor": "white",
            "showbackground": true,
            "ticks": "",
            "zerolinecolor": "white"
           }
          },
          "shapedefaults": {
           "line": {
            "color": "#2a3f5f"
           }
          },
          "ternary": {
           "aaxis": {
            "gridcolor": "white",
            "linecolor": "white",
            "ticks": ""
           },
           "baxis": {
            "gridcolor": "white",
            "linecolor": "white",
            "ticks": ""
           },
           "bgcolor": "#E5ECF6",
           "caxis": {
            "gridcolor": "white",
            "linecolor": "white",
            "ticks": ""
           }
          },
          "title": {
           "x": 0.05
          },
          "xaxis": {
           "automargin": true,
           "gridcolor": "white",
           "linecolor": "white",
           "ticks": "",
           "title": {
            "standoff": 15
           },
           "zerolinecolor": "white",
           "zerolinewidth": 2
          },
          "yaxis": {
           "automargin": true,
           "gridcolor": "white",
           "linecolor": "white",
           "ticks": "",
           "title": {
            "standoff": 15
           },
           "zerolinecolor": "white",
           "zerolinewidth": 2
          }
         }
        },
        "title": {
         "text": "2D PCA Transformation",
         "x": 0.5
        },
        "xaxis": {
         "anchor": "y",
         "domain": [
          0,
          1
         ],
         "title": {
          "text": "PC1"
         }
        },
        "yaxis": {
         "anchor": "x",
         "domain": [
          0,
          1
         ],
         "title": {
          "text": "PC2"
         }
        }
       }
      },
      "text/html": [
       "<div>                            <div id=\"20dbe94d-36c2-4421-8619-691877ecfa5a\" class=\"plotly-graph-div\" style=\"height:525px; width:100%;\"></div>            <script type=\"text/javascript\">                require([\"plotly\"], function(Plotly) {                    window.PLOTLYENV=window.PLOTLYENV || {};                                    if (document.getElementById(\"20dbe94d-36c2-4421-8619-691877ecfa5a\")) {                    Plotly.newPlot(                        \"20dbe94d-36c2-4421-8619-691877ecfa5a\",                        [{\"hovertemplate\":\"PC1=%{x}<br>PC2=%{y}<br>COUNTRY=%{text}<extra></extra>\",\"legendgroup\":\"\",\"marker\":{\"color\":\"#636efa\",\"symbol\":\"circle\"},\"mode\":\"markers+text\",\"name\":\"\",\"orientation\":\"v\",\"showlegend\":false,\"text\":[\"Afghanistan\",\"Albania\",\"Algeria\",\"Angola\",\"Argentina\",\"Armenia\",\"Australia\",\"Austria\",\"Azerbaijan\",\"Bahrain\",\"Bangladesh\",\"Barbados\",\"Belarus\",\"Belgium\",\"Belize\",\"Benin\",\"Bhutan\",\"Bolivia\",\"Bosnia and Herzegovina\",\"Botswana\",\"Brazil\",\"Bulgaria\",\"Burkina Faso\",\"Burundi\",\"Cambodia\",\"Cameroon\",\"Canada\",\"Central African Republic\",\"Chad\",\"Chile\",\"China\",\"Colombia\",\"Comoros\",\"Democratic Republic of the Congo\",\"Costa Rica\",\"Croatia\",\"Cuba\",\"Cyprus\",\"Czech Republic\",\"Denmark\",\"Dominican Republic\",\"Ecuador\",\"Egypt\",\"El Salvador\",\"Estonia\",\"Ethiopia\",\"Fiji\",\"Finland\",\"France\",\"Gabon\",\"Georgia\",\"Germany\",\"Ghana\",\"Greece\",\"Guatemala\",\"Guinea\",\"Guinea Bissau\",\"Guyana\",\"Haiti\",\"Honduras\",\"Hungary\",\"Iceland\",\"India\",\"Indonesia\",\"Iran\",\"Iraq\",\"Ireland\",\"Israel\",\"Italy\",\"Jamaica\",\"Japan\",\"Jordan\",\"Kazakhstan\",\"Kenya\",\"Kuwait\",\"Kyrgyzstan\",\"Laos\",\"Latvia\",\"Lebanon\",\"Lesotho\",\"Liberia\",\"Libya\",\"Lithuania\",\"Luxembourg\",\"Madagascar\",\"Malawi\",\"Malaysia\",\"Mali\",\"Malta\",\"Mauritania\",\"Mauritius\",\"Mexico\",\"Moldova\",\"Mongolia\",\"Montenegro\",\"Morocco\",\"Mozambique\",\"Myanmar\",\"Namibia\",\"Nepal\",\"Netherlands\",\"New Zealand\",\"Nicaragua\",\"Niger\",\"Nigeria\",\"North Macedonia\",\"Norway\",\"Oman\",\"Pakistan\",\"Panama\",\"Papua New Guinea\",\"Paraguay\",\"Peru\",\"Philippines\",\"Poland\",\"Portugal\",\"Qatar\",\"Romania\",\"Russia\",\"Rwanda\",\"Saudi Arabia\",\"Senegal\",\"Serbia\",\"Seychelles\",\"Sierra Leone\",\"Singapore\",\"Slovakia\",\"Slovenia\",\"South Africa\",\"South Korea\",\"Spain\",\"Sri Lanka\",\"Sudan\",\"Suriname\",\"Sweden\",\"Switzerland\",\"Syria\",\"Tajikistan\",\"Tanzania\",\"Thailand\",\"Togo\",\"Trinidad and Tobago\",\"Tunisia\",\"Turkey\",\"Turkmenistan\",\"Uganda\",\"Ukraine\",\"United Arab Emirates\",\"United Kingdom\",\"United States\",\"Uruguay\",\"Uzbekistan\",\"Venezuela\",\"Vietnam\",\"Yemen\",\"Zambia\",\"Zimbabwe\"],\"textposition\":\"top center\",\"type\":\"scatter\",\"x\":[-5.549892317555514,1.5081397589416288,-1.6176716306712715,-4.997684401249303,2.440172731558657,0.8759299173250542,5.973413548037297,6.199364578227759,-0.2934317486623922,-0.22237186696549724,-2.8497905002705552,1.839191410433636,2.3493234357331354,6.061350042132398,-0.8513282040411453,-5.268215502639589,-1.8232072804724175,-1.8083275532605043,1.3249472285126427,-1.4507352721285958,1.0457325671402093,2.987427571103471,-5.145307409559311,-5.672438973031422,-2.970211027282801,-5.065529774911684,6.762811110075137,-6.797578726237283,-7.109267829185316,3.3504922282763965,1.0413062603297578,-0.17472243144830432,-5.303390159214109,-5.9527378764320895,1.1702769673468578,3.0715051222022436,1.3275181312731472,4.484527382748226,4.970475506155227,7.7631857852063035,-1.0583486940897213,-0.608626075375961,-2.4504772958096686,-1.1499771734441364,4.95419325371042,-5.043397371175136,-0.8207288006664768,6.828140214931827,6.045279347759015,-2.2047184369714374,1.6311405074016132,6.477566348476389,-3.9084455449545334,4.296743397875491,-2.7031765844630096,-6.021557229666594,-5.717000964343032,-1.2895878225460013,-4.177341620312368,-2.213166878624051,4.233047727376389,6.805787169370595,-2.197387806877159,-1.942436859405856,-0.6480956750642961,-2.5755745655498936,7.266941493888998,3.8091294665236655,4.632498099675163,-0.1353047747757082,4.676567567042412,-0.8872693937630414,1.283005044037028,-4.013358439453619,0.7786328035290944,-0.6738577117787999,-2.8758690815731156,3.9374458418040588,0.323202356685006,-3.3281107151409617,-4.4435365787195895,-1.8536887968453215,4.567137911820952,7.759393393016687,-4.339836844654578,-4.921316036758434,-0.13563040383636274,-5.941037485007092,4.643136938020498,-4.544752998344277,1.457421921149433,0.493572524740004,1.5121154846847058,0.33599112883484883,2.3250816870977418,-1.3444996477278692,-5.725996294930752,-2.690880891023311,-1.974658004717514,-2.4027284132768907,6.559425495677508,6.013757648834208,-1.808890205839868,-6.846122847592427,-5.031445150621509,1.3305749706712529,7.4323469760163,-1.4719643884462739,-4.1523204565747065,0.306573875027431,-3.5533691909107628,-0.3258238208718825,-0.1794576521245946,-1.5967299850357477,4.152173030805007,4.564289903992396,1.2199483180996225,3.1883785086660477,2.926224980892662,-3.4087103011290973,-0.1416942803557153,-4.813241047714433,2.5321150297910897,0.25444983604448274,-5.721424401205793,3.9132201478129263,3.597398681446918,4.89605747963147,-0.6808321710157604,4.8141387513594145,5.441298479471452,-1.50633967892855,-4.778596126796332,-0.6210708273426799,7.266122129855845,7.561127696647148,-2.3252184170897507,-2.876343205616874,-4.330749643533631,0.16219694311504707,-5.186440282856204,0.6592569218384249,-0.1416882356451864,0.9803690255785994,-1.715186784609949,-4.410269874123458,2.024658236611452,1.3702044960501596,6.385971841718197,6.360565821361071,2.8949091136316905,-1.596551533496653,-2.0758318520352805,-0.6807749814165854,-5.219351392303693,-5.070262240264932,-4.2750978804750295],\"xaxis\":\"x\",\"y\":[-1.9900812012790416,-0.7218535861445917,-2.606199810965301,1.4072739282350646,1.5008756192508363,0.2750822734653045,-0.5989802811746958,-0.38043238136724916,-2.631893580589057,-1.5646792951560307,-2.3990441191790484,0.99024877995343,1.3237900157963425,-0.19909088268766184,3.1049504774484675,0.4367462298322957,-0.6105132964545857,1.707338494122244,-0.39846343033489273,2.586137466134634,2.6934594827267144,1.3437789699735496,-1.0088546838243235,1.0107314942246823,-0.04637951842759859,0.9346583577441527,-0.4834823380231836,1.161401430799869,-0.5638635694505406,0.9636570586813731,-0.7467654249016058,1.6364410895202122,-1.6946772271009305,0.11578925555554909,2.0524677188448006,0.6684369504496243,2.9685561878283186,0.679889586449293,0.1415469042542449,-0.6592010235651513,1.3264449112750156,1.7021190859097823,-2.957762009860671,3.3513445840971317,0.5820411040500798,-0.03570545870539627,0.8762398907018873,-0.3763180117926537,-0.358826956555502,1.2611364325698544,0.4878212924673434,-0.5064637562007991,0.6118151218675271,0.6822147009389898,1.331155245662927,-1.788818824802138,0.026968582992118285,3.1178804617286247,1.1994672575445349,1.7466804963230662,0.40901093347513895,-1.133283122829611,-0.515315299236786,-1.8350266749558128,-1.8110653380053885,-2.868500954206495,-1.2883361556602273,-0.3030598939156302,-0.17172943498489165,1.7852705999893308,-0.7790124859337199,-2.690751836450206,-0.9353802525070464,0.6273432233382547,-5.106451443833473,-0.8954681207725287,-0.4277698831004454,1.5903034193040477,-1.3174803094673215,6.128397338632209,-0.46839337198527664,-3.4426222665114787,1.6025275895871607,-2.4913342660142215,0.9831082400738075,0.9680947730544658,-1.248152281199009,-2.253084833109384,-0.19453322696856806,-2.603339916806221,1.8764543116640184,1.8225979419504632,1.3235746727520261,1.1086269356935965,0.9565831854350586,-1.6839137604057468,1.7741693603337547,-0.8256914605070367,3.1148515726669865,-0.2514763755251822,-1.1180156259875857,-0.5528280802508584,1.7001876224727348,-2.0391340663350537,-0.823811358190668,0.12869665179881076,-1.384801098244949,-3.210082104479164,-3.223412914430456,1.8856150831577982,0.49349267826251214,1.7497000959128062,1.4376248892891301,0.9757510025686779,0.6573459341880802,0.48334344485328556,-4.495067313012115,0.40410978371694395,1.4815620963372387,2.11744706673487,-4.238747822188906,-1.245622727730176,1.2844464882724727,2.696831404523592,-0.5862368664641561,-2.2271864107018997,0.6264925800772718,0.04178014790572933,3.9748040011921084,-0.1802295635260565,-0.2590229562298778,0.06437724099455999,-2.7992701738487287,2.1814770591410144,-0.6241549700589734,-1.6601947523556155,-5.054099025933734,-1.570528571415076,0.6649142024748834,0.21668010776027385,0.19499222481687523,1.4194061044791542,-1.7126305367581605,-1.5595691984174085,-0.2859426846215083,1.3189078907177443,1.3658949645790586,-4.126284342588988,-0.4377483060454585,0.5522574194057347,2.287231856850956,-1.391502616832753,2.439746114528594,0.2990512104959842,-2.986626470278556,2.1382890438011755,1.3023167416809696],\"yaxis\":\"y\"}],                        {\"legend\":{\"tracegroupgap\":0},\"margin\":{\"t\":60},\"template\":{\"data\":{\"bar\":[{\"error_x\":{\"color\":\"#2a3f5f\"},\"error_y\":{\"color\":\"#2a3f5f\"},\"marker\":{\"line\":{\"color\":\"#E5ECF6\",\"width\":0.5},\"pattern\":{\"fillmode\":\"overlay\",\"size\":10,\"solidity\":0.2}},\"type\":\"bar\"}],\"barpolar\":[{\"marker\":{\"line\":{\"color\":\"#E5ECF6\",\"width\":0.5},\"pattern\":{\"fillmode\":\"overlay\",\"size\":10,\"solidity\":0.2}},\"type\":\"barpolar\"}],\"carpet\":[{\"aaxis\":{\"endlinecolor\":\"#2a3f5f\",\"gridcolor\":\"white\",\"linecolor\":\"white\",\"minorgridcolor\":\"white\",\"startlinecolor\":\"#2a3f5f\"},\"baxis\":{\"endlinecolor\":\"#2a3f5f\",\"gridcolor\":\"white\",\"linecolor\":\"white\",\"minorgridcolor\":\"white\",\"startlinecolor\":\"#2a3f5f\"},\"type\":\"carpet\"}],\"choropleth\":[{\"colorbar\":{\"outlinewidth\":0,\"ticks\":\"\"},\"type\":\"choropleth\"}],\"contour\":[{\"colorbar\":{\"outlinewidth\":0,\"ticks\":\"\"},\"colorscale\":[[0.0,\"#0d0887\"],[0.1111111111111111,\"#46039f\"],[0.2222222222222222,\"#7201a8\"],[0.3333333333333333,\"#9c179e\"],[0.4444444444444444,\"#bd3786\"],[0.5555555555555556,\"#d8576b\"],[0.6666666666666666,\"#ed7953\"],[0.7777777777777778,\"#fb9f3a\"],[0.8888888888888888,\"#fdca26\"],[1.0,\"#f0f921\"]],\"type\":\"contour\"}],\"contourcarpet\":[{\"colorbar\":{\"outlinewidth\":0,\"ticks\":\"\"},\"type\":\"contourcarpet\"}],\"heatmap\":[{\"colorbar\":{\"outlinewidth\":0,\"ticks\":\"\"},\"colorscale\":[[0.0,\"#0d0887\"],[0.1111111111111111,\"#46039f\"],[0.2222222222222222,\"#7201a8\"],[0.3333333333333333,\"#9c179e\"],[0.4444444444444444,\"#bd3786\"],[0.5555555555555556,\"#d8576b\"],[0.6666666666666666,\"#ed7953\"],[0.7777777777777778,\"#fb9f3a\"],[0.8888888888888888,\"#fdca26\"],[1.0,\"#f0f921\"]],\"type\":\"heatmap\"}],\"heatmapgl\":[{\"colorbar\":{\"outlinewidth\":0,\"ticks\":\"\"},\"colorscale\":[[0.0,\"#0d0887\"],[0.1111111111111111,\"#46039f\"],[0.2222222222222222,\"#7201a8\"],[0.3333333333333333,\"#9c179e\"],[0.4444444444444444,\"#bd3786\"],[0.5555555555555556,\"#d8576b\"],[0.6666666666666666,\"#ed7953\"],[0.7777777777777778,\"#fb9f3a\"],[0.8888888888888888,\"#fdca26\"],[1.0,\"#f0f921\"]],\"type\":\"heatmapgl\"}],\"histogram\":[{\"marker\":{\"pattern\":{\"fillmode\":\"overlay\",\"size\":10,\"solidity\":0.2}},\"type\":\"histogram\"}],\"histogram2d\":[{\"colorbar\":{\"outlinewidth\":0,\"ticks\":\"\"},\"colorscale\":[[0.0,\"#0d0887\"],[0.1111111111111111,\"#46039f\"],[0.2222222222222222,\"#7201a8\"],[0.3333333333333333,\"#9c179e\"],[0.4444444444444444,\"#bd3786\"],[0.5555555555555556,\"#d8576b\"],[0.6666666666666666,\"#ed7953\"],[0.7777777777777778,\"#fb9f3a\"],[0.8888888888888888,\"#fdca26\"],[1.0,\"#f0f921\"]],\"type\":\"histogram2d\"}],\"histogram2dcontour\":[{\"colorbar\":{\"outlinewidth\":0,\"ticks\":\"\"},\"colorscale\":[[0.0,\"#0d0887\"],[0.1111111111111111,\"#46039f\"],[0.2222222222222222,\"#7201a8\"],[0.3333333333333333,\"#9c179e\"],[0.4444444444444444,\"#bd3786\"],[0.5555555555555556,\"#d8576b\"],[0.6666666666666666,\"#ed7953\"],[0.7777777777777778,\"#fb9f3a\"],[0.8888888888888888,\"#fdca26\"],[1.0,\"#f0f921\"]],\"type\":\"histogram2dcontour\"}],\"mesh3d\":[{\"colorbar\":{\"outlinewidth\":0,\"ticks\":\"\"},\"type\":\"mesh3d\"}],\"parcoords\":[{\"line\":{\"colorbar\":{\"outlinewidth\":0,\"ticks\":\"\"}},\"type\":\"parcoords\"}],\"pie\":[{\"automargin\":true,\"type\":\"pie\"}],\"scatter\":[{\"marker\":{\"colorbar\":{\"outlinewidth\":0,\"ticks\":\"\"}},\"type\":\"scatter\"}],\"scatter3d\":[{\"line\":{\"colorbar\":{\"outlinewidth\":0,\"ticks\":\"\"}},\"marker\":{\"colorbar\":{\"outlinewidth\":0,\"ticks\":\"\"}},\"type\":\"scatter3d\"}],\"scattercarpet\":[{\"marker\":{\"colorbar\":{\"outlinewidth\":0,\"ticks\":\"\"}},\"type\":\"scattercarpet\"}],\"scattergeo\":[{\"marker\":{\"colorbar\":{\"outlinewidth\":0,\"ticks\":\"\"}},\"type\":\"scattergeo\"}],\"scattergl\":[{\"marker\":{\"colorbar\":{\"outlinewidth\":0,\"ticks\":\"\"}},\"type\":\"scattergl\"}],\"scattermapbox\":[{\"marker\":{\"colorbar\":{\"outlinewidth\":0,\"ticks\":\"\"}},\"type\":\"scattermapbox\"}],\"scatterpolar\":[{\"marker\":{\"colorbar\":{\"outlinewidth\":0,\"ticks\":\"\"}},\"type\":\"scatterpolar\"}],\"scatterpolargl\":[{\"marker\":{\"colorbar\":{\"outlinewidth\":0,\"ticks\":\"\"}},\"type\":\"scatterpolargl\"}],\"scatterternary\":[{\"marker\":{\"colorbar\":{\"outlinewidth\":0,\"ticks\":\"\"}},\"type\":\"scatterternary\"}],\"surface\":[{\"colorbar\":{\"outlinewidth\":0,\"ticks\":\"\"},\"colorscale\":[[0.0,\"#0d0887\"],[0.1111111111111111,\"#46039f\"],[0.2222222222222222,\"#7201a8\"],[0.3333333333333333,\"#9c179e\"],[0.4444444444444444,\"#bd3786\"],[0.5555555555555556,\"#d8576b\"],[0.6666666666666666,\"#ed7953\"],[0.7777777777777778,\"#fb9f3a\"],[0.8888888888888888,\"#fdca26\"],[1.0,\"#f0f921\"]],\"type\":\"surface\"}],\"table\":[{\"cells\":{\"fill\":{\"color\":\"#EBF0F8\"},\"line\":{\"color\":\"white\"}},\"header\":{\"fill\":{\"color\":\"#C8D4E3\"},\"line\":{\"color\":\"white\"}},\"type\":\"table\"}]},\"layout\":{\"annotationdefaults\":{\"arrowcolor\":\"#2a3f5f\",\"arrowhead\":0,\"arrowwidth\":1},\"autotypenumbers\":\"strict\",\"coloraxis\":{\"colorbar\":{\"outlinewidth\":0,\"ticks\":\"\"}},\"colorscale\":{\"diverging\":[[0,\"#8e0152\"],[0.1,\"#c51b7d\"],[0.2,\"#de77ae\"],[0.3,\"#f1b6da\"],[0.4,\"#fde0ef\"],[0.5,\"#f7f7f7\"],[0.6,\"#e6f5d0\"],[0.7,\"#b8e186\"],[0.8,\"#7fbc41\"],[0.9,\"#4d9221\"],[1,\"#276419\"]],\"sequential\":[[0.0,\"#0d0887\"],[0.1111111111111111,\"#46039f\"],[0.2222222222222222,\"#7201a8\"],[0.3333333333333333,\"#9c179e\"],[0.4444444444444444,\"#bd3786\"],[0.5555555555555556,\"#d8576b\"],[0.6666666666666666,\"#ed7953\"],[0.7777777777777778,\"#fb9f3a\"],[0.8888888888888888,\"#fdca26\"],[1.0,\"#f0f921\"]],\"sequentialminus\":[[0.0,\"#0d0887\"],[0.1111111111111111,\"#46039f\"],[0.2222222222222222,\"#7201a8\"],[0.3333333333333333,\"#9c179e\"],[0.4444444444444444,\"#bd3786\"],[0.5555555555555556,\"#d8576b\"],[0.6666666666666666,\"#ed7953\"],[0.7777777777777778,\"#fb9f3a\"],[0.8888888888888888,\"#fdca26\"],[1.0,\"#f0f921\"]]},\"colorway\":[\"#636efa\",\"#EF553B\",\"#00cc96\",\"#ab63fa\",\"#FFA15A\",\"#19d3f3\",\"#FF6692\",\"#B6E880\",\"#FF97FF\",\"#FECB52\"],\"font\":{\"color\":\"#2a3f5f\"},\"geo\":{\"bgcolor\":\"white\",\"lakecolor\":\"white\",\"landcolor\":\"#E5ECF6\",\"showlakes\":true,\"showland\":true,\"subunitcolor\":\"white\"},\"hoverlabel\":{\"align\":\"left\"},\"hovermode\":\"closest\",\"mapbox\":{\"style\":\"light\"},\"paper_bgcolor\":\"white\",\"plot_bgcolor\":\"#E5ECF6\",\"polar\":{\"angularaxis\":{\"gridcolor\":\"white\",\"linecolor\":\"white\",\"ticks\":\"\"},\"bgcolor\":\"#E5ECF6\",\"radialaxis\":{\"gridcolor\":\"white\",\"linecolor\":\"white\",\"ticks\":\"\"}},\"scene\":{\"xaxis\":{\"backgroundcolor\":\"#E5ECF6\",\"gridcolor\":\"white\",\"gridwidth\":2,\"linecolor\":\"white\",\"showbackground\":true,\"ticks\":\"\",\"zerolinecolor\":\"white\"},\"yaxis\":{\"backgroundcolor\":\"#E5ECF6\",\"gridcolor\":\"white\",\"gridwidth\":2,\"linecolor\":\"white\",\"showbackground\":true,\"ticks\":\"\",\"zerolinecolor\":\"white\"},\"zaxis\":{\"backgroundcolor\":\"#E5ECF6\",\"gridcolor\":\"white\",\"gridwidth\":2,\"linecolor\":\"white\",\"showbackground\":true,\"ticks\":\"\",\"zerolinecolor\":\"white\"}},\"shapedefaults\":{\"line\":{\"color\":\"#2a3f5f\"}},\"ternary\":{\"aaxis\":{\"gridcolor\":\"white\",\"linecolor\":\"white\",\"ticks\":\"\"},\"baxis\":{\"gridcolor\":\"white\",\"linecolor\":\"white\",\"ticks\":\"\"},\"bgcolor\":\"#E5ECF6\",\"caxis\":{\"gridcolor\":\"white\",\"linecolor\":\"white\",\"ticks\":\"\"}},\"title\":{\"x\":0.05},\"xaxis\":{\"automargin\":true,\"gridcolor\":\"white\",\"linecolor\":\"white\",\"ticks\":\"\",\"title\":{\"standoff\":15},\"zerolinecolor\":\"white\",\"zerolinewidth\":2},\"yaxis\":{\"automargin\":true,\"gridcolor\":\"white\",\"linecolor\":\"white\",\"ticks\":\"\",\"title\":{\"standoff\":15},\"zerolinecolor\":\"white\",\"zerolinewidth\":2}}},\"title\":{\"text\":\"2D PCA Transformation\",\"x\":0.5},\"xaxis\":{\"anchor\":\"y\",\"domain\":[0.0,1.0],\"title\":{\"text\":\"PC1\"}},\"yaxis\":{\"anchor\":\"x\",\"domain\":[0.0,1.0],\"title\":{\"text\":\"PC2\"}}},                        {\"responsive\": true}                    ).then(function(){\n",
       "                            \n",
       "var gd = document.getElementById('20dbe94d-36c2-4421-8619-691877ecfa5a');\n",
       "var x = new MutationObserver(function (mutations, observer) {{\n",
       "        var display = window.getComputedStyle(gd).display;\n",
       "        if (!display || display === 'none') {{\n",
       "            console.log([gd, 'removed!']);\n",
       "            Plotly.purge(gd);\n",
       "            observer.disconnect();\n",
       "        }}\n",
       "}});\n",
       "\n",
       "// Listen for the removal of the full notebook cells\n",
       "var notebookContainer = gd.closest('#notebook-container');\n",
       "if (notebookContainer) {{\n",
       "    x.observe(notebookContainer, {childList: true});\n",
       "}}\n",
       "\n",
       "// Listen for the clearing of the current output cell\n",
       "var outputEl = gd.closest('.output');\n",
       "if (outputEl) {{\n",
       "    x.observe(outputEl, {childList: true});\n",
       "}}\n",
       "\n",
       "                        })                };                });            </script>        </div>"
      ]
     },
     "metadata": {},
     "output_type": "display_data"
    }
   ],
   "source": [
    "# 2D PCA Transformation\n",
    "x = StandardScaler().fit_transform(x)\n",
    "modified_data1 = pca_data(x, 2)\n",
    "\n",
    "fig = px.scatter(modified_data1, x='PC1', y='PC2', text='COUNTRY')\n",
    "fig.update_traces(textposition='top center')\n",
    "fig.update_layout(title_text='2D PCA Transformation', title_x=0.5)\n",
    "fig.show()\n",
    "\n",
    "# We realized that the structure is not linear, more like geodesic.\n",
    "# Let's try Isomap this time."
   ]
  },
  {
   "cell_type": "code",
   "execution_count": 173,
   "id": "77642aa2",
   "metadata": {},
   "outputs": [
    {
     "name": "stdout",
     "output_type": "stream",
     "text": [
      "[t-SNE] Computing 121 nearest neighbors...\n",
      "[t-SNE] Indexed 157 samples in 0.001s...\n",
      "[t-SNE] Computed neighbors for 157 samples in 0.004s...\n",
      "[t-SNE] Computed conditional probabilities for sample 157 / 157\n",
      "[t-SNE] Mean sigma: 1.950363\n",
      "[t-SNE] KL divergence after 250 iterations with early exaggeration: 52.239891\n",
      "[t-SNE] KL divergence after 500 iterations: 0.182008\n"
     ]
    },
    {
     "data": {
      "application/vnd.plotly.v1+json": {
       "config": {
        "plotlyServerURL": "https://plot.ly"
       },
       "data": [
        {
         "hovertemplate": "PC1=%{x}<br>PC2=%{y}<br>COUNTRY=%{text}<extra></extra>",
         "legendgroup": "",
         "marker": {
          "color": "#636efa",
          "symbol": "circle"
         },
         "mode": "markers+text",
         "name": "",
         "orientation": "v",
         "showlegend": false,
         "text": [
          "Afghanistan",
          "Albania",
          "Algeria",
          "Angola",
          "Argentina",
          "Armenia",
          "Australia",
          "Austria",
          "Azerbaijan",
          "Bahrain",
          "Bangladesh",
          "Barbados",
          "Belarus",
          "Belgium",
          "Belize",
          "Benin",
          "Bhutan",
          "Bolivia",
          "Bosnia and Herzegovina",
          "Botswana",
          "Brazil",
          "Bulgaria",
          "Burkina Faso",
          "Burundi",
          "Cambodia",
          "Cameroon",
          "Canada",
          "Central African Republic",
          "Chad",
          "Chile",
          "China",
          "Colombia",
          "Comoros",
          "Democratic Republic of the Congo",
          "Costa Rica",
          "Croatia",
          "Cuba",
          "Cyprus",
          "Czech Republic",
          "Denmark",
          "Dominican Republic",
          "Ecuador",
          "Egypt",
          "El Salvador",
          "Estonia",
          "Ethiopia",
          "Fiji",
          "Finland",
          "France",
          "Gabon",
          "Georgia",
          "Germany",
          "Ghana",
          "Greece",
          "Guatemala",
          "Guinea",
          "Guinea Bissau",
          "Guyana",
          "Haiti",
          "Honduras",
          "Hungary",
          "Iceland",
          "India",
          "Indonesia",
          "Iran",
          "Iraq",
          "Ireland",
          "Israel",
          "Italy",
          "Jamaica",
          "Japan",
          "Jordan",
          "Kazakhstan",
          "Kenya",
          "Kuwait",
          "Kyrgyzstan",
          "Laos",
          "Latvia",
          "Lebanon",
          "Lesotho",
          "Liberia",
          "Libya",
          "Lithuania",
          "Luxembourg",
          "Madagascar",
          "Malawi",
          "Malaysia",
          "Mali",
          "Malta",
          "Mauritania",
          "Mauritius",
          "Mexico",
          "Moldova",
          "Mongolia",
          "Montenegro",
          "Morocco",
          "Mozambique",
          "Myanmar",
          "Namibia",
          "Nepal",
          "Netherlands",
          "New Zealand",
          "Nicaragua",
          "Niger",
          "Nigeria",
          "North Macedonia",
          "Norway",
          "Oman",
          "Pakistan",
          "Panama",
          "Papua New Guinea",
          "Paraguay",
          "Peru",
          "Philippines",
          "Poland",
          "Portugal",
          "Qatar",
          "Romania",
          "Russia",
          "Rwanda",
          "Saudi Arabia",
          "Senegal",
          "Serbia",
          "Seychelles",
          "Sierra Leone",
          "Singapore",
          "Slovakia",
          "Slovenia",
          "South Africa",
          "South Korea",
          "Spain",
          "Sri Lanka",
          "Sudan",
          "Suriname",
          "Sweden",
          "Switzerland",
          "Syria",
          "Tajikistan",
          "Tanzania",
          "Thailand",
          "Togo",
          "Trinidad and Tobago",
          "Tunisia",
          "Turkey",
          "Turkmenistan",
          "Uganda",
          "Ukraine",
          "United Arab Emirates",
          "United Kingdom",
          "United States",
          "Uruguay",
          "Uzbekistan",
          "Venezuela",
          "Vietnam",
          "Yemen",
          "Zambia",
          "Zimbabwe"
         ],
         "textposition": "top center",
         "type": "scatter",
         "x": [
          -3.7641100883483887,
          4.305200576782227,
          -2.7523679733276367,
          -0.9180390238761902,
          3.419663190841675,
          3.4150688648223877,
          6.391827583312988,
          5.605961799621582,
          -2.350043535232544,
          -1.4047083854675293,
          -3.1101551055908203,
          3.4847445487976074,
          3.5687124729156494,
          5.417685508728027,
          2.928502321243286,
          -1.8333758115768433,
          -1.1431679725646973,
          1.5815720558166504,
          4.0472731590271,
          2.3724982738494873,
          1.9910502433776855,
          3.9113821983337402,
          -2.979978561401367,
          -1.6150546073913574,
          -1.0221881866455078,
          -1.3519114255905151,
          5.737872123718262,
          -1.9939396381378174,
          -3.287609577178955,
          4.259740352630615,
          4.063940048217773,
          2.2950026988983154,
          -3.4969863891601562,
          -2.4334557056427,
          2.4007599353790283,
          4.4805803298950195,
          1.936609148979187,
          4.713349342346191,
          5.180060386657715,
          6.039244651794434,
          1.6225464344024658,
          2.102220296859741,
          -3.2800819873809814,
          3.0088722705841064,
          4.8216118812561035,
          -2.110116958618164,
          1.3422434329986572,
          5.5894694328308105,
          5.895366191864014,
          0.9413262605667114,
          3.7309296131134033,
          6.1851911544799805,
          -0.9546079039573669,
          4.781745910644531,
          0.6785129904747009,
          -3.751354455947876,
          -2.414029121398926,
          2.8084192276000977,
          -0.5173153877258301,
          1.428427815437317,
          5.182187080383301,
          6.7487311363220215,
          -1.1767023801803589,
          -2.3205456733703613,
          -1.8076012134552002,
          -3.282172441482544,
          6.53604793548584,
          5.61940860748291,
          5.707583904266357,
          2.4434456825256348,
          6.230883598327637,
          -2.573829412460327,
          4.273915767669678,
          -1.0310074090957642,
          -3.2955052852630615,
          -0.9361207485198975,
          -1.354009985923767,
          4.0139946937561035,
          3.9681947231292725,
          3.249501943588257,
          -2.176880121231079,
          -3.333751678466797,
          4.128740310668945,
          6.9607133865356445,
          -0.921895444393158,
          -1.2606195211410522,
          -0.9999721646308899,
          -4.017872333526611,
          5.731837272644043,
          -3.7973153591156006,
          2.5815846920013428,
          2.243478775024414,
          2.995830774307251,
          2.658262014389038,
          3.968233108520508,
          -1.9500787258148193,
          -1.140824317932129,
          -1.6606478691101074,
          2.63382625579834,
          -0.953563928604126,
          6.721419334411621,
          6.370567321777344,
          1.5750253200531006,
          -4.017708778381348,
          -2.7674126625061035,
          3.739377021789551,
          6.421230316162109,
          -3.088275194168091,
          -3.9110963344573975,
          2.291170358657837,
          -0.815366268157959,
          2.2962355613708496,
          2.120793104171753,
          0.9592312574386597,
          4.855733871459961,
          4.965297222137451,
          -3.156951904296875,
          4.766106128692627,
          3.771942615509033,
          0.536902666091919,
          -3.24422287940979,
          -3.017550230026245,
          3.853675365447998,
          1.9743363857269287,
          -2.9021286964416504,
          6.789797306060791,
          4.725486755371094,
          5.350158214569092,
          3.4075210094451904,
          5.72955846786499,
          5.7335100173950195,
          -0.15781457722187042,
          -3.9446427822113037,
          2.4689502716064453,
          5.921130657196045,
          6.885964870452881,
          -3.967416763305664,
          -2.429176092147827,
          -1.2453614473342896,
          3.1703007221221924,
          -1.9994854927062988,
          2.5479328632354736,
          -1.530737280845642,
          -0.6029951572418213,
          -0.7092660665512085,
          -0.5888983607292175,
          3.2265138626098633,
          -3.0619988441467285,
          6.015011310577393,
          5.060697555541992,
          3.155174970626831,
          -1.7750029563903809,
          2.0965659618377686,
          0.7691927552223206,
          -4.128037929534912,
          -0.5268035531044006,
          -0.4968981444835663
         ],
         "xaxis": "x",
         "y": [
          -4.271602630615234,
          2.5866246223449707,
          -0.1576589196920395,
          -5.494970798492432,
          4.619251251220703,
          2.3194899559020996,
          8.409308433532715,
          8.8557767868042,
          0.9033151268959045,
          0.8589417338371277,
          -1.3172494173049927,
          3.761364459991455,
          4.456837177276611,
          8.711917877197266,
          -0.8558827042579651,
          -5.272244930267334,
          -1.0794376134872437,
          -1.568183422088623,
          2.5747950077056885,
          -1.3003448247909546,
          2.352302074432373,
          5.296387672424316,
          -4.590884685516357,
          -5.790180683135986,
          -2.669567584991455,
          -5.3276214599609375,
          9.381075859069824,
          -6.272878646850586,
          -5.714251518249512,
          5.805923938751221,
          2.148235559463501,
          0.5093182325363159,
          -4.266631126403809,
          -5.626896858215332,
          2.6474995613098145,
          5.385753631591797,
          2.7786142826080322,
          7.185654640197754,
          7.8268723487854,
          9.978560447692871,
          -0.5887708067893982,
          -0.10949341952800751,
          -0.7311541438102722,
          -1.2830854654312134,
          7.7680888175964355,
          -4.824692726135254,
          -0.1840965300798416,
          9.442666053771973,
          8.570114135742188,
          -2.0551986694335938,
          3.3319008350372314,
          8.966757774353027,
          -4.11323356628418,
          6.869668960571289,
          -2.7264201641082764,
          -4.747382164001465,
          -5.426987648010254,
          -1.3244831562042236,
          -4.631199359893799,
          -2.135432243347168,
          6.768503665924072,
          9.107632637023926,
          -1.516036868095398,
          -0.698486328125,
          0.4860954284667969,
          -0.8816779255867004,
          9.59593391418457,
          6.5242767333984375,
          7.296139717102051,
          0.49364718794822693,
          7.470614910125732,
          0.44958996772766113,
          2.2667486667633057,
          -4.22605562210083,
          1.6916593313217163,
          0.24024417996406555,
          -2.300471067428589,
          6.354116916656494,
          1.3924669027328491,
          -2.678485155105591,
          -4.2137908935546875,
          -0.10654056817293167,
          7.031343936920166,
          9.943264961242676,
          -4.737302780151367,
          -5.213090896606445,
          0.9113544225692749,
          -4.3910441398620605,
          7.315321445465088,
          -3.320908546447754,
          3.244807243347168,
          1.5474529266357422,
          3.4039194583892822,
          1.3395024538040161,
          4.33397102355957,
          -0.15351636707782745,
          -6.033094882965088,
          -1.8570231199264526,
          -1.8844575881958008,
          -1.866538166999817,
          8.94798755645752,
          8.437026023864746,
          -1.5681712627410889,
          -5.006634712219238,
          -4.568110466003418,
          2.8219738006591797,
          9.843536376953125,
          0.1362771987915039,
          -2.6859021186828613,
          1.160212516784668,
          -3.703583240509033,
          0.23999659717082977,
          0.562878429889679,
          -1.1927727460861206,
          6.652090549468994,
          7.263046741485596,
          1.8167775869369507,
          5.6039862632751465,
          5.233646392822266,
          -3.8467938899993896,
          1.1916519403457642,
          -4.15588903427124,
          4.676992416381836,
          1.1325350999832153,
          -5.164628505706787,
          7.03472375869751,
          6.092249870300293,
          7.705108165740967,
          -1.1288189888000488,
          7.550413608551025,
          8.137772560119629,
          -0.9779665470123291,
          -3.4326133728027344,
          -0.30467939376831055,
          9.715071678161621,
          9.611224174499512,
          -0.010072794742882252,
          -1.6443735361099243,
          -4.560184955596924,
          1.4393730163574219,
          -5.069024562835693,
          1.866392731666565,
          0.9774622917175293,
          1.834663987159729,
          -1.0931665897369385,
          -4.987763404846191,
          4.078138828277588,
          1.8705805540084839,
          8.922555923461914,
          8.934560775756836,
          5.176850318908691,
          -0.533311128616333,
          -1.9665806293487549,
          0.011800283566117287,
          -3.6917340755462646,
          -5.7035017013549805,
          -4.814153671264648
         ],
         "yaxis": "y"
        }
       ],
       "layout": {
        "legend": {
         "tracegroupgap": 0
        },
        "margin": {
         "t": 60
        },
        "template": {
         "data": {
          "bar": [
           {
            "error_x": {
             "color": "#2a3f5f"
            },
            "error_y": {
             "color": "#2a3f5f"
            },
            "marker": {
             "line": {
              "color": "#E5ECF6",
              "width": 0.5
             },
             "pattern": {
              "fillmode": "overlay",
              "size": 10,
              "solidity": 0.2
             }
            },
            "type": "bar"
           }
          ],
          "barpolar": [
           {
            "marker": {
             "line": {
              "color": "#E5ECF6",
              "width": 0.5
             },
             "pattern": {
              "fillmode": "overlay",
              "size": 10,
              "solidity": 0.2
             }
            },
            "type": "barpolar"
           }
          ],
          "carpet": [
           {
            "aaxis": {
             "endlinecolor": "#2a3f5f",
             "gridcolor": "white",
             "linecolor": "white",
             "minorgridcolor": "white",
             "startlinecolor": "#2a3f5f"
            },
            "baxis": {
             "endlinecolor": "#2a3f5f",
             "gridcolor": "white",
             "linecolor": "white",
             "minorgridcolor": "white",
             "startlinecolor": "#2a3f5f"
            },
            "type": "carpet"
           }
          ],
          "choropleth": [
           {
            "colorbar": {
             "outlinewidth": 0,
             "ticks": ""
            },
            "type": "choropleth"
           }
          ],
          "contour": [
           {
            "colorbar": {
             "outlinewidth": 0,
             "ticks": ""
            },
            "colorscale": [
             [
              0,
              "#0d0887"
             ],
             [
              0.1111111111111111,
              "#46039f"
             ],
             [
              0.2222222222222222,
              "#7201a8"
             ],
             [
              0.3333333333333333,
              "#9c179e"
             ],
             [
              0.4444444444444444,
              "#bd3786"
             ],
             [
              0.5555555555555556,
              "#d8576b"
             ],
             [
              0.6666666666666666,
              "#ed7953"
             ],
             [
              0.7777777777777778,
              "#fb9f3a"
             ],
             [
              0.8888888888888888,
              "#fdca26"
             ],
             [
              1,
              "#f0f921"
             ]
            ],
            "type": "contour"
           }
          ],
          "contourcarpet": [
           {
            "colorbar": {
             "outlinewidth": 0,
             "ticks": ""
            },
            "type": "contourcarpet"
           }
          ],
          "heatmap": [
           {
            "colorbar": {
             "outlinewidth": 0,
             "ticks": ""
            },
            "colorscale": [
             [
              0,
              "#0d0887"
             ],
             [
              0.1111111111111111,
              "#46039f"
             ],
             [
              0.2222222222222222,
              "#7201a8"
             ],
             [
              0.3333333333333333,
              "#9c179e"
             ],
             [
              0.4444444444444444,
              "#bd3786"
             ],
             [
              0.5555555555555556,
              "#d8576b"
             ],
             [
              0.6666666666666666,
              "#ed7953"
             ],
             [
              0.7777777777777778,
              "#fb9f3a"
             ],
             [
              0.8888888888888888,
              "#fdca26"
             ],
             [
              1,
              "#f0f921"
             ]
            ],
            "type": "heatmap"
           }
          ],
          "heatmapgl": [
           {
            "colorbar": {
             "outlinewidth": 0,
             "ticks": ""
            },
            "colorscale": [
             [
              0,
              "#0d0887"
             ],
             [
              0.1111111111111111,
              "#46039f"
             ],
             [
              0.2222222222222222,
              "#7201a8"
             ],
             [
              0.3333333333333333,
              "#9c179e"
             ],
             [
              0.4444444444444444,
              "#bd3786"
             ],
             [
              0.5555555555555556,
              "#d8576b"
             ],
             [
              0.6666666666666666,
              "#ed7953"
             ],
             [
              0.7777777777777778,
              "#fb9f3a"
             ],
             [
              0.8888888888888888,
              "#fdca26"
             ],
             [
              1,
              "#f0f921"
             ]
            ],
            "type": "heatmapgl"
           }
          ],
          "histogram": [
           {
            "marker": {
             "pattern": {
              "fillmode": "overlay",
              "size": 10,
              "solidity": 0.2
             }
            },
            "type": "histogram"
           }
          ],
          "histogram2d": [
           {
            "colorbar": {
             "outlinewidth": 0,
             "ticks": ""
            },
            "colorscale": [
             [
              0,
              "#0d0887"
             ],
             [
              0.1111111111111111,
              "#46039f"
             ],
             [
              0.2222222222222222,
              "#7201a8"
             ],
             [
              0.3333333333333333,
              "#9c179e"
             ],
             [
              0.4444444444444444,
              "#bd3786"
             ],
             [
              0.5555555555555556,
              "#d8576b"
             ],
             [
              0.6666666666666666,
              "#ed7953"
             ],
             [
              0.7777777777777778,
              "#fb9f3a"
             ],
             [
              0.8888888888888888,
              "#fdca26"
             ],
             [
              1,
              "#f0f921"
             ]
            ],
            "type": "histogram2d"
           }
          ],
          "histogram2dcontour": [
           {
            "colorbar": {
             "outlinewidth": 0,
             "ticks": ""
            },
            "colorscale": [
             [
              0,
              "#0d0887"
             ],
             [
              0.1111111111111111,
              "#46039f"
             ],
             [
              0.2222222222222222,
              "#7201a8"
             ],
             [
              0.3333333333333333,
              "#9c179e"
             ],
             [
              0.4444444444444444,
              "#bd3786"
             ],
             [
              0.5555555555555556,
              "#d8576b"
             ],
             [
              0.6666666666666666,
              "#ed7953"
             ],
             [
              0.7777777777777778,
              "#fb9f3a"
             ],
             [
              0.8888888888888888,
              "#fdca26"
             ],
             [
              1,
              "#f0f921"
             ]
            ],
            "type": "histogram2dcontour"
           }
          ],
          "mesh3d": [
           {
            "colorbar": {
             "outlinewidth": 0,
             "ticks": ""
            },
            "type": "mesh3d"
           }
          ],
          "parcoords": [
           {
            "line": {
             "colorbar": {
              "outlinewidth": 0,
              "ticks": ""
             }
            },
            "type": "parcoords"
           }
          ],
          "pie": [
           {
            "automargin": true,
            "type": "pie"
           }
          ],
          "scatter": [
           {
            "marker": {
             "colorbar": {
              "outlinewidth": 0,
              "ticks": ""
             }
            },
            "type": "scatter"
           }
          ],
          "scatter3d": [
           {
            "line": {
             "colorbar": {
              "outlinewidth": 0,
              "ticks": ""
             }
            },
            "marker": {
             "colorbar": {
              "outlinewidth": 0,
              "ticks": ""
             }
            },
            "type": "scatter3d"
           }
          ],
          "scattercarpet": [
           {
            "marker": {
             "colorbar": {
              "outlinewidth": 0,
              "ticks": ""
             }
            },
            "type": "scattercarpet"
           }
          ],
          "scattergeo": [
           {
            "marker": {
             "colorbar": {
              "outlinewidth": 0,
              "ticks": ""
             }
            },
            "type": "scattergeo"
           }
          ],
          "scattergl": [
           {
            "marker": {
             "colorbar": {
              "outlinewidth": 0,
              "ticks": ""
             }
            },
            "type": "scattergl"
           }
          ],
          "scattermapbox": [
           {
            "marker": {
             "colorbar": {
              "outlinewidth": 0,
              "ticks": ""
             }
            },
            "type": "scattermapbox"
           }
          ],
          "scatterpolar": [
           {
            "marker": {
             "colorbar": {
              "outlinewidth": 0,
              "ticks": ""
             }
            },
            "type": "scatterpolar"
           }
          ],
          "scatterpolargl": [
           {
            "marker": {
             "colorbar": {
              "outlinewidth": 0,
              "ticks": ""
             }
            },
            "type": "scatterpolargl"
           }
          ],
          "scatterternary": [
           {
            "marker": {
             "colorbar": {
              "outlinewidth": 0,
              "ticks": ""
             }
            },
            "type": "scatterternary"
           }
          ],
          "surface": [
           {
            "colorbar": {
             "outlinewidth": 0,
             "ticks": ""
            },
            "colorscale": [
             [
              0,
              "#0d0887"
             ],
             [
              0.1111111111111111,
              "#46039f"
             ],
             [
              0.2222222222222222,
              "#7201a8"
             ],
             [
              0.3333333333333333,
              "#9c179e"
             ],
             [
              0.4444444444444444,
              "#bd3786"
             ],
             [
              0.5555555555555556,
              "#d8576b"
             ],
             [
              0.6666666666666666,
              "#ed7953"
             ],
             [
              0.7777777777777778,
              "#fb9f3a"
             ],
             [
              0.8888888888888888,
              "#fdca26"
             ],
             [
              1,
              "#f0f921"
             ]
            ],
            "type": "surface"
           }
          ],
          "table": [
           {
            "cells": {
             "fill": {
              "color": "#EBF0F8"
             },
             "line": {
              "color": "white"
             }
            },
            "header": {
             "fill": {
              "color": "#C8D4E3"
             },
             "line": {
              "color": "white"
             }
            },
            "type": "table"
           }
          ]
         },
         "layout": {
          "annotationdefaults": {
           "arrowcolor": "#2a3f5f",
           "arrowhead": 0,
           "arrowwidth": 1
          },
          "autotypenumbers": "strict",
          "coloraxis": {
           "colorbar": {
            "outlinewidth": 0,
            "ticks": ""
           }
          },
          "colorscale": {
           "diverging": [
            [
             0,
             "#8e0152"
            ],
            [
             0.1,
             "#c51b7d"
            ],
            [
             0.2,
             "#de77ae"
            ],
            [
             0.3,
             "#f1b6da"
            ],
            [
             0.4,
             "#fde0ef"
            ],
            [
             0.5,
             "#f7f7f7"
            ],
            [
             0.6,
             "#e6f5d0"
            ],
            [
             0.7,
             "#b8e186"
            ],
            [
             0.8,
             "#7fbc41"
            ],
            [
             0.9,
             "#4d9221"
            ],
            [
             1,
             "#276419"
            ]
           ],
           "sequential": [
            [
             0,
             "#0d0887"
            ],
            [
             0.1111111111111111,
             "#46039f"
            ],
            [
             0.2222222222222222,
             "#7201a8"
            ],
            [
             0.3333333333333333,
             "#9c179e"
            ],
            [
             0.4444444444444444,
             "#bd3786"
            ],
            [
             0.5555555555555556,
             "#d8576b"
            ],
            [
             0.6666666666666666,
             "#ed7953"
            ],
            [
             0.7777777777777778,
             "#fb9f3a"
            ],
            [
             0.8888888888888888,
             "#fdca26"
            ],
            [
             1,
             "#f0f921"
            ]
           ],
           "sequentialminus": [
            [
             0,
             "#0d0887"
            ],
            [
             0.1111111111111111,
             "#46039f"
            ],
            [
             0.2222222222222222,
             "#7201a8"
            ],
            [
             0.3333333333333333,
             "#9c179e"
            ],
            [
             0.4444444444444444,
             "#bd3786"
            ],
            [
             0.5555555555555556,
             "#d8576b"
            ],
            [
             0.6666666666666666,
             "#ed7953"
            ],
            [
             0.7777777777777778,
             "#fb9f3a"
            ],
            [
             0.8888888888888888,
             "#fdca26"
            ],
            [
             1,
             "#f0f921"
            ]
           ]
          },
          "colorway": [
           "#636efa",
           "#EF553B",
           "#00cc96",
           "#ab63fa",
           "#FFA15A",
           "#19d3f3",
           "#FF6692",
           "#B6E880",
           "#FF97FF",
           "#FECB52"
          ],
          "font": {
           "color": "#2a3f5f"
          },
          "geo": {
           "bgcolor": "white",
           "lakecolor": "white",
           "landcolor": "#E5ECF6",
           "showlakes": true,
           "showland": true,
           "subunitcolor": "white"
          },
          "hoverlabel": {
           "align": "left"
          },
          "hovermode": "closest",
          "mapbox": {
           "style": "light"
          },
          "paper_bgcolor": "white",
          "plot_bgcolor": "#E5ECF6",
          "polar": {
           "angularaxis": {
            "gridcolor": "white",
            "linecolor": "white",
            "ticks": ""
           },
           "bgcolor": "#E5ECF6",
           "radialaxis": {
            "gridcolor": "white",
            "linecolor": "white",
            "ticks": ""
           }
          },
          "scene": {
           "xaxis": {
            "backgroundcolor": "#E5ECF6",
            "gridcolor": "white",
            "gridwidth": 2,
            "linecolor": "white",
            "showbackground": true,
            "ticks": "",
            "zerolinecolor": "white"
           },
           "yaxis": {
            "backgroundcolor": "#E5ECF6",
            "gridcolor": "white",
            "gridwidth": 2,
            "linecolor": "white",
            "showbackground": true,
            "ticks": "",
            "zerolinecolor": "white"
           },
           "zaxis": {
            "backgroundcolor": "#E5ECF6",
            "gridcolor": "white",
            "gridwidth": 2,
            "linecolor": "white",
            "showbackground": true,
            "ticks": "",
            "zerolinecolor": "white"
           }
          },
          "shapedefaults": {
           "line": {
            "color": "#2a3f5f"
           }
          },
          "ternary": {
           "aaxis": {
            "gridcolor": "white",
            "linecolor": "white",
            "ticks": ""
           },
           "baxis": {
            "gridcolor": "white",
            "linecolor": "white",
            "ticks": ""
           },
           "bgcolor": "#E5ECF6",
           "caxis": {
            "gridcolor": "white",
            "linecolor": "white",
            "ticks": ""
           }
          },
          "title": {
           "x": 0.05
          },
          "xaxis": {
           "automargin": true,
           "gridcolor": "white",
           "linecolor": "white",
           "ticks": "",
           "title": {
            "standoff": 15
           },
           "zerolinecolor": "white",
           "zerolinewidth": 2
          },
          "yaxis": {
           "automargin": true,
           "gridcolor": "white",
           "linecolor": "white",
           "ticks": "",
           "title": {
            "standoff": 15
           },
           "zerolinecolor": "white",
           "zerolinewidth": 2
          }
         }
        },
        "title": {
         "text": "2D t-SNE Transformation with PCA 2 dimensions",
         "x": 0.5
        },
        "xaxis": {
         "anchor": "y",
         "domain": [
          0,
          1
         ],
         "title": {
          "text": "PC1"
         }
        },
        "yaxis": {
         "anchor": "x",
         "domain": [
          0,
          1
         ],
         "title": {
          "text": "PC2"
         }
        }
       }
      },
      "text/html": [
       "<div>                            <div id=\"a92a0d31-b390-4595-a3a8-59563dbd7658\" class=\"plotly-graph-div\" style=\"height:525px; width:100%;\"></div>            <script type=\"text/javascript\">                require([\"plotly\"], function(Plotly) {                    window.PLOTLYENV=window.PLOTLYENV || {};                                    if (document.getElementById(\"a92a0d31-b390-4595-a3a8-59563dbd7658\")) {                    Plotly.newPlot(                        \"a92a0d31-b390-4595-a3a8-59563dbd7658\",                        [{\"hovertemplate\":\"PC1=%{x}<br>PC2=%{y}<br>COUNTRY=%{text}<extra></extra>\",\"legendgroup\":\"\",\"marker\":{\"color\":\"#636efa\",\"symbol\":\"circle\"},\"mode\":\"markers+text\",\"name\":\"\",\"orientation\":\"v\",\"showlegend\":false,\"text\":[\"Afghanistan\",\"Albania\",\"Algeria\",\"Angola\",\"Argentina\",\"Armenia\",\"Australia\",\"Austria\",\"Azerbaijan\",\"Bahrain\",\"Bangladesh\",\"Barbados\",\"Belarus\",\"Belgium\",\"Belize\",\"Benin\",\"Bhutan\",\"Bolivia\",\"Bosnia and Herzegovina\",\"Botswana\",\"Brazil\",\"Bulgaria\",\"Burkina Faso\",\"Burundi\",\"Cambodia\",\"Cameroon\",\"Canada\",\"Central African Republic\",\"Chad\",\"Chile\",\"China\",\"Colombia\",\"Comoros\",\"Democratic Republic of the Congo\",\"Costa Rica\",\"Croatia\",\"Cuba\",\"Cyprus\",\"Czech Republic\",\"Denmark\",\"Dominican Republic\",\"Ecuador\",\"Egypt\",\"El Salvador\",\"Estonia\",\"Ethiopia\",\"Fiji\",\"Finland\",\"France\",\"Gabon\",\"Georgia\",\"Germany\",\"Ghana\",\"Greece\",\"Guatemala\",\"Guinea\",\"Guinea Bissau\",\"Guyana\",\"Haiti\",\"Honduras\",\"Hungary\",\"Iceland\",\"India\",\"Indonesia\",\"Iran\",\"Iraq\",\"Ireland\",\"Israel\",\"Italy\",\"Jamaica\",\"Japan\",\"Jordan\",\"Kazakhstan\",\"Kenya\",\"Kuwait\",\"Kyrgyzstan\",\"Laos\",\"Latvia\",\"Lebanon\",\"Lesotho\",\"Liberia\",\"Libya\",\"Lithuania\",\"Luxembourg\",\"Madagascar\",\"Malawi\",\"Malaysia\",\"Mali\",\"Malta\",\"Mauritania\",\"Mauritius\",\"Mexico\",\"Moldova\",\"Mongolia\",\"Montenegro\",\"Morocco\",\"Mozambique\",\"Myanmar\",\"Namibia\",\"Nepal\",\"Netherlands\",\"New Zealand\",\"Nicaragua\",\"Niger\",\"Nigeria\",\"North Macedonia\",\"Norway\",\"Oman\",\"Pakistan\",\"Panama\",\"Papua New Guinea\",\"Paraguay\",\"Peru\",\"Philippines\",\"Poland\",\"Portugal\",\"Qatar\",\"Romania\",\"Russia\",\"Rwanda\",\"Saudi Arabia\",\"Senegal\",\"Serbia\",\"Seychelles\",\"Sierra Leone\",\"Singapore\",\"Slovakia\",\"Slovenia\",\"South Africa\",\"South Korea\",\"Spain\",\"Sri Lanka\",\"Sudan\",\"Suriname\",\"Sweden\",\"Switzerland\",\"Syria\",\"Tajikistan\",\"Tanzania\",\"Thailand\",\"Togo\",\"Trinidad and Tobago\",\"Tunisia\",\"Turkey\",\"Turkmenistan\",\"Uganda\",\"Ukraine\",\"United Arab Emirates\",\"United Kingdom\",\"United States\",\"Uruguay\",\"Uzbekistan\",\"Venezuela\",\"Vietnam\",\"Yemen\",\"Zambia\",\"Zimbabwe\"],\"textposition\":\"top center\",\"type\":\"scatter\",\"x\":[-3.7641100883483887,4.305200576782227,-2.7523679733276367,-0.9180390238761902,3.419663190841675,3.4150688648223877,6.391827583312988,5.605961799621582,-2.350043535232544,-1.4047083854675293,-3.1101551055908203,3.4847445487976074,3.5687124729156494,5.417685508728027,2.928502321243286,-1.8333758115768433,-1.1431679725646973,1.5815720558166504,4.0472731590271,2.3724982738494873,1.9910502433776855,3.9113821983337402,-2.979978561401367,-1.6150546073913574,-1.0221881866455078,-1.3519114255905151,5.737872123718262,-1.9939396381378174,-3.287609577178955,4.259740352630615,4.063940048217773,2.2950026988983154,-3.4969863891601562,-2.4334557056427,2.4007599353790283,4.4805803298950195,1.936609148979187,4.713349342346191,5.180060386657715,6.039244651794434,1.6225464344024658,2.102220296859741,-3.2800819873809814,3.0088722705841064,4.8216118812561035,-2.110116958618164,1.3422434329986572,5.5894694328308105,5.895366191864014,0.9413262605667114,3.7309296131134033,6.1851911544799805,-0.9546079039573669,4.781745910644531,0.6785129904747009,-3.751354455947876,-2.414029121398926,2.8084192276000977,-0.5173153877258301,1.428427815437317,5.182187080383301,6.7487311363220215,-1.1767023801803589,-2.3205456733703613,-1.8076012134552002,-3.282172441482544,6.53604793548584,5.61940860748291,5.707583904266357,2.4434456825256348,6.230883598327637,-2.573829412460327,4.273915767669678,-1.0310074090957642,-3.2955052852630615,-0.9361207485198975,-1.354009985923767,4.0139946937561035,3.9681947231292725,3.249501943588257,-2.176880121231079,-3.333751678466797,4.128740310668945,6.9607133865356445,-0.921895444393158,-1.2606195211410522,-0.9999721646308899,-4.017872333526611,5.731837272644043,-3.7973153591156006,2.5815846920013428,2.243478775024414,2.995830774307251,2.658262014389038,3.968233108520508,-1.9500787258148193,-1.140824317932129,-1.6606478691101074,2.63382625579834,-0.953563928604126,6.721419334411621,6.370567321777344,1.5750253200531006,-4.017708778381348,-2.7674126625061035,3.739377021789551,6.421230316162109,-3.088275194168091,-3.9110963344573975,2.291170358657837,-0.815366268157959,2.2962355613708496,2.120793104171753,0.9592312574386597,4.855733871459961,4.965297222137451,-3.156951904296875,4.766106128692627,3.771942615509033,0.536902666091919,-3.24422287940979,-3.017550230026245,3.853675365447998,1.9743363857269287,-2.9021286964416504,6.789797306060791,4.725486755371094,5.350158214569092,3.4075210094451904,5.72955846786499,5.7335100173950195,-0.15781457722187042,-3.9446427822113037,2.4689502716064453,5.921130657196045,6.885964870452881,-3.967416763305664,-2.429176092147827,-1.2453614473342896,3.1703007221221924,-1.9994854927062988,2.5479328632354736,-1.530737280845642,-0.6029951572418213,-0.7092660665512085,-0.5888983607292175,3.2265138626098633,-3.0619988441467285,6.015011310577393,5.060697555541992,3.155174970626831,-1.7750029563903809,2.0965659618377686,0.7691927552223206,-4.128037929534912,-0.5268035531044006,-0.4968981444835663],\"xaxis\":\"x\",\"y\":[-4.271602630615234,2.5866246223449707,-0.1576589196920395,-5.494970798492432,4.619251251220703,2.3194899559020996,8.409308433532715,8.8557767868042,0.9033151268959045,0.8589417338371277,-1.3172494173049927,3.761364459991455,4.456837177276611,8.711917877197266,-0.8558827042579651,-5.272244930267334,-1.0794376134872437,-1.568183422088623,2.5747950077056885,-1.3003448247909546,2.352302074432373,5.296387672424316,-4.590884685516357,-5.790180683135986,-2.669567584991455,-5.3276214599609375,9.381075859069824,-6.272878646850586,-5.714251518249512,5.805923938751221,2.148235559463501,0.5093182325363159,-4.266631126403809,-5.626896858215332,2.6474995613098145,5.385753631591797,2.7786142826080322,7.185654640197754,7.8268723487854,9.978560447692871,-0.5887708067893982,-0.10949341952800751,-0.7311541438102722,-1.2830854654312134,7.7680888175964355,-4.824692726135254,-0.1840965300798416,9.442666053771973,8.570114135742188,-2.0551986694335938,3.3319008350372314,8.966757774353027,-4.11323356628418,6.869668960571289,-2.7264201641082764,-4.747382164001465,-5.426987648010254,-1.3244831562042236,-4.631199359893799,-2.135432243347168,6.768503665924072,9.107632637023926,-1.516036868095398,-0.698486328125,0.4860954284667969,-0.8816779255867004,9.59593391418457,6.5242767333984375,7.296139717102051,0.49364718794822693,7.470614910125732,0.44958996772766113,2.2667486667633057,-4.22605562210083,1.6916593313217163,0.24024417996406555,-2.300471067428589,6.354116916656494,1.3924669027328491,-2.678485155105591,-4.2137908935546875,-0.10654056817293167,7.031343936920166,9.943264961242676,-4.737302780151367,-5.213090896606445,0.9113544225692749,-4.3910441398620605,7.315321445465088,-3.320908546447754,3.244807243347168,1.5474529266357422,3.4039194583892822,1.3395024538040161,4.33397102355957,-0.15351636707782745,-6.033094882965088,-1.8570231199264526,-1.8844575881958008,-1.866538166999817,8.94798755645752,8.437026023864746,-1.5681712627410889,-5.006634712219238,-4.568110466003418,2.8219738006591797,9.843536376953125,0.1362771987915039,-2.6859021186828613,1.160212516784668,-3.703583240509033,0.23999659717082977,0.562878429889679,-1.1927727460861206,6.652090549468994,7.263046741485596,1.8167775869369507,5.6039862632751465,5.233646392822266,-3.8467938899993896,1.1916519403457642,-4.15588903427124,4.676992416381836,1.1325350999832153,-5.164628505706787,7.03472375869751,6.092249870300293,7.705108165740967,-1.1288189888000488,7.550413608551025,8.137772560119629,-0.9779665470123291,-3.4326133728027344,-0.30467939376831055,9.715071678161621,9.611224174499512,-0.010072794742882252,-1.6443735361099243,-4.560184955596924,1.4393730163574219,-5.069024562835693,1.866392731666565,0.9774622917175293,1.834663987159729,-1.0931665897369385,-4.987763404846191,4.078138828277588,1.8705805540084839,8.922555923461914,8.934560775756836,5.176850318908691,-0.533311128616333,-1.9665806293487549,0.011800283566117287,-3.6917340755462646,-5.7035017013549805,-4.814153671264648],\"yaxis\":\"y\"}],                        {\"legend\":{\"tracegroupgap\":0},\"margin\":{\"t\":60},\"template\":{\"data\":{\"bar\":[{\"error_x\":{\"color\":\"#2a3f5f\"},\"error_y\":{\"color\":\"#2a3f5f\"},\"marker\":{\"line\":{\"color\":\"#E5ECF6\",\"width\":0.5},\"pattern\":{\"fillmode\":\"overlay\",\"size\":10,\"solidity\":0.2}},\"type\":\"bar\"}],\"barpolar\":[{\"marker\":{\"line\":{\"color\":\"#E5ECF6\",\"width\":0.5},\"pattern\":{\"fillmode\":\"overlay\",\"size\":10,\"solidity\":0.2}},\"type\":\"barpolar\"}],\"carpet\":[{\"aaxis\":{\"endlinecolor\":\"#2a3f5f\",\"gridcolor\":\"white\",\"linecolor\":\"white\",\"minorgridcolor\":\"white\",\"startlinecolor\":\"#2a3f5f\"},\"baxis\":{\"endlinecolor\":\"#2a3f5f\",\"gridcolor\":\"white\",\"linecolor\":\"white\",\"minorgridcolor\":\"white\",\"startlinecolor\":\"#2a3f5f\"},\"type\":\"carpet\"}],\"choropleth\":[{\"colorbar\":{\"outlinewidth\":0,\"ticks\":\"\"},\"type\":\"choropleth\"}],\"contour\":[{\"colorbar\":{\"outlinewidth\":0,\"ticks\":\"\"},\"colorscale\":[[0.0,\"#0d0887\"],[0.1111111111111111,\"#46039f\"],[0.2222222222222222,\"#7201a8\"],[0.3333333333333333,\"#9c179e\"],[0.4444444444444444,\"#bd3786\"],[0.5555555555555556,\"#d8576b\"],[0.6666666666666666,\"#ed7953\"],[0.7777777777777778,\"#fb9f3a\"],[0.8888888888888888,\"#fdca26\"],[1.0,\"#f0f921\"]],\"type\":\"contour\"}],\"contourcarpet\":[{\"colorbar\":{\"outlinewidth\":0,\"ticks\":\"\"},\"type\":\"contourcarpet\"}],\"heatmap\":[{\"colorbar\":{\"outlinewidth\":0,\"ticks\":\"\"},\"colorscale\":[[0.0,\"#0d0887\"],[0.1111111111111111,\"#46039f\"],[0.2222222222222222,\"#7201a8\"],[0.3333333333333333,\"#9c179e\"],[0.4444444444444444,\"#bd3786\"],[0.5555555555555556,\"#d8576b\"],[0.6666666666666666,\"#ed7953\"],[0.7777777777777778,\"#fb9f3a\"],[0.8888888888888888,\"#fdca26\"],[1.0,\"#f0f921\"]],\"type\":\"heatmap\"}],\"heatmapgl\":[{\"colorbar\":{\"outlinewidth\":0,\"ticks\":\"\"},\"colorscale\":[[0.0,\"#0d0887\"],[0.1111111111111111,\"#46039f\"],[0.2222222222222222,\"#7201a8\"],[0.3333333333333333,\"#9c179e\"],[0.4444444444444444,\"#bd3786\"],[0.5555555555555556,\"#d8576b\"],[0.6666666666666666,\"#ed7953\"],[0.7777777777777778,\"#fb9f3a\"],[0.8888888888888888,\"#fdca26\"],[1.0,\"#f0f921\"]],\"type\":\"heatmapgl\"}],\"histogram\":[{\"marker\":{\"pattern\":{\"fillmode\":\"overlay\",\"size\":10,\"solidity\":0.2}},\"type\":\"histogram\"}],\"histogram2d\":[{\"colorbar\":{\"outlinewidth\":0,\"ticks\":\"\"},\"colorscale\":[[0.0,\"#0d0887\"],[0.1111111111111111,\"#46039f\"],[0.2222222222222222,\"#7201a8\"],[0.3333333333333333,\"#9c179e\"],[0.4444444444444444,\"#bd3786\"],[0.5555555555555556,\"#d8576b\"],[0.6666666666666666,\"#ed7953\"],[0.7777777777777778,\"#fb9f3a\"],[0.8888888888888888,\"#fdca26\"],[1.0,\"#f0f921\"]],\"type\":\"histogram2d\"}],\"histogram2dcontour\":[{\"colorbar\":{\"outlinewidth\":0,\"ticks\":\"\"},\"colorscale\":[[0.0,\"#0d0887\"],[0.1111111111111111,\"#46039f\"],[0.2222222222222222,\"#7201a8\"],[0.3333333333333333,\"#9c179e\"],[0.4444444444444444,\"#bd3786\"],[0.5555555555555556,\"#d8576b\"],[0.6666666666666666,\"#ed7953\"],[0.7777777777777778,\"#fb9f3a\"],[0.8888888888888888,\"#fdca26\"],[1.0,\"#f0f921\"]],\"type\":\"histogram2dcontour\"}],\"mesh3d\":[{\"colorbar\":{\"outlinewidth\":0,\"ticks\":\"\"},\"type\":\"mesh3d\"}],\"parcoords\":[{\"line\":{\"colorbar\":{\"outlinewidth\":0,\"ticks\":\"\"}},\"type\":\"parcoords\"}],\"pie\":[{\"automargin\":true,\"type\":\"pie\"}],\"scatter\":[{\"marker\":{\"colorbar\":{\"outlinewidth\":0,\"ticks\":\"\"}},\"type\":\"scatter\"}],\"scatter3d\":[{\"line\":{\"colorbar\":{\"outlinewidth\":0,\"ticks\":\"\"}},\"marker\":{\"colorbar\":{\"outlinewidth\":0,\"ticks\":\"\"}},\"type\":\"scatter3d\"}],\"scattercarpet\":[{\"marker\":{\"colorbar\":{\"outlinewidth\":0,\"ticks\":\"\"}},\"type\":\"scattercarpet\"}],\"scattergeo\":[{\"marker\":{\"colorbar\":{\"outlinewidth\":0,\"ticks\":\"\"}},\"type\":\"scattergeo\"}],\"scattergl\":[{\"marker\":{\"colorbar\":{\"outlinewidth\":0,\"ticks\":\"\"}},\"type\":\"scattergl\"}],\"scattermapbox\":[{\"marker\":{\"colorbar\":{\"outlinewidth\":0,\"ticks\":\"\"}},\"type\":\"scattermapbox\"}],\"scatterpolar\":[{\"marker\":{\"colorbar\":{\"outlinewidth\":0,\"ticks\":\"\"}},\"type\":\"scatterpolar\"}],\"scatterpolargl\":[{\"marker\":{\"colorbar\":{\"outlinewidth\":0,\"ticks\":\"\"}},\"type\":\"scatterpolargl\"}],\"scatterternary\":[{\"marker\":{\"colorbar\":{\"outlinewidth\":0,\"ticks\":\"\"}},\"type\":\"scatterternary\"}],\"surface\":[{\"colorbar\":{\"outlinewidth\":0,\"ticks\":\"\"},\"colorscale\":[[0.0,\"#0d0887\"],[0.1111111111111111,\"#46039f\"],[0.2222222222222222,\"#7201a8\"],[0.3333333333333333,\"#9c179e\"],[0.4444444444444444,\"#bd3786\"],[0.5555555555555556,\"#d8576b\"],[0.6666666666666666,\"#ed7953\"],[0.7777777777777778,\"#fb9f3a\"],[0.8888888888888888,\"#fdca26\"],[1.0,\"#f0f921\"]],\"type\":\"surface\"}],\"table\":[{\"cells\":{\"fill\":{\"color\":\"#EBF0F8\"},\"line\":{\"color\":\"white\"}},\"header\":{\"fill\":{\"color\":\"#C8D4E3\"},\"line\":{\"color\":\"white\"}},\"type\":\"table\"}]},\"layout\":{\"annotationdefaults\":{\"arrowcolor\":\"#2a3f5f\",\"arrowhead\":0,\"arrowwidth\":1},\"autotypenumbers\":\"strict\",\"coloraxis\":{\"colorbar\":{\"outlinewidth\":0,\"ticks\":\"\"}},\"colorscale\":{\"diverging\":[[0,\"#8e0152\"],[0.1,\"#c51b7d\"],[0.2,\"#de77ae\"],[0.3,\"#f1b6da\"],[0.4,\"#fde0ef\"],[0.5,\"#f7f7f7\"],[0.6,\"#e6f5d0\"],[0.7,\"#b8e186\"],[0.8,\"#7fbc41\"],[0.9,\"#4d9221\"],[1,\"#276419\"]],\"sequential\":[[0.0,\"#0d0887\"],[0.1111111111111111,\"#46039f\"],[0.2222222222222222,\"#7201a8\"],[0.3333333333333333,\"#9c179e\"],[0.4444444444444444,\"#bd3786\"],[0.5555555555555556,\"#d8576b\"],[0.6666666666666666,\"#ed7953\"],[0.7777777777777778,\"#fb9f3a\"],[0.8888888888888888,\"#fdca26\"],[1.0,\"#f0f921\"]],\"sequentialminus\":[[0.0,\"#0d0887\"],[0.1111111111111111,\"#46039f\"],[0.2222222222222222,\"#7201a8\"],[0.3333333333333333,\"#9c179e\"],[0.4444444444444444,\"#bd3786\"],[0.5555555555555556,\"#d8576b\"],[0.6666666666666666,\"#ed7953\"],[0.7777777777777778,\"#fb9f3a\"],[0.8888888888888888,\"#fdca26\"],[1.0,\"#f0f921\"]]},\"colorway\":[\"#636efa\",\"#EF553B\",\"#00cc96\",\"#ab63fa\",\"#FFA15A\",\"#19d3f3\",\"#FF6692\",\"#B6E880\",\"#FF97FF\",\"#FECB52\"],\"font\":{\"color\":\"#2a3f5f\"},\"geo\":{\"bgcolor\":\"white\",\"lakecolor\":\"white\",\"landcolor\":\"#E5ECF6\",\"showlakes\":true,\"showland\":true,\"subunitcolor\":\"white\"},\"hoverlabel\":{\"align\":\"left\"},\"hovermode\":\"closest\",\"mapbox\":{\"style\":\"light\"},\"paper_bgcolor\":\"white\",\"plot_bgcolor\":\"#E5ECF6\",\"polar\":{\"angularaxis\":{\"gridcolor\":\"white\",\"linecolor\":\"white\",\"ticks\":\"\"},\"bgcolor\":\"#E5ECF6\",\"radialaxis\":{\"gridcolor\":\"white\",\"linecolor\":\"white\",\"ticks\":\"\"}},\"scene\":{\"xaxis\":{\"backgroundcolor\":\"#E5ECF6\",\"gridcolor\":\"white\",\"gridwidth\":2,\"linecolor\":\"white\",\"showbackground\":true,\"ticks\":\"\",\"zerolinecolor\":\"white\"},\"yaxis\":{\"backgroundcolor\":\"#E5ECF6\",\"gridcolor\":\"white\",\"gridwidth\":2,\"linecolor\":\"white\",\"showbackground\":true,\"ticks\":\"\",\"zerolinecolor\":\"white\"},\"zaxis\":{\"backgroundcolor\":\"#E5ECF6\",\"gridcolor\":\"white\",\"gridwidth\":2,\"linecolor\":\"white\",\"showbackground\":true,\"ticks\":\"\",\"zerolinecolor\":\"white\"}},\"shapedefaults\":{\"line\":{\"color\":\"#2a3f5f\"}},\"ternary\":{\"aaxis\":{\"gridcolor\":\"white\",\"linecolor\":\"white\",\"ticks\":\"\"},\"baxis\":{\"gridcolor\":\"white\",\"linecolor\":\"white\",\"ticks\":\"\"},\"bgcolor\":\"#E5ECF6\",\"caxis\":{\"gridcolor\":\"white\",\"linecolor\":\"white\",\"ticks\":\"\"}},\"title\":{\"x\":0.05},\"xaxis\":{\"automargin\":true,\"gridcolor\":\"white\",\"linecolor\":\"white\",\"ticks\":\"\",\"title\":{\"standoff\":15},\"zerolinecolor\":\"white\",\"zerolinewidth\":2},\"yaxis\":{\"automargin\":true,\"gridcolor\":\"white\",\"linecolor\":\"white\",\"ticks\":\"\",\"title\":{\"standoff\":15},\"zerolinecolor\":\"white\",\"zerolinewidth\":2}}},\"title\":{\"text\":\"2D t-SNE Transformation with PCA 2 dimensions\",\"x\":0.5},\"xaxis\":{\"anchor\":\"y\",\"domain\":[0.0,1.0],\"title\":{\"text\":\"PC1\"}},\"yaxis\":{\"anchor\":\"x\",\"domain\":[0.0,1.0],\"title\":{\"text\":\"PC2\"}}},                        {\"responsive\": true}                    ).then(function(){\n",
       "                            \n",
       "var gd = document.getElementById('a92a0d31-b390-4595-a3a8-59563dbd7658');\n",
       "var x = new MutationObserver(function (mutations, observer) {{\n",
       "        var display = window.getComputedStyle(gd).display;\n",
       "        if (!display || display === 'none') {{\n",
       "            console.log([gd, 'removed!']);\n",
       "            Plotly.purge(gd);\n",
       "            observer.disconnect();\n",
       "        }}\n",
       "}});\n",
       "\n",
       "// Listen for the removal of the full notebook cells\n",
       "var notebookContainer = gd.closest('#notebook-container');\n",
       "if (notebookContainer) {{\n",
       "    x.observe(notebookContainer, {childList: true});\n",
       "}}\n",
       "\n",
       "// Listen for the clearing of the current output cell\n",
       "var outputEl = gd.closest('.output');\n",
       "if (outputEl) {{\n",
       "    x.observe(outputEl, {childList: true});\n",
       "}}\n",
       "\n",
       "                        })                };                });            </script>        </div>"
      ]
     },
     "metadata": {},
     "output_type": "display_data"
    },
    {
     "name": "stdout",
     "output_type": "stream",
     "text": [
      "[t-SNE] Computing 121 nearest neighbors...\n",
      "[t-SNE] Indexed 157 samples in 0.000s...\n",
      "[t-SNE] Computed neighbors for 157 samples in 0.005s...\n",
      "[t-SNE] Computed conditional probabilities for sample 157 / 157\n",
      "[t-SNE] Mean sigma: 2.647569\n",
      "[t-SNE] KL divergence after 250 iterations with early exaggeration: 53.173691\n",
      "[t-SNE] KL divergence after 500 iterations: 0.184892\n"
     ]
    },
    {
     "data": {
      "application/vnd.plotly.v1+json": {
       "config": {
        "plotlyServerURL": "https://plot.ly"
       },
       "data": [
        {
         "hovertemplate": "PC1=%{x}<br>PC2=%{y}<br>COUNTRY=%{text}<extra></extra>",
         "legendgroup": "",
         "marker": {
          "color": "#636efa",
          "symbol": "circle"
         },
         "mode": "markers+text",
         "name": "",
         "orientation": "v",
         "showlegend": false,
         "text": [
          "Afghanistan",
          "Albania",
          "Algeria",
          "Angola",
          "Argentina",
          "Armenia",
          "Australia",
          "Austria",
          "Azerbaijan",
          "Bahrain",
          "Bangladesh",
          "Barbados",
          "Belarus",
          "Belgium",
          "Belize",
          "Benin",
          "Bhutan",
          "Bolivia",
          "Bosnia and Herzegovina",
          "Botswana",
          "Brazil",
          "Bulgaria",
          "Burkina Faso",
          "Burundi",
          "Cambodia",
          "Cameroon",
          "Canada",
          "Central African Republic",
          "Chad",
          "Chile",
          "China",
          "Colombia",
          "Comoros",
          "Democratic Republic of the Congo",
          "Costa Rica",
          "Croatia",
          "Cuba",
          "Cyprus",
          "Czech Republic",
          "Denmark",
          "Dominican Republic",
          "Ecuador",
          "Egypt",
          "El Salvador",
          "Estonia",
          "Ethiopia",
          "Fiji",
          "Finland",
          "France",
          "Gabon",
          "Georgia",
          "Germany",
          "Ghana",
          "Greece",
          "Guatemala",
          "Guinea",
          "Guinea Bissau",
          "Guyana",
          "Haiti",
          "Honduras",
          "Hungary",
          "Iceland",
          "India",
          "Indonesia",
          "Iran",
          "Iraq",
          "Ireland",
          "Israel",
          "Italy",
          "Jamaica",
          "Japan",
          "Jordan",
          "Kazakhstan",
          "Kenya",
          "Kuwait",
          "Kyrgyzstan",
          "Laos",
          "Latvia",
          "Lebanon",
          "Lesotho",
          "Liberia",
          "Libya",
          "Lithuania",
          "Luxembourg",
          "Madagascar",
          "Malawi",
          "Malaysia",
          "Mali",
          "Malta",
          "Mauritania",
          "Mauritius",
          "Mexico",
          "Moldova",
          "Mongolia",
          "Montenegro",
          "Morocco",
          "Mozambique",
          "Myanmar",
          "Namibia",
          "Nepal",
          "Netherlands",
          "New Zealand",
          "Nicaragua",
          "Niger",
          "Nigeria",
          "North Macedonia",
          "Norway",
          "Oman",
          "Pakistan",
          "Panama",
          "Papua New Guinea",
          "Paraguay",
          "Peru",
          "Philippines",
          "Poland",
          "Portugal",
          "Qatar",
          "Romania",
          "Russia",
          "Rwanda",
          "Saudi Arabia",
          "Senegal",
          "Serbia",
          "Seychelles",
          "Sierra Leone",
          "Singapore",
          "Slovakia",
          "Slovenia",
          "South Africa",
          "South Korea",
          "Spain",
          "Sri Lanka",
          "Sudan",
          "Suriname",
          "Sweden",
          "Switzerland",
          "Syria",
          "Tajikistan",
          "Tanzania",
          "Thailand",
          "Togo",
          "Trinidad and Tobago",
          "Tunisia",
          "Turkey",
          "Turkmenistan",
          "Uganda",
          "Ukraine",
          "United Arab Emirates",
          "United Kingdom",
          "United States",
          "Uruguay",
          "Uzbekistan",
          "Venezuela",
          "Vietnam",
          "Yemen",
          "Zambia",
          "Zimbabwe"
         ],
         "textposition": "top center",
         "type": "scatter",
         "x": [
          -5.639570236206055,
          1.1782903671264648,
          -3.4103968143463135,
          -4.252347469329834,
          3.048576831817627,
          1.5039337873458862,
          7.264654636383057,
          5.948627471923828,
          -2.2790820598602295,
          -2.459094285964966,
          -3.640043258666992,
          2.5234155654907227,
          2.773205041885376,
          6.317690849304199,
          1.4239914417266846,
          -4.832481861114502,
          -1.954992651939392,
          -0.012071128934621811,
          1.0720220804214478,
          -0.15901029109954834,
          2.235746145248413,
          3.3096444606781006,
          -5.569563388824463,
          -4.8900465965271,
          -2.159684896469116,
          -4.467501163482666,
          6.689362525939941,
          -5.653848171234131,
          -5.925981044769287,
          3.8171379566192627,
          0.02755625545978546,
          1.7398908138275146,
          -5.279999732971191,
          -5.495842933654785,
          2.1446619033813477,
          3.2927353382110596,
          2.60040283203125,
          4.351210117340088,
          5.121049404144287,
          7.187675952911377,
          0.6576343178749084,
          0.5774019956588745,
          -4.308997631072998,
          1.5259391069412231,
          5.011806964874268,
          -4.793506145477295,
          0.41024285554885864,
          6.541218280792236,
          6.292669296264648,
          -1.6901341676712036,
          2.042245388031006,
          6.295571327209473,
          -3.4929542541503906,
          4.078813552856445,
          -0.9539193511009216,
          -5.785459995269775,
          -4.966792106628418,
          -0.4127887785434723,
          -3.1179568767547607,
          1.1722753047943115,
          4.446005344390869,
          7.307302951812744,
          -2.7156550884246826,
          -3.203275442123413,
          -2.7691471576690674,
          -3.959862232208252,
          7.5971574783325195,
          7.022732257843018,
          5.039792060852051,
          2.1238718032836914,
          5.077655792236328,
          -3.2662012577056885,
          0.7313870191574097,
          -3.5514302253723145,
          -3.9206817150115967,
          -1.473825454711914,
          -2.254539966583252,
          4.2531304359436035,
          -1.843403697013855,
          -2.4052634239196777,
          -4.103423118591309,
          -3.885436534881592,
          4.806417465209961,
          7.979185581207275,
          -3.8909409046173096,
          -4.1590046882629395,
          -2.3953351974487305,
          -6.028253078460693,
          4.922256946563721,
          -5.590834617614746,
          0.06560483574867249,
          1.8417097330093384,
          2.2338476181030273,
          -0.7160558700561523,
          2.7975704669952393,
          -3.040473222732544,
          -4.584136486053467,
          -2.2327795028686523,
          0.29092809557914734,
          -2.298189640045166,
          6.733664035797119,
          6.831064224243164,
          -0.03746503219008446,
          -6.214597702026367,
          -6.0525898933410645,
          1.4856678247451782,
          7.254567623138428,
          -3.7290875911712646,
          -5.41520357131958,
          1.329094409942627,
          -2.78338360786438,
          0.7879328727722168,
          0.6294140815734863,
          -0.33507558703422546,
          4.304548263549805,
          4.931103229522705,
          -3.731898069381714,
          3.2780933380126953,
          3.5670645236968994,
          -2.80338716506958,
          -3.734311819076538,
          -5.022350788116455,
          2.997429370880127,
          1.1525874137878418,
          -5.225132942199707,
          5.6165971755981445,
          3.9831771850585938,
          5.510702133178711,
          1.1156362295150757,
          5.240121841430664,
          5.598907947540283,
          -1.7239220142364502,
          -5.492677211761475,
          0.6441443562507629,
          6.640412330627441,
          7.713380336761475,
          -5.495332717895508,
          -3.6550416946411133,
          -4.1139302253723145,
          -0.8778167366981506,
          -4.69058084487915,
          1.7745850086212158,
          -2.3470747470855713,
          -1.8590012788772583,
          -2.3955137729644775,
          -3.8782646656036377,
          2.5190436840057373,
          -3.624337911605835,
          6.781486511230469,
          8.077984809875488,
          3.8518338203430176,
          -2.926015615463257,
          1.1994744539260864,
          -1.2941882610321045,
          -5.716856956481934,
          -3.9698970317840576,
          -3.443922281265259
         ],
         "xaxis": "x",
         "y": [
          -3.613284111022949,
          1.2271747589111328,
          1.2791228294372559,
          -5.755037307739258,
          0.046489182859659195,
          0.8039578199386597,
          3.1425833702087402,
          3.4934093952178955,
          0.8948882222175598,
          2.7915565967559814,
          -0.19463303685188293,
          -2.1752686500549316,
          0.6958489418029785,
          3.280832052230835,
          -4.177850246429443,
          -5.208798408508301,
          -1.3915075063705444,
          -3.8617517948150635,
          1.0825066566467285,
          -4.683914661407471,
          -3.1704294681549072,
          1.3317829370498657,
          -4.720190525054932,
          -5.626638412475586,
          -1.7360053062438965,
          -5.581985950469971,
          3.7736988067626953,
          -6.3922834396362305,
          -5.07841157913208,
          1.3911164999008179,
          0.5362647175788879,
          -3.839817523956299,
          -3.441488265991211,
          -5.718367099761963,
          -2.822788715362549,
          1.6165682077407837,
          -1.018552541732788,
          3.760190725326538,
          2.49059796333313,
          4.408378601074219,
          -3.6947593688964844,
          -3.088393211364746,
          0.7292385101318359,
          -4.52078104019165,
          2.108264684677124,
          -4.95466947555542,
          -3.363201141357422,
          4.323272705078125,
          3.585540533065796,
          -4.642166614532471,
          1.4310210943222046,
          3.725931406021118,
          -4.987236022949219,
          2.371969699859619,
          -4.326737403869629,
          -4.146944046020508,
          -4.6299214363098145,
          -4.892335891723633,
          -5.1333417892456055,
          -5.324237823486328,
          2.2090110778808594,
          4.073746681213379,
          -0.9704505801200867,
          0.31416261196136475,
          1.7319450378417969,
          1.2304271459579468,
          3.5668435096740723,
          2.6112239360809326,
          2.907735586166382,
          -4.216498374938965,
          4.354240417480469,
          1.7388570308685303,
          1.0912706851959229,
          -5.092660427093506,
          2.850618600845337,
          0.3872250020503998,
          -1.6674124002456665,
          1.4524950981140137,
          1.5608980655670166,
          -6.758552551269531,
          -3.9576375484466553,
          1.132009744644165,
          1.6581206321716309,
          4.046836853027344,
          -4.727518558502197,
          -5.156029224395752,
          1.7070790529251099,
          -4.143818378448486,
          3.60770583152771,
          -3.225698471069336,
          -0.7544007301330566,
          -3.2353947162628174,
          1.196452260017395,
          -0.7679376006126404,
          0.8912178874015808,
          1.1082943677902222,
          -6.030667304992676,
          -1.7240047454833984,
          -4.934051990509033,
          -1.3287121057510376,
          3.9651200771331787,
          3.2213661670684814,
          -3.637032985687256,
          -4.465827941894531,
          -6.050300121307373,
          0.8174532055854797,
          4.3298797607421875,
          2.2334392070770264,
          -2.0282976627349854,
          -2.62272572517395,
          -4.740966796875,
          -2.9551985263824463,
          -2.683468818664551,
          -3.352864980697632,
          2.071688413619995,
          2.5669503211975098,
          3.1165945529937744,
          1.9816428422927856,
          1.1784955263137817,
          -5.490336894989014,
          2.349562644958496,
          -3.8356449604034424,
          1.0980957746505737,
          -2.877431631088257,
          -4.345642566680908,
          4.98418664932251,
          2.1085686683654785,
          2.729985475540161,
          -4.475874900817871,
          4.205746173858643,
          3.164109706878662,
          -1.1343700885772705,
          -2.533073663711548,
          -3.348217248916626,
          4.494128704071045,
          4.061460494995117,
          -0.40695512294769287,
          -0.45569106936454773,
          -5.201436519622803,
          -0.8248380422592163,
          -5.038504123687744,
          -2.8583381175994873,
          1.4563010931015015,
          1.8357466459274292,
          0.30219337344169617,
          -5.526585578918457,
          1.0923504829406738,
          2.9963696002960205,
          3.2998948097229004,
          2.9301531314849854,
          0.26997247338294983,
          0.2604510188102722,
          -4.7008795738220215,
          -0.6856975555419922,
          -2.2707951068878174,
          -6.155097007751465,
          -6.015608787536621
         ],
         "yaxis": "y"
        }
       ],
       "layout": {
        "legend": {
         "tracegroupgap": 0
        },
        "margin": {
         "t": 60
        },
        "template": {
         "data": {
          "bar": [
           {
            "error_x": {
             "color": "#2a3f5f"
            },
            "error_y": {
             "color": "#2a3f5f"
            },
            "marker": {
             "line": {
              "color": "#E5ECF6",
              "width": 0.5
             },
             "pattern": {
              "fillmode": "overlay",
              "size": 10,
              "solidity": 0.2
             }
            },
            "type": "bar"
           }
          ],
          "barpolar": [
           {
            "marker": {
             "line": {
              "color": "#E5ECF6",
              "width": 0.5
             },
             "pattern": {
              "fillmode": "overlay",
              "size": 10,
              "solidity": 0.2
             }
            },
            "type": "barpolar"
           }
          ],
          "carpet": [
           {
            "aaxis": {
             "endlinecolor": "#2a3f5f",
             "gridcolor": "white",
             "linecolor": "white",
             "minorgridcolor": "white",
             "startlinecolor": "#2a3f5f"
            },
            "baxis": {
             "endlinecolor": "#2a3f5f",
             "gridcolor": "white",
             "linecolor": "white",
             "minorgridcolor": "white",
             "startlinecolor": "#2a3f5f"
            },
            "type": "carpet"
           }
          ],
          "choropleth": [
           {
            "colorbar": {
             "outlinewidth": 0,
             "ticks": ""
            },
            "type": "choropleth"
           }
          ],
          "contour": [
           {
            "colorbar": {
             "outlinewidth": 0,
             "ticks": ""
            },
            "colorscale": [
             [
              0,
              "#0d0887"
             ],
             [
              0.1111111111111111,
              "#46039f"
             ],
             [
              0.2222222222222222,
              "#7201a8"
             ],
             [
              0.3333333333333333,
              "#9c179e"
             ],
             [
              0.4444444444444444,
              "#bd3786"
             ],
             [
              0.5555555555555556,
              "#d8576b"
             ],
             [
              0.6666666666666666,
              "#ed7953"
             ],
             [
              0.7777777777777778,
              "#fb9f3a"
             ],
             [
              0.8888888888888888,
              "#fdca26"
             ],
             [
              1,
              "#f0f921"
             ]
            ],
            "type": "contour"
           }
          ],
          "contourcarpet": [
           {
            "colorbar": {
             "outlinewidth": 0,
             "ticks": ""
            },
            "type": "contourcarpet"
           }
          ],
          "heatmap": [
           {
            "colorbar": {
             "outlinewidth": 0,
             "ticks": ""
            },
            "colorscale": [
             [
              0,
              "#0d0887"
             ],
             [
              0.1111111111111111,
              "#46039f"
             ],
             [
              0.2222222222222222,
              "#7201a8"
             ],
             [
              0.3333333333333333,
              "#9c179e"
             ],
             [
              0.4444444444444444,
              "#bd3786"
             ],
             [
              0.5555555555555556,
              "#d8576b"
             ],
             [
              0.6666666666666666,
              "#ed7953"
             ],
             [
              0.7777777777777778,
              "#fb9f3a"
             ],
             [
              0.8888888888888888,
              "#fdca26"
             ],
             [
              1,
              "#f0f921"
             ]
            ],
            "type": "heatmap"
           }
          ],
          "heatmapgl": [
           {
            "colorbar": {
             "outlinewidth": 0,
             "ticks": ""
            },
            "colorscale": [
             [
              0,
              "#0d0887"
             ],
             [
              0.1111111111111111,
              "#46039f"
             ],
             [
              0.2222222222222222,
              "#7201a8"
             ],
             [
              0.3333333333333333,
              "#9c179e"
             ],
             [
              0.4444444444444444,
              "#bd3786"
             ],
             [
              0.5555555555555556,
              "#d8576b"
             ],
             [
              0.6666666666666666,
              "#ed7953"
             ],
             [
              0.7777777777777778,
              "#fb9f3a"
             ],
             [
              0.8888888888888888,
              "#fdca26"
             ],
             [
              1,
              "#f0f921"
             ]
            ],
            "type": "heatmapgl"
           }
          ],
          "histogram": [
           {
            "marker": {
             "pattern": {
              "fillmode": "overlay",
              "size": 10,
              "solidity": 0.2
             }
            },
            "type": "histogram"
           }
          ],
          "histogram2d": [
           {
            "colorbar": {
             "outlinewidth": 0,
             "ticks": ""
            },
            "colorscale": [
             [
              0,
              "#0d0887"
             ],
             [
              0.1111111111111111,
              "#46039f"
             ],
             [
              0.2222222222222222,
              "#7201a8"
             ],
             [
              0.3333333333333333,
              "#9c179e"
             ],
             [
              0.4444444444444444,
              "#bd3786"
             ],
             [
              0.5555555555555556,
              "#d8576b"
             ],
             [
              0.6666666666666666,
              "#ed7953"
             ],
             [
              0.7777777777777778,
              "#fb9f3a"
             ],
             [
              0.8888888888888888,
              "#fdca26"
             ],
             [
              1,
              "#f0f921"
             ]
            ],
            "type": "histogram2d"
           }
          ],
          "histogram2dcontour": [
           {
            "colorbar": {
             "outlinewidth": 0,
             "ticks": ""
            },
            "colorscale": [
             [
              0,
              "#0d0887"
             ],
             [
              0.1111111111111111,
              "#46039f"
             ],
             [
              0.2222222222222222,
              "#7201a8"
             ],
             [
              0.3333333333333333,
              "#9c179e"
             ],
             [
              0.4444444444444444,
              "#bd3786"
             ],
             [
              0.5555555555555556,
              "#d8576b"
             ],
             [
              0.6666666666666666,
              "#ed7953"
             ],
             [
              0.7777777777777778,
              "#fb9f3a"
             ],
             [
              0.8888888888888888,
              "#fdca26"
             ],
             [
              1,
              "#f0f921"
             ]
            ],
            "type": "histogram2dcontour"
           }
          ],
          "mesh3d": [
           {
            "colorbar": {
             "outlinewidth": 0,
             "ticks": ""
            },
            "type": "mesh3d"
           }
          ],
          "parcoords": [
           {
            "line": {
             "colorbar": {
              "outlinewidth": 0,
              "ticks": ""
             }
            },
            "type": "parcoords"
           }
          ],
          "pie": [
           {
            "automargin": true,
            "type": "pie"
           }
          ],
          "scatter": [
           {
            "marker": {
             "colorbar": {
              "outlinewidth": 0,
              "ticks": ""
             }
            },
            "type": "scatter"
           }
          ],
          "scatter3d": [
           {
            "line": {
             "colorbar": {
              "outlinewidth": 0,
              "ticks": ""
             }
            },
            "marker": {
             "colorbar": {
              "outlinewidth": 0,
              "ticks": ""
             }
            },
            "type": "scatter3d"
           }
          ],
          "scattercarpet": [
           {
            "marker": {
             "colorbar": {
              "outlinewidth": 0,
              "ticks": ""
             }
            },
            "type": "scattercarpet"
           }
          ],
          "scattergeo": [
           {
            "marker": {
             "colorbar": {
              "outlinewidth": 0,
              "ticks": ""
             }
            },
            "type": "scattergeo"
           }
          ],
          "scattergl": [
           {
            "marker": {
             "colorbar": {
              "outlinewidth": 0,
              "ticks": ""
             }
            },
            "type": "scattergl"
           }
          ],
          "scattermapbox": [
           {
            "marker": {
             "colorbar": {
              "outlinewidth": 0,
              "ticks": ""
             }
            },
            "type": "scattermapbox"
           }
          ],
          "scatterpolar": [
           {
            "marker": {
             "colorbar": {
              "outlinewidth": 0,
              "ticks": ""
             }
            },
            "type": "scatterpolar"
           }
          ],
          "scatterpolargl": [
           {
            "marker": {
             "colorbar": {
              "outlinewidth": 0,
              "ticks": ""
             }
            },
            "type": "scatterpolargl"
           }
          ],
          "scatterternary": [
           {
            "marker": {
             "colorbar": {
              "outlinewidth": 0,
              "ticks": ""
             }
            },
            "type": "scatterternary"
           }
          ],
          "surface": [
           {
            "colorbar": {
             "outlinewidth": 0,
             "ticks": ""
            },
            "colorscale": [
             [
              0,
              "#0d0887"
             ],
             [
              0.1111111111111111,
              "#46039f"
             ],
             [
              0.2222222222222222,
              "#7201a8"
             ],
             [
              0.3333333333333333,
              "#9c179e"
             ],
             [
              0.4444444444444444,
              "#bd3786"
             ],
             [
              0.5555555555555556,
              "#d8576b"
             ],
             [
              0.6666666666666666,
              "#ed7953"
             ],
             [
              0.7777777777777778,
              "#fb9f3a"
             ],
             [
              0.8888888888888888,
              "#fdca26"
             ],
             [
              1,
              "#f0f921"
             ]
            ],
            "type": "surface"
           }
          ],
          "table": [
           {
            "cells": {
             "fill": {
              "color": "#EBF0F8"
             },
             "line": {
              "color": "white"
             }
            },
            "header": {
             "fill": {
              "color": "#C8D4E3"
             },
             "line": {
              "color": "white"
             }
            },
            "type": "table"
           }
          ]
         },
         "layout": {
          "annotationdefaults": {
           "arrowcolor": "#2a3f5f",
           "arrowhead": 0,
           "arrowwidth": 1
          },
          "autotypenumbers": "strict",
          "coloraxis": {
           "colorbar": {
            "outlinewidth": 0,
            "ticks": ""
           }
          },
          "colorscale": {
           "diverging": [
            [
             0,
             "#8e0152"
            ],
            [
             0.1,
             "#c51b7d"
            ],
            [
             0.2,
             "#de77ae"
            ],
            [
             0.3,
             "#f1b6da"
            ],
            [
             0.4,
             "#fde0ef"
            ],
            [
             0.5,
             "#f7f7f7"
            ],
            [
             0.6,
             "#e6f5d0"
            ],
            [
             0.7,
             "#b8e186"
            ],
            [
             0.8,
             "#7fbc41"
            ],
            [
             0.9,
             "#4d9221"
            ],
            [
             1,
             "#276419"
            ]
           ],
           "sequential": [
            [
             0,
             "#0d0887"
            ],
            [
             0.1111111111111111,
             "#46039f"
            ],
            [
             0.2222222222222222,
             "#7201a8"
            ],
            [
             0.3333333333333333,
             "#9c179e"
            ],
            [
             0.4444444444444444,
             "#bd3786"
            ],
            [
             0.5555555555555556,
             "#d8576b"
            ],
            [
             0.6666666666666666,
             "#ed7953"
            ],
            [
             0.7777777777777778,
             "#fb9f3a"
            ],
            [
             0.8888888888888888,
             "#fdca26"
            ],
            [
             1,
             "#f0f921"
            ]
           ],
           "sequentialminus": [
            [
             0,
             "#0d0887"
            ],
            [
             0.1111111111111111,
             "#46039f"
            ],
            [
             0.2222222222222222,
             "#7201a8"
            ],
            [
             0.3333333333333333,
             "#9c179e"
            ],
            [
             0.4444444444444444,
             "#bd3786"
            ],
            [
             0.5555555555555556,
             "#d8576b"
            ],
            [
             0.6666666666666666,
             "#ed7953"
            ],
            [
             0.7777777777777778,
             "#fb9f3a"
            ],
            [
             0.8888888888888888,
             "#fdca26"
            ],
            [
             1,
             "#f0f921"
            ]
           ]
          },
          "colorway": [
           "#636efa",
           "#EF553B",
           "#00cc96",
           "#ab63fa",
           "#FFA15A",
           "#19d3f3",
           "#FF6692",
           "#B6E880",
           "#FF97FF",
           "#FECB52"
          ],
          "font": {
           "color": "#2a3f5f"
          },
          "geo": {
           "bgcolor": "white",
           "lakecolor": "white",
           "landcolor": "#E5ECF6",
           "showlakes": true,
           "showland": true,
           "subunitcolor": "white"
          },
          "hoverlabel": {
           "align": "left"
          },
          "hovermode": "closest",
          "mapbox": {
           "style": "light"
          },
          "paper_bgcolor": "white",
          "plot_bgcolor": "#E5ECF6",
          "polar": {
           "angularaxis": {
            "gridcolor": "white",
            "linecolor": "white",
            "ticks": ""
           },
           "bgcolor": "#E5ECF6",
           "radialaxis": {
            "gridcolor": "white",
            "linecolor": "white",
            "ticks": ""
           }
          },
          "scene": {
           "xaxis": {
            "backgroundcolor": "#E5ECF6",
            "gridcolor": "white",
            "gridwidth": 2,
            "linecolor": "white",
            "showbackground": true,
            "ticks": "",
            "zerolinecolor": "white"
           },
           "yaxis": {
            "backgroundcolor": "#E5ECF6",
            "gridcolor": "white",
            "gridwidth": 2,
            "linecolor": "white",
            "showbackground": true,
            "ticks": "",
            "zerolinecolor": "white"
           },
           "zaxis": {
            "backgroundcolor": "#E5ECF6",
            "gridcolor": "white",
            "gridwidth": 2,
            "linecolor": "white",
            "showbackground": true,
            "ticks": "",
            "zerolinecolor": "white"
           }
          },
          "shapedefaults": {
           "line": {
            "color": "#2a3f5f"
           }
          },
          "ternary": {
           "aaxis": {
            "gridcolor": "white",
            "linecolor": "white",
            "ticks": ""
           },
           "baxis": {
            "gridcolor": "white",
            "linecolor": "white",
            "ticks": ""
           },
           "bgcolor": "#E5ECF6",
           "caxis": {
            "gridcolor": "white",
            "linecolor": "white",
            "ticks": ""
           }
          },
          "title": {
           "x": 0.05
          },
          "xaxis": {
           "automargin": true,
           "gridcolor": "white",
           "linecolor": "white",
           "ticks": "",
           "title": {
            "standoff": 15
           },
           "zerolinecolor": "white",
           "zerolinewidth": 2
          },
          "yaxis": {
           "automargin": true,
           "gridcolor": "white",
           "linecolor": "white",
           "ticks": "",
           "title": {
            "standoff": 15
           },
           "zerolinecolor": "white",
           "zerolinewidth": 2
          }
         }
        },
        "title": {
         "text": "2D t-SNE Transformation with PCA 5 dimensions",
         "x": 0.5
        },
        "xaxis": {
         "anchor": "y",
         "domain": [
          0,
          1
         ],
         "title": {
          "text": "PC1"
         }
        },
        "yaxis": {
         "anchor": "x",
         "domain": [
          0,
          1
         ],
         "title": {
          "text": "PC2"
         }
        }
       }
      },
      "text/html": [
       "<div>                            <div id=\"43cde6f0-2064-458c-8c5a-ce24bbf1c026\" class=\"plotly-graph-div\" style=\"height:525px; width:100%;\"></div>            <script type=\"text/javascript\">                require([\"plotly\"], function(Plotly) {                    window.PLOTLYENV=window.PLOTLYENV || {};                                    if (document.getElementById(\"43cde6f0-2064-458c-8c5a-ce24bbf1c026\")) {                    Plotly.newPlot(                        \"43cde6f0-2064-458c-8c5a-ce24bbf1c026\",                        [{\"hovertemplate\":\"PC1=%{x}<br>PC2=%{y}<br>COUNTRY=%{text}<extra></extra>\",\"legendgroup\":\"\",\"marker\":{\"color\":\"#636efa\",\"symbol\":\"circle\"},\"mode\":\"markers+text\",\"name\":\"\",\"orientation\":\"v\",\"showlegend\":false,\"text\":[\"Afghanistan\",\"Albania\",\"Algeria\",\"Angola\",\"Argentina\",\"Armenia\",\"Australia\",\"Austria\",\"Azerbaijan\",\"Bahrain\",\"Bangladesh\",\"Barbados\",\"Belarus\",\"Belgium\",\"Belize\",\"Benin\",\"Bhutan\",\"Bolivia\",\"Bosnia and Herzegovina\",\"Botswana\",\"Brazil\",\"Bulgaria\",\"Burkina Faso\",\"Burundi\",\"Cambodia\",\"Cameroon\",\"Canada\",\"Central African Republic\",\"Chad\",\"Chile\",\"China\",\"Colombia\",\"Comoros\",\"Democratic Republic of the Congo\",\"Costa Rica\",\"Croatia\",\"Cuba\",\"Cyprus\",\"Czech Republic\",\"Denmark\",\"Dominican Republic\",\"Ecuador\",\"Egypt\",\"El Salvador\",\"Estonia\",\"Ethiopia\",\"Fiji\",\"Finland\",\"France\",\"Gabon\",\"Georgia\",\"Germany\",\"Ghana\",\"Greece\",\"Guatemala\",\"Guinea\",\"Guinea Bissau\",\"Guyana\",\"Haiti\",\"Honduras\",\"Hungary\",\"Iceland\",\"India\",\"Indonesia\",\"Iran\",\"Iraq\",\"Ireland\",\"Israel\",\"Italy\",\"Jamaica\",\"Japan\",\"Jordan\",\"Kazakhstan\",\"Kenya\",\"Kuwait\",\"Kyrgyzstan\",\"Laos\",\"Latvia\",\"Lebanon\",\"Lesotho\",\"Liberia\",\"Libya\",\"Lithuania\",\"Luxembourg\",\"Madagascar\",\"Malawi\",\"Malaysia\",\"Mali\",\"Malta\",\"Mauritania\",\"Mauritius\",\"Mexico\",\"Moldova\",\"Mongolia\",\"Montenegro\",\"Morocco\",\"Mozambique\",\"Myanmar\",\"Namibia\",\"Nepal\",\"Netherlands\",\"New Zealand\",\"Nicaragua\",\"Niger\",\"Nigeria\",\"North Macedonia\",\"Norway\",\"Oman\",\"Pakistan\",\"Panama\",\"Papua New Guinea\",\"Paraguay\",\"Peru\",\"Philippines\",\"Poland\",\"Portugal\",\"Qatar\",\"Romania\",\"Russia\",\"Rwanda\",\"Saudi Arabia\",\"Senegal\",\"Serbia\",\"Seychelles\",\"Sierra Leone\",\"Singapore\",\"Slovakia\",\"Slovenia\",\"South Africa\",\"South Korea\",\"Spain\",\"Sri Lanka\",\"Sudan\",\"Suriname\",\"Sweden\",\"Switzerland\",\"Syria\",\"Tajikistan\",\"Tanzania\",\"Thailand\",\"Togo\",\"Trinidad and Tobago\",\"Tunisia\",\"Turkey\",\"Turkmenistan\",\"Uganda\",\"Ukraine\",\"United Arab Emirates\",\"United Kingdom\",\"United States\",\"Uruguay\",\"Uzbekistan\",\"Venezuela\",\"Vietnam\",\"Yemen\",\"Zambia\",\"Zimbabwe\"],\"textposition\":\"top center\",\"type\":\"scatter\",\"x\":[-5.639570236206055,1.1782903671264648,-3.4103968143463135,-4.252347469329834,3.048576831817627,1.5039337873458862,7.264654636383057,5.948627471923828,-2.2790820598602295,-2.459094285964966,-3.640043258666992,2.5234155654907227,2.773205041885376,6.317690849304199,1.4239914417266846,-4.832481861114502,-1.954992651939392,-0.012071128934621811,1.0720220804214478,-0.15901029109954834,2.235746145248413,3.3096444606781006,-5.569563388824463,-4.8900465965271,-2.159684896469116,-4.467501163482666,6.689362525939941,-5.653848171234131,-5.925981044769287,3.8171379566192627,0.02755625545978546,1.7398908138275146,-5.279999732971191,-5.495842933654785,2.1446619033813477,3.2927353382110596,2.60040283203125,4.351210117340088,5.121049404144287,7.187675952911377,0.6576343178749084,0.5774019956588745,-4.308997631072998,1.5259391069412231,5.011806964874268,-4.793506145477295,0.41024285554885864,6.541218280792236,6.292669296264648,-1.6901341676712036,2.042245388031006,6.295571327209473,-3.4929542541503906,4.078813552856445,-0.9539193511009216,-5.785459995269775,-4.966792106628418,-0.4127887785434723,-3.1179568767547607,1.1722753047943115,4.446005344390869,7.307302951812744,-2.7156550884246826,-3.203275442123413,-2.7691471576690674,-3.959862232208252,7.5971574783325195,7.022732257843018,5.039792060852051,2.1238718032836914,5.077655792236328,-3.2662012577056885,0.7313870191574097,-3.5514302253723145,-3.9206817150115967,-1.473825454711914,-2.254539966583252,4.2531304359436035,-1.843403697013855,-2.4052634239196777,-4.103423118591309,-3.885436534881592,4.806417465209961,7.979185581207275,-3.8909409046173096,-4.1590046882629395,-2.3953351974487305,-6.028253078460693,4.922256946563721,-5.590834617614746,0.06560483574867249,1.8417097330093384,2.2338476181030273,-0.7160558700561523,2.7975704669952393,-3.040473222732544,-4.584136486053467,-2.2327795028686523,0.29092809557914734,-2.298189640045166,6.733664035797119,6.831064224243164,-0.03746503219008446,-6.214597702026367,-6.0525898933410645,1.4856678247451782,7.254567623138428,-3.7290875911712646,-5.41520357131958,1.329094409942627,-2.78338360786438,0.7879328727722168,0.6294140815734863,-0.33507558703422546,4.304548263549805,4.931103229522705,-3.731898069381714,3.2780933380126953,3.5670645236968994,-2.80338716506958,-3.734311819076538,-5.022350788116455,2.997429370880127,1.1525874137878418,-5.225132942199707,5.6165971755981445,3.9831771850585938,5.510702133178711,1.1156362295150757,5.240121841430664,5.598907947540283,-1.7239220142364502,-5.492677211761475,0.6441443562507629,6.640412330627441,7.713380336761475,-5.495332717895508,-3.6550416946411133,-4.1139302253723145,-0.8778167366981506,-4.69058084487915,1.7745850086212158,-2.3470747470855713,-1.8590012788772583,-2.3955137729644775,-3.8782646656036377,2.5190436840057373,-3.624337911605835,6.781486511230469,8.077984809875488,3.8518338203430176,-2.926015615463257,1.1994744539260864,-1.2941882610321045,-5.716856956481934,-3.9698970317840576,-3.443922281265259],\"xaxis\":\"x\",\"y\":[-3.613284111022949,1.2271747589111328,1.2791228294372559,-5.755037307739258,0.046489182859659195,0.8039578199386597,3.1425833702087402,3.4934093952178955,0.8948882222175598,2.7915565967559814,-0.19463303685188293,-2.1752686500549316,0.6958489418029785,3.280832052230835,-4.177850246429443,-5.208798408508301,-1.3915075063705444,-3.8617517948150635,1.0825066566467285,-4.683914661407471,-3.1704294681549072,1.3317829370498657,-4.720190525054932,-5.626638412475586,-1.7360053062438965,-5.581985950469971,3.7736988067626953,-6.3922834396362305,-5.07841157913208,1.3911164999008179,0.5362647175788879,-3.839817523956299,-3.441488265991211,-5.718367099761963,-2.822788715362549,1.6165682077407837,-1.018552541732788,3.760190725326538,2.49059796333313,4.408378601074219,-3.6947593688964844,-3.088393211364746,0.7292385101318359,-4.52078104019165,2.108264684677124,-4.95466947555542,-3.363201141357422,4.323272705078125,3.585540533065796,-4.642166614532471,1.4310210943222046,3.725931406021118,-4.987236022949219,2.371969699859619,-4.326737403869629,-4.146944046020508,-4.6299214363098145,-4.892335891723633,-5.1333417892456055,-5.324237823486328,2.2090110778808594,4.073746681213379,-0.9704505801200867,0.31416261196136475,1.7319450378417969,1.2304271459579468,3.5668435096740723,2.6112239360809326,2.907735586166382,-4.216498374938965,4.354240417480469,1.7388570308685303,1.0912706851959229,-5.092660427093506,2.850618600845337,0.3872250020503998,-1.6674124002456665,1.4524950981140137,1.5608980655670166,-6.758552551269531,-3.9576375484466553,1.132009744644165,1.6581206321716309,4.046836853027344,-4.727518558502197,-5.156029224395752,1.7070790529251099,-4.143818378448486,3.60770583152771,-3.225698471069336,-0.7544007301330566,-3.2353947162628174,1.196452260017395,-0.7679376006126404,0.8912178874015808,1.1082943677902222,-6.030667304992676,-1.7240047454833984,-4.934051990509033,-1.3287121057510376,3.9651200771331787,3.2213661670684814,-3.637032985687256,-4.465827941894531,-6.050300121307373,0.8174532055854797,4.3298797607421875,2.2334392070770264,-2.0282976627349854,-2.62272572517395,-4.740966796875,-2.9551985263824463,-2.683468818664551,-3.352864980697632,2.071688413619995,2.5669503211975098,3.1165945529937744,1.9816428422927856,1.1784955263137817,-5.490336894989014,2.349562644958496,-3.8356449604034424,1.0980957746505737,-2.877431631088257,-4.345642566680908,4.98418664932251,2.1085686683654785,2.729985475540161,-4.475874900817871,4.205746173858643,3.164109706878662,-1.1343700885772705,-2.533073663711548,-3.348217248916626,4.494128704071045,4.061460494995117,-0.40695512294769287,-0.45569106936454773,-5.201436519622803,-0.8248380422592163,-5.038504123687744,-2.8583381175994873,1.4563010931015015,1.8357466459274292,0.30219337344169617,-5.526585578918457,1.0923504829406738,2.9963696002960205,3.2998948097229004,2.9301531314849854,0.26997247338294983,0.2604510188102722,-4.7008795738220215,-0.6856975555419922,-2.2707951068878174,-6.155097007751465,-6.015608787536621],\"yaxis\":\"y\"}],                        {\"legend\":{\"tracegroupgap\":0},\"margin\":{\"t\":60},\"template\":{\"data\":{\"bar\":[{\"error_x\":{\"color\":\"#2a3f5f\"},\"error_y\":{\"color\":\"#2a3f5f\"},\"marker\":{\"line\":{\"color\":\"#E5ECF6\",\"width\":0.5},\"pattern\":{\"fillmode\":\"overlay\",\"size\":10,\"solidity\":0.2}},\"type\":\"bar\"}],\"barpolar\":[{\"marker\":{\"line\":{\"color\":\"#E5ECF6\",\"width\":0.5},\"pattern\":{\"fillmode\":\"overlay\",\"size\":10,\"solidity\":0.2}},\"type\":\"barpolar\"}],\"carpet\":[{\"aaxis\":{\"endlinecolor\":\"#2a3f5f\",\"gridcolor\":\"white\",\"linecolor\":\"white\",\"minorgridcolor\":\"white\",\"startlinecolor\":\"#2a3f5f\"},\"baxis\":{\"endlinecolor\":\"#2a3f5f\",\"gridcolor\":\"white\",\"linecolor\":\"white\",\"minorgridcolor\":\"white\",\"startlinecolor\":\"#2a3f5f\"},\"type\":\"carpet\"}],\"choropleth\":[{\"colorbar\":{\"outlinewidth\":0,\"ticks\":\"\"},\"type\":\"choropleth\"}],\"contour\":[{\"colorbar\":{\"outlinewidth\":0,\"ticks\":\"\"},\"colorscale\":[[0.0,\"#0d0887\"],[0.1111111111111111,\"#46039f\"],[0.2222222222222222,\"#7201a8\"],[0.3333333333333333,\"#9c179e\"],[0.4444444444444444,\"#bd3786\"],[0.5555555555555556,\"#d8576b\"],[0.6666666666666666,\"#ed7953\"],[0.7777777777777778,\"#fb9f3a\"],[0.8888888888888888,\"#fdca26\"],[1.0,\"#f0f921\"]],\"type\":\"contour\"}],\"contourcarpet\":[{\"colorbar\":{\"outlinewidth\":0,\"ticks\":\"\"},\"type\":\"contourcarpet\"}],\"heatmap\":[{\"colorbar\":{\"outlinewidth\":0,\"ticks\":\"\"},\"colorscale\":[[0.0,\"#0d0887\"],[0.1111111111111111,\"#46039f\"],[0.2222222222222222,\"#7201a8\"],[0.3333333333333333,\"#9c179e\"],[0.4444444444444444,\"#bd3786\"],[0.5555555555555556,\"#d8576b\"],[0.6666666666666666,\"#ed7953\"],[0.7777777777777778,\"#fb9f3a\"],[0.8888888888888888,\"#fdca26\"],[1.0,\"#f0f921\"]],\"type\":\"heatmap\"}],\"heatmapgl\":[{\"colorbar\":{\"outlinewidth\":0,\"ticks\":\"\"},\"colorscale\":[[0.0,\"#0d0887\"],[0.1111111111111111,\"#46039f\"],[0.2222222222222222,\"#7201a8\"],[0.3333333333333333,\"#9c179e\"],[0.4444444444444444,\"#bd3786\"],[0.5555555555555556,\"#d8576b\"],[0.6666666666666666,\"#ed7953\"],[0.7777777777777778,\"#fb9f3a\"],[0.8888888888888888,\"#fdca26\"],[1.0,\"#f0f921\"]],\"type\":\"heatmapgl\"}],\"histogram\":[{\"marker\":{\"pattern\":{\"fillmode\":\"overlay\",\"size\":10,\"solidity\":0.2}},\"type\":\"histogram\"}],\"histogram2d\":[{\"colorbar\":{\"outlinewidth\":0,\"ticks\":\"\"},\"colorscale\":[[0.0,\"#0d0887\"],[0.1111111111111111,\"#46039f\"],[0.2222222222222222,\"#7201a8\"],[0.3333333333333333,\"#9c179e\"],[0.4444444444444444,\"#bd3786\"],[0.5555555555555556,\"#d8576b\"],[0.6666666666666666,\"#ed7953\"],[0.7777777777777778,\"#fb9f3a\"],[0.8888888888888888,\"#fdca26\"],[1.0,\"#f0f921\"]],\"type\":\"histogram2d\"}],\"histogram2dcontour\":[{\"colorbar\":{\"outlinewidth\":0,\"ticks\":\"\"},\"colorscale\":[[0.0,\"#0d0887\"],[0.1111111111111111,\"#46039f\"],[0.2222222222222222,\"#7201a8\"],[0.3333333333333333,\"#9c179e\"],[0.4444444444444444,\"#bd3786\"],[0.5555555555555556,\"#d8576b\"],[0.6666666666666666,\"#ed7953\"],[0.7777777777777778,\"#fb9f3a\"],[0.8888888888888888,\"#fdca26\"],[1.0,\"#f0f921\"]],\"type\":\"histogram2dcontour\"}],\"mesh3d\":[{\"colorbar\":{\"outlinewidth\":0,\"ticks\":\"\"},\"type\":\"mesh3d\"}],\"parcoords\":[{\"line\":{\"colorbar\":{\"outlinewidth\":0,\"ticks\":\"\"}},\"type\":\"parcoords\"}],\"pie\":[{\"automargin\":true,\"type\":\"pie\"}],\"scatter\":[{\"marker\":{\"colorbar\":{\"outlinewidth\":0,\"ticks\":\"\"}},\"type\":\"scatter\"}],\"scatter3d\":[{\"line\":{\"colorbar\":{\"outlinewidth\":0,\"ticks\":\"\"}},\"marker\":{\"colorbar\":{\"outlinewidth\":0,\"ticks\":\"\"}},\"type\":\"scatter3d\"}],\"scattercarpet\":[{\"marker\":{\"colorbar\":{\"outlinewidth\":0,\"ticks\":\"\"}},\"type\":\"scattercarpet\"}],\"scattergeo\":[{\"marker\":{\"colorbar\":{\"outlinewidth\":0,\"ticks\":\"\"}},\"type\":\"scattergeo\"}],\"scattergl\":[{\"marker\":{\"colorbar\":{\"outlinewidth\":0,\"ticks\":\"\"}},\"type\":\"scattergl\"}],\"scattermapbox\":[{\"marker\":{\"colorbar\":{\"outlinewidth\":0,\"ticks\":\"\"}},\"type\":\"scattermapbox\"}],\"scatterpolar\":[{\"marker\":{\"colorbar\":{\"outlinewidth\":0,\"ticks\":\"\"}},\"type\":\"scatterpolar\"}],\"scatterpolargl\":[{\"marker\":{\"colorbar\":{\"outlinewidth\":0,\"ticks\":\"\"}},\"type\":\"scatterpolargl\"}],\"scatterternary\":[{\"marker\":{\"colorbar\":{\"outlinewidth\":0,\"ticks\":\"\"}},\"type\":\"scatterternary\"}],\"surface\":[{\"colorbar\":{\"outlinewidth\":0,\"ticks\":\"\"},\"colorscale\":[[0.0,\"#0d0887\"],[0.1111111111111111,\"#46039f\"],[0.2222222222222222,\"#7201a8\"],[0.3333333333333333,\"#9c179e\"],[0.4444444444444444,\"#bd3786\"],[0.5555555555555556,\"#d8576b\"],[0.6666666666666666,\"#ed7953\"],[0.7777777777777778,\"#fb9f3a\"],[0.8888888888888888,\"#fdca26\"],[1.0,\"#f0f921\"]],\"type\":\"surface\"}],\"table\":[{\"cells\":{\"fill\":{\"color\":\"#EBF0F8\"},\"line\":{\"color\":\"white\"}},\"header\":{\"fill\":{\"color\":\"#C8D4E3\"},\"line\":{\"color\":\"white\"}},\"type\":\"table\"}]},\"layout\":{\"annotationdefaults\":{\"arrowcolor\":\"#2a3f5f\",\"arrowhead\":0,\"arrowwidth\":1},\"autotypenumbers\":\"strict\",\"coloraxis\":{\"colorbar\":{\"outlinewidth\":0,\"ticks\":\"\"}},\"colorscale\":{\"diverging\":[[0,\"#8e0152\"],[0.1,\"#c51b7d\"],[0.2,\"#de77ae\"],[0.3,\"#f1b6da\"],[0.4,\"#fde0ef\"],[0.5,\"#f7f7f7\"],[0.6,\"#e6f5d0\"],[0.7,\"#b8e186\"],[0.8,\"#7fbc41\"],[0.9,\"#4d9221\"],[1,\"#276419\"]],\"sequential\":[[0.0,\"#0d0887\"],[0.1111111111111111,\"#46039f\"],[0.2222222222222222,\"#7201a8\"],[0.3333333333333333,\"#9c179e\"],[0.4444444444444444,\"#bd3786\"],[0.5555555555555556,\"#d8576b\"],[0.6666666666666666,\"#ed7953\"],[0.7777777777777778,\"#fb9f3a\"],[0.8888888888888888,\"#fdca26\"],[1.0,\"#f0f921\"]],\"sequentialminus\":[[0.0,\"#0d0887\"],[0.1111111111111111,\"#46039f\"],[0.2222222222222222,\"#7201a8\"],[0.3333333333333333,\"#9c179e\"],[0.4444444444444444,\"#bd3786\"],[0.5555555555555556,\"#d8576b\"],[0.6666666666666666,\"#ed7953\"],[0.7777777777777778,\"#fb9f3a\"],[0.8888888888888888,\"#fdca26\"],[1.0,\"#f0f921\"]]},\"colorway\":[\"#636efa\",\"#EF553B\",\"#00cc96\",\"#ab63fa\",\"#FFA15A\",\"#19d3f3\",\"#FF6692\",\"#B6E880\",\"#FF97FF\",\"#FECB52\"],\"font\":{\"color\":\"#2a3f5f\"},\"geo\":{\"bgcolor\":\"white\",\"lakecolor\":\"white\",\"landcolor\":\"#E5ECF6\",\"showlakes\":true,\"showland\":true,\"subunitcolor\":\"white\"},\"hoverlabel\":{\"align\":\"left\"},\"hovermode\":\"closest\",\"mapbox\":{\"style\":\"light\"},\"paper_bgcolor\":\"white\",\"plot_bgcolor\":\"#E5ECF6\",\"polar\":{\"angularaxis\":{\"gridcolor\":\"white\",\"linecolor\":\"white\",\"ticks\":\"\"},\"bgcolor\":\"#E5ECF6\",\"radialaxis\":{\"gridcolor\":\"white\",\"linecolor\":\"white\",\"ticks\":\"\"}},\"scene\":{\"xaxis\":{\"backgroundcolor\":\"#E5ECF6\",\"gridcolor\":\"white\",\"gridwidth\":2,\"linecolor\":\"white\",\"showbackground\":true,\"ticks\":\"\",\"zerolinecolor\":\"white\"},\"yaxis\":{\"backgroundcolor\":\"#E5ECF6\",\"gridcolor\":\"white\",\"gridwidth\":2,\"linecolor\":\"white\",\"showbackground\":true,\"ticks\":\"\",\"zerolinecolor\":\"white\"},\"zaxis\":{\"backgroundcolor\":\"#E5ECF6\",\"gridcolor\":\"white\",\"gridwidth\":2,\"linecolor\":\"white\",\"showbackground\":true,\"ticks\":\"\",\"zerolinecolor\":\"white\"}},\"shapedefaults\":{\"line\":{\"color\":\"#2a3f5f\"}},\"ternary\":{\"aaxis\":{\"gridcolor\":\"white\",\"linecolor\":\"white\",\"ticks\":\"\"},\"baxis\":{\"gridcolor\":\"white\",\"linecolor\":\"white\",\"ticks\":\"\"},\"bgcolor\":\"#E5ECF6\",\"caxis\":{\"gridcolor\":\"white\",\"linecolor\":\"white\",\"ticks\":\"\"}},\"title\":{\"x\":0.05},\"xaxis\":{\"automargin\":true,\"gridcolor\":\"white\",\"linecolor\":\"white\",\"ticks\":\"\",\"title\":{\"standoff\":15},\"zerolinecolor\":\"white\",\"zerolinewidth\":2},\"yaxis\":{\"automargin\":true,\"gridcolor\":\"white\",\"linecolor\":\"white\",\"ticks\":\"\",\"title\":{\"standoff\":15},\"zerolinecolor\":\"white\",\"zerolinewidth\":2}}},\"title\":{\"text\":\"2D t-SNE Transformation with PCA 5 dimensions\",\"x\":0.5},\"xaxis\":{\"anchor\":\"y\",\"domain\":[0.0,1.0],\"title\":{\"text\":\"PC1\"}},\"yaxis\":{\"anchor\":\"x\",\"domain\":[0.0,1.0],\"title\":{\"text\":\"PC2\"}}},                        {\"responsive\": true}                    ).then(function(){\n",
       "                            \n",
       "var gd = document.getElementById('43cde6f0-2064-458c-8c5a-ce24bbf1c026');\n",
       "var x = new MutationObserver(function (mutations, observer) {{\n",
       "        var display = window.getComputedStyle(gd).display;\n",
       "        if (!display || display === 'none') {{\n",
       "            console.log([gd, 'removed!']);\n",
       "            Plotly.purge(gd);\n",
       "            observer.disconnect();\n",
       "        }}\n",
       "}});\n",
       "\n",
       "// Listen for the removal of the full notebook cells\n",
       "var notebookContainer = gd.closest('#notebook-container');\n",
       "if (notebookContainer) {{\n",
       "    x.observe(notebookContainer, {childList: true});\n",
       "}}\n",
       "\n",
       "// Listen for the clearing of the current output cell\n",
       "var outputEl = gd.closest('.output');\n",
       "if (outputEl) {{\n",
       "    x.observe(outputEl, {childList: true});\n",
       "}}\n",
       "\n",
       "                        })                };                });            </script>        </div>"
      ]
     },
     "metadata": {},
     "output_type": "display_data"
    },
    {
     "name": "stdout",
     "output_type": "stream",
     "text": [
      "[t-SNE] Computing 121 nearest neighbors...\n",
      "[t-SNE] Indexed 157 samples in 0.001s...\n",
      "[t-SNE] Computed neighbors for 157 samples in 0.003s...\n",
      "[t-SNE] Computed conditional probabilities for sample 157 / 157\n",
      "[t-SNE] Mean sigma: 3.227584\n",
      "[t-SNE] KL divergence after 250 iterations with early exaggeration: 56.981880\n",
      "[t-SNE] KL divergence after 500 iterations: 0.234335\n"
     ]
    },
    {
     "data": {
      "application/vnd.plotly.v1+json": {
       "config": {
        "plotlyServerURL": "https://plot.ly"
       },
       "data": [
        {
         "hovertemplate": "PC1=%{x}<br>PC2=%{y}<br>COUNTRY=%{text}<extra></extra>",
         "legendgroup": "",
         "marker": {
          "color": "#636efa",
          "symbol": "circle"
         },
         "mode": "markers+text",
         "name": "",
         "orientation": "v",
         "showlegend": false,
         "text": [
          "Afghanistan",
          "Albania",
          "Algeria",
          "Angola",
          "Argentina",
          "Armenia",
          "Australia",
          "Austria",
          "Azerbaijan",
          "Bahrain",
          "Bangladesh",
          "Barbados",
          "Belarus",
          "Belgium",
          "Belize",
          "Benin",
          "Bhutan",
          "Bolivia",
          "Bosnia and Herzegovina",
          "Botswana",
          "Brazil",
          "Bulgaria",
          "Burkina Faso",
          "Burundi",
          "Cambodia",
          "Cameroon",
          "Canada",
          "Central African Republic",
          "Chad",
          "Chile",
          "China",
          "Colombia",
          "Comoros",
          "Democratic Republic of the Congo",
          "Costa Rica",
          "Croatia",
          "Cuba",
          "Cyprus",
          "Czech Republic",
          "Denmark",
          "Dominican Republic",
          "Ecuador",
          "Egypt",
          "El Salvador",
          "Estonia",
          "Ethiopia",
          "Fiji",
          "Finland",
          "France",
          "Gabon",
          "Georgia",
          "Germany",
          "Ghana",
          "Greece",
          "Guatemala",
          "Guinea",
          "Guinea Bissau",
          "Guyana",
          "Haiti",
          "Honduras",
          "Hungary",
          "Iceland",
          "India",
          "Indonesia",
          "Iran",
          "Iraq",
          "Ireland",
          "Israel",
          "Italy",
          "Jamaica",
          "Japan",
          "Jordan",
          "Kazakhstan",
          "Kenya",
          "Kuwait",
          "Kyrgyzstan",
          "Laos",
          "Latvia",
          "Lebanon",
          "Lesotho",
          "Liberia",
          "Libya",
          "Lithuania",
          "Luxembourg",
          "Madagascar",
          "Malawi",
          "Malaysia",
          "Mali",
          "Malta",
          "Mauritania",
          "Mauritius",
          "Mexico",
          "Moldova",
          "Mongolia",
          "Montenegro",
          "Morocco",
          "Mozambique",
          "Myanmar",
          "Namibia",
          "Nepal",
          "Netherlands",
          "New Zealand",
          "Nicaragua",
          "Niger",
          "Nigeria",
          "North Macedonia",
          "Norway",
          "Oman",
          "Pakistan",
          "Panama",
          "Papua New Guinea",
          "Paraguay",
          "Peru",
          "Philippines",
          "Poland",
          "Portugal",
          "Qatar",
          "Romania",
          "Russia",
          "Rwanda",
          "Saudi Arabia",
          "Senegal",
          "Serbia",
          "Seychelles",
          "Sierra Leone",
          "Singapore",
          "Slovakia",
          "Slovenia",
          "South Africa",
          "South Korea",
          "Spain",
          "Sri Lanka",
          "Sudan",
          "Suriname",
          "Sweden",
          "Switzerland",
          "Syria",
          "Tajikistan",
          "Tanzania",
          "Thailand",
          "Togo",
          "Trinidad and Tobago",
          "Tunisia",
          "Turkey",
          "Turkmenistan",
          "Uganda",
          "Ukraine",
          "United Arab Emirates",
          "United Kingdom",
          "United States",
          "Uruguay",
          "Uzbekistan",
          "Venezuela",
          "Vietnam",
          "Yemen",
          "Zambia",
          "Zimbabwe"
         ],
         "textposition": "top center",
         "type": "scatter",
         "x": [
          7.229952335357666,
          -1.3567049503326416,
          2.28948712348938,
          7.576918125152588,
          -2.4696764945983887,
          -1.9416691064834595,
          -7.526681423187256,
          -6.181754112243652,
          0.07639344781637192,
          1.5860189199447632,
          4.240103721618652,
          -0.10852382332086563,
          -2.1215217113494873,
          -6.446084976196289,
          1.6615078449249268,
          7.486806869506836,
          6.253741264343262,
          2.8467609882354736,
          -1.5591763257980347,
          3.273420810699463,
          0.6747139692306519,
          -3.2021872997283936,
          7.772609710693359,
          7.80835485458374,
          6.5509934425354,
          7.413183689117432,
          -7.087124824523926,
          9.33010482788086,
          8.249130249023438,
          -3.475829601287842,
          -0.7238527536392212,
          1.4142603874206543,
          6.755768299102783,
          8.647790908813477,
          0.7696680426597595,
          -3.287210702896118,
          -1.3036212921142578,
          -4.975448131561279,
          -5.103667259216309,
          -7.316036224365234,
          2.13723087310791,
          2.144503355026245,
          2.948019504547119,
          0.9793060421943665,
          -4.821037292480469,
          6.79003381729126,
          2.001965045928955,
          -6.805908203125,
          -6.462640285491943,
          4.525455951690674,
          -2.813112258911133,
          -6.430574893951416,
          6.352529525756836,
          -4.4106974601745605,
          3.3684635162353516,
          7.547245979309082,
          7.823495864868164,
          4.000720500946045,
          5.757869720458984,
          1.765105128288269,
          -4.39436674118042,
          -7.715014457702637,
          4.247138023376465,
          3.9909427165985107,
          1.725594162940979,
          2.731808662414551,
          -8.29158878326416,
          -8.082501411437988,
          -5.194265842437744,
          0.8481507897377014,
          -5.972986221313477,
          1.9254820346832275,
          -1.1458479166030884,
          6.112347602844238,
          2.1085832118988037,
          -0.10388048738241196,
          6.688460826873779,
          -3.8434972763061523,
          1.2601205110549927,
          4.577540874481201,
          8.093964576721191,
          2.619553327560425,
          -4.277791500091553,
          -8.649598121643066,
          6.5282511711120605,
          6.778472423553467,
          2.2473223209381104,
          7.75460147857666,
          -5.229051113128662,
          6.964531421661377,
          -4.73143196105957,
          1.1609727144241333,
          -2.7770044803619385,
          -0.4480494558811188,
          -2.5804555416107178,
          2.099451780319214,
          8.170659065246582,
          6.484809875488281,
          3.0682241916656494,
          4.375165939331055,
          -6.956013202667236,
          -7.430107116699219,
          2.501528024673462,
          8.04548168182373,
          9.520162582397461,
          -1.8541104793548584,
          -7.704954624176025,
          2.345973253250122,
          6.018696308135986,
          1.2006233930587769,
          5.333190441131592,
          1.797682285308838,
          1.7582074403762817,
          2.7583417892456055,
          -4.176980972290039,
          -5.0088324546813965,
          1.923658013343811,
          -3.7757930755615234,
          -1.9341603517532349,
          6.254512310028076,
          2.4926254749298096,
          6.906386852264404,
          -2.927448034286499,
          1.2360477447509766,
          7.719051837921143,
          -6.940002918243408,
          -3.970400333404541,
          -5.330342769622803,
          2.5963008403778076,
          -5.9910054206848145,
          -5.829744815826416,
          6.005828380584717,
          6.339749813079834,
          2.983581781387329,
          -7.1020989418029785,
          -7.872076034545898,
          2.879138708114624,
          0.30379775166511536,
          7.251452922821045,
          5.933572769165039,
          7.045839786529541,
          0.5552612543106079,
          1.967573642730713,
          1.2344051599502563,
          0.8715660572052002,
          6.964627742767334,
          -2.396677255630493,
          1.8871372938156128,
          -6.952519416809082,
          -7.928818702697754,
          -2.7266581058502197,
          0.22051264345645905,
          2.1637604236602783,
          0.47414955496788025,
          6.044374465942383,
          7.371941089630127,
          5.920317649841309
         ],
         "xaxis": "x",
         "y": [
          2.5743539333343506,
          1.9448022842407227,
          3.1848015785217285,
          -0.08287758380174637,
          -0.7492771148681641,
          1.5473300218582153,
          0.47955650091171265,
          -0.23376084864139557,
          2.649082660675049,
          4.661096096038818,
          2.0900871753692627,
          -1.4909744262695312,
          0.18005743622779846,
          -0.11685734987258911,
          -2.675053596496582,
          0.6264545917510986,
          -4.662498950958252,
          -1.1678920984268188,
          1.3260643482208252,
          -2.5759618282318115,
          -2.0648550987243652,
          0.2621958255767822,
          1.4264250993728638,
          0.007120939902961254,
          -4.4319071769714355,
          0.06082013249397278,
          0.09518205374479294,
          0.5088968276977539,
          1.2391151189804077,
          -0.49926644563674927,
          0.16296911239624023,
          -2.062128782272339,
          1.756476879119873,
          0.5192451477050781,
          -1.4004170894622803,
          0.6357426643371582,
          -2.0970311164855957,
          -2.161092519760132,
          0.5577566623687744,
          -0.4120393693447113,
          -0.9538387060165405,
          -0.9963186383247375,
          3.320356607437134,
          -3.3877787590026855,
          0.7194380164146423,
          0.6427552700042725,
          0.1200261116027832,
          -0.7616316676139832,
          0.6227083206176758,
          -0.7792767286300659,
          1.8243589401245117,
          0.328621506690979,
          0.29098379611968994,
          -0.7043880224227905,
          -0.7653538584709167,
          1.879902958869934,
          0.7931658625602722,
          -2.511415481567383,
          0.10355480760335922,
          -3.3732750415802,
          0.25379323959350586,
          -0.7403467297554016,
          1.7591439485549927,
          2.050339698791504,
          2.782435894012451,
          3.5870394706726074,
          -0.268511027097702,
          1.598759651184082,
          -0.42039555311203003,
          -2.9949817657470703,
          1.8241798877716064,
          3.4725241661071777,
          2.23995304107666,
          -0.1813889443874359,
          5.878767490386963,
          2.9099090099334717,
          -4.2634196281433105,
          0.5678097605705261,
          2.2122323513031006,
          -2.7068824768066406,
          -1.783861756324768,
          3.6311774253845215,
          0.9228079915046692,
          -1.0816702842712402,
          -0.2595994174480438,
          -0.05546164885163307,
          1.8077507019042969,
          2.1280789375305176,
          -1.6559245586395264,
          2.522097587585449,
          -2.7350618839263916,
          -1.8751704692840576,
          1.4651696681976318,
          1.0430620908737183,
          1.0132052898406982,
          2.7185380458831787,
          0.009343313053250313,
          -4.5098347663879395,
          -2.7043275833129883,
          1.5350711345672607,
          -0.30760207772254944,
          0.5059744119644165,
          -0.7923635840415955,
          2.1326797008514404,
          1.4287645816802979,
          1.2700188159942627,
          -0.9776761531829834,
          4.723114967346191,
          2.8732099533081055,
          -0.7993388772010803,
          -0.10089839994907379,
          -0.7824828028678894,
          -0.6758762001991272,
          -0.21093302965164185,
          0.15426675975322723,
          -0.3109511435031891,
          5.859318256378174,
          1.1936782598495483,
          -0.0297539159655571,
          -1.801098346710205,
          5.2103471755981445,
          1.4688804149627686,
          0.43027034401893616,
          -0.986700713634491,
          1.430328130722046,
          -2.1671934127807617,
          0.16167743504047394,
          0.09478273242712021,
          -2.8249545097351074,
          1.684097170829773,
          0.45355796813964844,
          -4.7840423583984375,
          2.625999689102173,
          -2.0151829719543457,
          -0.8134343028068542,
          -0.45442917943000793,
          -5.206081867218018,
          3.3711416721343994,
          -0.9116587042808533,
          -4.927565097808838,
          0.6519137620925903,
          -1.8499562740325928,
          2.640871286392212,
          2.5955469608306885,
          3.39839768409729,
          -0.499575138092041,
          0.5622102618217468,
          5.835853576660156,
          1.047570824623108,
          2.016221523284912,
          -0.8448545932769775,
          3.151968002319336,
          -1.9761024713516235,
          0.6533036231994629,
          2.9543709754943848,
          -0.9558782577514648,
          -0.872872531414032
         ],
         "yaxis": "y"
        }
       ],
       "layout": {
        "legend": {
         "tracegroupgap": 0
        },
        "margin": {
         "t": 60
        },
        "template": {
         "data": {
          "bar": [
           {
            "error_x": {
             "color": "#2a3f5f"
            },
            "error_y": {
             "color": "#2a3f5f"
            },
            "marker": {
             "line": {
              "color": "#E5ECF6",
              "width": 0.5
             },
             "pattern": {
              "fillmode": "overlay",
              "size": 10,
              "solidity": 0.2
             }
            },
            "type": "bar"
           }
          ],
          "barpolar": [
           {
            "marker": {
             "line": {
              "color": "#E5ECF6",
              "width": 0.5
             },
             "pattern": {
              "fillmode": "overlay",
              "size": 10,
              "solidity": 0.2
             }
            },
            "type": "barpolar"
           }
          ],
          "carpet": [
           {
            "aaxis": {
             "endlinecolor": "#2a3f5f",
             "gridcolor": "white",
             "linecolor": "white",
             "minorgridcolor": "white",
             "startlinecolor": "#2a3f5f"
            },
            "baxis": {
             "endlinecolor": "#2a3f5f",
             "gridcolor": "white",
             "linecolor": "white",
             "minorgridcolor": "white",
             "startlinecolor": "#2a3f5f"
            },
            "type": "carpet"
           }
          ],
          "choropleth": [
           {
            "colorbar": {
             "outlinewidth": 0,
             "ticks": ""
            },
            "type": "choropleth"
           }
          ],
          "contour": [
           {
            "colorbar": {
             "outlinewidth": 0,
             "ticks": ""
            },
            "colorscale": [
             [
              0,
              "#0d0887"
             ],
             [
              0.1111111111111111,
              "#46039f"
             ],
             [
              0.2222222222222222,
              "#7201a8"
             ],
             [
              0.3333333333333333,
              "#9c179e"
             ],
             [
              0.4444444444444444,
              "#bd3786"
             ],
             [
              0.5555555555555556,
              "#d8576b"
             ],
             [
              0.6666666666666666,
              "#ed7953"
             ],
             [
              0.7777777777777778,
              "#fb9f3a"
             ],
             [
              0.8888888888888888,
              "#fdca26"
             ],
             [
              1,
              "#f0f921"
             ]
            ],
            "type": "contour"
           }
          ],
          "contourcarpet": [
           {
            "colorbar": {
             "outlinewidth": 0,
             "ticks": ""
            },
            "type": "contourcarpet"
           }
          ],
          "heatmap": [
           {
            "colorbar": {
             "outlinewidth": 0,
             "ticks": ""
            },
            "colorscale": [
             [
              0,
              "#0d0887"
             ],
             [
              0.1111111111111111,
              "#46039f"
             ],
             [
              0.2222222222222222,
              "#7201a8"
             ],
             [
              0.3333333333333333,
              "#9c179e"
             ],
             [
              0.4444444444444444,
              "#bd3786"
             ],
             [
              0.5555555555555556,
              "#d8576b"
             ],
             [
              0.6666666666666666,
              "#ed7953"
             ],
             [
              0.7777777777777778,
              "#fb9f3a"
             ],
             [
              0.8888888888888888,
              "#fdca26"
             ],
             [
              1,
              "#f0f921"
             ]
            ],
            "type": "heatmap"
           }
          ],
          "heatmapgl": [
           {
            "colorbar": {
             "outlinewidth": 0,
             "ticks": ""
            },
            "colorscale": [
             [
              0,
              "#0d0887"
             ],
             [
              0.1111111111111111,
              "#46039f"
             ],
             [
              0.2222222222222222,
              "#7201a8"
             ],
             [
              0.3333333333333333,
              "#9c179e"
             ],
             [
              0.4444444444444444,
              "#bd3786"
             ],
             [
              0.5555555555555556,
              "#d8576b"
             ],
             [
              0.6666666666666666,
              "#ed7953"
             ],
             [
              0.7777777777777778,
              "#fb9f3a"
             ],
             [
              0.8888888888888888,
              "#fdca26"
             ],
             [
              1,
              "#f0f921"
             ]
            ],
            "type": "heatmapgl"
           }
          ],
          "histogram": [
           {
            "marker": {
             "pattern": {
              "fillmode": "overlay",
              "size": 10,
              "solidity": 0.2
             }
            },
            "type": "histogram"
           }
          ],
          "histogram2d": [
           {
            "colorbar": {
             "outlinewidth": 0,
             "ticks": ""
            },
            "colorscale": [
             [
              0,
              "#0d0887"
             ],
             [
              0.1111111111111111,
              "#46039f"
             ],
             [
              0.2222222222222222,
              "#7201a8"
             ],
             [
              0.3333333333333333,
              "#9c179e"
             ],
             [
              0.4444444444444444,
              "#bd3786"
             ],
             [
              0.5555555555555556,
              "#d8576b"
             ],
             [
              0.6666666666666666,
              "#ed7953"
             ],
             [
              0.7777777777777778,
              "#fb9f3a"
             ],
             [
              0.8888888888888888,
              "#fdca26"
             ],
             [
              1,
              "#f0f921"
             ]
            ],
            "type": "histogram2d"
           }
          ],
          "histogram2dcontour": [
           {
            "colorbar": {
             "outlinewidth": 0,
             "ticks": ""
            },
            "colorscale": [
             [
              0,
              "#0d0887"
             ],
             [
              0.1111111111111111,
              "#46039f"
             ],
             [
              0.2222222222222222,
              "#7201a8"
             ],
             [
              0.3333333333333333,
              "#9c179e"
             ],
             [
              0.4444444444444444,
              "#bd3786"
             ],
             [
              0.5555555555555556,
              "#d8576b"
             ],
             [
              0.6666666666666666,
              "#ed7953"
             ],
             [
              0.7777777777777778,
              "#fb9f3a"
             ],
             [
              0.8888888888888888,
              "#fdca26"
             ],
             [
              1,
              "#f0f921"
             ]
            ],
            "type": "histogram2dcontour"
           }
          ],
          "mesh3d": [
           {
            "colorbar": {
             "outlinewidth": 0,
             "ticks": ""
            },
            "type": "mesh3d"
           }
          ],
          "parcoords": [
           {
            "line": {
             "colorbar": {
              "outlinewidth": 0,
              "ticks": ""
             }
            },
            "type": "parcoords"
           }
          ],
          "pie": [
           {
            "automargin": true,
            "type": "pie"
           }
          ],
          "scatter": [
           {
            "marker": {
             "colorbar": {
              "outlinewidth": 0,
              "ticks": ""
             }
            },
            "type": "scatter"
           }
          ],
          "scatter3d": [
           {
            "line": {
             "colorbar": {
              "outlinewidth": 0,
              "ticks": ""
             }
            },
            "marker": {
             "colorbar": {
              "outlinewidth": 0,
              "ticks": ""
             }
            },
            "type": "scatter3d"
           }
          ],
          "scattercarpet": [
           {
            "marker": {
             "colorbar": {
              "outlinewidth": 0,
              "ticks": ""
             }
            },
            "type": "scattercarpet"
           }
          ],
          "scattergeo": [
           {
            "marker": {
             "colorbar": {
              "outlinewidth": 0,
              "ticks": ""
             }
            },
            "type": "scattergeo"
           }
          ],
          "scattergl": [
           {
            "marker": {
             "colorbar": {
              "outlinewidth": 0,
              "ticks": ""
             }
            },
            "type": "scattergl"
           }
          ],
          "scattermapbox": [
           {
            "marker": {
             "colorbar": {
              "outlinewidth": 0,
              "ticks": ""
             }
            },
            "type": "scattermapbox"
           }
          ],
          "scatterpolar": [
           {
            "marker": {
             "colorbar": {
              "outlinewidth": 0,
              "ticks": ""
             }
            },
            "type": "scatterpolar"
           }
          ],
          "scatterpolargl": [
           {
            "marker": {
             "colorbar": {
              "outlinewidth": 0,
              "ticks": ""
             }
            },
            "type": "scatterpolargl"
           }
          ],
          "scatterternary": [
           {
            "marker": {
             "colorbar": {
              "outlinewidth": 0,
              "ticks": ""
             }
            },
            "type": "scatterternary"
           }
          ],
          "surface": [
           {
            "colorbar": {
             "outlinewidth": 0,
             "ticks": ""
            },
            "colorscale": [
             [
              0,
              "#0d0887"
             ],
             [
              0.1111111111111111,
              "#46039f"
             ],
             [
              0.2222222222222222,
              "#7201a8"
             ],
             [
              0.3333333333333333,
              "#9c179e"
             ],
             [
              0.4444444444444444,
              "#bd3786"
             ],
             [
              0.5555555555555556,
              "#d8576b"
             ],
             [
              0.6666666666666666,
              "#ed7953"
             ],
             [
              0.7777777777777778,
              "#fb9f3a"
             ],
             [
              0.8888888888888888,
              "#fdca26"
             ],
             [
              1,
              "#f0f921"
             ]
            ],
            "type": "surface"
           }
          ],
          "table": [
           {
            "cells": {
             "fill": {
              "color": "#EBF0F8"
             },
             "line": {
              "color": "white"
             }
            },
            "header": {
             "fill": {
              "color": "#C8D4E3"
             },
             "line": {
              "color": "white"
             }
            },
            "type": "table"
           }
          ]
         },
         "layout": {
          "annotationdefaults": {
           "arrowcolor": "#2a3f5f",
           "arrowhead": 0,
           "arrowwidth": 1
          },
          "autotypenumbers": "strict",
          "coloraxis": {
           "colorbar": {
            "outlinewidth": 0,
            "ticks": ""
           }
          },
          "colorscale": {
           "diverging": [
            [
             0,
             "#8e0152"
            ],
            [
             0.1,
             "#c51b7d"
            ],
            [
             0.2,
             "#de77ae"
            ],
            [
             0.3,
             "#f1b6da"
            ],
            [
             0.4,
             "#fde0ef"
            ],
            [
             0.5,
             "#f7f7f7"
            ],
            [
             0.6,
             "#e6f5d0"
            ],
            [
             0.7,
             "#b8e186"
            ],
            [
             0.8,
             "#7fbc41"
            ],
            [
             0.9,
             "#4d9221"
            ],
            [
             1,
             "#276419"
            ]
           ],
           "sequential": [
            [
             0,
             "#0d0887"
            ],
            [
             0.1111111111111111,
             "#46039f"
            ],
            [
             0.2222222222222222,
             "#7201a8"
            ],
            [
             0.3333333333333333,
             "#9c179e"
            ],
            [
             0.4444444444444444,
             "#bd3786"
            ],
            [
             0.5555555555555556,
             "#d8576b"
            ],
            [
             0.6666666666666666,
             "#ed7953"
            ],
            [
             0.7777777777777778,
             "#fb9f3a"
            ],
            [
             0.8888888888888888,
             "#fdca26"
            ],
            [
             1,
             "#f0f921"
            ]
           ],
           "sequentialminus": [
            [
             0,
             "#0d0887"
            ],
            [
             0.1111111111111111,
             "#46039f"
            ],
            [
             0.2222222222222222,
             "#7201a8"
            ],
            [
             0.3333333333333333,
             "#9c179e"
            ],
            [
             0.4444444444444444,
             "#bd3786"
            ],
            [
             0.5555555555555556,
             "#d8576b"
            ],
            [
             0.6666666666666666,
             "#ed7953"
            ],
            [
             0.7777777777777778,
             "#fb9f3a"
            ],
            [
             0.8888888888888888,
             "#fdca26"
            ],
            [
             1,
             "#f0f921"
            ]
           ]
          },
          "colorway": [
           "#636efa",
           "#EF553B",
           "#00cc96",
           "#ab63fa",
           "#FFA15A",
           "#19d3f3",
           "#FF6692",
           "#B6E880",
           "#FF97FF",
           "#FECB52"
          ],
          "font": {
           "color": "#2a3f5f"
          },
          "geo": {
           "bgcolor": "white",
           "lakecolor": "white",
           "landcolor": "#E5ECF6",
           "showlakes": true,
           "showland": true,
           "subunitcolor": "white"
          },
          "hoverlabel": {
           "align": "left"
          },
          "hovermode": "closest",
          "mapbox": {
           "style": "light"
          },
          "paper_bgcolor": "white",
          "plot_bgcolor": "#E5ECF6",
          "polar": {
           "angularaxis": {
            "gridcolor": "white",
            "linecolor": "white",
            "ticks": ""
           },
           "bgcolor": "#E5ECF6",
           "radialaxis": {
            "gridcolor": "white",
            "linecolor": "white",
            "ticks": ""
           }
          },
          "scene": {
           "xaxis": {
            "backgroundcolor": "#E5ECF6",
            "gridcolor": "white",
            "gridwidth": 2,
            "linecolor": "white",
            "showbackground": true,
            "ticks": "",
            "zerolinecolor": "white"
           },
           "yaxis": {
            "backgroundcolor": "#E5ECF6",
            "gridcolor": "white",
            "gridwidth": 2,
            "linecolor": "white",
            "showbackground": true,
            "ticks": "",
            "zerolinecolor": "white"
           },
           "zaxis": {
            "backgroundcolor": "#E5ECF6",
            "gridcolor": "white",
            "gridwidth": 2,
            "linecolor": "white",
            "showbackground": true,
            "ticks": "",
            "zerolinecolor": "white"
           }
          },
          "shapedefaults": {
           "line": {
            "color": "#2a3f5f"
           }
          },
          "ternary": {
           "aaxis": {
            "gridcolor": "white",
            "linecolor": "white",
            "ticks": ""
           },
           "baxis": {
            "gridcolor": "white",
            "linecolor": "white",
            "ticks": ""
           },
           "bgcolor": "#E5ECF6",
           "caxis": {
            "gridcolor": "white",
            "linecolor": "white",
            "ticks": ""
           }
          },
          "title": {
           "x": 0.05
          },
          "xaxis": {
           "automargin": true,
           "gridcolor": "white",
           "linecolor": "white",
           "ticks": "",
           "title": {
            "standoff": 15
           },
           "zerolinecolor": "white",
           "zerolinewidth": 2
          },
          "yaxis": {
           "automargin": true,
           "gridcolor": "white",
           "linecolor": "white",
           "ticks": "",
           "title": {
            "standoff": 15
           },
           "zerolinecolor": "white",
           "zerolinewidth": 2
          }
         }
        },
        "title": {
         "text": "2D t-SNE Transformation with dataB DataFrame",
         "x": 0.5
        },
        "xaxis": {
         "anchor": "y",
         "domain": [
          0,
          1
         ],
         "title": {
          "text": "PC1"
         }
        },
        "yaxis": {
         "anchor": "x",
         "domain": [
          0,
          1
         ],
         "title": {
          "text": "PC2"
         }
        }
       }
      },
      "text/html": [
       "<div>                            <div id=\"e05100dc-6d02-4dd2-81e6-afb8d364fcb8\" class=\"plotly-graph-div\" style=\"height:525px; width:100%;\"></div>            <script type=\"text/javascript\">                require([\"plotly\"], function(Plotly) {                    window.PLOTLYENV=window.PLOTLYENV || {};                                    if (document.getElementById(\"e05100dc-6d02-4dd2-81e6-afb8d364fcb8\")) {                    Plotly.newPlot(                        \"e05100dc-6d02-4dd2-81e6-afb8d364fcb8\",                        [{\"hovertemplate\":\"PC1=%{x}<br>PC2=%{y}<br>COUNTRY=%{text}<extra></extra>\",\"legendgroup\":\"\",\"marker\":{\"color\":\"#636efa\",\"symbol\":\"circle\"},\"mode\":\"markers+text\",\"name\":\"\",\"orientation\":\"v\",\"showlegend\":false,\"text\":[\"Afghanistan\",\"Albania\",\"Algeria\",\"Angola\",\"Argentina\",\"Armenia\",\"Australia\",\"Austria\",\"Azerbaijan\",\"Bahrain\",\"Bangladesh\",\"Barbados\",\"Belarus\",\"Belgium\",\"Belize\",\"Benin\",\"Bhutan\",\"Bolivia\",\"Bosnia and Herzegovina\",\"Botswana\",\"Brazil\",\"Bulgaria\",\"Burkina Faso\",\"Burundi\",\"Cambodia\",\"Cameroon\",\"Canada\",\"Central African Republic\",\"Chad\",\"Chile\",\"China\",\"Colombia\",\"Comoros\",\"Democratic Republic of the Congo\",\"Costa Rica\",\"Croatia\",\"Cuba\",\"Cyprus\",\"Czech Republic\",\"Denmark\",\"Dominican Republic\",\"Ecuador\",\"Egypt\",\"El Salvador\",\"Estonia\",\"Ethiopia\",\"Fiji\",\"Finland\",\"France\",\"Gabon\",\"Georgia\",\"Germany\",\"Ghana\",\"Greece\",\"Guatemala\",\"Guinea\",\"Guinea Bissau\",\"Guyana\",\"Haiti\",\"Honduras\",\"Hungary\",\"Iceland\",\"India\",\"Indonesia\",\"Iran\",\"Iraq\",\"Ireland\",\"Israel\",\"Italy\",\"Jamaica\",\"Japan\",\"Jordan\",\"Kazakhstan\",\"Kenya\",\"Kuwait\",\"Kyrgyzstan\",\"Laos\",\"Latvia\",\"Lebanon\",\"Lesotho\",\"Liberia\",\"Libya\",\"Lithuania\",\"Luxembourg\",\"Madagascar\",\"Malawi\",\"Malaysia\",\"Mali\",\"Malta\",\"Mauritania\",\"Mauritius\",\"Mexico\",\"Moldova\",\"Mongolia\",\"Montenegro\",\"Morocco\",\"Mozambique\",\"Myanmar\",\"Namibia\",\"Nepal\",\"Netherlands\",\"New Zealand\",\"Nicaragua\",\"Niger\",\"Nigeria\",\"North Macedonia\",\"Norway\",\"Oman\",\"Pakistan\",\"Panama\",\"Papua New Guinea\",\"Paraguay\",\"Peru\",\"Philippines\",\"Poland\",\"Portugal\",\"Qatar\",\"Romania\",\"Russia\",\"Rwanda\",\"Saudi Arabia\",\"Senegal\",\"Serbia\",\"Seychelles\",\"Sierra Leone\",\"Singapore\",\"Slovakia\",\"Slovenia\",\"South Africa\",\"South Korea\",\"Spain\",\"Sri Lanka\",\"Sudan\",\"Suriname\",\"Sweden\",\"Switzerland\",\"Syria\",\"Tajikistan\",\"Tanzania\",\"Thailand\",\"Togo\",\"Trinidad and Tobago\",\"Tunisia\",\"Turkey\",\"Turkmenistan\",\"Uganda\",\"Ukraine\",\"United Arab Emirates\",\"United Kingdom\",\"United States\",\"Uruguay\",\"Uzbekistan\",\"Venezuela\",\"Vietnam\",\"Yemen\",\"Zambia\",\"Zimbabwe\"],\"textposition\":\"top center\",\"type\":\"scatter\",\"x\":[7.229952335357666,-1.3567049503326416,2.28948712348938,7.576918125152588,-2.4696764945983887,-1.9416691064834595,-7.526681423187256,-6.181754112243652,0.07639344781637192,1.5860189199447632,4.240103721618652,-0.10852382332086563,-2.1215217113494873,-6.446084976196289,1.6615078449249268,7.486806869506836,6.253741264343262,2.8467609882354736,-1.5591763257980347,3.273420810699463,0.6747139692306519,-3.2021872997283936,7.772609710693359,7.80835485458374,6.5509934425354,7.413183689117432,-7.087124824523926,9.33010482788086,8.249130249023438,-3.475829601287842,-0.7238527536392212,1.4142603874206543,6.755768299102783,8.647790908813477,0.7696680426597595,-3.287210702896118,-1.3036212921142578,-4.975448131561279,-5.103667259216309,-7.316036224365234,2.13723087310791,2.144503355026245,2.948019504547119,0.9793060421943665,-4.821037292480469,6.79003381729126,2.001965045928955,-6.805908203125,-6.462640285491943,4.525455951690674,-2.813112258911133,-6.430574893951416,6.352529525756836,-4.4106974601745605,3.3684635162353516,7.547245979309082,7.823495864868164,4.000720500946045,5.757869720458984,1.765105128288269,-4.39436674118042,-7.715014457702637,4.247138023376465,3.9909427165985107,1.725594162940979,2.731808662414551,-8.29158878326416,-8.082501411437988,-5.194265842437744,0.8481507897377014,-5.972986221313477,1.9254820346832275,-1.1458479166030884,6.112347602844238,2.1085832118988037,-0.10388048738241196,6.688460826873779,-3.8434972763061523,1.2601205110549927,4.577540874481201,8.093964576721191,2.619553327560425,-4.277791500091553,-8.649598121643066,6.5282511711120605,6.778472423553467,2.2473223209381104,7.75460147857666,-5.229051113128662,6.964531421661377,-4.73143196105957,1.1609727144241333,-2.7770044803619385,-0.4480494558811188,-2.5804555416107178,2.099451780319214,8.170659065246582,6.484809875488281,3.0682241916656494,4.375165939331055,-6.956013202667236,-7.430107116699219,2.501528024673462,8.04548168182373,9.520162582397461,-1.8541104793548584,-7.704954624176025,2.345973253250122,6.018696308135986,1.2006233930587769,5.333190441131592,1.797682285308838,1.7582074403762817,2.7583417892456055,-4.176980972290039,-5.0088324546813965,1.923658013343811,-3.7757930755615234,-1.9341603517532349,6.254512310028076,2.4926254749298096,6.906386852264404,-2.927448034286499,1.2360477447509766,7.719051837921143,-6.940002918243408,-3.970400333404541,-5.330342769622803,2.5963008403778076,-5.9910054206848145,-5.829744815826416,6.005828380584717,6.339749813079834,2.983581781387329,-7.1020989418029785,-7.872076034545898,2.879138708114624,0.30379775166511536,7.251452922821045,5.933572769165039,7.045839786529541,0.5552612543106079,1.967573642730713,1.2344051599502563,0.8715660572052002,6.964627742767334,-2.396677255630493,1.8871372938156128,-6.952519416809082,-7.928818702697754,-2.7266581058502197,0.22051264345645905,2.1637604236602783,0.47414955496788025,6.044374465942383,7.371941089630127,5.920317649841309],\"xaxis\":\"x\",\"y\":[2.5743539333343506,1.9448022842407227,3.1848015785217285,-0.08287758380174637,-0.7492771148681641,1.5473300218582153,0.47955650091171265,-0.23376084864139557,2.649082660675049,4.661096096038818,2.0900871753692627,-1.4909744262695312,0.18005743622779846,-0.11685734987258911,-2.675053596496582,0.6264545917510986,-4.662498950958252,-1.1678920984268188,1.3260643482208252,-2.5759618282318115,-2.0648550987243652,0.2621958255767822,1.4264250993728638,0.007120939902961254,-4.4319071769714355,0.06082013249397278,0.09518205374479294,0.5088968276977539,1.2391151189804077,-0.49926644563674927,0.16296911239624023,-2.062128782272339,1.756476879119873,0.5192451477050781,-1.4004170894622803,0.6357426643371582,-2.0970311164855957,-2.161092519760132,0.5577566623687744,-0.4120393693447113,-0.9538387060165405,-0.9963186383247375,3.320356607437134,-3.3877787590026855,0.7194380164146423,0.6427552700042725,0.1200261116027832,-0.7616316676139832,0.6227083206176758,-0.7792767286300659,1.8243589401245117,0.328621506690979,0.29098379611968994,-0.7043880224227905,-0.7653538584709167,1.879902958869934,0.7931658625602722,-2.511415481567383,0.10355480760335922,-3.3732750415802,0.25379323959350586,-0.7403467297554016,1.7591439485549927,2.050339698791504,2.782435894012451,3.5870394706726074,-0.268511027097702,1.598759651184082,-0.42039555311203003,-2.9949817657470703,1.8241798877716064,3.4725241661071777,2.23995304107666,-0.1813889443874359,5.878767490386963,2.9099090099334717,-4.2634196281433105,0.5678097605705261,2.2122323513031006,-2.7068824768066406,-1.783861756324768,3.6311774253845215,0.9228079915046692,-1.0816702842712402,-0.2595994174480438,-0.05546164885163307,1.8077507019042969,2.1280789375305176,-1.6559245586395264,2.522097587585449,-2.7350618839263916,-1.8751704692840576,1.4651696681976318,1.0430620908737183,1.0132052898406982,2.7185380458831787,0.009343313053250313,-4.5098347663879395,-2.7043275833129883,1.5350711345672607,-0.30760207772254944,0.5059744119644165,-0.7923635840415955,2.1326797008514404,1.4287645816802979,1.2700188159942627,-0.9776761531829834,4.723114967346191,2.8732099533081055,-0.7993388772010803,-0.10089839994907379,-0.7824828028678894,-0.6758762001991272,-0.21093302965164185,0.15426675975322723,-0.3109511435031891,5.859318256378174,1.1936782598495483,-0.0297539159655571,-1.801098346710205,5.2103471755981445,1.4688804149627686,0.43027034401893616,-0.986700713634491,1.430328130722046,-2.1671934127807617,0.16167743504047394,0.09478273242712021,-2.8249545097351074,1.684097170829773,0.45355796813964844,-4.7840423583984375,2.625999689102173,-2.0151829719543457,-0.8134343028068542,-0.45442917943000793,-5.206081867218018,3.3711416721343994,-0.9116587042808533,-4.927565097808838,0.6519137620925903,-1.8499562740325928,2.640871286392212,2.5955469608306885,3.39839768409729,-0.499575138092041,0.5622102618217468,5.835853576660156,1.047570824623108,2.016221523284912,-0.8448545932769775,3.151968002319336,-1.9761024713516235,0.6533036231994629,2.9543709754943848,-0.9558782577514648,-0.872872531414032],\"yaxis\":\"y\"}],                        {\"legend\":{\"tracegroupgap\":0},\"margin\":{\"t\":60},\"template\":{\"data\":{\"bar\":[{\"error_x\":{\"color\":\"#2a3f5f\"},\"error_y\":{\"color\":\"#2a3f5f\"},\"marker\":{\"line\":{\"color\":\"#E5ECF6\",\"width\":0.5},\"pattern\":{\"fillmode\":\"overlay\",\"size\":10,\"solidity\":0.2}},\"type\":\"bar\"}],\"barpolar\":[{\"marker\":{\"line\":{\"color\":\"#E5ECF6\",\"width\":0.5},\"pattern\":{\"fillmode\":\"overlay\",\"size\":10,\"solidity\":0.2}},\"type\":\"barpolar\"}],\"carpet\":[{\"aaxis\":{\"endlinecolor\":\"#2a3f5f\",\"gridcolor\":\"white\",\"linecolor\":\"white\",\"minorgridcolor\":\"white\",\"startlinecolor\":\"#2a3f5f\"},\"baxis\":{\"endlinecolor\":\"#2a3f5f\",\"gridcolor\":\"white\",\"linecolor\":\"white\",\"minorgridcolor\":\"white\",\"startlinecolor\":\"#2a3f5f\"},\"type\":\"carpet\"}],\"choropleth\":[{\"colorbar\":{\"outlinewidth\":0,\"ticks\":\"\"},\"type\":\"choropleth\"}],\"contour\":[{\"colorbar\":{\"outlinewidth\":0,\"ticks\":\"\"},\"colorscale\":[[0.0,\"#0d0887\"],[0.1111111111111111,\"#46039f\"],[0.2222222222222222,\"#7201a8\"],[0.3333333333333333,\"#9c179e\"],[0.4444444444444444,\"#bd3786\"],[0.5555555555555556,\"#d8576b\"],[0.6666666666666666,\"#ed7953\"],[0.7777777777777778,\"#fb9f3a\"],[0.8888888888888888,\"#fdca26\"],[1.0,\"#f0f921\"]],\"type\":\"contour\"}],\"contourcarpet\":[{\"colorbar\":{\"outlinewidth\":0,\"ticks\":\"\"},\"type\":\"contourcarpet\"}],\"heatmap\":[{\"colorbar\":{\"outlinewidth\":0,\"ticks\":\"\"},\"colorscale\":[[0.0,\"#0d0887\"],[0.1111111111111111,\"#46039f\"],[0.2222222222222222,\"#7201a8\"],[0.3333333333333333,\"#9c179e\"],[0.4444444444444444,\"#bd3786\"],[0.5555555555555556,\"#d8576b\"],[0.6666666666666666,\"#ed7953\"],[0.7777777777777778,\"#fb9f3a\"],[0.8888888888888888,\"#fdca26\"],[1.0,\"#f0f921\"]],\"type\":\"heatmap\"}],\"heatmapgl\":[{\"colorbar\":{\"outlinewidth\":0,\"ticks\":\"\"},\"colorscale\":[[0.0,\"#0d0887\"],[0.1111111111111111,\"#46039f\"],[0.2222222222222222,\"#7201a8\"],[0.3333333333333333,\"#9c179e\"],[0.4444444444444444,\"#bd3786\"],[0.5555555555555556,\"#d8576b\"],[0.6666666666666666,\"#ed7953\"],[0.7777777777777778,\"#fb9f3a\"],[0.8888888888888888,\"#fdca26\"],[1.0,\"#f0f921\"]],\"type\":\"heatmapgl\"}],\"histogram\":[{\"marker\":{\"pattern\":{\"fillmode\":\"overlay\",\"size\":10,\"solidity\":0.2}},\"type\":\"histogram\"}],\"histogram2d\":[{\"colorbar\":{\"outlinewidth\":0,\"ticks\":\"\"},\"colorscale\":[[0.0,\"#0d0887\"],[0.1111111111111111,\"#46039f\"],[0.2222222222222222,\"#7201a8\"],[0.3333333333333333,\"#9c179e\"],[0.4444444444444444,\"#bd3786\"],[0.5555555555555556,\"#d8576b\"],[0.6666666666666666,\"#ed7953\"],[0.7777777777777778,\"#fb9f3a\"],[0.8888888888888888,\"#fdca26\"],[1.0,\"#f0f921\"]],\"type\":\"histogram2d\"}],\"histogram2dcontour\":[{\"colorbar\":{\"outlinewidth\":0,\"ticks\":\"\"},\"colorscale\":[[0.0,\"#0d0887\"],[0.1111111111111111,\"#46039f\"],[0.2222222222222222,\"#7201a8\"],[0.3333333333333333,\"#9c179e\"],[0.4444444444444444,\"#bd3786\"],[0.5555555555555556,\"#d8576b\"],[0.6666666666666666,\"#ed7953\"],[0.7777777777777778,\"#fb9f3a\"],[0.8888888888888888,\"#fdca26\"],[1.0,\"#f0f921\"]],\"type\":\"histogram2dcontour\"}],\"mesh3d\":[{\"colorbar\":{\"outlinewidth\":0,\"ticks\":\"\"},\"type\":\"mesh3d\"}],\"parcoords\":[{\"line\":{\"colorbar\":{\"outlinewidth\":0,\"ticks\":\"\"}},\"type\":\"parcoords\"}],\"pie\":[{\"automargin\":true,\"type\":\"pie\"}],\"scatter\":[{\"marker\":{\"colorbar\":{\"outlinewidth\":0,\"ticks\":\"\"}},\"type\":\"scatter\"}],\"scatter3d\":[{\"line\":{\"colorbar\":{\"outlinewidth\":0,\"ticks\":\"\"}},\"marker\":{\"colorbar\":{\"outlinewidth\":0,\"ticks\":\"\"}},\"type\":\"scatter3d\"}],\"scattercarpet\":[{\"marker\":{\"colorbar\":{\"outlinewidth\":0,\"ticks\":\"\"}},\"type\":\"scattercarpet\"}],\"scattergeo\":[{\"marker\":{\"colorbar\":{\"outlinewidth\":0,\"ticks\":\"\"}},\"type\":\"scattergeo\"}],\"scattergl\":[{\"marker\":{\"colorbar\":{\"outlinewidth\":0,\"ticks\":\"\"}},\"type\":\"scattergl\"}],\"scattermapbox\":[{\"marker\":{\"colorbar\":{\"outlinewidth\":0,\"ticks\":\"\"}},\"type\":\"scattermapbox\"}],\"scatterpolar\":[{\"marker\":{\"colorbar\":{\"outlinewidth\":0,\"ticks\":\"\"}},\"type\":\"scatterpolar\"}],\"scatterpolargl\":[{\"marker\":{\"colorbar\":{\"outlinewidth\":0,\"ticks\":\"\"}},\"type\":\"scatterpolargl\"}],\"scatterternary\":[{\"marker\":{\"colorbar\":{\"outlinewidth\":0,\"ticks\":\"\"}},\"type\":\"scatterternary\"}],\"surface\":[{\"colorbar\":{\"outlinewidth\":0,\"ticks\":\"\"},\"colorscale\":[[0.0,\"#0d0887\"],[0.1111111111111111,\"#46039f\"],[0.2222222222222222,\"#7201a8\"],[0.3333333333333333,\"#9c179e\"],[0.4444444444444444,\"#bd3786\"],[0.5555555555555556,\"#d8576b\"],[0.6666666666666666,\"#ed7953\"],[0.7777777777777778,\"#fb9f3a\"],[0.8888888888888888,\"#fdca26\"],[1.0,\"#f0f921\"]],\"type\":\"surface\"}],\"table\":[{\"cells\":{\"fill\":{\"color\":\"#EBF0F8\"},\"line\":{\"color\":\"white\"}},\"header\":{\"fill\":{\"color\":\"#C8D4E3\"},\"line\":{\"color\":\"white\"}},\"type\":\"table\"}]},\"layout\":{\"annotationdefaults\":{\"arrowcolor\":\"#2a3f5f\",\"arrowhead\":0,\"arrowwidth\":1},\"autotypenumbers\":\"strict\",\"coloraxis\":{\"colorbar\":{\"outlinewidth\":0,\"ticks\":\"\"}},\"colorscale\":{\"diverging\":[[0,\"#8e0152\"],[0.1,\"#c51b7d\"],[0.2,\"#de77ae\"],[0.3,\"#f1b6da\"],[0.4,\"#fde0ef\"],[0.5,\"#f7f7f7\"],[0.6,\"#e6f5d0\"],[0.7,\"#b8e186\"],[0.8,\"#7fbc41\"],[0.9,\"#4d9221\"],[1,\"#276419\"]],\"sequential\":[[0.0,\"#0d0887\"],[0.1111111111111111,\"#46039f\"],[0.2222222222222222,\"#7201a8\"],[0.3333333333333333,\"#9c179e\"],[0.4444444444444444,\"#bd3786\"],[0.5555555555555556,\"#d8576b\"],[0.6666666666666666,\"#ed7953\"],[0.7777777777777778,\"#fb9f3a\"],[0.8888888888888888,\"#fdca26\"],[1.0,\"#f0f921\"]],\"sequentialminus\":[[0.0,\"#0d0887\"],[0.1111111111111111,\"#46039f\"],[0.2222222222222222,\"#7201a8\"],[0.3333333333333333,\"#9c179e\"],[0.4444444444444444,\"#bd3786\"],[0.5555555555555556,\"#d8576b\"],[0.6666666666666666,\"#ed7953\"],[0.7777777777777778,\"#fb9f3a\"],[0.8888888888888888,\"#fdca26\"],[1.0,\"#f0f921\"]]},\"colorway\":[\"#636efa\",\"#EF553B\",\"#00cc96\",\"#ab63fa\",\"#FFA15A\",\"#19d3f3\",\"#FF6692\",\"#B6E880\",\"#FF97FF\",\"#FECB52\"],\"font\":{\"color\":\"#2a3f5f\"},\"geo\":{\"bgcolor\":\"white\",\"lakecolor\":\"white\",\"landcolor\":\"#E5ECF6\",\"showlakes\":true,\"showland\":true,\"subunitcolor\":\"white\"},\"hoverlabel\":{\"align\":\"left\"},\"hovermode\":\"closest\",\"mapbox\":{\"style\":\"light\"},\"paper_bgcolor\":\"white\",\"plot_bgcolor\":\"#E5ECF6\",\"polar\":{\"angularaxis\":{\"gridcolor\":\"white\",\"linecolor\":\"white\",\"ticks\":\"\"},\"bgcolor\":\"#E5ECF6\",\"radialaxis\":{\"gridcolor\":\"white\",\"linecolor\":\"white\",\"ticks\":\"\"}},\"scene\":{\"xaxis\":{\"backgroundcolor\":\"#E5ECF6\",\"gridcolor\":\"white\",\"gridwidth\":2,\"linecolor\":\"white\",\"showbackground\":true,\"ticks\":\"\",\"zerolinecolor\":\"white\"},\"yaxis\":{\"backgroundcolor\":\"#E5ECF6\",\"gridcolor\":\"white\",\"gridwidth\":2,\"linecolor\":\"white\",\"showbackground\":true,\"ticks\":\"\",\"zerolinecolor\":\"white\"},\"zaxis\":{\"backgroundcolor\":\"#E5ECF6\",\"gridcolor\":\"white\",\"gridwidth\":2,\"linecolor\":\"white\",\"showbackground\":true,\"ticks\":\"\",\"zerolinecolor\":\"white\"}},\"shapedefaults\":{\"line\":{\"color\":\"#2a3f5f\"}},\"ternary\":{\"aaxis\":{\"gridcolor\":\"white\",\"linecolor\":\"white\",\"ticks\":\"\"},\"baxis\":{\"gridcolor\":\"white\",\"linecolor\":\"white\",\"ticks\":\"\"},\"bgcolor\":\"#E5ECF6\",\"caxis\":{\"gridcolor\":\"white\",\"linecolor\":\"white\",\"ticks\":\"\"}},\"title\":{\"x\":0.05},\"xaxis\":{\"automargin\":true,\"gridcolor\":\"white\",\"linecolor\":\"white\",\"ticks\":\"\",\"title\":{\"standoff\":15},\"zerolinecolor\":\"white\",\"zerolinewidth\":2},\"yaxis\":{\"automargin\":true,\"gridcolor\":\"white\",\"linecolor\":\"white\",\"ticks\":\"\",\"title\":{\"standoff\":15},\"zerolinecolor\":\"white\",\"zerolinewidth\":2}}},\"title\":{\"text\":\"2D t-SNE Transformation with dataB DataFrame\",\"x\":0.5},\"xaxis\":{\"anchor\":\"y\",\"domain\":[0.0,1.0],\"title\":{\"text\":\"PC1\"}},\"yaxis\":{\"anchor\":\"x\",\"domain\":[0.0,1.0],\"title\":{\"text\":\"PC2\"}}},                        {\"responsive\": true}                    ).then(function(){\n",
       "                            \n",
       "var gd = document.getElementById('e05100dc-6d02-4dd2-81e6-afb8d364fcb8');\n",
       "var x = new MutationObserver(function (mutations, observer) {{\n",
       "        var display = window.getComputedStyle(gd).display;\n",
       "        if (!display || display === 'none') {{\n",
       "            console.log([gd, 'removed!']);\n",
       "            Plotly.purge(gd);\n",
       "            observer.disconnect();\n",
       "        }}\n",
       "}});\n",
       "\n",
       "// Listen for the removal of the full notebook cells\n",
       "var notebookContainer = gd.closest('#notebook-container');\n",
       "if (notebookContainer) {{\n",
       "    x.observe(notebookContainer, {childList: true});\n",
       "}}\n",
       "\n",
       "// Listen for the clearing of the current output cell\n",
       "var outputEl = gd.closest('.output');\n",
       "if (outputEl) {{\n",
       "    x.observe(outputEl, {childList: true});\n",
       "}}\n",
       "\n",
       "                        })                };                });            </script>        </div>"
      ]
     },
     "metadata": {},
     "output_type": "display_data"
    }
   ],
   "source": [
    "np.random.seed(101)\n",
    "modified_data2 = tSNE_data(pca_data(x,2).iloc[:,1:].values, 2)\n",
    "\n",
    "fig = px.scatter(modified_data2, x='PC1', y='PC2', text='COUNTRY')\n",
    "fig.update_traces(textposition='top center')\n",
    "fig.update_layout(title_text='2D t-SNE Transformation with PCA 2 dimensions', title_x=0.5)\n",
    "fig.show()\n",
    "\n",
    "modified_data3 = tSNE_data(pca_data(x,5).iloc[:,1:].values, 2)\n",
    "\n",
    "fig = px.scatter(modified_data3, x='PC1', y='PC2', text='COUNTRY')\n",
    "fig.update_traces(textposition='top center')\n",
    "fig.update_layout(title_text='2D t-SNE Transformation with PCA 5 dimensions', title_x=0.5)\n",
    "fig.show()\n",
    "\n",
    "modified_data4 = tSNE_data(x, 2)\n",
    "\n",
    "fig = px.scatter(modified_data4, x='PC1', y='PC2', text='COUNTRY')\n",
    "fig.update_traces(textposition='top center')\n",
    "fig.update_layout(title_text='2D t-SNE Transformation with dataB DataFrame', title_x=0.5)\n",
    "fig.show()"
   ]
  },
  {
   "cell_type": "code",
   "execution_count": 148,
   "id": "22c0dbc3",
   "metadata": {},
   "outputs": [
    {
     "data": {
      "application/vnd.plotly.v1+json": {
       "config": {
        "plotlyServerURL": "https://plot.ly"
       },
       "data": [
        {
         "hovertemplate": "PC1=%{x}<br>PC2=%{y}<br>COUNTRY=%{text}<extra></extra>",
         "legendgroup": "",
         "marker": {
          "color": "#636efa",
          "symbol": "circle"
         },
         "mode": "markers+text",
         "name": "",
         "orientation": "v",
         "showlegend": false,
         "text": [
          "Afghanistan",
          "Albania",
          "Algeria",
          "Angola",
          "Argentina",
          "Armenia",
          "Australia",
          "Austria",
          "Azerbaijan",
          "Bahrain",
          "Bangladesh",
          "Barbados",
          "Belarus",
          "Belgium",
          "Belize",
          "Benin",
          "Bhutan",
          "Bolivia",
          "Bosnia and Herzegovina",
          "Botswana",
          "Brazil",
          "Bulgaria",
          "Burkina Faso",
          "Burundi",
          "Cambodia",
          "Cameroon",
          "Canada",
          "Central African Republic",
          "Chad",
          "Chile",
          "China",
          "Colombia",
          "Comoros",
          "Democratic Republic of the Congo",
          "Costa Rica",
          "Croatia",
          "Cuba",
          "Cyprus",
          "Czech Republic",
          "Denmark",
          "Dominican Republic",
          "Ecuador",
          "Egypt",
          "El Salvador",
          "Estonia",
          "Ethiopia",
          "Fiji",
          "Finland",
          "France",
          "Gabon",
          "Georgia",
          "Germany",
          "Ghana",
          "Greece",
          "Guatemala",
          "Guinea",
          "Guinea Bissau",
          "Guyana",
          "Haiti",
          "Honduras",
          "Hungary",
          "Iceland",
          "India",
          "Indonesia",
          "Iran",
          "Iraq",
          "Ireland",
          "Israel",
          "Italy",
          "Jamaica",
          "Japan",
          "Jordan",
          "Kazakhstan",
          "Kenya",
          "Kuwait",
          "Kyrgyzstan",
          "Laos",
          "Latvia",
          "Lebanon",
          "Lesotho",
          "Liberia",
          "Libya",
          "Lithuania",
          "Luxembourg",
          "Madagascar",
          "Malawi",
          "Malaysia",
          "Mali",
          "Malta",
          "Mauritania",
          "Mauritius",
          "Mexico",
          "Moldova",
          "Mongolia",
          "Montenegro",
          "Morocco",
          "Mozambique",
          "Myanmar",
          "Namibia",
          "Nepal",
          "Netherlands",
          "New Zealand",
          "Nicaragua",
          "Niger",
          "Nigeria",
          "North Macedonia",
          "Norway",
          "Oman",
          "Pakistan",
          "Panama",
          "Papua New Guinea",
          "Paraguay",
          "Peru",
          "Philippines",
          "Poland",
          "Portugal",
          "Qatar",
          "Romania",
          "Russia",
          "Rwanda",
          "Saudi Arabia",
          "Senegal",
          "Serbia",
          "Seychelles",
          "Sierra Leone",
          "Singapore",
          "Slovakia",
          "Slovenia",
          "South Africa",
          "South Korea",
          "Spain",
          "Sri Lanka",
          "Sudan",
          "Suriname",
          "Sweden",
          "Switzerland",
          "Syria",
          "Tajikistan",
          "Tanzania",
          "Thailand",
          "Togo",
          "Trinidad and Tobago",
          "Tunisia",
          "Turkey",
          "Turkmenistan",
          "Uganda",
          "Ukraine",
          "United Arab Emirates",
          "United Kingdom",
          "United States",
          "Uruguay",
          "Uzbekistan",
          "Venezuela",
          "Vietnam",
          "Yemen",
          "Zambia",
          "Zimbabwe"
         ],
         "textposition": "top center",
         "type": "scatter",
         "x": [
          -5.549892317555513,
          1.5081397589416283,
          -1.6176716306712722,
          -4.997684401249301,
          2.440172731558657,
          0.8759299173250539,
          5.973413548037299,
          6.199364578227759,
          -0.29343174866239213,
          -0.22237186696549652,
          -2.849790500270555,
          1.8391914104336349,
          2.349323435733134,
          6.0613500421324,
          -0.8513282040411453,
          -5.268215502639589,
          -1.823207280472417,
          -1.8083275532605043,
          1.324947228512642,
          -1.4507352721285967,
          1.0457325671402082,
          2.98742757110347,
          -5.1453074095593125,
          -5.672438973031422,
          -2.9702110272828017,
          -5.065529774911684,
          6.762811110075135,
          -6.797578726237286,
          -7.109267829185315,
          3.3504922282763965,
          1.0413062603297576,
          -0.17472243144830504,
          -5.303390159214109,
          -5.952737876432089,
          1.1702769673468572,
          3.0715051222022436,
          1.3275181312731463,
          4.484527382748225,
          4.970475506155227,
          7.763185785206305,
          -1.058348694089722,
          -0.6086260753759614,
          -2.4504772958096686,
          -1.149977173444136,
          4.95419325371042,
          -5.043397371175135,
          -0.8207288006664761,
          6.8281402149318255,
          6.045279347759015,
          -2.2047184369714383,
          1.6311405074016145,
          6.477566348476387,
          -3.9084455449545343,
          4.296743397875491,
          -2.7031765844630096,
          -6.021557229666594,
          -5.717000964343033,
          -1.2895878225460016,
          -4.17734162031237,
          -2.213166878624051,
          4.2330477273763885,
          6.805787169370595,
          -2.1973878068771584,
          -1.9424368594058543,
          -0.6480956750642952,
          -2.5755745655498936,
          7.266941493889,
          3.8091294665236655,
          4.6324980996751615,
          -0.13530477477570904,
          4.676567567042412,
          -0.887269393763041,
          1.2830050440370284,
          -4.013358439453618,
          0.7786328035290949,
          -0.6738577117787999,
          -2.8758690815731165,
          3.937445841804059,
          0.32320235668500624,
          -3.328110715140963,
          -4.44353657871959,
          -1.853688796845321,
          4.567137911820953,
          7.759393393016687,
          -4.339836844654577,
          -4.921316036758432,
          -0.1356304038363624,
          -5.941037485007092,
          4.643136938020498,
          -4.5447529983442765,
          1.4574219211494326,
          0.4935725247400039,
          1.5121154846847042,
          0.33599112883485,
          2.3250816870977418,
          -1.3444996477278686,
          -5.725996294930751,
          -2.690880891023313,
          -1.9746580047175153,
          -2.40272841327689,
          6.559425495677507,
          6.013757648834206,
          -1.8088902058398686,
          -6.846122847592427,
          -5.03144515062151,
          1.3305749706712524,
          7.4323469760163,
          -1.4719643884462734,
          -4.152320456574705,
          0.30657387502743133,
          -3.5533691909107628,
          -0.32582382087188244,
          -0.17945765212459472,
          -1.5967299850357477,
          4.152173030805006,
          4.564289903992395,
          1.2199483180996238,
          3.1883785086660477,
          2.9262249808926613,
          -3.4087103011290973,
          -0.14169428035571482,
          -4.813241047714432,
          2.53211502979109,
          0.2544498360444827,
          -5.721424401205794,
          3.913220147812925,
          3.5973986814469185,
          4.89605747963147,
          -0.6808321710157605,
          4.8141387513594145,
          5.441298479471452,
          -1.5063396789285493,
          -4.778596126796332,
          -0.6210708273426798,
          7.266122129855845,
          7.561127696647148,
          -2.3252184170897503,
          -2.876343205616875,
          -4.330749643533631,
          0.16219694311504723,
          -5.1864402828562035,
          0.6592569218384242,
          -0.14168823564518607,
          0.9803690255786001,
          -1.7151867846099493,
          -4.410269874123458,
          2.0246582366114527,
          1.3702044960501587,
          6.385971841718198,
          6.360565821361071,
          2.8949091136316905,
          -1.5965515334966534,
          -2.075831852035281,
          -0.6807749814165859,
          -5.219351392303694,
          -5.070262240264933,
          -4.2750978804750295
         ],
         "xaxis": "x",
         "y": [
          -1.9900812012790385,
          -0.721853586144598,
          -2.6061998109653035,
          1.4072739282350681,
          1.5008756192508281,
          0.27508227346529923,
          -0.5989802811746882,
          -0.3804323813672482,
          -2.631893580589062,
          -1.5646792951560267,
          -2.399044119179052,
          0.990248779953428,
          1.3237900157963354,
          -0.19909088268765945,
          3.104950477448467,
          0.43674622983230216,
          -0.6105132964545853,
          1.7073384941222391,
          -0.39846343033490006,
          2.586137466134632,
          2.6934594827267113,
          1.3437789699735414,
          -1.0088546838243186,
          1.0107314942246834,
          -0.046379518427602545,
          0.934658357744157,
          -0.48348233802317947,
          1.1614014307998746,
          -0.5638635694505321,
          0.9636570586813692,
          -0.7467654249016067,
          1.6364410895202077,
          -1.6946772271009292,
          0.11578925555555432,
          2.0524677188447993,
          0.6684369504496189,
          2.9685561878283075,
          0.6798895864492916,
          0.14154690425424207,
          -0.6592010235651455,
          1.3264449112750136,
          1.702119085909779,
          -2.9577620098606725,
          3.3513445840971263,
          0.5820411040500761,
          -0.03570545870539159,
          0.876239890701886,
          -0.3763180117926516,
          -0.35882695655549907,
          1.261136432569855,
          0.4878212924673375,
          -0.5064637562007968,
          0.6118151218675307,
          0.6822147009389838,
          1.331155245662926,
          -1.7888188248021308,
          0.026968582992118788,
          3.1178804617286238,
          1.1994672575445349,
          1.7466804963230624,
          0.4090109334751364,
          -1.1332831228296034,
          -0.5153152992367876,
          -1.8350266749558133,
          -1.8110653380053903,
          -2.868500954206494,
          -1.2883361556602193,
          -0.3030598939156226,
          -0.17172943498489168,
          1.7852705999893277,
          -0.7790124859337167,
          -2.6907518364502074,
          -0.9353802525070493,
          0.6273432233382572,
          -5.106451443833471,
          -0.8954681207725337,
          -0.42776988310045144,
          1.5903034193040433,
          -1.3174803094673266,
          6.128397338632218,
          -0.4683933719852654,
          -3.442622266511483,
          1.602527589587157,
          -2.4913342660142104,
          0.9831082400738085,
          0.9680947730544663,
          -1.2481522811990071,
          -2.253084833109375,
          -0.1945332269685662,
          -2.6033399168062137,
          1.8764543116640187,
          1.822597941950462,
          1.3235746727520181,
          1.108626935693593,
          0.956583185435052,
          -1.683913760405747,
          1.7741693603337558,
          -0.8256914605070393,
          3.114851572666984,
          -0.2514763755251858,
          -1.118015625987581,
          -0.5528280802508524,
          1.7001876224727306,
          -2.0391340663350443,
          -0.8238113581906599,
          0.12869665179880493,
          -1.3848010982449426,
          -3.2100821044791568,
          -3.2234129144304537,
          1.8856150831577976,
          0.49349267826251575,
          1.749700095912803,
          1.4376248892891261,
          0.9757510025686722,
          0.6573459341880759,
          0.4833434448532838,
          -4.495067313012103,
          0.40410978371694006,
          1.481562096337234,
          2.1174470667348713,
          -4.238747822188905,
          -1.245622727730173,
          1.284446488272465,
          2.6968314045235884,
          -0.5862368664641552,
          -2.2271864107018873,
          0.6264925800772686,
          0.041780147905728364,
          3.974804001192106,
          -0.18022956352605332,
          -0.2590229562298775,
          0.06437724099455897,
          -2.799270173848726,
          2.18147705914101,
          -0.6241549700589714,
          -1.6601947523556058,
          -5.054099025933736,
          -1.57052857141508,
          0.664914202474886,
          0.21668010776027352,
          0.19499222481687914,
          1.4194061044791517,
          -1.712630536758165,
          -1.5595691984174116,
          -0.2859426846215134,
          1.3189078907177478,
          1.3658949645790508,
          -4.126284342588981,
          -0.4377483060454544,
          0.5522574194057495,
          2.2872318568509526,
          -1.3915026168327576,
          2.4397461145285853,
          0.2990512104959783,
          -2.986626470278556,
          2.13828904380118,
          1.3023167416809707
         ],
         "yaxis": "y"
        }
       ],
       "layout": {
        "legend": {
         "tracegroupgap": 0
        },
        "margin": {
         "t": 60
        },
        "template": {
         "data": {
          "bar": [
           {
            "error_x": {
             "color": "#2a3f5f"
            },
            "error_y": {
             "color": "#2a3f5f"
            },
            "marker": {
             "line": {
              "color": "#E5ECF6",
              "width": 0.5
             },
             "pattern": {
              "fillmode": "overlay",
              "size": 10,
              "solidity": 0.2
             }
            },
            "type": "bar"
           }
          ],
          "barpolar": [
           {
            "marker": {
             "line": {
              "color": "#E5ECF6",
              "width": 0.5
             },
             "pattern": {
              "fillmode": "overlay",
              "size": 10,
              "solidity": 0.2
             }
            },
            "type": "barpolar"
           }
          ],
          "carpet": [
           {
            "aaxis": {
             "endlinecolor": "#2a3f5f",
             "gridcolor": "white",
             "linecolor": "white",
             "minorgridcolor": "white",
             "startlinecolor": "#2a3f5f"
            },
            "baxis": {
             "endlinecolor": "#2a3f5f",
             "gridcolor": "white",
             "linecolor": "white",
             "minorgridcolor": "white",
             "startlinecolor": "#2a3f5f"
            },
            "type": "carpet"
           }
          ],
          "choropleth": [
           {
            "colorbar": {
             "outlinewidth": 0,
             "ticks": ""
            },
            "type": "choropleth"
           }
          ],
          "contour": [
           {
            "colorbar": {
             "outlinewidth": 0,
             "ticks": ""
            },
            "colorscale": [
             [
              0,
              "#0d0887"
             ],
             [
              0.1111111111111111,
              "#46039f"
             ],
             [
              0.2222222222222222,
              "#7201a8"
             ],
             [
              0.3333333333333333,
              "#9c179e"
             ],
             [
              0.4444444444444444,
              "#bd3786"
             ],
             [
              0.5555555555555556,
              "#d8576b"
             ],
             [
              0.6666666666666666,
              "#ed7953"
             ],
             [
              0.7777777777777778,
              "#fb9f3a"
             ],
             [
              0.8888888888888888,
              "#fdca26"
             ],
             [
              1,
              "#f0f921"
             ]
            ],
            "type": "contour"
           }
          ],
          "contourcarpet": [
           {
            "colorbar": {
             "outlinewidth": 0,
             "ticks": ""
            },
            "type": "contourcarpet"
           }
          ],
          "heatmap": [
           {
            "colorbar": {
             "outlinewidth": 0,
             "ticks": ""
            },
            "colorscale": [
             [
              0,
              "#0d0887"
             ],
             [
              0.1111111111111111,
              "#46039f"
             ],
             [
              0.2222222222222222,
              "#7201a8"
             ],
             [
              0.3333333333333333,
              "#9c179e"
             ],
             [
              0.4444444444444444,
              "#bd3786"
             ],
             [
              0.5555555555555556,
              "#d8576b"
             ],
             [
              0.6666666666666666,
              "#ed7953"
             ],
             [
              0.7777777777777778,
              "#fb9f3a"
             ],
             [
              0.8888888888888888,
              "#fdca26"
             ],
             [
              1,
              "#f0f921"
             ]
            ],
            "type": "heatmap"
           }
          ],
          "heatmapgl": [
           {
            "colorbar": {
             "outlinewidth": 0,
             "ticks": ""
            },
            "colorscale": [
             [
              0,
              "#0d0887"
             ],
             [
              0.1111111111111111,
              "#46039f"
             ],
             [
              0.2222222222222222,
              "#7201a8"
             ],
             [
              0.3333333333333333,
              "#9c179e"
             ],
             [
              0.4444444444444444,
              "#bd3786"
             ],
             [
              0.5555555555555556,
              "#d8576b"
             ],
             [
              0.6666666666666666,
              "#ed7953"
             ],
             [
              0.7777777777777778,
              "#fb9f3a"
             ],
             [
              0.8888888888888888,
              "#fdca26"
             ],
             [
              1,
              "#f0f921"
             ]
            ],
            "type": "heatmapgl"
           }
          ],
          "histogram": [
           {
            "marker": {
             "pattern": {
              "fillmode": "overlay",
              "size": 10,
              "solidity": 0.2
             }
            },
            "type": "histogram"
           }
          ],
          "histogram2d": [
           {
            "colorbar": {
             "outlinewidth": 0,
             "ticks": ""
            },
            "colorscale": [
             [
              0,
              "#0d0887"
             ],
             [
              0.1111111111111111,
              "#46039f"
             ],
             [
              0.2222222222222222,
              "#7201a8"
             ],
             [
              0.3333333333333333,
              "#9c179e"
             ],
             [
              0.4444444444444444,
              "#bd3786"
             ],
             [
              0.5555555555555556,
              "#d8576b"
             ],
             [
              0.6666666666666666,
              "#ed7953"
             ],
             [
              0.7777777777777778,
              "#fb9f3a"
             ],
             [
              0.8888888888888888,
              "#fdca26"
             ],
             [
              1,
              "#f0f921"
             ]
            ],
            "type": "histogram2d"
           }
          ],
          "histogram2dcontour": [
           {
            "colorbar": {
             "outlinewidth": 0,
             "ticks": ""
            },
            "colorscale": [
             [
              0,
              "#0d0887"
             ],
             [
              0.1111111111111111,
              "#46039f"
             ],
             [
              0.2222222222222222,
              "#7201a8"
             ],
             [
              0.3333333333333333,
              "#9c179e"
             ],
             [
              0.4444444444444444,
              "#bd3786"
             ],
             [
              0.5555555555555556,
              "#d8576b"
             ],
             [
              0.6666666666666666,
              "#ed7953"
             ],
             [
              0.7777777777777778,
              "#fb9f3a"
             ],
             [
              0.8888888888888888,
              "#fdca26"
             ],
             [
              1,
              "#f0f921"
             ]
            ],
            "type": "histogram2dcontour"
           }
          ],
          "mesh3d": [
           {
            "colorbar": {
             "outlinewidth": 0,
             "ticks": ""
            },
            "type": "mesh3d"
           }
          ],
          "parcoords": [
           {
            "line": {
             "colorbar": {
              "outlinewidth": 0,
              "ticks": ""
             }
            },
            "type": "parcoords"
           }
          ],
          "pie": [
           {
            "automargin": true,
            "type": "pie"
           }
          ],
          "scatter": [
           {
            "marker": {
             "colorbar": {
              "outlinewidth": 0,
              "ticks": ""
             }
            },
            "type": "scatter"
           }
          ],
          "scatter3d": [
           {
            "line": {
             "colorbar": {
              "outlinewidth": 0,
              "ticks": ""
             }
            },
            "marker": {
             "colorbar": {
              "outlinewidth": 0,
              "ticks": ""
             }
            },
            "type": "scatter3d"
           }
          ],
          "scattercarpet": [
           {
            "marker": {
             "colorbar": {
              "outlinewidth": 0,
              "ticks": ""
             }
            },
            "type": "scattercarpet"
           }
          ],
          "scattergeo": [
           {
            "marker": {
             "colorbar": {
              "outlinewidth": 0,
              "ticks": ""
             }
            },
            "type": "scattergeo"
           }
          ],
          "scattergl": [
           {
            "marker": {
             "colorbar": {
              "outlinewidth": 0,
              "ticks": ""
             }
            },
            "type": "scattergl"
           }
          ],
          "scattermapbox": [
           {
            "marker": {
             "colorbar": {
              "outlinewidth": 0,
              "ticks": ""
             }
            },
            "type": "scattermapbox"
           }
          ],
          "scatterpolar": [
           {
            "marker": {
             "colorbar": {
              "outlinewidth": 0,
              "ticks": ""
             }
            },
            "type": "scatterpolar"
           }
          ],
          "scatterpolargl": [
           {
            "marker": {
             "colorbar": {
              "outlinewidth": 0,
              "ticks": ""
             }
            },
            "type": "scatterpolargl"
           }
          ],
          "scatterternary": [
           {
            "marker": {
             "colorbar": {
              "outlinewidth": 0,
              "ticks": ""
             }
            },
            "type": "scatterternary"
           }
          ],
          "surface": [
           {
            "colorbar": {
             "outlinewidth": 0,
             "ticks": ""
            },
            "colorscale": [
             [
              0,
              "#0d0887"
             ],
             [
              0.1111111111111111,
              "#46039f"
             ],
             [
              0.2222222222222222,
              "#7201a8"
             ],
             [
              0.3333333333333333,
              "#9c179e"
             ],
             [
              0.4444444444444444,
              "#bd3786"
             ],
             [
              0.5555555555555556,
              "#d8576b"
             ],
             [
              0.6666666666666666,
              "#ed7953"
             ],
             [
              0.7777777777777778,
              "#fb9f3a"
             ],
             [
              0.8888888888888888,
              "#fdca26"
             ],
             [
              1,
              "#f0f921"
             ]
            ],
            "type": "surface"
           }
          ],
          "table": [
           {
            "cells": {
             "fill": {
              "color": "#EBF0F8"
             },
             "line": {
              "color": "white"
             }
            },
            "header": {
             "fill": {
              "color": "#C8D4E3"
             },
             "line": {
              "color": "white"
             }
            },
            "type": "table"
           }
          ]
         },
         "layout": {
          "annotationdefaults": {
           "arrowcolor": "#2a3f5f",
           "arrowhead": 0,
           "arrowwidth": 1
          },
          "autotypenumbers": "strict",
          "coloraxis": {
           "colorbar": {
            "outlinewidth": 0,
            "ticks": ""
           }
          },
          "colorscale": {
           "diverging": [
            [
             0,
             "#8e0152"
            ],
            [
             0.1,
             "#c51b7d"
            ],
            [
             0.2,
             "#de77ae"
            ],
            [
             0.3,
             "#f1b6da"
            ],
            [
             0.4,
             "#fde0ef"
            ],
            [
             0.5,
             "#f7f7f7"
            ],
            [
             0.6,
             "#e6f5d0"
            ],
            [
             0.7,
             "#b8e186"
            ],
            [
             0.8,
             "#7fbc41"
            ],
            [
             0.9,
             "#4d9221"
            ],
            [
             1,
             "#276419"
            ]
           ],
           "sequential": [
            [
             0,
             "#0d0887"
            ],
            [
             0.1111111111111111,
             "#46039f"
            ],
            [
             0.2222222222222222,
             "#7201a8"
            ],
            [
             0.3333333333333333,
             "#9c179e"
            ],
            [
             0.4444444444444444,
             "#bd3786"
            ],
            [
             0.5555555555555556,
             "#d8576b"
            ],
            [
             0.6666666666666666,
             "#ed7953"
            ],
            [
             0.7777777777777778,
             "#fb9f3a"
            ],
            [
             0.8888888888888888,
             "#fdca26"
            ],
            [
             1,
             "#f0f921"
            ]
           ],
           "sequentialminus": [
            [
             0,
             "#0d0887"
            ],
            [
             0.1111111111111111,
             "#46039f"
            ],
            [
             0.2222222222222222,
             "#7201a8"
            ],
            [
             0.3333333333333333,
             "#9c179e"
            ],
            [
             0.4444444444444444,
             "#bd3786"
            ],
            [
             0.5555555555555556,
             "#d8576b"
            ],
            [
             0.6666666666666666,
             "#ed7953"
            ],
            [
             0.7777777777777778,
             "#fb9f3a"
            ],
            [
             0.8888888888888888,
             "#fdca26"
            ],
            [
             1,
             "#f0f921"
            ]
           ]
          },
          "colorway": [
           "#636efa",
           "#EF553B",
           "#00cc96",
           "#ab63fa",
           "#FFA15A",
           "#19d3f3",
           "#FF6692",
           "#B6E880",
           "#FF97FF",
           "#FECB52"
          ],
          "font": {
           "color": "#2a3f5f"
          },
          "geo": {
           "bgcolor": "white",
           "lakecolor": "white",
           "landcolor": "#E5ECF6",
           "showlakes": true,
           "showland": true,
           "subunitcolor": "white"
          },
          "hoverlabel": {
           "align": "left"
          },
          "hovermode": "closest",
          "mapbox": {
           "style": "light"
          },
          "paper_bgcolor": "white",
          "plot_bgcolor": "#E5ECF6",
          "polar": {
           "angularaxis": {
            "gridcolor": "white",
            "linecolor": "white",
            "ticks": ""
           },
           "bgcolor": "#E5ECF6",
           "radialaxis": {
            "gridcolor": "white",
            "linecolor": "white",
            "ticks": ""
           }
          },
          "scene": {
           "xaxis": {
            "backgroundcolor": "#E5ECF6",
            "gridcolor": "white",
            "gridwidth": 2,
            "linecolor": "white",
            "showbackground": true,
            "ticks": "",
            "zerolinecolor": "white"
           },
           "yaxis": {
            "backgroundcolor": "#E5ECF6",
            "gridcolor": "white",
            "gridwidth": 2,
            "linecolor": "white",
            "showbackground": true,
            "ticks": "",
            "zerolinecolor": "white"
           },
           "zaxis": {
            "backgroundcolor": "#E5ECF6",
            "gridcolor": "white",
            "gridwidth": 2,
            "linecolor": "white",
            "showbackground": true,
            "ticks": "",
            "zerolinecolor": "white"
           }
          },
          "shapedefaults": {
           "line": {
            "color": "#2a3f5f"
           }
          },
          "ternary": {
           "aaxis": {
            "gridcolor": "white",
            "linecolor": "white",
            "ticks": ""
           },
           "baxis": {
            "gridcolor": "white",
            "linecolor": "white",
            "ticks": ""
           },
           "bgcolor": "#E5ECF6",
           "caxis": {
            "gridcolor": "white",
            "linecolor": "white",
            "ticks": ""
           }
          },
          "title": {
           "x": 0.05
          },
          "xaxis": {
           "automargin": true,
           "gridcolor": "white",
           "linecolor": "white",
           "ticks": "",
           "title": {
            "standoff": 15
           },
           "zerolinecolor": "white",
           "zerolinewidth": 2
          },
          "yaxis": {
           "automargin": true,
           "gridcolor": "white",
           "linecolor": "white",
           "ticks": "",
           "title": {
            "standoff": 15
           },
           "zerolinecolor": "white",
           "zerolinewidth": 2
          }
         }
        },
        "title": {
         "text": "2D PCA Transformation",
         "x": 0.5
        },
        "xaxis": {
         "anchor": "y",
         "domain": [
          0,
          1
         ],
         "title": {
          "text": "PC1"
         }
        },
        "yaxis": {
         "anchor": "x",
         "domain": [
          0,
          1
         ],
         "title": {
          "text": "PC2"
         }
        }
       }
      },
      "text/html": [
       "<div>                            <div id=\"3f4f29cd-ad5b-4574-9134-5bbc590916ac\" class=\"plotly-graph-div\" style=\"height:525px; width:100%;\"></div>            <script type=\"text/javascript\">                require([\"plotly\"], function(Plotly) {                    window.PLOTLYENV=window.PLOTLYENV || {};                                    if (document.getElementById(\"3f4f29cd-ad5b-4574-9134-5bbc590916ac\")) {                    Plotly.newPlot(                        \"3f4f29cd-ad5b-4574-9134-5bbc590916ac\",                        [{\"hovertemplate\":\"PC1=%{x}<br>PC2=%{y}<br>COUNTRY=%{text}<extra></extra>\",\"legendgroup\":\"\",\"marker\":{\"color\":\"#636efa\",\"symbol\":\"circle\"},\"mode\":\"markers+text\",\"name\":\"\",\"orientation\":\"v\",\"showlegend\":false,\"text\":[\"Afghanistan\",\"Albania\",\"Algeria\",\"Angola\",\"Argentina\",\"Armenia\",\"Australia\",\"Austria\",\"Azerbaijan\",\"Bahrain\",\"Bangladesh\",\"Barbados\",\"Belarus\",\"Belgium\",\"Belize\",\"Benin\",\"Bhutan\",\"Bolivia\",\"Bosnia and Herzegovina\",\"Botswana\",\"Brazil\",\"Bulgaria\",\"Burkina Faso\",\"Burundi\",\"Cambodia\",\"Cameroon\",\"Canada\",\"Central African Republic\",\"Chad\",\"Chile\",\"China\",\"Colombia\",\"Comoros\",\"Democratic Republic of the Congo\",\"Costa Rica\",\"Croatia\",\"Cuba\",\"Cyprus\",\"Czech Republic\",\"Denmark\",\"Dominican Republic\",\"Ecuador\",\"Egypt\",\"El Salvador\",\"Estonia\",\"Ethiopia\",\"Fiji\",\"Finland\",\"France\",\"Gabon\",\"Georgia\",\"Germany\",\"Ghana\",\"Greece\",\"Guatemala\",\"Guinea\",\"Guinea Bissau\",\"Guyana\",\"Haiti\",\"Honduras\",\"Hungary\",\"Iceland\",\"India\",\"Indonesia\",\"Iran\",\"Iraq\",\"Ireland\",\"Israel\",\"Italy\",\"Jamaica\",\"Japan\",\"Jordan\",\"Kazakhstan\",\"Kenya\",\"Kuwait\",\"Kyrgyzstan\",\"Laos\",\"Latvia\",\"Lebanon\",\"Lesotho\",\"Liberia\",\"Libya\",\"Lithuania\",\"Luxembourg\",\"Madagascar\",\"Malawi\",\"Malaysia\",\"Mali\",\"Malta\",\"Mauritania\",\"Mauritius\",\"Mexico\",\"Moldova\",\"Mongolia\",\"Montenegro\",\"Morocco\",\"Mozambique\",\"Myanmar\",\"Namibia\",\"Nepal\",\"Netherlands\",\"New Zealand\",\"Nicaragua\",\"Niger\",\"Nigeria\",\"North Macedonia\",\"Norway\",\"Oman\",\"Pakistan\",\"Panama\",\"Papua New Guinea\",\"Paraguay\",\"Peru\",\"Philippines\",\"Poland\",\"Portugal\",\"Qatar\",\"Romania\",\"Russia\",\"Rwanda\",\"Saudi Arabia\",\"Senegal\",\"Serbia\",\"Seychelles\",\"Sierra Leone\",\"Singapore\",\"Slovakia\",\"Slovenia\",\"South Africa\",\"South Korea\",\"Spain\",\"Sri Lanka\",\"Sudan\",\"Suriname\",\"Sweden\",\"Switzerland\",\"Syria\",\"Tajikistan\",\"Tanzania\",\"Thailand\",\"Togo\",\"Trinidad and Tobago\",\"Tunisia\",\"Turkey\",\"Turkmenistan\",\"Uganda\",\"Ukraine\",\"United Arab Emirates\",\"United Kingdom\",\"United States\",\"Uruguay\",\"Uzbekistan\",\"Venezuela\",\"Vietnam\",\"Yemen\",\"Zambia\",\"Zimbabwe\"],\"textposition\":\"top center\",\"type\":\"scatter\",\"x\":[-5.549892317555513,1.5081397589416283,-1.6176716306712722,-4.997684401249301,2.440172731558657,0.8759299173250539,5.973413548037299,6.199364578227759,-0.29343174866239213,-0.22237186696549652,-2.849790500270555,1.8391914104336349,2.349323435733134,6.0613500421324,-0.8513282040411453,-5.268215502639589,-1.823207280472417,-1.8083275532605043,1.324947228512642,-1.4507352721285967,1.0457325671402082,2.98742757110347,-5.1453074095593125,-5.672438973031422,-2.9702110272828017,-5.065529774911684,6.762811110075135,-6.797578726237286,-7.109267829185315,3.3504922282763965,1.0413062603297576,-0.17472243144830504,-5.303390159214109,-5.952737876432089,1.1702769673468572,3.0715051222022436,1.3275181312731463,4.484527382748225,4.970475506155227,7.763185785206305,-1.058348694089722,-0.6086260753759614,-2.4504772958096686,-1.149977173444136,4.95419325371042,-5.043397371175135,-0.8207288006664761,6.8281402149318255,6.045279347759015,-2.2047184369714383,1.6311405074016145,6.477566348476387,-3.9084455449545343,4.296743397875491,-2.7031765844630096,-6.021557229666594,-5.717000964343033,-1.2895878225460016,-4.17734162031237,-2.213166878624051,4.2330477273763885,6.805787169370595,-2.1973878068771584,-1.9424368594058543,-0.6480956750642952,-2.5755745655498936,7.266941493889,3.8091294665236655,4.6324980996751615,-0.13530477477570904,4.676567567042412,-0.887269393763041,1.2830050440370284,-4.013358439453618,0.7786328035290949,-0.6738577117787999,-2.8758690815731165,3.937445841804059,0.32320235668500624,-3.328110715140963,-4.44353657871959,-1.853688796845321,4.567137911820953,7.759393393016687,-4.339836844654577,-4.921316036758432,-0.1356304038363624,-5.941037485007092,4.643136938020498,-4.5447529983442765,1.4574219211494326,0.4935725247400039,1.5121154846847042,0.33599112883485,2.3250816870977418,-1.3444996477278686,-5.725996294930751,-2.690880891023313,-1.9746580047175153,-2.40272841327689,6.559425495677507,6.013757648834206,-1.8088902058398686,-6.846122847592427,-5.03144515062151,1.3305749706712524,7.4323469760163,-1.4719643884462734,-4.152320456574705,0.30657387502743133,-3.5533691909107628,-0.32582382087188244,-0.17945765212459472,-1.5967299850357477,4.152173030805006,4.564289903992395,1.2199483180996238,3.1883785086660477,2.9262249808926613,-3.4087103011290973,-0.14169428035571482,-4.813241047714432,2.53211502979109,0.2544498360444827,-5.721424401205794,3.913220147812925,3.5973986814469185,4.89605747963147,-0.6808321710157605,4.8141387513594145,5.441298479471452,-1.5063396789285493,-4.778596126796332,-0.6210708273426798,7.266122129855845,7.561127696647148,-2.3252184170897503,-2.876343205616875,-4.330749643533631,0.16219694311504723,-5.1864402828562035,0.6592569218384242,-0.14168823564518607,0.9803690255786001,-1.7151867846099493,-4.410269874123458,2.0246582366114527,1.3702044960501587,6.385971841718198,6.360565821361071,2.8949091136316905,-1.5965515334966534,-2.075831852035281,-0.6807749814165859,-5.219351392303694,-5.070262240264933,-4.2750978804750295],\"xaxis\":\"x\",\"y\":[-1.9900812012790385,-0.721853586144598,-2.6061998109653035,1.4072739282350681,1.5008756192508281,0.27508227346529923,-0.5989802811746882,-0.3804323813672482,-2.631893580589062,-1.5646792951560267,-2.399044119179052,0.990248779953428,1.3237900157963354,-0.19909088268765945,3.104950477448467,0.43674622983230216,-0.6105132964545853,1.7073384941222391,-0.39846343033490006,2.586137466134632,2.6934594827267113,1.3437789699735414,-1.0088546838243186,1.0107314942246834,-0.046379518427602545,0.934658357744157,-0.48348233802317947,1.1614014307998746,-0.5638635694505321,0.9636570586813692,-0.7467654249016067,1.6364410895202077,-1.6946772271009292,0.11578925555555432,2.0524677188447993,0.6684369504496189,2.9685561878283075,0.6798895864492916,0.14154690425424207,-0.6592010235651455,1.3264449112750136,1.702119085909779,-2.9577620098606725,3.3513445840971263,0.5820411040500761,-0.03570545870539159,0.876239890701886,-0.3763180117926516,-0.35882695655549907,1.261136432569855,0.4878212924673375,-0.5064637562007968,0.6118151218675307,0.6822147009389838,1.331155245662926,-1.7888188248021308,0.026968582992118788,3.1178804617286238,1.1994672575445349,1.7466804963230624,0.4090109334751364,-1.1332831228296034,-0.5153152992367876,-1.8350266749558133,-1.8110653380053903,-2.868500954206494,-1.2883361556602193,-0.3030598939156226,-0.17172943498489168,1.7852705999893277,-0.7790124859337167,-2.6907518364502074,-0.9353802525070493,0.6273432233382572,-5.106451443833471,-0.8954681207725337,-0.42776988310045144,1.5903034193040433,-1.3174803094673266,6.128397338632218,-0.4683933719852654,-3.442622266511483,1.602527589587157,-2.4913342660142104,0.9831082400738085,0.9680947730544663,-1.2481522811990071,-2.253084833109375,-0.1945332269685662,-2.6033399168062137,1.8764543116640187,1.822597941950462,1.3235746727520181,1.108626935693593,0.956583185435052,-1.683913760405747,1.7741693603337558,-0.8256914605070393,3.114851572666984,-0.2514763755251858,-1.118015625987581,-0.5528280802508524,1.7001876224727306,-2.0391340663350443,-0.8238113581906599,0.12869665179880493,-1.3848010982449426,-3.2100821044791568,-3.2234129144304537,1.8856150831577976,0.49349267826251575,1.749700095912803,1.4376248892891261,0.9757510025686722,0.6573459341880759,0.4833434448532838,-4.495067313012103,0.40410978371694006,1.481562096337234,2.1174470667348713,-4.238747822188905,-1.245622727730173,1.284446488272465,2.6968314045235884,-0.5862368664641552,-2.2271864107018873,0.6264925800772686,0.041780147905728364,3.974804001192106,-0.18022956352605332,-0.2590229562298775,0.06437724099455897,-2.799270173848726,2.18147705914101,-0.6241549700589714,-1.6601947523556058,-5.054099025933736,-1.57052857141508,0.664914202474886,0.21668010776027352,0.19499222481687914,1.4194061044791517,-1.712630536758165,-1.5595691984174116,-0.2859426846215134,1.3189078907177478,1.3658949645790508,-4.126284342588981,-0.4377483060454544,0.5522574194057495,2.2872318568509526,-1.3915026168327576,2.4397461145285853,0.2990512104959783,-2.986626470278556,2.13828904380118,1.3023167416809707],\"yaxis\":\"y\"}],                        {\"legend\":{\"tracegroupgap\":0},\"margin\":{\"t\":60},\"template\":{\"data\":{\"bar\":[{\"error_x\":{\"color\":\"#2a3f5f\"},\"error_y\":{\"color\":\"#2a3f5f\"},\"marker\":{\"line\":{\"color\":\"#E5ECF6\",\"width\":0.5},\"pattern\":{\"fillmode\":\"overlay\",\"size\":10,\"solidity\":0.2}},\"type\":\"bar\"}],\"barpolar\":[{\"marker\":{\"line\":{\"color\":\"#E5ECF6\",\"width\":0.5},\"pattern\":{\"fillmode\":\"overlay\",\"size\":10,\"solidity\":0.2}},\"type\":\"barpolar\"}],\"carpet\":[{\"aaxis\":{\"endlinecolor\":\"#2a3f5f\",\"gridcolor\":\"white\",\"linecolor\":\"white\",\"minorgridcolor\":\"white\",\"startlinecolor\":\"#2a3f5f\"},\"baxis\":{\"endlinecolor\":\"#2a3f5f\",\"gridcolor\":\"white\",\"linecolor\":\"white\",\"minorgridcolor\":\"white\",\"startlinecolor\":\"#2a3f5f\"},\"type\":\"carpet\"}],\"choropleth\":[{\"colorbar\":{\"outlinewidth\":0,\"ticks\":\"\"},\"type\":\"choropleth\"}],\"contour\":[{\"colorbar\":{\"outlinewidth\":0,\"ticks\":\"\"},\"colorscale\":[[0.0,\"#0d0887\"],[0.1111111111111111,\"#46039f\"],[0.2222222222222222,\"#7201a8\"],[0.3333333333333333,\"#9c179e\"],[0.4444444444444444,\"#bd3786\"],[0.5555555555555556,\"#d8576b\"],[0.6666666666666666,\"#ed7953\"],[0.7777777777777778,\"#fb9f3a\"],[0.8888888888888888,\"#fdca26\"],[1.0,\"#f0f921\"]],\"type\":\"contour\"}],\"contourcarpet\":[{\"colorbar\":{\"outlinewidth\":0,\"ticks\":\"\"},\"type\":\"contourcarpet\"}],\"heatmap\":[{\"colorbar\":{\"outlinewidth\":0,\"ticks\":\"\"},\"colorscale\":[[0.0,\"#0d0887\"],[0.1111111111111111,\"#46039f\"],[0.2222222222222222,\"#7201a8\"],[0.3333333333333333,\"#9c179e\"],[0.4444444444444444,\"#bd3786\"],[0.5555555555555556,\"#d8576b\"],[0.6666666666666666,\"#ed7953\"],[0.7777777777777778,\"#fb9f3a\"],[0.8888888888888888,\"#fdca26\"],[1.0,\"#f0f921\"]],\"type\":\"heatmap\"}],\"heatmapgl\":[{\"colorbar\":{\"outlinewidth\":0,\"ticks\":\"\"},\"colorscale\":[[0.0,\"#0d0887\"],[0.1111111111111111,\"#46039f\"],[0.2222222222222222,\"#7201a8\"],[0.3333333333333333,\"#9c179e\"],[0.4444444444444444,\"#bd3786\"],[0.5555555555555556,\"#d8576b\"],[0.6666666666666666,\"#ed7953\"],[0.7777777777777778,\"#fb9f3a\"],[0.8888888888888888,\"#fdca26\"],[1.0,\"#f0f921\"]],\"type\":\"heatmapgl\"}],\"histogram\":[{\"marker\":{\"pattern\":{\"fillmode\":\"overlay\",\"size\":10,\"solidity\":0.2}},\"type\":\"histogram\"}],\"histogram2d\":[{\"colorbar\":{\"outlinewidth\":0,\"ticks\":\"\"},\"colorscale\":[[0.0,\"#0d0887\"],[0.1111111111111111,\"#46039f\"],[0.2222222222222222,\"#7201a8\"],[0.3333333333333333,\"#9c179e\"],[0.4444444444444444,\"#bd3786\"],[0.5555555555555556,\"#d8576b\"],[0.6666666666666666,\"#ed7953\"],[0.7777777777777778,\"#fb9f3a\"],[0.8888888888888888,\"#fdca26\"],[1.0,\"#f0f921\"]],\"type\":\"histogram2d\"}],\"histogram2dcontour\":[{\"colorbar\":{\"outlinewidth\":0,\"ticks\":\"\"},\"colorscale\":[[0.0,\"#0d0887\"],[0.1111111111111111,\"#46039f\"],[0.2222222222222222,\"#7201a8\"],[0.3333333333333333,\"#9c179e\"],[0.4444444444444444,\"#bd3786\"],[0.5555555555555556,\"#d8576b\"],[0.6666666666666666,\"#ed7953\"],[0.7777777777777778,\"#fb9f3a\"],[0.8888888888888888,\"#fdca26\"],[1.0,\"#f0f921\"]],\"type\":\"histogram2dcontour\"}],\"mesh3d\":[{\"colorbar\":{\"outlinewidth\":0,\"ticks\":\"\"},\"type\":\"mesh3d\"}],\"parcoords\":[{\"line\":{\"colorbar\":{\"outlinewidth\":0,\"ticks\":\"\"}},\"type\":\"parcoords\"}],\"pie\":[{\"automargin\":true,\"type\":\"pie\"}],\"scatter\":[{\"marker\":{\"colorbar\":{\"outlinewidth\":0,\"ticks\":\"\"}},\"type\":\"scatter\"}],\"scatter3d\":[{\"line\":{\"colorbar\":{\"outlinewidth\":0,\"ticks\":\"\"}},\"marker\":{\"colorbar\":{\"outlinewidth\":0,\"ticks\":\"\"}},\"type\":\"scatter3d\"}],\"scattercarpet\":[{\"marker\":{\"colorbar\":{\"outlinewidth\":0,\"ticks\":\"\"}},\"type\":\"scattercarpet\"}],\"scattergeo\":[{\"marker\":{\"colorbar\":{\"outlinewidth\":0,\"ticks\":\"\"}},\"type\":\"scattergeo\"}],\"scattergl\":[{\"marker\":{\"colorbar\":{\"outlinewidth\":0,\"ticks\":\"\"}},\"type\":\"scattergl\"}],\"scattermapbox\":[{\"marker\":{\"colorbar\":{\"outlinewidth\":0,\"ticks\":\"\"}},\"type\":\"scattermapbox\"}],\"scatterpolar\":[{\"marker\":{\"colorbar\":{\"outlinewidth\":0,\"ticks\":\"\"}},\"type\":\"scatterpolar\"}],\"scatterpolargl\":[{\"marker\":{\"colorbar\":{\"outlinewidth\":0,\"ticks\":\"\"}},\"type\":\"scatterpolargl\"}],\"scatterternary\":[{\"marker\":{\"colorbar\":{\"outlinewidth\":0,\"ticks\":\"\"}},\"type\":\"scatterternary\"}],\"surface\":[{\"colorbar\":{\"outlinewidth\":0,\"ticks\":\"\"},\"colorscale\":[[0.0,\"#0d0887\"],[0.1111111111111111,\"#46039f\"],[0.2222222222222222,\"#7201a8\"],[0.3333333333333333,\"#9c179e\"],[0.4444444444444444,\"#bd3786\"],[0.5555555555555556,\"#d8576b\"],[0.6666666666666666,\"#ed7953\"],[0.7777777777777778,\"#fb9f3a\"],[0.8888888888888888,\"#fdca26\"],[1.0,\"#f0f921\"]],\"type\":\"surface\"}],\"table\":[{\"cells\":{\"fill\":{\"color\":\"#EBF0F8\"},\"line\":{\"color\":\"white\"}},\"header\":{\"fill\":{\"color\":\"#C8D4E3\"},\"line\":{\"color\":\"white\"}},\"type\":\"table\"}]},\"layout\":{\"annotationdefaults\":{\"arrowcolor\":\"#2a3f5f\",\"arrowhead\":0,\"arrowwidth\":1},\"autotypenumbers\":\"strict\",\"coloraxis\":{\"colorbar\":{\"outlinewidth\":0,\"ticks\":\"\"}},\"colorscale\":{\"diverging\":[[0,\"#8e0152\"],[0.1,\"#c51b7d\"],[0.2,\"#de77ae\"],[0.3,\"#f1b6da\"],[0.4,\"#fde0ef\"],[0.5,\"#f7f7f7\"],[0.6,\"#e6f5d0\"],[0.7,\"#b8e186\"],[0.8,\"#7fbc41\"],[0.9,\"#4d9221\"],[1,\"#276419\"]],\"sequential\":[[0.0,\"#0d0887\"],[0.1111111111111111,\"#46039f\"],[0.2222222222222222,\"#7201a8\"],[0.3333333333333333,\"#9c179e\"],[0.4444444444444444,\"#bd3786\"],[0.5555555555555556,\"#d8576b\"],[0.6666666666666666,\"#ed7953\"],[0.7777777777777778,\"#fb9f3a\"],[0.8888888888888888,\"#fdca26\"],[1.0,\"#f0f921\"]],\"sequentialminus\":[[0.0,\"#0d0887\"],[0.1111111111111111,\"#46039f\"],[0.2222222222222222,\"#7201a8\"],[0.3333333333333333,\"#9c179e\"],[0.4444444444444444,\"#bd3786\"],[0.5555555555555556,\"#d8576b\"],[0.6666666666666666,\"#ed7953\"],[0.7777777777777778,\"#fb9f3a\"],[0.8888888888888888,\"#fdca26\"],[1.0,\"#f0f921\"]]},\"colorway\":[\"#636efa\",\"#EF553B\",\"#00cc96\",\"#ab63fa\",\"#FFA15A\",\"#19d3f3\",\"#FF6692\",\"#B6E880\",\"#FF97FF\",\"#FECB52\"],\"font\":{\"color\":\"#2a3f5f\"},\"geo\":{\"bgcolor\":\"white\",\"lakecolor\":\"white\",\"landcolor\":\"#E5ECF6\",\"showlakes\":true,\"showland\":true,\"subunitcolor\":\"white\"},\"hoverlabel\":{\"align\":\"left\"},\"hovermode\":\"closest\",\"mapbox\":{\"style\":\"light\"},\"paper_bgcolor\":\"white\",\"plot_bgcolor\":\"#E5ECF6\",\"polar\":{\"angularaxis\":{\"gridcolor\":\"white\",\"linecolor\":\"white\",\"ticks\":\"\"},\"bgcolor\":\"#E5ECF6\",\"radialaxis\":{\"gridcolor\":\"white\",\"linecolor\":\"white\",\"ticks\":\"\"}},\"scene\":{\"xaxis\":{\"backgroundcolor\":\"#E5ECF6\",\"gridcolor\":\"white\",\"gridwidth\":2,\"linecolor\":\"white\",\"showbackground\":true,\"ticks\":\"\",\"zerolinecolor\":\"white\"},\"yaxis\":{\"backgroundcolor\":\"#E5ECF6\",\"gridcolor\":\"white\",\"gridwidth\":2,\"linecolor\":\"white\",\"showbackground\":true,\"ticks\":\"\",\"zerolinecolor\":\"white\"},\"zaxis\":{\"backgroundcolor\":\"#E5ECF6\",\"gridcolor\":\"white\",\"gridwidth\":2,\"linecolor\":\"white\",\"showbackground\":true,\"ticks\":\"\",\"zerolinecolor\":\"white\"}},\"shapedefaults\":{\"line\":{\"color\":\"#2a3f5f\"}},\"ternary\":{\"aaxis\":{\"gridcolor\":\"white\",\"linecolor\":\"white\",\"ticks\":\"\"},\"baxis\":{\"gridcolor\":\"white\",\"linecolor\":\"white\",\"ticks\":\"\"},\"bgcolor\":\"#E5ECF6\",\"caxis\":{\"gridcolor\":\"white\",\"linecolor\":\"white\",\"ticks\":\"\"}},\"title\":{\"x\":0.05},\"xaxis\":{\"automargin\":true,\"gridcolor\":\"white\",\"linecolor\":\"white\",\"ticks\":\"\",\"title\":{\"standoff\":15},\"zerolinecolor\":\"white\",\"zerolinewidth\":2},\"yaxis\":{\"automargin\":true,\"gridcolor\":\"white\",\"linecolor\":\"white\",\"ticks\":\"\",\"title\":{\"standoff\":15},\"zerolinecolor\":\"white\",\"zerolinewidth\":2}}},\"title\":{\"text\":\"2D PCA Transformation\",\"x\":0.5},\"xaxis\":{\"anchor\":\"y\",\"domain\":[0.0,1.0],\"title\":{\"text\":\"PC1\"}},\"yaxis\":{\"anchor\":\"x\",\"domain\":[0.0,1.0],\"title\":{\"text\":\"PC2\"}}},                        {\"responsive\": true}                    ).then(function(){\n",
       "                            \n",
       "var gd = document.getElementById('3f4f29cd-ad5b-4574-9134-5bbc590916ac');\n",
       "var x = new MutationObserver(function (mutations, observer) {{\n",
       "        var display = window.getComputedStyle(gd).display;\n",
       "        if (!display || display === 'none') {{\n",
       "            console.log([gd, 'removed!']);\n",
       "            Plotly.purge(gd);\n",
       "            observer.disconnect();\n",
       "        }}\n",
       "}});\n",
       "\n",
       "// Listen for the removal of the full notebook cells\n",
       "var notebookContainer = gd.closest('#notebook-container');\n",
       "if (notebookContainer) {{\n",
       "    x.observe(notebookContainer, {childList: true});\n",
       "}}\n",
       "\n",
       "// Listen for the clearing of the current output cell\n",
       "var outputEl = gd.closest('.output');\n",
       "if (outputEl) {{\n",
       "    x.observe(outputEl, {childList: true});\n",
       "}}\n",
       "\n",
       "                        })                };                });            </script>        </div>"
      ]
     },
     "metadata": {},
     "output_type": "display_data"
    }
   ],
   "source": [
    "# 2D PCA Transformation\n",
    "x = StandardScaler().fit_transform(x)\n",
    "modified_data1 = pca_data(x, 2)\n",
    "\n",
    "fig = px.scatter(modified_data1, x='PC1', y='PC2', text='COUNTRY')\n",
    "fig.update_traces(textposition='top center')\n",
    "fig.update_layout(title_text='2D PCA Transformation', title_x=0.5)\n",
    "fig.show()\n",
    "\n",
    "# We realized that the structure is not linear, more like geodesic.\n",
    "# Let's try Isomap this time."
   ]
  },
  {
   "cell_type": "code",
   "execution_count": null,
   "id": "0efcab66",
   "metadata": {},
   "outputs": [],
   "source": [
    "# TODO: Inclure le pourcentage de variance conservée de PCA (2 vs 5 dimensions)"
   ]
  }
 ],
 "metadata": {
  "kernelspec": {
   "display_name": "Python 3 (ipykernel)",
   "language": "python",
   "name": "python3"
  },
  "language_info": {
   "codemirror_mode": {
    "name": "ipython",
    "version": 3
   },
   "file_extension": ".py",
   "mimetype": "text/x-python",
   "name": "python",
   "nbconvert_exporter": "python",
   "pygments_lexer": "ipython3",
   "version": "3.9.5"
  }
 },
 "nbformat": 4,
 "nbformat_minor": 5
}
