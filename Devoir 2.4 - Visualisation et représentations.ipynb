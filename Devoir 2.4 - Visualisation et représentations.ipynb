{
 "cells": [
  {
   "cell_type": "code",
   "execution_count": 27,
   "id": "c83a653f",
   "metadata": {},
   "outputs": [],
   "source": [
    "# DEVOIR 2\n",
    "# PARTIE IV: VISUALISATION ET REPRÉSENTATIONS\n",
    "import numpy as np\n",
    "import pandas as pd\n",
    "import plotly.express as px\n",
    "\n",
    "from sklearn.preprocessing import StandardScaler\n",
    "from sklearn.decomposition import PCA\n",
    "from sklearn.manifold import TSNE"
   ]
  },
  {
   "cell_type": "code",
   "execution_count": 28,
   "id": "987b6fc4",
   "metadata": {},
   "outputs": [
    {
     "data": {
      "text/html": [
       "<div>\n",
       "<style scoped>\n",
       "    .dataframe tbody tr th:only-of-type {\n",
       "        vertical-align: middle;\n",
       "    }\n",
       "\n",
       "    .dataframe tbody tr th {\n",
       "        vertical-align: top;\n",
       "    }\n",
       "\n",
       "    .dataframe thead th {\n",
       "        text-align: right;\n",
       "    }\n",
       "</style>\n",
       "<table border=\"1\" class=\"dataframe\">\n",
       "  <thead>\n",
       "    <tr style=\"text-align: right;\">\n",
       "      <th></th>\n",
       "      <th>COUNTRY</th>\n",
       "    </tr>\n",
       "  </thead>\n",
       "  <tbody>\n",
       "    <tr>\n",
       "      <th>0</th>\n",
       "      <td>Afghanistan</td>\n",
       "    </tr>\n",
       "    <tr>\n",
       "      <th>1</th>\n",
       "      <td>Albania</td>\n",
       "    </tr>\n",
       "    <tr>\n",
       "      <th>2</th>\n",
       "      <td>Algeria</td>\n",
       "    </tr>\n",
       "    <tr>\n",
       "      <th>3</th>\n",
       "      <td>Angola</td>\n",
       "    </tr>\n",
       "    <tr>\n",
       "      <th>4</th>\n",
       "      <td>Argentina</td>\n",
       "    </tr>\n",
       "    <tr>\n",
       "      <th>...</th>\n",
       "      <td>...</td>\n",
       "    </tr>\n",
       "    <tr>\n",
       "      <th>152</th>\n",
       "      <td>Venezuela</td>\n",
       "    </tr>\n",
       "    <tr>\n",
       "      <th>153</th>\n",
       "      <td>Vietnam</td>\n",
       "    </tr>\n",
       "    <tr>\n",
       "      <th>154</th>\n",
       "      <td>Yemen</td>\n",
       "    </tr>\n",
       "    <tr>\n",
       "      <th>155</th>\n",
       "      <td>Zambia</td>\n",
       "    </tr>\n",
       "    <tr>\n",
       "      <th>156</th>\n",
       "      <td>Zimbabwe</td>\n",
       "    </tr>\n",
       "  </tbody>\n",
       "</table>\n",
       "<p>157 rows × 1 columns</p>\n",
       "</div>"
      ],
      "text/plain": [
       "         COUNTRY\n",
       "0    Afghanistan\n",
       "1        Albania\n",
       "2        Algeria\n",
       "3         Angola\n",
       "4      Argentina\n",
       "..           ...\n",
       "152    Venezuela\n",
       "153      Vietnam\n",
       "154        Yemen\n",
       "155       Zambia\n",
       "156     Zimbabwe\n",
       "\n",
       "[157 rows x 1 columns]"
      ]
     },
     "execution_count": 28,
     "metadata": {},
     "output_type": "execute_result"
    }
   ],
   "source": [
    "data=pd.read_csv('dataB.csv', index_col=0)\n",
    "x = data.values\n",
    "countries = data.index.values\n",
    "countries = pd.DataFrame(countries, columns=['COUNTRY'])\n",
    "countries"
   ]
  },
  {
   "cell_type": "code",
   "execution_count": 29,
   "id": "b5dae12e",
   "metadata": {},
   "outputs": [],
   "source": [
    "def pca_data(x, components):\n",
    "    pca = PCA(n_components = components)\n",
    "    pc = pca.fit_transform(x)\n",
    "    \n",
    "    print(pca.explained_variance_ratio_.cumsum())\n",
    "    \n",
    "    if components == 2:\n",
    "        pc_df = pd.DataFrame(data = pc, columns=['PC1', 'PC2'])\n",
    "    else:\n",
    "        pc_df = pd.DataFrame(data = pc, columns=['PC1', 'PC2', 'PC3', 'PC4', 'PC5'])\n",
    "    \n",
    "    pc_df = pd.concat([countries, pc_df],axis = 1)\n",
    "    return pc_df"
   ]
  },
  {
   "cell_type": "code",
   "execution_count": 30,
   "id": "88154cab",
   "metadata": {},
   "outputs": [],
   "source": [
    "def tSNE_data(x, components):\n",
    "    tsne = TSNE(n_components=components, verbose=1, perplexity=40, n_iter=300)\n",
    "    tsne_data = tsne.fit_transform(x)\n",
    "    tsne_df = pd.DataFrame(data = tsne_data, columns=['Axis 1', 'Axis 2'])\n",
    "    tsne_df = pd.concat([countries, tsne_df],axis = 1)\n",
    "    return tsne_df"
   ]
  },
  {
   "cell_type": "code",
   "execution_count": 31,
   "id": "f9d308cd",
   "metadata": {},
   "outputs": [
    {
     "name": "stdout",
     "output_type": "stream",
     "text": [
      "[0.38348611 0.46646909]\n"
     ]
    },
    {
     "data": {
      "application/vnd.plotly.v1+json": {
       "config": {
        "plotlyServerURL": "https://plot.ly"
       },
       "data": [
        {
         "hovertemplate": "PC1=%{x}<br>PC2=%{y}<br>COUNTRY=%{text}<extra></extra>",
         "legendgroup": "",
         "marker": {
          "color": "#636efa",
          "symbol": "circle"
         },
         "mode": "markers+text",
         "name": "",
         "orientation": "v",
         "showlegend": false,
         "text": [
          "Afghanistan",
          "Albania",
          "Algeria",
          "Angola",
          "Argentina",
          "Armenia",
          "Australia",
          "Austria",
          "Azerbaijan",
          "Bahrain",
          "Bangladesh",
          "Barbados",
          "Belarus",
          "Belgium",
          "Belize",
          "Benin",
          "Bhutan",
          "Bolivia",
          "Bosnia and Herzegovina",
          "Botswana",
          "Brazil",
          "Bulgaria",
          "Burkina Faso",
          "Burundi",
          "Cambodia",
          "Cameroon",
          "Canada",
          "Central African Republic",
          "Chad",
          "Chile",
          "China",
          "Colombia",
          "Comoros",
          "Democratic Republic of the Congo",
          "Costa Rica",
          "Croatia",
          "Cuba",
          "Cyprus",
          "Czech Republic",
          "Denmark",
          "Dominican Republic",
          "Ecuador",
          "Egypt",
          "El Salvador",
          "Estonia",
          "Ethiopia",
          "Fiji",
          "Finland",
          "France",
          "Gabon",
          "Georgia",
          "Germany",
          "Ghana",
          "Greece",
          "Guatemala",
          "Guinea",
          "Guinea Bissau",
          "Guyana",
          "Haiti",
          "Honduras",
          "Hungary",
          "Iceland",
          "India",
          "Indonesia",
          "Iran",
          "Iraq",
          "Ireland",
          "Israel",
          "Italy",
          "Jamaica",
          "Japan",
          "Jordan",
          "Kazakhstan",
          "Kenya",
          "Kuwait",
          "Kyrgyzstan",
          "Laos",
          "Latvia",
          "Lebanon",
          "Lesotho",
          "Liberia",
          "Libya",
          "Lithuania",
          "Luxembourg",
          "Madagascar",
          "Malawi",
          "Malaysia",
          "Mali",
          "Malta",
          "Mauritania",
          "Mauritius",
          "Mexico",
          "Moldova",
          "Mongolia",
          "Montenegro",
          "Morocco",
          "Mozambique",
          "Myanmar",
          "Namibia",
          "Nepal",
          "Netherlands",
          "New Zealand",
          "Nicaragua",
          "Niger",
          "Nigeria",
          "North Macedonia",
          "Norway",
          "Oman",
          "Pakistan",
          "Panama",
          "Papua New Guinea",
          "Paraguay",
          "Peru",
          "Philippines",
          "Poland",
          "Portugal",
          "Qatar",
          "Romania",
          "Russia",
          "Rwanda",
          "Saudi Arabia",
          "Senegal",
          "Serbia",
          "Seychelles",
          "Sierra Leone",
          "Singapore",
          "Slovakia",
          "Slovenia",
          "South Africa",
          "South Korea",
          "Spain",
          "Sri Lanka",
          "Sudan",
          "Suriname",
          "Sweden",
          "Switzerland",
          "Syria",
          "Tajikistan",
          "Tanzania",
          "Thailand",
          "Togo",
          "Trinidad and Tobago",
          "Tunisia",
          "Turkey",
          "Turkmenistan",
          "Uganda",
          "Ukraine",
          "United Arab Emirates",
          "United Kingdom",
          "United States",
          "Uruguay",
          "Uzbekistan",
          "Venezuela",
          "Vietnam",
          "Yemen",
          "Zambia",
          "Zimbabwe"
         ],
         "textposition": "top center",
         "type": "scatter",
         "x": [
          -5.549892317555513,
          1.5081397589416277,
          -1.6176716306712675,
          -4.997684401249303,
          2.4401727315586563,
          0.8759299173250544,
          5.973413548037296,
          6.199364578227761,
          -0.2934317486623902,
          -0.22237186696549655,
          -2.8497905002705552,
          1.8391914104336353,
          2.3493234357331327,
          6.061350042132398,
          -0.8513282040411463,
          -5.268215502639589,
          -1.8232072804724164,
          -1.8083275532605045,
          1.3249472285126416,
          -1.4507352721285958,
          1.0457325671402087,
          2.987427571103469,
          -5.14530740955931,
          -5.672438973031424,
          -2.9702110272828004,
          -5.065529774911684,
          6.762811110075134,
          -6.797578726237283,
          -7.109267829185318,
          3.350492228276393,
          1.0413062603297567,
          -0.1747224314483038,
          -5.303390159214108,
          -5.952737876432092,
          1.1702769673468574,
          3.0715051222022436,
          1.3275181312731466,
          4.484527382748225,
          4.970475506155227,
          7.763185785206306,
          -1.058348694089722,
          -0.6086260753759609,
          -2.450477295809667,
          -1.149977173444136,
          4.954193253710419,
          -5.0433973711751365,
          -0.8207288006664762,
          6.8281402149318255,
          6.045279347759015,
          -2.2047184369714397,
          1.6311405074016139,
          6.477566348476385,
          -3.9084455449545334,
          4.29674339787549,
          -2.7031765844630096,
          -6.021557229666592,
          -5.71700096434303,
          -1.2895878225460016,
          -4.17734162031237,
          -2.2131668786240515,
          4.23304772737639,
          6.805787169370595,
          -2.197387806877159,
          -1.9424368594058536,
          -0.6480956750642946,
          -2.5755745655498927,
          7.266941493889,
          3.8091294665236664,
          4.6324980996751615,
          -0.13530477477570885,
          4.676567567042412,
          -0.8872693937630417,
          1.2830050440370273,
          -4.013358439453619,
          0.7786328035290959,
          -0.6738577117788009,
          -2.875869081573117,
          3.937445841804058,
          0.3232023566850067,
          -3.328110715140962,
          -4.443536578719591,
          -1.853688796845321,
          4.567137911820952,
          7.759393393016687,
          -4.3398368446545765,
          -4.921316036758433,
          -0.13563040383636144,
          -5.941037485007089,
          4.643136938020498,
          -4.5447529983442765,
          1.457421921149432,
          0.4935725247400037,
          1.512115484684704,
          0.3359911288348492,
          2.3250816870977418,
          -1.3444996477278681,
          -5.7259962949307495,
          -2.690880891023311,
          -1.9746580047175146,
          -2.4027284132768894,
          6.559425495677507,
          6.013757648834206,
          -1.8088902058398686,
          -6.846122847592427,
          -5.03144515062151,
          1.3305749706712515,
          7.432346976016301,
          -1.4719643884462728,
          -4.152320456574705,
          0.30657387502743105,
          -3.5533691909107623,
          -0.3258238208718828,
          -0.1794576521245951,
          -1.5967299850357477,
          4.152173030805006,
          4.564289903992397,
          1.2199483180996238,
          3.1883785086660454,
          2.9262249808926617,
          -3.4087103011290982,
          -0.14169428035571466,
          -4.81324104771443,
          2.532115029791089,
          0.2544498360444811,
          -5.721424401205794,
          3.9132201478129263,
          3.597398681446918,
          4.89605747963147,
          -0.6808321710157611,
          4.814138751359414,
          5.441298479471452,
          -1.5063396789285504,
          -4.778596126796331,
          -0.6210708273426809,
          7.266122129855845,
          7.561127696647147,
          -2.325218417089751,
          -2.8763432056168745,
          -4.330749643533631,
          0.16219694311504682,
          -5.1864402828562035,
          0.6592569218384243,
          -0.14168823564518593,
          0.9803690255785992,
          -1.7151867846099502,
          -4.410269874123457,
          2.024658236611452,
          1.3702044960501605,
          6.385971841718194,
          6.360565821361069,
          2.8949091136316905,
          -1.5965515334966527,
          -2.0758318520352805,
          -0.6807749814165858,
          -5.219351392303695,
          -5.070262240264931,
          -4.275097880475029
         ],
         "xaxis": "x",
         "y": [
          -1.9900812012790337,
          -0.7218535861446044,
          -2.606199810965303,
          1.4072739282350735,
          1.500875619250824,
          0.2750822734652919,
          -0.5989802811746828,
          -0.38043238136724583,
          -2.631893580589069,
          -1.5646792951560202,
          -2.39904411917905,
          0.9902487799534215,
          1.3237900157963298,
          -0.19909088268765648,
          3.1049504774484613,
          0.43674622983231115,
          -0.6105132964545869,
          1.7073384941222374,
          -0.39846343033490517,
          2.5861374661346344,
          2.6934594827267064,
          1.343778969973538,
          -1.008854683824312,
          1.0107314942246846,
          -0.04637951842760562,
          0.9346583577441611,
          -0.4834823380231756,
          1.1614014307998757,
          -0.5638635694505235,
          0.9636570586813666,
          -0.7467654249016067,
          1.6364410895202002,
          -1.6946772271009252,
          0.1157892555555565,
          2.052467718844794,
          0.6684369504496147,
          2.9685561878283,
          0.679889586449297,
          0.1415469042542399,
          -0.6592010235651399,
          1.3264449112750112,
          1.7021190859097777,
          -2.9577620098606787,
          3.3513445840971174,
          0.5820411040500745,
          -0.03570545870538706,
          0.876239890701883,
          -0.37631801179265084,
          -0.3588269565554948,
          1.261136432569857,
          0.4878212924673284,
          -0.5064637562007945,
          0.6118151218675353,
          0.6822147009389798,
          1.331155245662924,
          -1.7888188248021244,
          0.026968582992123177,
          3.117880461728628,
          1.1994672575445362,
          1.7466804963230531,
          0.4090109334751344,
          -1.1332831228295992,
          -0.5153152992367862,
          -1.8350266749558128,
          -1.8110653380053892,
          -2.8685009542064934,
          -1.2883361556602129,
          -0.30305989391561416,
          -0.17172943498489254,
          1.7852705999893184,
          -0.7790124859337134,
          -2.69075183645021,
          -0.9353802525070519,
          0.6273432233382596,
          -5.106451443833478,
          -0.8954681207725363,
          -0.4277698831004547,
          1.5903034193040402,
          -1.3174803094673317,
          6.128397338632228,
          -0.4683933719852515,
          -3.442622266511488,
          1.602527589587155,
          -2.491334266014208,
          0.9831082400738137,
          0.9680947730544711,
          -1.248152281199006,
          -2.253084833109367,
          -0.1945332269685634,
          -2.6033399168062097,
          1.876454311664032,
          1.8225979419504592,
          1.3235746727520108,
          1.1086269356935958,
          0.9565831854350476,
          -1.6839137604057492,
          1.7741693603337612,
          -0.8256914605070426,
          3.114851572666981,
          -0.2514763755251856,
          -1.1180156259875764,
          -0.552828080250848,
          1.7001876224727268,
          -2.0391340663350364,
          -0.8238113581906595,
          0.12869665179880074,
          -1.384801098244939,
          -3.2100821044791537,
          -3.223412914430455,
          1.8856150831577982,
          0.4934926782625177,
          1.7497000959128008,
          1.437624889289121,
          0.9757510025686689,
          0.6573459341880726,
          0.48334344485328273,
          -4.4950673130121,
          0.40410978371693507,
          1.4815620963372311,
          2.117447066734872,
          -4.23874782218891,
          -1.2456227277301664,
          1.2844464882724613,
          2.6968314045235866,
          -0.5862368664641502,
          -2.2271864107018797,
          0.6264925800772682,
          0.041780147905729315,
          3.974804001192104,
          -0.18022956352605082,
          -0.259022956229877,
          0.0643772409945578,
          -2.799270173848726,
          2.1814770591410086,
          -0.6241549700589689,
          -1.660194752355598,
          -5.054099025933761,
          -1.5705285714150838,
          0.6649142024748921,
          0.21668010776027033,
          0.19499222481688236,
          1.4194061044791477,
          -1.7126305367581665,
          -1.5595691984174158,
          -0.28594268462151823,
          1.3189078907177512,
          1.3658949645790452,
          -4.126284342588981,
          -0.4377483060454497,
          0.5522574194057623,
          2.2872318568509513,
          -1.3915026168327593,
          2.4397461145285795,
          0.29905121049597666,
          -2.9866264702785554,
          2.1382890438011883,
          1.30231674168097
         ],
         "yaxis": "y"
        }
       ],
       "layout": {
        "autosize": false,
        "height": 1000,
        "legend": {
         "tracegroupgap": 0
        },
        "margin": {
         "t": 60
        },
        "template": {
         "data": {
          "bar": [
           {
            "error_x": {
             "color": "#2a3f5f"
            },
            "error_y": {
             "color": "#2a3f5f"
            },
            "marker": {
             "line": {
              "color": "#E5ECF6",
              "width": 0.5
             },
             "pattern": {
              "fillmode": "overlay",
              "size": 10,
              "solidity": 0.2
             }
            },
            "type": "bar"
           }
          ],
          "barpolar": [
           {
            "marker": {
             "line": {
              "color": "#E5ECF6",
              "width": 0.5
             },
             "pattern": {
              "fillmode": "overlay",
              "size": 10,
              "solidity": 0.2
             }
            },
            "type": "barpolar"
           }
          ],
          "carpet": [
           {
            "aaxis": {
             "endlinecolor": "#2a3f5f",
             "gridcolor": "white",
             "linecolor": "white",
             "minorgridcolor": "white",
             "startlinecolor": "#2a3f5f"
            },
            "baxis": {
             "endlinecolor": "#2a3f5f",
             "gridcolor": "white",
             "linecolor": "white",
             "minorgridcolor": "white",
             "startlinecolor": "#2a3f5f"
            },
            "type": "carpet"
           }
          ],
          "choropleth": [
           {
            "colorbar": {
             "outlinewidth": 0,
             "ticks": ""
            },
            "type": "choropleth"
           }
          ],
          "contour": [
           {
            "colorbar": {
             "outlinewidth": 0,
             "ticks": ""
            },
            "colorscale": [
             [
              0,
              "#0d0887"
             ],
             [
              0.1111111111111111,
              "#46039f"
             ],
             [
              0.2222222222222222,
              "#7201a8"
             ],
             [
              0.3333333333333333,
              "#9c179e"
             ],
             [
              0.4444444444444444,
              "#bd3786"
             ],
             [
              0.5555555555555556,
              "#d8576b"
             ],
             [
              0.6666666666666666,
              "#ed7953"
             ],
             [
              0.7777777777777778,
              "#fb9f3a"
             ],
             [
              0.8888888888888888,
              "#fdca26"
             ],
             [
              1,
              "#f0f921"
             ]
            ],
            "type": "contour"
           }
          ],
          "contourcarpet": [
           {
            "colorbar": {
             "outlinewidth": 0,
             "ticks": ""
            },
            "type": "contourcarpet"
           }
          ],
          "heatmap": [
           {
            "colorbar": {
             "outlinewidth": 0,
             "ticks": ""
            },
            "colorscale": [
             [
              0,
              "#0d0887"
             ],
             [
              0.1111111111111111,
              "#46039f"
             ],
             [
              0.2222222222222222,
              "#7201a8"
             ],
             [
              0.3333333333333333,
              "#9c179e"
             ],
             [
              0.4444444444444444,
              "#bd3786"
             ],
             [
              0.5555555555555556,
              "#d8576b"
             ],
             [
              0.6666666666666666,
              "#ed7953"
             ],
             [
              0.7777777777777778,
              "#fb9f3a"
             ],
             [
              0.8888888888888888,
              "#fdca26"
             ],
             [
              1,
              "#f0f921"
             ]
            ],
            "type": "heatmap"
           }
          ],
          "heatmapgl": [
           {
            "colorbar": {
             "outlinewidth": 0,
             "ticks": ""
            },
            "colorscale": [
             [
              0,
              "#0d0887"
             ],
             [
              0.1111111111111111,
              "#46039f"
             ],
             [
              0.2222222222222222,
              "#7201a8"
             ],
             [
              0.3333333333333333,
              "#9c179e"
             ],
             [
              0.4444444444444444,
              "#bd3786"
             ],
             [
              0.5555555555555556,
              "#d8576b"
             ],
             [
              0.6666666666666666,
              "#ed7953"
             ],
             [
              0.7777777777777778,
              "#fb9f3a"
             ],
             [
              0.8888888888888888,
              "#fdca26"
             ],
             [
              1,
              "#f0f921"
             ]
            ],
            "type": "heatmapgl"
           }
          ],
          "histogram": [
           {
            "marker": {
             "pattern": {
              "fillmode": "overlay",
              "size": 10,
              "solidity": 0.2
             }
            },
            "type": "histogram"
           }
          ],
          "histogram2d": [
           {
            "colorbar": {
             "outlinewidth": 0,
             "ticks": ""
            },
            "colorscale": [
             [
              0,
              "#0d0887"
             ],
             [
              0.1111111111111111,
              "#46039f"
             ],
             [
              0.2222222222222222,
              "#7201a8"
             ],
             [
              0.3333333333333333,
              "#9c179e"
             ],
             [
              0.4444444444444444,
              "#bd3786"
             ],
             [
              0.5555555555555556,
              "#d8576b"
             ],
             [
              0.6666666666666666,
              "#ed7953"
             ],
             [
              0.7777777777777778,
              "#fb9f3a"
             ],
             [
              0.8888888888888888,
              "#fdca26"
             ],
             [
              1,
              "#f0f921"
             ]
            ],
            "type": "histogram2d"
           }
          ],
          "histogram2dcontour": [
           {
            "colorbar": {
             "outlinewidth": 0,
             "ticks": ""
            },
            "colorscale": [
             [
              0,
              "#0d0887"
             ],
             [
              0.1111111111111111,
              "#46039f"
             ],
             [
              0.2222222222222222,
              "#7201a8"
             ],
             [
              0.3333333333333333,
              "#9c179e"
             ],
             [
              0.4444444444444444,
              "#bd3786"
             ],
             [
              0.5555555555555556,
              "#d8576b"
             ],
             [
              0.6666666666666666,
              "#ed7953"
             ],
             [
              0.7777777777777778,
              "#fb9f3a"
             ],
             [
              0.8888888888888888,
              "#fdca26"
             ],
             [
              1,
              "#f0f921"
             ]
            ],
            "type": "histogram2dcontour"
           }
          ],
          "mesh3d": [
           {
            "colorbar": {
             "outlinewidth": 0,
             "ticks": ""
            },
            "type": "mesh3d"
           }
          ],
          "parcoords": [
           {
            "line": {
             "colorbar": {
              "outlinewidth": 0,
              "ticks": ""
             }
            },
            "type": "parcoords"
           }
          ],
          "pie": [
           {
            "automargin": true,
            "type": "pie"
           }
          ],
          "scatter": [
           {
            "marker": {
             "colorbar": {
              "outlinewidth": 0,
              "ticks": ""
             }
            },
            "type": "scatter"
           }
          ],
          "scatter3d": [
           {
            "line": {
             "colorbar": {
              "outlinewidth": 0,
              "ticks": ""
             }
            },
            "marker": {
             "colorbar": {
              "outlinewidth": 0,
              "ticks": ""
             }
            },
            "type": "scatter3d"
           }
          ],
          "scattercarpet": [
           {
            "marker": {
             "colorbar": {
              "outlinewidth": 0,
              "ticks": ""
             }
            },
            "type": "scattercarpet"
           }
          ],
          "scattergeo": [
           {
            "marker": {
             "colorbar": {
              "outlinewidth": 0,
              "ticks": ""
             }
            },
            "type": "scattergeo"
           }
          ],
          "scattergl": [
           {
            "marker": {
             "colorbar": {
              "outlinewidth": 0,
              "ticks": ""
             }
            },
            "type": "scattergl"
           }
          ],
          "scattermapbox": [
           {
            "marker": {
             "colorbar": {
              "outlinewidth": 0,
              "ticks": ""
             }
            },
            "type": "scattermapbox"
           }
          ],
          "scatterpolar": [
           {
            "marker": {
             "colorbar": {
              "outlinewidth": 0,
              "ticks": ""
             }
            },
            "type": "scatterpolar"
           }
          ],
          "scatterpolargl": [
           {
            "marker": {
             "colorbar": {
              "outlinewidth": 0,
              "ticks": ""
             }
            },
            "type": "scatterpolargl"
           }
          ],
          "scatterternary": [
           {
            "marker": {
             "colorbar": {
              "outlinewidth": 0,
              "ticks": ""
             }
            },
            "type": "scatterternary"
           }
          ],
          "surface": [
           {
            "colorbar": {
             "outlinewidth": 0,
             "ticks": ""
            },
            "colorscale": [
             [
              0,
              "#0d0887"
             ],
             [
              0.1111111111111111,
              "#46039f"
             ],
             [
              0.2222222222222222,
              "#7201a8"
             ],
             [
              0.3333333333333333,
              "#9c179e"
             ],
             [
              0.4444444444444444,
              "#bd3786"
             ],
             [
              0.5555555555555556,
              "#d8576b"
             ],
             [
              0.6666666666666666,
              "#ed7953"
             ],
             [
              0.7777777777777778,
              "#fb9f3a"
             ],
             [
              0.8888888888888888,
              "#fdca26"
             ],
             [
              1,
              "#f0f921"
             ]
            ],
            "type": "surface"
           }
          ],
          "table": [
           {
            "cells": {
             "fill": {
              "color": "#EBF0F8"
             },
             "line": {
              "color": "white"
             }
            },
            "header": {
             "fill": {
              "color": "#C8D4E3"
             },
             "line": {
              "color": "white"
             }
            },
            "type": "table"
           }
          ]
         },
         "layout": {
          "annotationdefaults": {
           "arrowcolor": "#2a3f5f",
           "arrowhead": 0,
           "arrowwidth": 1
          },
          "autotypenumbers": "strict",
          "coloraxis": {
           "colorbar": {
            "outlinewidth": 0,
            "ticks": ""
           }
          },
          "colorscale": {
           "diverging": [
            [
             0,
             "#8e0152"
            ],
            [
             0.1,
             "#c51b7d"
            ],
            [
             0.2,
             "#de77ae"
            ],
            [
             0.3,
             "#f1b6da"
            ],
            [
             0.4,
             "#fde0ef"
            ],
            [
             0.5,
             "#f7f7f7"
            ],
            [
             0.6,
             "#e6f5d0"
            ],
            [
             0.7,
             "#b8e186"
            ],
            [
             0.8,
             "#7fbc41"
            ],
            [
             0.9,
             "#4d9221"
            ],
            [
             1,
             "#276419"
            ]
           ],
           "sequential": [
            [
             0,
             "#0d0887"
            ],
            [
             0.1111111111111111,
             "#46039f"
            ],
            [
             0.2222222222222222,
             "#7201a8"
            ],
            [
             0.3333333333333333,
             "#9c179e"
            ],
            [
             0.4444444444444444,
             "#bd3786"
            ],
            [
             0.5555555555555556,
             "#d8576b"
            ],
            [
             0.6666666666666666,
             "#ed7953"
            ],
            [
             0.7777777777777778,
             "#fb9f3a"
            ],
            [
             0.8888888888888888,
             "#fdca26"
            ],
            [
             1,
             "#f0f921"
            ]
           ],
           "sequentialminus": [
            [
             0,
             "#0d0887"
            ],
            [
             0.1111111111111111,
             "#46039f"
            ],
            [
             0.2222222222222222,
             "#7201a8"
            ],
            [
             0.3333333333333333,
             "#9c179e"
            ],
            [
             0.4444444444444444,
             "#bd3786"
            ],
            [
             0.5555555555555556,
             "#d8576b"
            ],
            [
             0.6666666666666666,
             "#ed7953"
            ],
            [
             0.7777777777777778,
             "#fb9f3a"
            ],
            [
             0.8888888888888888,
             "#fdca26"
            ],
            [
             1,
             "#f0f921"
            ]
           ]
          },
          "colorway": [
           "#636efa",
           "#EF553B",
           "#00cc96",
           "#ab63fa",
           "#FFA15A",
           "#19d3f3",
           "#FF6692",
           "#B6E880",
           "#FF97FF",
           "#FECB52"
          ],
          "font": {
           "color": "#2a3f5f"
          },
          "geo": {
           "bgcolor": "white",
           "lakecolor": "white",
           "landcolor": "#E5ECF6",
           "showlakes": true,
           "showland": true,
           "subunitcolor": "white"
          },
          "hoverlabel": {
           "align": "left"
          },
          "hovermode": "closest",
          "mapbox": {
           "style": "light"
          },
          "paper_bgcolor": "white",
          "plot_bgcolor": "#E5ECF6",
          "polar": {
           "angularaxis": {
            "gridcolor": "white",
            "linecolor": "white",
            "ticks": ""
           },
           "bgcolor": "#E5ECF6",
           "radialaxis": {
            "gridcolor": "white",
            "linecolor": "white",
            "ticks": ""
           }
          },
          "scene": {
           "xaxis": {
            "backgroundcolor": "#E5ECF6",
            "gridcolor": "white",
            "gridwidth": 2,
            "linecolor": "white",
            "showbackground": true,
            "ticks": "",
            "zerolinecolor": "white"
           },
           "yaxis": {
            "backgroundcolor": "#E5ECF6",
            "gridcolor": "white",
            "gridwidth": 2,
            "linecolor": "white",
            "showbackground": true,
            "ticks": "",
            "zerolinecolor": "white"
           },
           "zaxis": {
            "backgroundcolor": "#E5ECF6",
            "gridcolor": "white",
            "gridwidth": 2,
            "linecolor": "white",
            "showbackground": true,
            "ticks": "",
            "zerolinecolor": "white"
           }
          },
          "shapedefaults": {
           "line": {
            "color": "#2a3f5f"
           }
          },
          "ternary": {
           "aaxis": {
            "gridcolor": "white",
            "linecolor": "white",
            "ticks": ""
           },
           "baxis": {
            "gridcolor": "white",
            "linecolor": "white",
            "ticks": ""
           },
           "bgcolor": "#E5ECF6",
           "caxis": {
            "gridcolor": "white",
            "linecolor": "white",
            "ticks": ""
           }
          },
          "title": {
           "x": 0.05
          },
          "xaxis": {
           "automargin": true,
           "gridcolor": "white",
           "linecolor": "white",
           "ticks": "",
           "title": {
            "standoff": 15
           },
           "zerolinecolor": "white",
           "zerolinewidth": 2
          },
          "yaxis": {
           "automargin": true,
           "gridcolor": "white",
           "linecolor": "white",
           "ticks": "",
           "title": {
            "standoff": 15
           },
           "zerolinecolor": "white",
           "zerolinewidth": 2
          }
         }
        },
        "title": {
         "text": "2D PCA Transformation",
         "x": 0.5
        },
        "width": 2000,
        "xaxis": {
         "anchor": "y",
         "domain": [
          0,
          1
         ],
         "title": {
          "text": "PC1"
         }
        },
        "yaxis": {
         "anchor": "x",
         "domain": [
          0,
          1
         ],
         "title": {
          "text": "PC2"
         }
        }
       }
      },
      "text/html": [
       "<div>                            <div id=\"72277a12-7773-4629-b6eb-398fd66687d6\" class=\"plotly-graph-div\" style=\"height:1000px; width:2000px;\"></div>            <script type=\"text/javascript\">                require([\"plotly\"], function(Plotly) {                    window.PLOTLYENV=window.PLOTLYENV || {};                                    if (document.getElementById(\"72277a12-7773-4629-b6eb-398fd66687d6\")) {                    Plotly.newPlot(                        \"72277a12-7773-4629-b6eb-398fd66687d6\",                        [{\"hovertemplate\":\"PC1=%{x}<br>PC2=%{y}<br>COUNTRY=%{text}<extra></extra>\",\"legendgroup\":\"\",\"marker\":{\"color\":\"#636efa\",\"symbol\":\"circle\"},\"mode\":\"markers+text\",\"name\":\"\",\"orientation\":\"v\",\"showlegend\":false,\"text\":[\"Afghanistan\",\"Albania\",\"Algeria\",\"Angola\",\"Argentina\",\"Armenia\",\"Australia\",\"Austria\",\"Azerbaijan\",\"Bahrain\",\"Bangladesh\",\"Barbados\",\"Belarus\",\"Belgium\",\"Belize\",\"Benin\",\"Bhutan\",\"Bolivia\",\"Bosnia and Herzegovina\",\"Botswana\",\"Brazil\",\"Bulgaria\",\"Burkina Faso\",\"Burundi\",\"Cambodia\",\"Cameroon\",\"Canada\",\"Central African Republic\",\"Chad\",\"Chile\",\"China\",\"Colombia\",\"Comoros\",\"Democratic Republic of the Congo\",\"Costa Rica\",\"Croatia\",\"Cuba\",\"Cyprus\",\"Czech Republic\",\"Denmark\",\"Dominican Republic\",\"Ecuador\",\"Egypt\",\"El Salvador\",\"Estonia\",\"Ethiopia\",\"Fiji\",\"Finland\",\"France\",\"Gabon\",\"Georgia\",\"Germany\",\"Ghana\",\"Greece\",\"Guatemala\",\"Guinea\",\"Guinea Bissau\",\"Guyana\",\"Haiti\",\"Honduras\",\"Hungary\",\"Iceland\",\"India\",\"Indonesia\",\"Iran\",\"Iraq\",\"Ireland\",\"Israel\",\"Italy\",\"Jamaica\",\"Japan\",\"Jordan\",\"Kazakhstan\",\"Kenya\",\"Kuwait\",\"Kyrgyzstan\",\"Laos\",\"Latvia\",\"Lebanon\",\"Lesotho\",\"Liberia\",\"Libya\",\"Lithuania\",\"Luxembourg\",\"Madagascar\",\"Malawi\",\"Malaysia\",\"Mali\",\"Malta\",\"Mauritania\",\"Mauritius\",\"Mexico\",\"Moldova\",\"Mongolia\",\"Montenegro\",\"Morocco\",\"Mozambique\",\"Myanmar\",\"Namibia\",\"Nepal\",\"Netherlands\",\"New Zealand\",\"Nicaragua\",\"Niger\",\"Nigeria\",\"North Macedonia\",\"Norway\",\"Oman\",\"Pakistan\",\"Panama\",\"Papua New Guinea\",\"Paraguay\",\"Peru\",\"Philippines\",\"Poland\",\"Portugal\",\"Qatar\",\"Romania\",\"Russia\",\"Rwanda\",\"Saudi Arabia\",\"Senegal\",\"Serbia\",\"Seychelles\",\"Sierra Leone\",\"Singapore\",\"Slovakia\",\"Slovenia\",\"South Africa\",\"South Korea\",\"Spain\",\"Sri Lanka\",\"Sudan\",\"Suriname\",\"Sweden\",\"Switzerland\",\"Syria\",\"Tajikistan\",\"Tanzania\",\"Thailand\",\"Togo\",\"Trinidad and Tobago\",\"Tunisia\",\"Turkey\",\"Turkmenistan\",\"Uganda\",\"Ukraine\",\"United Arab Emirates\",\"United Kingdom\",\"United States\",\"Uruguay\",\"Uzbekistan\",\"Venezuela\",\"Vietnam\",\"Yemen\",\"Zambia\",\"Zimbabwe\"],\"textposition\":\"top center\",\"type\":\"scatter\",\"x\":[-5.549892317555513,1.5081397589416277,-1.6176716306712675,-4.997684401249303,2.4401727315586563,0.8759299173250544,5.973413548037296,6.199364578227761,-0.2934317486623902,-0.22237186696549655,-2.8497905002705552,1.8391914104336353,2.3493234357331327,6.061350042132398,-0.8513282040411463,-5.268215502639589,-1.8232072804724164,-1.8083275532605045,1.3249472285126416,-1.4507352721285958,1.0457325671402087,2.987427571103469,-5.14530740955931,-5.672438973031424,-2.9702110272828004,-5.065529774911684,6.762811110075134,-6.797578726237283,-7.109267829185318,3.350492228276393,1.0413062603297567,-0.1747224314483038,-5.303390159214108,-5.952737876432092,1.1702769673468574,3.0715051222022436,1.3275181312731466,4.484527382748225,4.970475506155227,7.763185785206306,-1.058348694089722,-0.6086260753759609,-2.450477295809667,-1.149977173444136,4.954193253710419,-5.0433973711751365,-0.8207288006664762,6.8281402149318255,6.045279347759015,-2.2047184369714397,1.6311405074016139,6.477566348476385,-3.9084455449545334,4.29674339787549,-2.7031765844630096,-6.021557229666592,-5.71700096434303,-1.2895878225460016,-4.17734162031237,-2.2131668786240515,4.23304772737639,6.805787169370595,-2.197387806877159,-1.9424368594058536,-0.6480956750642946,-2.5755745655498927,7.266941493889,3.8091294665236664,4.6324980996751615,-0.13530477477570885,4.676567567042412,-0.8872693937630417,1.2830050440370273,-4.013358439453619,0.7786328035290959,-0.6738577117788009,-2.875869081573117,3.937445841804058,0.3232023566850067,-3.328110715140962,-4.443536578719591,-1.853688796845321,4.567137911820952,7.759393393016687,-4.3398368446545765,-4.921316036758433,-0.13563040383636144,-5.941037485007089,4.643136938020498,-4.5447529983442765,1.457421921149432,0.4935725247400037,1.512115484684704,0.3359911288348492,2.3250816870977418,-1.3444996477278681,-5.7259962949307495,-2.690880891023311,-1.9746580047175146,-2.4027284132768894,6.559425495677507,6.013757648834206,-1.8088902058398686,-6.846122847592427,-5.03144515062151,1.3305749706712515,7.432346976016301,-1.4719643884462728,-4.152320456574705,0.30657387502743105,-3.5533691909107623,-0.3258238208718828,-0.1794576521245951,-1.5967299850357477,4.152173030805006,4.564289903992397,1.2199483180996238,3.1883785086660454,2.9262249808926617,-3.4087103011290982,-0.14169428035571466,-4.81324104771443,2.532115029791089,0.2544498360444811,-5.721424401205794,3.9132201478129263,3.597398681446918,4.89605747963147,-0.6808321710157611,4.814138751359414,5.441298479471452,-1.5063396789285504,-4.778596126796331,-0.6210708273426809,7.266122129855845,7.561127696647147,-2.325218417089751,-2.8763432056168745,-4.330749643533631,0.16219694311504682,-5.1864402828562035,0.6592569218384243,-0.14168823564518593,0.9803690255785992,-1.7151867846099502,-4.410269874123457,2.024658236611452,1.3702044960501605,6.385971841718194,6.360565821361069,2.8949091136316905,-1.5965515334966527,-2.0758318520352805,-0.6807749814165858,-5.219351392303695,-5.070262240264931,-4.275097880475029],\"xaxis\":\"x\",\"y\":[-1.9900812012790337,-0.7218535861446044,-2.606199810965303,1.4072739282350735,1.500875619250824,0.2750822734652919,-0.5989802811746828,-0.38043238136724583,-2.631893580589069,-1.5646792951560202,-2.39904411917905,0.9902487799534215,1.3237900157963298,-0.19909088268765648,3.1049504774484613,0.43674622983231115,-0.6105132964545869,1.7073384941222374,-0.39846343033490517,2.5861374661346344,2.6934594827267064,1.343778969973538,-1.008854683824312,1.0107314942246846,-0.04637951842760562,0.9346583577441611,-0.4834823380231756,1.1614014307998757,-0.5638635694505235,0.9636570586813666,-0.7467654249016067,1.6364410895202002,-1.6946772271009252,0.1157892555555565,2.052467718844794,0.6684369504496147,2.9685561878283,0.679889586449297,0.1415469042542399,-0.6592010235651399,1.3264449112750112,1.7021190859097777,-2.9577620098606787,3.3513445840971174,0.5820411040500745,-0.03570545870538706,0.876239890701883,-0.37631801179265084,-0.3588269565554948,1.261136432569857,0.4878212924673284,-0.5064637562007945,0.6118151218675353,0.6822147009389798,1.331155245662924,-1.7888188248021244,0.026968582992123177,3.117880461728628,1.1994672575445362,1.7466804963230531,0.4090109334751344,-1.1332831228295992,-0.5153152992367862,-1.8350266749558128,-1.8110653380053892,-2.8685009542064934,-1.2883361556602129,-0.30305989391561416,-0.17172943498489254,1.7852705999893184,-0.7790124859337134,-2.69075183645021,-0.9353802525070519,0.6273432233382596,-5.106451443833478,-0.8954681207725363,-0.4277698831004547,1.5903034193040402,-1.3174803094673317,6.128397338632228,-0.4683933719852515,-3.442622266511488,1.602527589587155,-2.491334266014208,0.9831082400738137,0.9680947730544711,-1.248152281199006,-2.253084833109367,-0.1945332269685634,-2.6033399168062097,1.876454311664032,1.8225979419504592,1.3235746727520108,1.1086269356935958,0.9565831854350476,-1.6839137604057492,1.7741693603337612,-0.8256914605070426,3.114851572666981,-0.2514763755251856,-1.1180156259875764,-0.552828080250848,1.7001876224727268,-2.0391340663350364,-0.8238113581906595,0.12869665179880074,-1.384801098244939,-3.2100821044791537,-3.223412914430455,1.8856150831577982,0.4934926782625177,1.7497000959128008,1.437624889289121,0.9757510025686689,0.6573459341880726,0.48334344485328273,-4.4950673130121,0.40410978371693507,1.4815620963372311,2.117447066734872,-4.23874782218891,-1.2456227277301664,1.2844464882724613,2.6968314045235866,-0.5862368664641502,-2.2271864107018797,0.6264925800772682,0.041780147905729315,3.974804001192104,-0.18022956352605082,-0.259022956229877,0.0643772409945578,-2.799270173848726,2.1814770591410086,-0.6241549700589689,-1.660194752355598,-5.054099025933761,-1.5705285714150838,0.6649142024748921,0.21668010776027033,0.19499222481688236,1.4194061044791477,-1.7126305367581665,-1.5595691984174158,-0.28594268462151823,1.3189078907177512,1.3658949645790452,-4.126284342588981,-0.4377483060454497,0.5522574194057623,2.2872318568509513,-1.3915026168327593,2.4397461145285795,0.29905121049597666,-2.9866264702785554,2.1382890438011883,1.30231674168097],\"yaxis\":\"y\"}],                        {\"autosize\":false,\"height\":1000,\"legend\":{\"tracegroupgap\":0},\"margin\":{\"t\":60},\"template\":{\"data\":{\"bar\":[{\"error_x\":{\"color\":\"#2a3f5f\"},\"error_y\":{\"color\":\"#2a3f5f\"},\"marker\":{\"line\":{\"color\":\"#E5ECF6\",\"width\":0.5},\"pattern\":{\"fillmode\":\"overlay\",\"size\":10,\"solidity\":0.2}},\"type\":\"bar\"}],\"barpolar\":[{\"marker\":{\"line\":{\"color\":\"#E5ECF6\",\"width\":0.5},\"pattern\":{\"fillmode\":\"overlay\",\"size\":10,\"solidity\":0.2}},\"type\":\"barpolar\"}],\"carpet\":[{\"aaxis\":{\"endlinecolor\":\"#2a3f5f\",\"gridcolor\":\"white\",\"linecolor\":\"white\",\"minorgridcolor\":\"white\",\"startlinecolor\":\"#2a3f5f\"},\"baxis\":{\"endlinecolor\":\"#2a3f5f\",\"gridcolor\":\"white\",\"linecolor\":\"white\",\"minorgridcolor\":\"white\",\"startlinecolor\":\"#2a3f5f\"},\"type\":\"carpet\"}],\"choropleth\":[{\"colorbar\":{\"outlinewidth\":0,\"ticks\":\"\"},\"type\":\"choropleth\"}],\"contour\":[{\"colorbar\":{\"outlinewidth\":0,\"ticks\":\"\"},\"colorscale\":[[0.0,\"#0d0887\"],[0.1111111111111111,\"#46039f\"],[0.2222222222222222,\"#7201a8\"],[0.3333333333333333,\"#9c179e\"],[0.4444444444444444,\"#bd3786\"],[0.5555555555555556,\"#d8576b\"],[0.6666666666666666,\"#ed7953\"],[0.7777777777777778,\"#fb9f3a\"],[0.8888888888888888,\"#fdca26\"],[1.0,\"#f0f921\"]],\"type\":\"contour\"}],\"contourcarpet\":[{\"colorbar\":{\"outlinewidth\":0,\"ticks\":\"\"},\"type\":\"contourcarpet\"}],\"heatmap\":[{\"colorbar\":{\"outlinewidth\":0,\"ticks\":\"\"},\"colorscale\":[[0.0,\"#0d0887\"],[0.1111111111111111,\"#46039f\"],[0.2222222222222222,\"#7201a8\"],[0.3333333333333333,\"#9c179e\"],[0.4444444444444444,\"#bd3786\"],[0.5555555555555556,\"#d8576b\"],[0.6666666666666666,\"#ed7953\"],[0.7777777777777778,\"#fb9f3a\"],[0.8888888888888888,\"#fdca26\"],[1.0,\"#f0f921\"]],\"type\":\"heatmap\"}],\"heatmapgl\":[{\"colorbar\":{\"outlinewidth\":0,\"ticks\":\"\"},\"colorscale\":[[0.0,\"#0d0887\"],[0.1111111111111111,\"#46039f\"],[0.2222222222222222,\"#7201a8\"],[0.3333333333333333,\"#9c179e\"],[0.4444444444444444,\"#bd3786\"],[0.5555555555555556,\"#d8576b\"],[0.6666666666666666,\"#ed7953\"],[0.7777777777777778,\"#fb9f3a\"],[0.8888888888888888,\"#fdca26\"],[1.0,\"#f0f921\"]],\"type\":\"heatmapgl\"}],\"histogram\":[{\"marker\":{\"pattern\":{\"fillmode\":\"overlay\",\"size\":10,\"solidity\":0.2}},\"type\":\"histogram\"}],\"histogram2d\":[{\"colorbar\":{\"outlinewidth\":0,\"ticks\":\"\"},\"colorscale\":[[0.0,\"#0d0887\"],[0.1111111111111111,\"#46039f\"],[0.2222222222222222,\"#7201a8\"],[0.3333333333333333,\"#9c179e\"],[0.4444444444444444,\"#bd3786\"],[0.5555555555555556,\"#d8576b\"],[0.6666666666666666,\"#ed7953\"],[0.7777777777777778,\"#fb9f3a\"],[0.8888888888888888,\"#fdca26\"],[1.0,\"#f0f921\"]],\"type\":\"histogram2d\"}],\"histogram2dcontour\":[{\"colorbar\":{\"outlinewidth\":0,\"ticks\":\"\"},\"colorscale\":[[0.0,\"#0d0887\"],[0.1111111111111111,\"#46039f\"],[0.2222222222222222,\"#7201a8\"],[0.3333333333333333,\"#9c179e\"],[0.4444444444444444,\"#bd3786\"],[0.5555555555555556,\"#d8576b\"],[0.6666666666666666,\"#ed7953\"],[0.7777777777777778,\"#fb9f3a\"],[0.8888888888888888,\"#fdca26\"],[1.0,\"#f0f921\"]],\"type\":\"histogram2dcontour\"}],\"mesh3d\":[{\"colorbar\":{\"outlinewidth\":0,\"ticks\":\"\"},\"type\":\"mesh3d\"}],\"parcoords\":[{\"line\":{\"colorbar\":{\"outlinewidth\":0,\"ticks\":\"\"}},\"type\":\"parcoords\"}],\"pie\":[{\"automargin\":true,\"type\":\"pie\"}],\"scatter\":[{\"marker\":{\"colorbar\":{\"outlinewidth\":0,\"ticks\":\"\"}},\"type\":\"scatter\"}],\"scatter3d\":[{\"line\":{\"colorbar\":{\"outlinewidth\":0,\"ticks\":\"\"}},\"marker\":{\"colorbar\":{\"outlinewidth\":0,\"ticks\":\"\"}},\"type\":\"scatter3d\"}],\"scattercarpet\":[{\"marker\":{\"colorbar\":{\"outlinewidth\":0,\"ticks\":\"\"}},\"type\":\"scattercarpet\"}],\"scattergeo\":[{\"marker\":{\"colorbar\":{\"outlinewidth\":0,\"ticks\":\"\"}},\"type\":\"scattergeo\"}],\"scattergl\":[{\"marker\":{\"colorbar\":{\"outlinewidth\":0,\"ticks\":\"\"}},\"type\":\"scattergl\"}],\"scattermapbox\":[{\"marker\":{\"colorbar\":{\"outlinewidth\":0,\"ticks\":\"\"}},\"type\":\"scattermapbox\"}],\"scatterpolar\":[{\"marker\":{\"colorbar\":{\"outlinewidth\":0,\"ticks\":\"\"}},\"type\":\"scatterpolar\"}],\"scatterpolargl\":[{\"marker\":{\"colorbar\":{\"outlinewidth\":0,\"ticks\":\"\"}},\"type\":\"scatterpolargl\"}],\"scatterternary\":[{\"marker\":{\"colorbar\":{\"outlinewidth\":0,\"ticks\":\"\"}},\"type\":\"scatterternary\"}],\"surface\":[{\"colorbar\":{\"outlinewidth\":0,\"ticks\":\"\"},\"colorscale\":[[0.0,\"#0d0887\"],[0.1111111111111111,\"#46039f\"],[0.2222222222222222,\"#7201a8\"],[0.3333333333333333,\"#9c179e\"],[0.4444444444444444,\"#bd3786\"],[0.5555555555555556,\"#d8576b\"],[0.6666666666666666,\"#ed7953\"],[0.7777777777777778,\"#fb9f3a\"],[0.8888888888888888,\"#fdca26\"],[1.0,\"#f0f921\"]],\"type\":\"surface\"}],\"table\":[{\"cells\":{\"fill\":{\"color\":\"#EBF0F8\"},\"line\":{\"color\":\"white\"}},\"header\":{\"fill\":{\"color\":\"#C8D4E3\"},\"line\":{\"color\":\"white\"}},\"type\":\"table\"}]},\"layout\":{\"annotationdefaults\":{\"arrowcolor\":\"#2a3f5f\",\"arrowhead\":0,\"arrowwidth\":1},\"autotypenumbers\":\"strict\",\"coloraxis\":{\"colorbar\":{\"outlinewidth\":0,\"ticks\":\"\"}},\"colorscale\":{\"diverging\":[[0,\"#8e0152\"],[0.1,\"#c51b7d\"],[0.2,\"#de77ae\"],[0.3,\"#f1b6da\"],[0.4,\"#fde0ef\"],[0.5,\"#f7f7f7\"],[0.6,\"#e6f5d0\"],[0.7,\"#b8e186\"],[0.8,\"#7fbc41\"],[0.9,\"#4d9221\"],[1,\"#276419\"]],\"sequential\":[[0.0,\"#0d0887\"],[0.1111111111111111,\"#46039f\"],[0.2222222222222222,\"#7201a8\"],[0.3333333333333333,\"#9c179e\"],[0.4444444444444444,\"#bd3786\"],[0.5555555555555556,\"#d8576b\"],[0.6666666666666666,\"#ed7953\"],[0.7777777777777778,\"#fb9f3a\"],[0.8888888888888888,\"#fdca26\"],[1.0,\"#f0f921\"]],\"sequentialminus\":[[0.0,\"#0d0887\"],[0.1111111111111111,\"#46039f\"],[0.2222222222222222,\"#7201a8\"],[0.3333333333333333,\"#9c179e\"],[0.4444444444444444,\"#bd3786\"],[0.5555555555555556,\"#d8576b\"],[0.6666666666666666,\"#ed7953\"],[0.7777777777777778,\"#fb9f3a\"],[0.8888888888888888,\"#fdca26\"],[1.0,\"#f0f921\"]]},\"colorway\":[\"#636efa\",\"#EF553B\",\"#00cc96\",\"#ab63fa\",\"#FFA15A\",\"#19d3f3\",\"#FF6692\",\"#B6E880\",\"#FF97FF\",\"#FECB52\"],\"font\":{\"color\":\"#2a3f5f\"},\"geo\":{\"bgcolor\":\"white\",\"lakecolor\":\"white\",\"landcolor\":\"#E5ECF6\",\"showlakes\":true,\"showland\":true,\"subunitcolor\":\"white\"},\"hoverlabel\":{\"align\":\"left\"},\"hovermode\":\"closest\",\"mapbox\":{\"style\":\"light\"},\"paper_bgcolor\":\"white\",\"plot_bgcolor\":\"#E5ECF6\",\"polar\":{\"angularaxis\":{\"gridcolor\":\"white\",\"linecolor\":\"white\",\"ticks\":\"\"},\"bgcolor\":\"#E5ECF6\",\"radialaxis\":{\"gridcolor\":\"white\",\"linecolor\":\"white\",\"ticks\":\"\"}},\"scene\":{\"xaxis\":{\"backgroundcolor\":\"#E5ECF6\",\"gridcolor\":\"white\",\"gridwidth\":2,\"linecolor\":\"white\",\"showbackground\":true,\"ticks\":\"\",\"zerolinecolor\":\"white\"},\"yaxis\":{\"backgroundcolor\":\"#E5ECF6\",\"gridcolor\":\"white\",\"gridwidth\":2,\"linecolor\":\"white\",\"showbackground\":true,\"ticks\":\"\",\"zerolinecolor\":\"white\"},\"zaxis\":{\"backgroundcolor\":\"#E5ECF6\",\"gridcolor\":\"white\",\"gridwidth\":2,\"linecolor\":\"white\",\"showbackground\":true,\"ticks\":\"\",\"zerolinecolor\":\"white\"}},\"shapedefaults\":{\"line\":{\"color\":\"#2a3f5f\"}},\"ternary\":{\"aaxis\":{\"gridcolor\":\"white\",\"linecolor\":\"white\",\"ticks\":\"\"},\"baxis\":{\"gridcolor\":\"white\",\"linecolor\":\"white\",\"ticks\":\"\"},\"bgcolor\":\"#E5ECF6\",\"caxis\":{\"gridcolor\":\"white\",\"linecolor\":\"white\",\"ticks\":\"\"}},\"title\":{\"x\":0.05},\"xaxis\":{\"automargin\":true,\"gridcolor\":\"white\",\"linecolor\":\"white\",\"ticks\":\"\",\"title\":{\"standoff\":15},\"zerolinecolor\":\"white\",\"zerolinewidth\":2},\"yaxis\":{\"automargin\":true,\"gridcolor\":\"white\",\"linecolor\":\"white\",\"ticks\":\"\",\"title\":{\"standoff\":15},\"zerolinecolor\":\"white\",\"zerolinewidth\":2}}},\"title\":{\"text\":\"2D PCA Transformation\",\"x\":0.5},\"width\":2000,\"xaxis\":{\"anchor\":\"y\",\"domain\":[0.0,1.0],\"title\":{\"text\":\"PC1\"}},\"yaxis\":{\"anchor\":\"x\",\"domain\":[0.0,1.0],\"title\":{\"text\":\"PC2\"}}},                        {\"responsive\": true}                    ).then(function(){\n",
       "                            \n",
       "var gd = document.getElementById('72277a12-7773-4629-b6eb-398fd66687d6');\n",
       "var x = new MutationObserver(function (mutations, observer) {{\n",
       "        var display = window.getComputedStyle(gd).display;\n",
       "        if (!display || display === 'none') {{\n",
       "            console.log([gd, 'removed!']);\n",
       "            Plotly.purge(gd);\n",
       "            observer.disconnect();\n",
       "        }}\n",
       "}});\n",
       "\n",
       "// Listen for the removal of the full notebook cells\n",
       "var notebookContainer = gd.closest('#notebook-container');\n",
       "if (notebookContainer) {{\n",
       "    x.observe(notebookContainer, {childList: true});\n",
       "}}\n",
       "\n",
       "// Listen for the clearing of the current output cell\n",
       "var outputEl = gd.closest('.output');\n",
       "if (outputEl) {{\n",
       "    x.observe(outputEl, {childList: true});\n",
       "}}\n",
       "\n",
       "                        })                };                });            </script>        </div>"
      ]
     },
     "metadata": {},
     "output_type": "display_data"
    }
   ],
   "source": [
    "# 2D PCA Transformation\n",
    "\n",
    "\n",
    "x = StandardScaler().fit_transform(x)\n",
    "modified_data1 = pca_data(x, 2)\n",
    "\n",
    "fig = px.scatter(modified_data1, x='PC1', y='PC2', text='COUNTRY')\n",
    "fig.update_traces(textposition='top center')\n",
    "fig.update_layout(title_text='2D PCA Transformation', title_x=0.5)\n",
    "fig.update_layout(\n",
    "    autosize=False,\n",
    "    width=2000,\n",
    "    height=1000\n",
    ")\n",
    "fig.show()\n",
    "\n",
    "# We realized that the structure is not linear, more like geodesic.\n",
    "# Let's try Isomap this time."
   ]
  },
  {
   "cell_type": "code",
   "execution_count": 32,
   "id": "77642aa2",
   "metadata": {},
   "outputs": [
    {
     "name": "stdout",
     "output_type": "stream",
     "text": [
      "[0.38348611 0.46646909 0.5343968  0.59352889 0.64321605]\n",
      "[t-SNE] Computing 121 nearest neighbors...\n",
      "[t-SNE] Indexed 157 samples in 0.001s...\n",
      "[t-SNE] Computed neighbors for 157 samples in 0.004s...\n",
      "[t-SNE] Computed conditional probabilities for sample 157 / 157\n",
      "[t-SNE] Mean sigma: 2.647569\n",
      "[t-SNE] KL divergence after 250 iterations with early exaggeration: 53.721710\n",
      "[t-SNE] KL divergence after 300 iterations: 0.306002\n"
     ]
    },
    {
     "data": {
      "application/vnd.plotly.v1+json": {
       "config": {
        "plotlyServerURL": "https://plot.ly"
       },
       "data": [
        {
         "hovertemplate": "Axis 1=%{x}<br>Axis 2=%{y}<br>COUNTRY=%{text}<extra></extra>",
         "legendgroup": "",
         "marker": {
          "color": "#636efa",
          "symbol": "circle"
         },
         "mode": "markers+text",
         "name": "",
         "orientation": "v",
         "showlegend": false,
         "text": [
          "Afghanistan",
          "Albania",
          "Algeria",
          "Angola",
          "Argentina",
          "Armenia",
          "Australia",
          "Austria",
          "Azerbaijan",
          "Bahrain",
          "Bangladesh",
          "Barbados",
          "Belarus",
          "Belgium",
          "Belize",
          "Benin",
          "Bhutan",
          "Bolivia",
          "Bosnia and Herzegovina",
          "Botswana",
          "Brazil",
          "Bulgaria",
          "Burkina Faso",
          "Burundi",
          "Cambodia",
          "Cameroon",
          "Canada",
          "Central African Republic",
          "Chad",
          "Chile",
          "China",
          "Colombia",
          "Comoros",
          "Democratic Republic of the Congo",
          "Costa Rica",
          "Croatia",
          "Cuba",
          "Cyprus",
          "Czech Republic",
          "Denmark",
          "Dominican Republic",
          "Ecuador",
          "Egypt",
          "El Salvador",
          "Estonia",
          "Ethiopia",
          "Fiji",
          "Finland",
          "France",
          "Gabon",
          "Georgia",
          "Germany",
          "Ghana",
          "Greece",
          "Guatemala",
          "Guinea",
          "Guinea Bissau",
          "Guyana",
          "Haiti",
          "Honduras",
          "Hungary",
          "Iceland",
          "India",
          "Indonesia",
          "Iran",
          "Iraq",
          "Ireland",
          "Israel",
          "Italy",
          "Jamaica",
          "Japan",
          "Jordan",
          "Kazakhstan",
          "Kenya",
          "Kuwait",
          "Kyrgyzstan",
          "Laos",
          "Latvia",
          "Lebanon",
          "Lesotho",
          "Liberia",
          "Libya",
          "Lithuania",
          "Luxembourg",
          "Madagascar",
          "Malawi",
          "Malaysia",
          "Mali",
          "Malta",
          "Mauritania",
          "Mauritius",
          "Mexico",
          "Moldova",
          "Mongolia",
          "Montenegro",
          "Morocco",
          "Mozambique",
          "Myanmar",
          "Namibia",
          "Nepal",
          "Netherlands",
          "New Zealand",
          "Nicaragua",
          "Niger",
          "Nigeria",
          "North Macedonia",
          "Norway",
          "Oman",
          "Pakistan",
          "Panama",
          "Papua New Guinea",
          "Paraguay",
          "Peru",
          "Philippines",
          "Poland",
          "Portugal",
          "Qatar",
          "Romania",
          "Russia",
          "Rwanda",
          "Saudi Arabia",
          "Senegal",
          "Serbia",
          "Seychelles",
          "Sierra Leone",
          "Singapore",
          "Slovakia",
          "Slovenia",
          "South Africa",
          "South Korea",
          "Spain",
          "Sri Lanka",
          "Sudan",
          "Suriname",
          "Sweden",
          "Switzerland",
          "Syria",
          "Tajikistan",
          "Tanzania",
          "Thailand",
          "Togo",
          "Trinidad and Tobago",
          "Tunisia",
          "Turkey",
          "Turkmenistan",
          "Uganda",
          "Ukraine",
          "United Arab Emirates",
          "United Kingdom",
          "United States",
          "Uruguay",
          "Uzbekistan",
          "Venezuela",
          "Vietnam",
          "Yemen",
          "Zambia",
          "Zimbabwe"
         ],
         "textposition": "top center",
         "type": "scatter",
         "x": [
          -7.41429328918457,
          3.8574905395507812,
          -3.1231977939605713,
          -4.209010124206543,
          4.661727428436279,
          4.774550914764404,
          11.909762382507324,
          8.306640625,
          -2.8790907859802246,
          -5.0001220703125,
          -4.371402740478516,
          3.9714913368225098,
          6.421088695526123,
          9.253671646118164,
          3.4572219848632812,
          -5.1888957023620605,
          -6.946926593780518,
          0.02181065082550049,
          3.585831642150879,
          0.1787080466747284,
          4.084725379943848,
          6.928931713104248,
          -6.419286727905273,
          -4.98630952835083,
          -7.592320442199707,
          -3.7959115505218506,
          9.434889793395996,
          -3.587096929550171,
          -6.488062381744385,
          6.914842128753662,
          2.257031202316284,
          2.025669813156128,
          -6.849895477294922,
          -5.403573989868164,
          3.4628283977508545,
          5.749889850616455,
          3.3259165287017822,
          10.861875534057617,
          8.909563064575195,
          9.107794761657715,
          0.5741071701049805,
          1.1740529537200928,
          -4.444561958312988,
          2.8742637634277344,
          8.981568336486816,
          -5.408168792724609,
          0.20026828348636627,
          8.496769905090332,
          9.660529136657715,
          -1.7531818151474,
          5.427488803863525,
          10.064373016357422,
          -3.4005441665649414,
          8.84738540649414,
          -1.1426829099655151,
          -7.313058376312256,
          -5.727072238922119,
          0.197832390666008,
          -2.334555149078369,
          0.7004101276397705,
          7.3007588386535645,
          9.626055717468262,
          -4.838097095489502,
          -4.033818244934082,
          -2.3222296237945557,
          -4.014493465423584,
          11.013021469116211,
          12.601130485534668,
          8.138494491577148,
          2.326857328414917,
          11.823847770690918,
          -2.965843915939331,
          3.1147193908691406,
          -2.9285969734191895,
          -3.143693685531616,
          -2.5788521766662598,
          -6.687512397766113,
          6.525157928466797,
          -0.8319368958473206,
          -4.693124771118164,
          -6.67834997177124,
          -3.737881898880005,
          8.232522964477539,
          11.291112899780273,
          -4.560777187347412,
          -4.3546881675720215,
          -1.6480575799942017,
          -7.819501876831055,
          10.769805908203125,
          -8.336148262023926,
          -6.405557155609131,
          3.130636215209961,
          6.086968421936035,
          -7.365688800811768,
          5.316525936126709,
          -2.618664264678955,
          -4.317935943603516,
          -7.223526477813721,
          -5.748842239379883,
          -5.901259422302246,
          9.95035171508789,
          10.451743125915527,
          -0.0010334700345993042,
          -7.536822319030762,
          -4.58566951751709,
          4.1901397705078125,
          9.01150131225586,
          -3.925201177597046,
          -8.307873725891113,
          2.6328423023223877,
          -2.258331775665283,
          1.6728352308273315,
          1.1109700202941895,
          -0.7110161185264587,
          7.5955657958984375,
          8.089306831359863,
          -2.81581974029541,
          7.534469127655029,
          6.45977258682251,
          -3.542168378829956,
          -2.552518844604492,
          -6.273882865905762,
          5.983315467834473,
          2.1561129093170166,
          -6.415451526641846,
          13.091012001037598,
          8.070686340332031,
          9.095903396606445,
          -6.38607931137085,
          11.31474781036377,
          10.33049488067627,
          -6.568588733673096,
          -8.177943229675293,
          1.2372831106185913,
          8.071904182434082,
          10.428605079650879,
          -10.138314247131348,
          -3.8411507606506348,
          -3.248213052749634,
          -7.590244293212891,
          -4.979340553283691,
          2.688645362854004,
          -1.487146019935608,
          -0.8148083090782166,
          -1.56982421875,
          -3.8098042011260986,
          5.549583911895752,
          -2.4029741287231445,
          10.900197982788086,
          13.082139015197754,
          8.184422492980957,
          -2.9833638668060303,
          1.8986589908599854,
          -5.921411514282227,
          -9.172321319580078,
          -3.424936532974243,
          -1.9039747714996338
         ],
         "xaxis": "x",
         "y": [
          -9.40011978149414,
          2.823169231414795,
          0.5307730436325073,
          -10.800905227661133,
          5.747625350952148,
          2.8102035522460938,
          11.796358108520508,
          10.862113952636719,
          -0.8403760194778442,
          2.954800605773926,
          -2.0091843605041504,
          -0.5237970948219299,
          4.586563587188721,
          10.76460075378418,
          -4.134570598602295,
          -11.430307388305664,
          -3.9068856239318848,
          -4.370711326599121,
          3.629539728164673,
          -5.648131847381592,
          -2.6355679035186768,
          5.3864216804504395,
          -10.931347846984863,
          -10.899100303649902,
          -4.378322601318359,
          -11.400247573852539,
          11.692989349365234,
          -13.312936782836914,
          -11.853414535522461,
          6.690940856933594,
          3.0086090564727783,
          -1.457108974456787,
          -8.69960880279541,
          -12.22282886505127,
          -1.7659144401550293,
          6.478194236755371,
          5.735678672790527,
          8.085719108581543,
          8.727466583251953,
          13.213908195495605,
          -3.3974573612213135,
          -3.188821792602539,
          0.11220179498195648,
          -4.745071887969971,
          7.8491010665893555,
          -10.592656135559082,
          -2.414585590362549,
          11.77134895324707,
          10.933334350585938,
          -6.993170738220215,
          3.384042978286743,
          10.499870300292969,
          -9.315201759338379,
          6.707022666931152,
          -5.475863456726074,
          -10.572792053222656,
          -9.594366073608398,
          -6.376827239990234,
          -9.258753776550293,
          -1.3885091543197632,
          8.302346229553223,
          12.36438274383545,
          -3.889464855194092,
          -1.3068186044692993,
          0.9005470871925354,
          1.0638644695281982,
          12.52784252166748,
          10.392483711242676,
          9.521656036376953,
          -0.7285582423210144,
          13.656686782836914,
          1.5125296115875244,
          2.6957039833068848,
          -9.716767311096191,
          3.2085163593292236,
          -2.2862043380737305,
          -4.771193504333496,
          7.517324924468994,
          1.085878849029541,
          -15.271469116210938,
          -13.174501419067383,
          0.1689612716436386,
          7.802423000335693,
          11.070921897888184,
          -8.862462997436523,
          -9.727347373962402,
          0.05502023920416832,
          -10.724637031555176,
          8.751845359802246,
          -9.618050575256348,
          4.512362480163574,
          -2.1814627647399902,
          3.6202824115753174,
          -2.369800567626953,
          5.2049946784973145,
          -0.04961369186639786,
          -11.94391918182373,
          -4.742895126342773,
          -1.1067529916763306,
          -4.28093957901001,
          11.94761848449707,
          10.949087142944336,
          -3.863135576248169,
          -11.619696617126465,
          -13.620222091674805,
          3.7947020530700684,
          12.827914237976074,
          2.312962293624878,
          -7.703664779663086,
          -3.321509838104248,
          -8.40299129486084,
          -2.8581795692443848,
          -2.4967353343963623,
          -3.3769659996032715,
          7.563773155212402,
          8.84017276763916,
          3.9188287258148193,
          6.086576461791992,
          6.207839488983154,
          -8.154020309448242,
          2.4101388454437256,
          -8.8336820602417,
          5.3832268714904785,
          -3.634012460708618,
          -9.929421424865723,
          11.84118938446045,
          6.8900275230407715,
          9.280291557312012,
          0.09978580474853516,
          14.007867813110352,
          9.32923698425293,
          -3.41528582572937,
          -8.413479804992676,
          -3.843111515045166,
          12.32363510131836,
          13.035847663879395,
          -6.434449672698975,
          -2.8284595012664795,
          -10.62778377532959,
          -2.8619189262390137,
          -10.126794815063477,
          -1.9623512029647827,
          0.7498780488967896,
          1.733970284461975,
          -1.51157546043396,
          -9.679403305053711,
          4.438638210296631,
          3.596808433532715,
          11.413138389587402,
          10.860442161560059,
          4.961668014526367,
          -1.8374783992767334,
          -5.133413791656494,
          -3.0104050636291504,
          -8.434329986572266,
          -11.00243091583252,
          -11.0137300491333
         ],
         "yaxis": "y"
        }
       ],
       "layout": {
        "autosize": false,
        "height": 1000,
        "legend": {
         "tracegroupgap": 0
        },
        "margin": {
         "t": 60
        },
        "template": {
         "data": {
          "bar": [
           {
            "error_x": {
             "color": "#2a3f5f"
            },
            "error_y": {
             "color": "#2a3f5f"
            },
            "marker": {
             "line": {
              "color": "#E5ECF6",
              "width": 0.5
             },
             "pattern": {
              "fillmode": "overlay",
              "size": 10,
              "solidity": 0.2
             }
            },
            "type": "bar"
           }
          ],
          "barpolar": [
           {
            "marker": {
             "line": {
              "color": "#E5ECF6",
              "width": 0.5
             },
             "pattern": {
              "fillmode": "overlay",
              "size": 10,
              "solidity": 0.2
             }
            },
            "type": "barpolar"
           }
          ],
          "carpet": [
           {
            "aaxis": {
             "endlinecolor": "#2a3f5f",
             "gridcolor": "white",
             "linecolor": "white",
             "minorgridcolor": "white",
             "startlinecolor": "#2a3f5f"
            },
            "baxis": {
             "endlinecolor": "#2a3f5f",
             "gridcolor": "white",
             "linecolor": "white",
             "minorgridcolor": "white",
             "startlinecolor": "#2a3f5f"
            },
            "type": "carpet"
           }
          ],
          "choropleth": [
           {
            "colorbar": {
             "outlinewidth": 0,
             "ticks": ""
            },
            "type": "choropleth"
           }
          ],
          "contour": [
           {
            "colorbar": {
             "outlinewidth": 0,
             "ticks": ""
            },
            "colorscale": [
             [
              0,
              "#0d0887"
             ],
             [
              0.1111111111111111,
              "#46039f"
             ],
             [
              0.2222222222222222,
              "#7201a8"
             ],
             [
              0.3333333333333333,
              "#9c179e"
             ],
             [
              0.4444444444444444,
              "#bd3786"
             ],
             [
              0.5555555555555556,
              "#d8576b"
             ],
             [
              0.6666666666666666,
              "#ed7953"
             ],
             [
              0.7777777777777778,
              "#fb9f3a"
             ],
             [
              0.8888888888888888,
              "#fdca26"
             ],
             [
              1,
              "#f0f921"
             ]
            ],
            "type": "contour"
           }
          ],
          "contourcarpet": [
           {
            "colorbar": {
             "outlinewidth": 0,
             "ticks": ""
            },
            "type": "contourcarpet"
           }
          ],
          "heatmap": [
           {
            "colorbar": {
             "outlinewidth": 0,
             "ticks": ""
            },
            "colorscale": [
             [
              0,
              "#0d0887"
             ],
             [
              0.1111111111111111,
              "#46039f"
             ],
             [
              0.2222222222222222,
              "#7201a8"
             ],
             [
              0.3333333333333333,
              "#9c179e"
             ],
             [
              0.4444444444444444,
              "#bd3786"
             ],
             [
              0.5555555555555556,
              "#d8576b"
             ],
             [
              0.6666666666666666,
              "#ed7953"
             ],
             [
              0.7777777777777778,
              "#fb9f3a"
             ],
             [
              0.8888888888888888,
              "#fdca26"
             ],
             [
              1,
              "#f0f921"
             ]
            ],
            "type": "heatmap"
           }
          ],
          "heatmapgl": [
           {
            "colorbar": {
             "outlinewidth": 0,
             "ticks": ""
            },
            "colorscale": [
             [
              0,
              "#0d0887"
             ],
             [
              0.1111111111111111,
              "#46039f"
             ],
             [
              0.2222222222222222,
              "#7201a8"
             ],
             [
              0.3333333333333333,
              "#9c179e"
             ],
             [
              0.4444444444444444,
              "#bd3786"
             ],
             [
              0.5555555555555556,
              "#d8576b"
             ],
             [
              0.6666666666666666,
              "#ed7953"
             ],
             [
              0.7777777777777778,
              "#fb9f3a"
             ],
             [
              0.8888888888888888,
              "#fdca26"
             ],
             [
              1,
              "#f0f921"
             ]
            ],
            "type": "heatmapgl"
           }
          ],
          "histogram": [
           {
            "marker": {
             "pattern": {
              "fillmode": "overlay",
              "size": 10,
              "solidity": 0.2
             }
            },
            "type": "histogram"
           }
          ],
          "histogram2d": [
           {
            "colorbar": {
             "outlinewidth": 0,
             "ticks": ""
            },
            "colorscale": [
             [
              0,
              "#0d0887"
             ],
             [
              0.1111111111111111,
              "#46039f"
             ],
             [
              0.2222222222222222,
              "#7201a8"
             ],
             [
              0.3333333333333333,
              "#9c179e"
             ],
             [
              0.4444444444444444,
              "#bd3786"
             ],
             [
              0.5555555555555556,
              "#d8576b"
             ],
             [
              0.6666666666666666,
              "#ed7953"
             ],
             [
              0.7777777777777778,
              "#fb9f3a"
             ],
             [
              0.8888888888888888,
              "#fdca26"
             ],
             [
              1,
              "#f0f921"
             ]
            ],
            "type": "histogram2d"
           }
          ],
          "histogram2dcontour": [
           {
            "colorbar": {
             "outlinewidth": 0,
             "ticks": ""
            },
            "colorscale": [
             [
              0,
              "#0d0887"
             ],
             [
              0.1111111111111111,
              "#46039f"
             ],
             [
              0.2222222222222222,
              "#7201a8"
             ],
             [
              0.3333333333333333,
              "#9c179e"
             ],
             [
              0.4444444444444444,
              "#bd3786"
             ],
             [
              0.5555555555555556,
              "#d8576b"
             ],
             [
              0.6666666666666666,
              "#ed7953"
             ],
             [
              0.7777777777777778,
              "#fb9f3a"
             ],
             [
              0.8888888888888888,
              "#fdca26"
             ],
             [
              1,
              "#f0f921"
             ]
            ],
            "type": "histogram2dcontour"
           }
          ],
          "mesh3d": [
           {
            "colorbar": {
             "outlinewidth": 0,
             "ticks": ""
            },
            "type": "mesh3d"
           }
          ],
          "parcoords": [
           {
            "line": {
             "colorbar": {
              "outlinewidth": 0,
              "ticks": ""
             }
            },
            "type": "parcoords"
           }
          ],
          "pie": [
           {
            "automargin": true,
            "type": "pie"
           }
          ],
          "scatter": [
           {
            "marker": {
             "colorbar": {
              "outlinewidth": 0,
              "ticks": ""
             }
            },
            "type": "scatter"
           }
          ],
          "scatter3d": [
           {
            "line": {
             "colorbar": {
              "outlinewidth": 0,
              "ticks": ""
             }
            },
            "marker": {
             "colorbar": {
              "outlinewidth": 0,
              "ticks": ""
             }
            },
            "type": "scatter3d"
           }
          ],
          "scattercarpet": [
           {
            "marker": {
             "colorbar": {
              "outlinewidth": 0,
              "ticks": ""
             }
            },
            "type": "scattercarpet"
           }
          ],
          "scattergeo": [
           {
            "marker": {
             "colorbar": {
              "outlinewidth": 0,
              "ticks": ""
             }
            },
            "type": "scattergeo"
           }
          ],
          "scattergl": [
           {
            "marker": {
             "colorbar": {
              "outlinewidth": 0,
              "ticks": ""
             }
            },
            "type": "scattergl"
           }
          ],
          "scattermapbox": [
           {
            "marker": {
             "colorbar": {
              "outlinewidth": 0,
              "ticks": ""
             }
            },
            "type": "scattermapbox"
           }
          ],
          "scatterpolar": [
           {
            "marker": {
             "colorbar": {
              "outlinewidth": 0,
              "ticks": ""
             }
            },
            "type": "scatterpolar"
           }
          ],
          "scatterpolargl": [
           {
            "marker": {
             "colorbar": {
              "outlinewidth": 0,
              "ticks": ""
             }
            },
            "type": "scatterpolargl"
           }
          ],
          "scatterternary": [
           {
            "marker": {
             "colorbar": {
              "outlinewidth": 0,
              "ticks": ""
             }
            },
            "type": "scatterternary"
           }
          ],
          "surface": [
           {
            "colorbar": {
             "outlinewidth": 0,
             "ticks": ""
            },
            "colorscale": [
             [
              0,
              "#0d0887"
             ],
             [
              0.1111111111111111,
              "#46039f"
             ],
             [
              0.2222222222222222,
              "#7201a8"
             ],
             [
              0.3333333333333333,
              "#9c179e"
             ],
             [
              0.4444444444444444,
              "#bd3786"
             ],
             [
              0.5555555555555556,
              "#d8576b"
             ],
             [
              0.6666666666666666,
              "#ed7953"
             ],
             [
              0.7777777777777778,
              "#fb9f3a"
             ],
             [
              0.8888888888888888,
              "#fdca26"
             ],
             [
              1,
              "#f0f921"
             ]
            ],
            "type": "surface"
           }
          ],
          "table": [
           {
            "cells": {
             "fill": {
              "color": "#EBF0F8"
             },
             "line": {
              "color": "white"
             }
            },
            "header": {
             "fill": {
              "color": "#C8D4E3"
             },
             "line": {
              "color": "white"
             }
            },
            "type": "table"
           }
          ]
         },
         "layout": {
          "annotationdefaults": {
           "arrowcolor": "#2a3f5f",
           "arrowhead": 0,
           "arrowwidth": 1
          },
          "autotypenumbers": "strict",
          "coloraxis": {
           "colorbar": {
            "outlinewidth": 0,
            "ticks": ""
           }
          },
          "colorscale": {
           "diverging": [
            [
             0,
             "#8e0152"
            ],
            [
             0.1,
             "#c51b7d"
            ],
            [
             0.2,
             "#de77ae"
            ],
            [
             0.3,
             "#f1b6da"
            ],
            [
             0.4,
             "#fde0ef"
            ],
            [
             0.5,
             "#f7f7f7"
            ],
            [
             0.6,
             "#e6f5d0"
            ],
            [
             0.7,
             "#b8e186"
            ],
            [
             0.8,
             "#7fbc41"
            ],
            [
             0.9,
             "#4d9221"
            ],
            [
             1,
             "#276419"
            ]
           ],
           "sequential": [
            [
             0,
             "#0d0887"
            ],
            [
             0.1111111111111111,
             "#46039f"
            ],
            [
             0.2222222222222222,
             "#7201a8"
            ],
            [
             0.3333333333333333,
             "#9c179e"
            ],
            [
             0.4444444444444444,
             "#bd3786"
            ],
            [
             0.5555555555555556,
             "#d8576b"
            ],
            [
             0.6666666666666666,
             "#ed7953"
            ],
            [
             0.7777777777777778,
             "#fb9f3a"
            ],
            [
             0.8888888888888888,
             "#fdca26"
            ],
            [
             1,
             "#f0f921"
            ]
           ],
           "sequentialminus": [
            [
             0,
             "#0d0887"
            ],
            [
             0.1111111111111111,
             "#46039f"
            ],
            [
             0.2222222222222222,
             "#7201a8"
            ],
            [
             0.3333333333333333,
             "#9c179e"
            ],
            [
             0.4444444444444444,
             "#bd3786"
            ],
            [
             0.5555555555555556,
             "#d8576b"
            ],
            [
             0.6666666666666666,
             "#ed7953"
            ],
            [
             0.7777777777777778,
             "#fb9f3a"
            ],
            [
             0.8888888888888888,
             "#fdca26"
            ],
            [
             1,
             "#f0f921"
            ]
           ]
          },
          "colorway": [
           "#636efa",
           "#EF553B",
           "#00cc96",
           "#ab63fa",
           "#FFA15A",
           "#19d3f3",
           "#FF6692",
           "#B6E880",
           "#FF97FF",
           "#FECB52"
          ],
          "font": {
           "color": "#2a3f5f"
          },
          "geo": {
           "bgcolor": "white",
           "lakecolor": "white",
           "landcolor": "#E5ECF6",
           "showlakes": true,
           "showland": true,
           "subunitcolor": "white"
          },
          "hoverlabel": {
           "align": "left"
          },
          "hovermode": "closest",
          "mapbox": {
           "style": "light"
          },
          "paper_bgcolor": "white",
          "plot_bgcolor": "#E5ECF6",
          "polar": {
           "angularaxis": {
            "gridcolor": "white",
            "linecolor": "white",
            "ticks": ""
           },
           "bgcolor": "#E5ECF6",
           "radialaxis": {
            "gridcolor": "white",
            "linecolor": "white",
            "ticks": ""
           }
          },
          "scene": {
           "xaxis": {
            "backgroundcolor": "#E5ECF6",
            "gridcolor": "white",
            "gridwidth": 2,
            "linecolor": "white",
            "showbackground": true,
            "ticks": "",
            "zerolinecolor": "white"
           },
           "yaxis": {
            "backgroundcolor": "#E5ECF6",
            "gridcolor": "white",
            "gridwidth": 2,
            "linecolor": "white",
            "showbackground": true,
            "ticks": "",
            "zerolinecolor": "white"
           },
           "zaxis": {
            "backgroundcolor": "#E5ECF6",
            "gridcolor": "white",
            "gridwidth": 2,
            "linecolor": "white",
            "showbackground": true,
            "ticks": "",
            "zerolinecolor": "white"
           }
          },
          "shapedefaults": {
           "line": {
            "color": "#2a3f5f"
           }
          },
          "ternary": {
           "aaxis": {
            "gridcolor": "white",
            "linecolor": "white",
            "ticks": ""
           },
           "baxis": {
            "gridcolor": "white",
            "linecolor": "white",
            "ticks": ""
           },
           "bgcolor": "#E5ECF6",
           "caxis": {
            "gridcolor": "white",
            "linecolor": "white",
            "ticks": ""
           }
          },
          "title": {
           "x": 0.05
          },
          "xaxis": {
           "automargin": true,
           "gridcolor": "white",
           "linecolor": "white",
           "ticks": "",
           "title": {
            "standoff": 15
           },
           "zerolinecolor": "white",
           "zerolinewidth": 2
          },
          "yaxis": {
           "automargin": true,
           "gridcolor": "white",
           "linecolor": "white",
           "ticks": "",
           "title": {
            "standoff": 15
           },
           "zerolinecolor": "white",
           "zerolinewidth": 2
          }
         }
        },
        "title": {
         "text": "2D t-SNE Transformation with PCA 5 dimensions",
         "x": 0.5
        },
        "width": 2000,
        "xaxis": {
         "anchor": "y",
         "domain": [
          0,
          1
         ],
         "title": {
          "text": "Axis 1"
         }
        },
        "yaxis": {
         "anchor": "x",
         "domain": [
          0,
          1
         ],
         "title": {
          "text": "Axis 2"
         }
        }
       }
      },
      "text/html": [
       "<div>                            <div id=\"8bd63280-55c9-4f4d-ac8d-c7e3654a7d68\" class=\"plotly-graph-div\" style=\"height:1000px; width:2000px;\"></div>            <script type=\"text/javascript\">                require([\"plotly\"], function(Plotly) {                    window.PLOTLYENV=window.PLOTLYENV || {};                                    if (document.getElementById(\"8bd63280-55c9-4f4d-ac8d-c7e3654a7d68\")) {                    Plotly.newPlot(                        \"8bd63280-55c9-4f4d-ac8d-c7e3654a7d68\",                        [{\"hovertemplate\":\"Axis 1=%{x}<br>Axis 2=%{y}<br>COUNTRY=%{text}<extra></extra>\",\"legendgroup\":\"\",\"marker\":{\"color\":\"#636efa\",\"symbol\":\"circle\"},\"mode\":\"markers+text\",\"name\":\"\",\"orientation\":\"v\",\"showlegend\":false,\"text\":[\"Afghanistan\",\"Albania\",\"Algeria\",\"Angola\",\"Argentina\",\"Armenia\",\"Australia\",\"Austria\",\"Azerbaijan\",\"Bahrain\",\"Bangladesh\",\"Barbados\",\"Belarus\",\"Belgium\",\"Belize\",\"Benin\",\"Bhutan\",\"Bolivia\",\"Bosnia and Herzegovina\",\"Botswana\",\"Brazil\",\"Bulgaria\",\"Burkina Faso\",\"Burundi\",\"Cambodia\",\"Cameroon\",\"Canada\",\"Central African Republic\",\"Chad\",\"Chile\",\"China\",\"Colombia\",\"Comoros\",\"Democratic Republic of the Congo\",\"Costa Rica\",\"Croatia\",\"Cuba\",\"Cyprus\",\"Czech Republic\",\"Denmark\",\"Dominican Republic\",\"Ecuador\",\"Egypt\",\"El Salvador\",\"Estonia\",\"Ethiopia\",\"Fiji\",\"Finland\",\"France\",\"Gabon\",\"Georgia\",\"Germany\",\"Ghana\",\"Greece\",\"Guatemala\",\"Guinea\",\"Guinea Bissau\",\"Guyana\",\"Haiti\",\"Honduras\",\"Hungary\",\"Iceland\",\"India\",\"Indonesia\",\"Iran\",\"Iraq\",\"Ireland\",\"Israel\",\"Italy\",\"Jamaica\",\"Japan\",\"Jordan\",\"Kazakhstan\",\"Kenya\",\"Kuwait\",\"Kyrgyzstan\",\"Laos\",\"Latvia\",\"Lebanon\",\"Lesotho\",\"Liberia\",\"Libya\",\"Lithuania\",\"Luxembourg\",\"Madagascar\",\"Malawi\",\"Malaysia\",\"Mali\",\"Malta\",\"Mauritania\",\"Mauritius\",\"Mexico\",\"Moldova\",\"Mongolia\",\"Montenegro\",\"Morocco\",\"Mozambique\",\"Myanmar\",\"Namibia\",\"Nepal\",\"Netherlands\",\"New Zealand\",\"Nicaragua\",\"Niger\",\"Nigeria\",\"North Macedonia\",\"Norway\",\"Oman\",\"Pakistan\",\"Panama\",\"Papua New Guinea\",\"Paraguay\",\"Peru\",\"Philippines\",\"Poland\",\"Portugal\",\"Qatar\",\"Romania\",\"Russia\",\"Rwanda\",\"Saudi Arabia\",\"Senegal\",\"Serbia\",\"Seychelles\",\"Sierra Leone\",\"Singapore\",\"Slovakia\",\"Slovenia\",\"South Africa\",\"South Korea\",\"Spain\",\"Sri Lanka\",\"Sudan\",\"Suriname\",\"Sweden\",\"Switzerland\",\"Syria\",\"Tajikistan\",\"Tanzania\",\"Thailand\",\"Togo\",\"Trinidad and Tobago\",\"Tunisia\",\"Turkey\",\"Turkmenistan\",\"Uganda\",\"Ukraine\",\"United Arab Emirates\",\"United Kingdom\",\"United States\",\"Uruguay\",\"Uzbekistan\",\"Venezuela\",\"Vietnam\",\"Yemen\",\"Zambia\",\"Zimbabwe\"],\"textposition\":\"top center\",\"type\":\"scatter\",\"x\":[-7.41429328918457,3.8574905395507812,-3.1231977939605713,-4.209010124206543,4.661727428436279,4.774550914764404,11.909762382507324,8.306640625,-2.8790907859802246,-5.0001220703125,-4.371402740478516,3.9714913368225098,6.421088695526123,9.253671646118164,3.4572219848632812,-5.1888957023620605,-6.946926593780518,0.02181065082550049,3.585831642150879,0.1787080466747284,4.084725379943848,6.928931713104248,-6.419286727905273,-4.98630952835083,-7.592320442199707,-3.7959115505218506,9.434889793395996,-3.587096929550171,-6.488062381744385,6.914842128753662,2.257031202316284,2.025669813156128,-6.849895477294922,-5.403573989868164,3.4628283977508545,5.749889850616455,3.3259165287017822,10.861875534057617,8.909563064575195,9.107794761657715,0.5741071701049805,1.1740529537200928,-4.444561958312988,2.8742637634277344,8.981568336486816,-5.408168792724609,0.20026828348636627,8.496769905090332,9.660529136657715,-1.7531818151474,5.427488803863525,10.064373016357422,-3.4005441665649414,8.84738540649414,-1.1426829099655151,-7.313058376312256,-5.727072238922119,0.197832390666008,-2.334555149078369,0.7004101276397705,7.3007588386535645,9.626055717468262,-4.838097095489502,-4.033818244934082,-2.3222296237945557,-4.014493465423584,11.013021469116211,12.601130485534668,8.138494491577148,2.326857328414917,11.823847770690918,-2.965843915939331,3.1147193908691406,-2.9285969734191895,-3.143693685531616,-2.5788521766662598,-6.687512397766113,6.525157928466797,-0.8319368958473206,-4.693124771118164,-6.67834997177124,-3.737881898880005,8.232522964477539,11.291112899780273,-4.560777187347412,-4.3546881675720215,-1.6480575799942017,-7.819501876831055,10.769805908203125,-8.336148262023926,-6.405557155609131,3.130636215209961,6.086968421936035,-7.365688800811768,5.316525936126709,-2.618664264678955,-4.317935943603516,-7.223526477813721,-5.748842239379883,-5.901259422302246,9.95035171508789,10.451743125915527,-0.0010334700345993042,-7.536822319030762,-4.58566951751709,4.1901397705078125,9.01150131225586,-3.925201177597046,-8.307873725891113,2.6328423023223877,-2.258331775665283,1.6728352308273315,1.1109700202941895,-0.7110161185264587,7.5955657958984375,8.089306831359863,-2.81581974029541,7.534469127655029,6.45977258682251,-3.542168378829956,-2.552518844604492,-6.273882865905762,5.983315467834473,2.1561129093170166,-6.415451526641846,13.091012001037598,8.070686340332031,9.095903396606445,-6.38607931137085,11.31474781036377,10.33049488067627,-6.568588733673096,-8.177943229675293,1.2372831106185913,8.071904182434082,10.428605079650879,-10.138314247131348,-3.8411507606506348,-3.248213052749634,-7.590244293212891,-4.979340553283691,2.688645362854004,-1.487146019935608,-0.8148083090782166,-1.56982421875,-3.8098042011260986,5.549583911895752,-2.4029741287231445,10.900197982788086,13.082139015197754,8.184422492980957,-2.9833638668060303,1.8986589908599854,-5.921411514282227,-9.172321319580078,-3.424936532974243,-1.9039747714996338],\"xaxis\":\"x\",\"y\":[-9.40011978149414,2.823169231414795,0.5307730436325073,-10.800905227661133,5.747625350952148,2.8102035522460938,11.796358108520508,10.862113952636719,-0.8403760194778442,2.954800605773926,-2.0091843605041504,-0.5237970948219299,4.586563587188721,10.76460075378418,-4.134570598602295,-11.430307388305664,-3.9068856239318848,-4.370711326599121,3.629539728164673,-5.648131847381592,-2.6355679035186768,5.3864216804504395,-10.931347846984863,-10.899100303649902,-4.378322601318359,-11.400247573852539,11.692989349365234,-13.312936782836914,-11.853414535522461,6.690940856933594,3.0086090564727783,-1.457108974456787,-8.69960880279541,-12.22282886505127,-1.7659144401550293,6.478194236755371,5.735678672790527,8.085719108581543,8.727466583251953,13.213908195495605,-3.3974573612213135,-3.188821792602539,0.11220179498195648,-4.745071887969971,7.8491010665893555,-10.592656135559082,-2.414585590362549,11.77134895324707,10.933334350585938,-6.993170738220215,3.384042978286743,10.499870300292969,-9.315201759338379,6.707022666931152,-5.475863456726074,-10.572792053222656,-9.594366073608398,-6.376827239990234,-9.258753776550293,-1.3885091543197632,8.302346229553223,12.36438274383545,-3.889464855194092,-1.3068186044692993,0.9005470871925354,1.0638644695281982,12.52784252166748,10.392483711242676,9.521656036376953,-0.7285582423210144,13.656686782836914,1.5125296115875244,2.6957039833068848,-9.716767311096191,3.2085163593292236,-2.2862043380737305,-4.771193504333496,7.517324924468994,1.085878849029541,-15.271469116210938,-13.174501419067383,0.1689612716436386,7.802423000335693,11.070921897888184,-8.862462997436523,-9.727347373962402,0.05502023920416832,-10.724637031555176,8.751845359802246,-9.618050575256348,4.512362480163574,-2.1814627647399902,3.6202824115753174,-2.369800567626953,5.2049946784973145,-0.04961369186639786,-11.94391918182373,-4.742895126342773,-1.1067529916763306,-4.28093957901001,11.94761848449707,10.949087142944336,-3.863135576248169,-11.619696617126465,-13.620222091674805,3.7947020530700684,12.827914237976074,2.312962293624878,-7.703664779663086,-3.321509838104248,-8.40299129486084,-2.8581795692443848,-2.4967353343963623,-3.3769659996032715,7.563773155212402,8.84017276763916,3.9188287258148193,6.086576461791992,6.207839488983154,-8.154020309448242,2.4101388454437256,-8.8336820602417,5.3832268714904785,-3.634012460708618,-9.929421424865723,11.84118938446045,6.8900275230407715,9.280291557312012,0.09978580474853516,14.007867813110352,9.32923698425293,-3.41528582572937,-8.413479804992676,-3.843111515045166,12.32363510131836,13.035847663879395,-6.434449672698975,-2.8284595012664795,-10.62778377532959,-2.8619189262390137,-10.126794815063477,-1.9623512029647827,0.7498780488967896,1.733970284461975,-1.51157546043396,-9.679403305053711,4.438638210296631,3.596808433532715,11.413138389587402,10.860442161560059,4.961668014526367,-1.8374783992767334,-5.133413791656494,-3.0104050636291504,-8.434329986572266,-11.00243091583252,-11.0137300491333],\"yaxis\":\"y\"}],                        {\"autosize\":false,\"height\":1000,\"legend\":{\"tracegroupgap\":0},\"margin\":{\"t\":60},\"template\":{\"data\":{\"bar\":[{\"error_x\":{\"color\":\"#2a3f5f\"},\"error_y\":{\"color\":\"#2a3f5f\"},\"marker\":{\"line\":{\"color\":\"#E5ECF6\",\"width\":0.5},\"pattern\":{\"fillmode\":\"overlay\",\"size\":10,\"solidity\":0.2}},\"type\":\"bar\"}],\"barpolar\":[{\"marker\":{\"line\":{\"color\":\"#E5ECF6\",\"width\":0.5},\"pattern\":{\"fillmode\":\"overlay\",\"size\":10,\"solidity\":0.2}},\"type\":\"barpolar\"}],\"carpet\":[{\"aaxis\":{\"endlinecolor\":\"#2a3f5f\",\"gridcolor\":\"white\",\"linecolor\":\"white\",\"minorgridcolor\":\"white\",\"startlinecolor\":\"#2a3f5f\"},\"baxis\":{\"endlinecolor\":\"#2a3f5f\",\"gridcolor\":\"white\",\"linecolor\":\"white\",\"minorgridcolor\":\"white\",\"startlinecolor\":\"#2a3f5f\"},\"type\":\"carpet\"}],\"choropleth\":[{\"colorbar\":{\"outlinewidth\":0,\"ticks\":\"\"},\"type\":\"choropleth\"}],\"contour\":[{\"colorbar\":{\"outlinewidth\":0,\"ticks\":\"\"},\"colorscale\":[[0.0,\"#0d0887\"],[0.1111111111111111,\"#46039f\"],[0.2222222222222222,\"#7201a8\"],[0.3333333333333333,\"#9c179e\"],[0.4444444444444444,\"#bd3786\"],[0.5555555555555556,\"#d8576b\"],[0.6666666666666666,\"#ed7953\"],[0.7777777777777778,\"#fb9f3a\"],[0.8888888888888888,\"#fdca26\"],[1.0,\"#f0f921\"]],\"type\":\"contour\"}],\"contourcarpet\":[{\"colorbar\":{\"outlinewidth\":0,\"ticks\":\"\"},\"type\":\"contourcarpet\"}],\"heatmap\":[{\"colorbar\":{\"outlinewidth\":0,\"ticks\":\"\"},\"colorscale\":[[0.0,\"#0d0887\"],[0.1111111111111111,\"#46039f\"],[0.2222222222222222,\"#7201a8\"],[0.3333333333333333,\"#9c179e\"],[0.4444444444444444,\"#bd3786\"],[0.5555555555555556,\"#d8576b\"],[0.6666666666666666,\"#ed7953\"],[0.7777777777777778,\"#fb9f3a\"],[0.8888888888888888,\"#fdca26\"],[1.0,\"#f0f921\"]],\"type\":\"heatmap\"}],\"heatmapgl\":[{\"colorbar\":{\"outlinewidth\":0,\"ticks\":\"\"},\"colorscale\":[[0.0,\"#0d0887\"],[0.1111111111111111,\"#46039f\"],[0.2222222222222222,\"#7201a8\"],[0.3333333333333333,\"#9c179e\"],[0.4444444444444444,\"#bd3786\"],[0.5555555555555556,\"#d8576b\"],[0.6666666666666666,\"#ed7953\"],[0.7777777777777778,\"#fb9f3a\"],[0.8888888888888888,\"#fdca26\"],[1.0,\"#f0f921\"]],\"type\":\"heatmapgl\"}],\"histogram\":[{\"marker\":{\"pattern\":{\"fillmode\":\"overlay\",\"size\":10,\"solidity\":0.2}},\"type\":\"histogram\"}],\"histogram2d\":[{\"colorbar\":{\"outlinewidth\":0,\"ticks\":\"\"},\"colorscale\":[[0.0,\"#0d0887\"],[0.1111111111111111,\"#46039f\"],[0.2222222222222222,\"#7201a8\"],[0.3333333333333333,\"#9c179e\"],[0.4444444444444444,\"#bd3786\"],[0.5555555555555556,\"#d8576b\"],[0.6666666666666666,\"#ed7953\"],[0.7777777777777778,\"#fb9f3a\"],[0.8888888888888888,\"#fdca26\"],[1.0,\"#f0f921\"]],\"type\":\"histogram2d\"}],\"histogram2dcontour\":[{\"colorbar\":{\"outlinewidth\":0,\"ticks\":\"\"},\"colorscale\":[[0.0,\"#0d0887\"],[0.1111111111111111,\"#46039f\"],[0.2222222222222222,\"#7201a8\"],[0.3333333333333333,\"#9c179e\"],[0.4444444444444444,\"#bd3786\"],[0.5555555555555556,\"#d8576b\"],[0.6666666666666666,\"#ed7953\"],[0.7777777777777778,\"#fb9f3a\"],[0.8888888888888888,\"#fdca26\"],[1.0,\"#f0f921\"]],\"type\":\"histogram2dcontour\"}],\"mesh3d\":[{\"colorbar\":{\"outlinewidth\":0,\"ticks\":\"\"},\"type\":\"mesh3d\"}],\"parcoords\":[{\"line\":{\"colorbar\":{\"outlinewidth\":0,\"ticks\":\"\"}},\"type\":\"parcoords\"}],\"pie\":[{\"automargin\":true,\"type\":\"pie\"}],\"scatter\":[{\"marker\":{\"colorbar\":{\"outlinewidth\":0,\"ticks\":\"\"}},\"type\":\"scatter\"}],\"scatter3d\":[{\"line\":{\"colorbar\":{\"outlinewidth\":0,\"ticks\":\"\"}},\"marker\":{\"colorbar\":{\"outlinewidth\":0,\"ticks\":\"\"}},\"type\":\"scatter3d\"}],\"scattercarpet\":[{\"marker\":{\"colorbar\":{\"outlinewidth\":0,\"ticks\":\"\"}},\"type\":\"scattercarpet\"}],\"scattergeo\":[{\"marker\":{\"colorbar\":{\"outlinewidth\":0,\"ticks\":\"\"}},\"type\":\"scattergeo\"}],\"scattergl\":[{\"marker\":{\"colorbar\":{\"outlinewidth\":0,\"ticks\":\"\"}},\"type\":\"scattergl\"}],\"scattermapbox\":[{\"marker\":{\"colorbar\":{\"outlinewidth\":0,\"ticks\":\"\"}},\"type\":\"scattermapbox\"}],\"scatterpolar\":[{\"marker\":{\"colorbar\":{\"outlinewidth\":0,\"ticks\":\"\"}},\"type\":\"scatterpolar\"}],\"scatterpolargl\":[{\"marker\":{\"colorbar\":{\"outlinewidth\":0,\"ticks\":\"\"}},\"type\":\"scatterpolargl\"}],\"scatterternary\":[{\"marker\":{\"colorbar\":{\"outlinewidth\":0,\"ticks\":\"\"}},\"type\":\"scatterternary\"}],\"surface\":[{\"colorbar\":{\"outlinewidth\":0,\"ticks\":\"\"},\"colorscale\":[[0.0,\"#0d0887\"],[0.1111111111111111,\"#46039f\"],[0.2222222222222222,\"#7201a8\"],[0.3333333333333333,\"#9c179e\"],[0.4444444444444444,\"#bd3786\"],[0.5555555555555556,\"#d8576b\"],[0.6666666666666666,\"#ed7953\"],[0.7777777777777778,\"#fb9f3a\"],[0.8888888888888888,\"#fdca26\"],[1.0,\"#f0f921\"]],\"type\":\"surface\"}],\"table\":[{\"cells\":{\"fill\":{\"color\":\"#EBF0F8\"},\"line\":{\"color\":\"white\"}},\"header\":{\"fill\":{\"color\":\"#C8D4E3\"},\"line\":{\"color\":\"white\"}},\"type\":\"table\"}]},\"layout\":{\"annotationdefaults\":{\"arrowcolor\":\"#2a3f5f\",\"arrowhead\":0,\"arrowwidth\":1},\"autotypenumbers\":\"strict\",\"coloraxis\":{\"colorbar\":{\"outlinewidth\":0,\"ticks\":\"\"}},\"colorscale\":{\"diverging\":[[0,\"#8e0152\"],[0.1,\"#c51b7d\"],[0.2,\"#de77ae\"],[0.3,\"#f1b6da\"],[0.4,\"#fde0ef\"],[0.5,\"#f7f7f7\"],[0.6,\"#e6f5d0\"],[0.7,\"#b8e186\"],[0.8,\"#7fbc41\"],[0.9,\"#4d9221\"],[1,\"#276419\"]],\"sequential\":[[0.0,\"#0d0887\"],[0.1111111111111111,\"#46039f\"],[0.2222222222222222,\"#7201a8\"],[0.3333333333333333,\"#9c179e\"],[0.4444444444444444,\"#bd3786\"],[0.5555555555555556,\"#d8576b\"],[0.6666666666666666,\"#ed7953\"],[0.7777777777777778,\"#fb9f3a\"],[0.8888888888888888,\"#fdca26\"],[1.0,\"#f0f921\"]],\"sequentialminus\":[[0.0,\"#0d0887\"],[0.1111111111111111,\"#46039f\"],[0.2222222222222222,\"#7201a8\"],[0.3333333333333333,\"#9c179e\"],[0.4444444444444444,\"#bd3786\"],[0.5555555555555556,\"#d8576b\"],[0.6666666666666666,\"#ed7953\"],[0.7777777777777778,\"#fb9f3a\"],[0.8888888888888888,\"#fdca26\"],[1.0,\"#f0f921\"]]},\"colorway\":[\"#636efa\",\"#EF553B\",\"#00cc96\",\"#ab63fa\",\"#FFA15A\",\"#19d3f3\",\"#FF6692\",\"#B6E880\",\"#FF97FF\",\"#FECB52\"],\"font\":{\"color\":\"#2a3f5f\"},\"geo\":{\"bgcolor\":\"white\",\"lakecolor\":\"white\",\"landcolor\":\"#E5ECF6\",\"showlakes\":true,\"showland\":true,\"subunitcolor\":\"white\"},\"hoverlabel\":{\"align\":\"left\"},\"hovermode\":\"closest\",\"mapbox\":{\"style\":\"light\"},\"paper_bgcolor\":\"white\",\"plot_bgcolor\":\"#E5ECF6\",\"polar\":{\"angularaxis\":{\"gridcolor\":\"white\",\"linecolor\":\"white\",\"ticks\":\"\"},\"bgcolor\":\"#E5ECF6\",\"radialaxis\":{\"gridcolor\":\"white\",\"linecolor\":\"white\",\"ticks\":\"\"}},\"scene\":{\"xaxis\":{\"backgroundcolor\":\"#E5ECF6\",\"gridcolor\":\"white\",\"gridwidth\":2,\"linecolor\":\"white\",\"showbackground\":true,\"ticks\":\"\",\"zerolinecolor\":\"white\"},\"yaxis\":{\"backgroundcolor\":\"#E5ECF6\",\"gridcolor\":\"white\",\"gridwidth\":2,\"linecolor\":\"white\",\"showbackground\":true,\"ticks\":\"\",\"zerolinecolor\":\"white\"},\"zaxis\":{\"backgroundcolor\":\"#E5ECF6\",\"gridcolor\":\"white\",\"gridwidth\":2,\"linecolor\":\"white\",\"showbackground\":true,\"ticks\":\"\",\"zerolinecolor\":\"white\"}},\"shapedefaults\":{\"line\":{\"color\":\"#2a3f5f\"}},\"ternary\":{\"aaxis\":{\"gridcolor\":\"white\",\"linecolor\":\"white\",\"ticks\":\"\"},\"baxis\":{\"gridcolor\":\"white\",\"linecolor\":\"white\",\"ticks\":\"\"},\"bgcolor\":\"#E5ECF6\",\"caxis\":{\"gridcolor\":\"white\",\"linecolor\":\"white\",\"ticks\":\"\"}},\"title\":{\"x\":0.05},\"xaxis\":{\"automargin\":true,\"gridcolor\":\"white\",\"linecolor\":\"white\",\"ticks\":\"\",\"title\":{\"standoff\":15},\"zerolinecolor\":\"white\",\"zerolinewidth\":2},\"yaxis\":{\"automargin\":true,\"gridcolor\":\"white\",\"linecolor\":\"white\",\"ticks\":\"\",\"title\":{\"standoff\":15},\"zerolinecolor\":\"white\",\"zerolinewidth\":2}}},\"title\":{\"text\":\"2D t-SNE Transformation with PCA 5 dimensions\",\"x\":0.5},\"width\":2000,\"xaxis\":{\"anchor\":\"y\",\"domain\":[0.0,1.0],\"title\":{\"text\":\"Axis 1\"}},\"yaxis\":{\"anchor\":\"x\",\"domain\":[0.0,1.0],\"title\":{\"text\":\"Axis 2\"}}},                        {\"responsive\": true}                    ).then(function(){\n",
       "                            \n",
       "var gd = document.getElementById('8bd63280-55c9-4f4d-ac8d-c7e3654a7d68');\n",
       "var x = new MutationObserver(function (mutations, observer) {{\n",
       "        var display = window.getComputedStyle(gd).display;\n",
       "        if (!display || display === 'none') {{\n",
       "            console.log([gd, 'removed!']);\n",
       "            Plotly.purge(gd);\n",
       "            observer.disconnect();\n",
       "        }}\n",
       "}});\n",
       "\n",
       "// Listen for the removal of the full notebook cells\n",
       "var notebookContainer = gd.closest('#notebook-container');\n",
       "if (notebookContainer) {{\n",
       "    x.observe(notebookContainer, {childList: true});\n",
       "}}\n",
       "\n",
       "// Listen for the clearing of the current output cell\n",
       "var outputEl = gd.closest('.output');\n",
       "if (outputEl) {{\n",
       "    x.observe(outputEl, {childList: true});\n",
       "}}\n",
       "\n",
       "                        })                };                });            </script>        </div>"
      ]
     },
     "metadata": {},
     "output_type": "display_data"
    }
   ],
   "source": [
    "np.random.seed(101)\n",
    "modified_data3 = tSNE_data(pca_data(x,5).iloc[:,1:].values, 2)\n",
    "\n",
    "fig = px.scatter(modified_data3, x='Axis 1', y='Axis 2', text='COUNTRY')\n",
    "fig.update_traces(textposition='top center')\n",
    "fig.update_layout(title_text='2D t-SNE Transformation with PCA 5 dimensions', title_x=0.5)\n",
    "fig.update_layout(\n",
    "    autosize=False,\n",
    "    width=2000,\n",
    "    height=1000\n",
    ")\n",
    "fig.show()"
   ]
  },
  {
   "cell_type": "code",
   "execution_count": null,
   "id": "0efcab66",
   "metadata": {},
   "outputs": [],
   "source": [
    "'''\n",
    "Analyse sur la réduction de dimensionnalité par rapport aux données de dataB.csv\n",
    "\n",
    "a) Nous nous sommes servis de la régression linéaire afin de faire de l'imputation, donc\n",
    "nous pensons que les données peuvent avoir une \"structure\" linéaire. Par conséquent,\n",
    "notre première hypothèse est d'utiliser la décomposition PCA en 2 et 5 dimensions.\n",
    "\n",
    "[Image de PCA en 2 dimensions]\n",
    "\n",
    "b) Pour PCA: on constate que PCA en 2 dimensions ne fournit pas assez d'informations par rapport\n",
    "aux données, donc il se peut la \"structure\" de cette banque de données n'est pas linéaire. Ceci\n",
    "a du sens étant donné que certaines valeurs générées par la régression linéaire nous donne des valeurs\n",
    "absurdes. Par exemple, des valeurs négatives pour un attribut qui contient uniquement des valeurs positives\n",
    "(valeur monétaire par exemple). La décomposition PCA de deux dimensions conserve uniquement 38.3%\n",
    "de la variance, tandis que PCA de cinq dimensions conserve 64.3% de variance. En conclusion, même pour\n",
    "PCA de 5 dimensions, nous n'avons toujours pas atteint une variance de 95% ou plus, donc PCA n'est pas à tout fait\n",
    "la méthode idéale pour cette banque de données.\n",
    "\n",
    "Nouvelle tentative: Utiliser t-SNE. \n",
    "\n",
    "La méthode t-SNE probabiliste est idéale lorsque les données ne forment pas une\n",
    "\"structure\" linéaire. Elle permet aussi de visualiser de façon claire les données avec un grand nombre\n",
    "d'attributs (features). Cependant, il faut appliquer une autre réduction de dimensionnalité sur t-SNE, puisque\n",
    "cet algorithme a une très grande complexité du temps. Nous avons décidé de réduire la dimension de façon suivante:\n",
    "1. Utiliser PCA de 5 dimensions sur les données initiales.\n",
    "2. Appliquer t-SNE sur les données transformées par PCA.\n",
    "\n",
    "[Image de t-SNE et PCA-5 en 2 dimensions]\n",
    "\n",
    "Nous avons choisi PCA-5 puisque la variance est plus élevée que PCA-2, donc on obtient plus d'informations\n",
    "après avoir extrait les données vers une plus petite dimension.\n",
    "\n",
    "Dans le graphique, on peut voir déjà 4 groupes qui se forment, donc on peut donner quelques interprétations\n",
    "par rapport à nos données. Lorsque deux pays se trouvent dans le même groupe, on peut suggérer l'idée\n",
    "qu'ils ont des comportement assez similaires. Voici la liste des groupes:\n",
    "\n",
    "Groupe 1: En bas à gauche: Pays d'Afrique\n",
    "Groupe 2: À gauche (en haut du groupe 1): Pays d'Asie et quelques pays d'Afrique (Afrique du Sud, Algérie)\n",
    "Groupe 3: Au centre: Amérique Centrale et du Sud à l'exception de Fiji, Seychelles, Botswana, Philippines, etc.\n",
    "Groupe 4: En haut à droite: Amérique du Nord, Europe, Océanie et quelques pays d'Asie (Chine, Corée du Sud, Kazakhstan, etc.)\n",
    "Le groupe 4 est assez grand. Par exemple la Chine est la Corée du Sud appartiennent dans le même groupe, mais les deux pays\n",
    "ont des comportements qui semblent assez différents.\n",
    "\n",
    "Même si regrouper les pays en 4 groupes peut être une généralisation assez exagérée, cette observation est beaucoup plus idéale\n",
    "que la décomposition PCA en deux dimensions. Une proposition d'amélioration serait d'augmenter le nombre de dimensions de PCA\n",
    "(par exemple, de 5 à 15 dimensions par exemple) avant d'utiliser t-SNE afin de maximiser la variance et d'avoir une \n",
    "interprétation plus légitime.\n",
    "\n",
    "Source: https://towardsdatascience.com/visualising-high-dimensional-datasets-using-pca-and-t-sne-in-python-8ef87e7915b\n",
    "\n",
    "'''"
   ]
  }
 ],
 "metadata": {
  "kernelspec": {
   "display_name": "Python 3 (ipykernel)",
   "language": "python",
   "name": "python3"
  },
  "language_info": {
   "codemirror_mode": {
    "name": "ipython",
    "version": 3
   },
   "file_extension": ".py",
   "mimetype": "text/x-python",
   "name": "python",
   "nbconvert_exporter": "python",
   "pygments_lexer": "ipython3",
   "version": "3.9.5"
  }
 },
 "nbformat": 4,
 "nbformat_minor": 5
}
