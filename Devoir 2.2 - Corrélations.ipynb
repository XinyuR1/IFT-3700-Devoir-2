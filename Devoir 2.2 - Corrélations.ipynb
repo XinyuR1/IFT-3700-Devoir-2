{
 "cells": [
  {
   "cell_type": "code",
   "execution_count": 1,
   "id": "8136cfd0",
   "metadata": {},
   "outputs": [],
   "source": [
    "# DEVOIR 2\n",
    "# PARTIE II: CORRÉLATIONS\n",
    "import numpy as np\n",
    "import pandas as pd\n",
    "import json"
   ]
  },
  {
   "cell_type": "code",
   "execution_count": 2,
   "id": "528fec0e",
   "metadata": {},
   "outputs": [],
   "source": [
    "# VERIFY THE DATA TYPES (FLOAT64 FOR EVERY FEATURE)\n",
    "data=pd.read_csv('dataB.csv', index_col=0)\n",
    "#data.dtypes"
   ]
  },
  {
   "cell_type": "code",
   "execution_count": 3,
   "id": "53844cf7",
   "metadata": {},
   "outputs": [],
   "source": [
    "# Create corr.json\n",
    "# Correlation between feature 0 and 6:\n",
    "correlation_matrix = np.corrcoef(data.values.T)\n",
    "corr_list = correlation_matrix.tolist()\n",
    "\n",
    "with open('corr.json', 'w') as f:\n",
    "    json.dump(corr_list, f)"
   ]
  },
  {
   "cell_type": "code",
   "execution_count": 4,
   "id": "c52494cc",
   "metadata": {},
   "outputs": [],
   "source": [
    "# Create max_corr.json\n",
    "with open('corr.json', 'r') as f:\n",
    "    loaded_corr_list = json.load(f)\n",
    "corr = np.array(loaded_corr_list)\n",
    "corr = np.abs(corr)\n",
    "\n",
    "max_corr_array = np.zeros(corr.shape[0], dtype=int)\n",
    "for i in range(max_corr_array.shape[0]):\n",
    "    # Doesn't count highest correlation with itself\n",
    "    corr[i][i] = 0\n",
    "    max_index = np.argmax(corr[i])\n",
    "    max_corr_array[i] = max_index\n",
    "\n",
    "max_corr_list = max_corr_array.tolist()\n",
    "with open('max_corr.json', 'w') as f:\n",
    "    json.dump(max_corr_list, f)"
   ]
  },
  {
   "cell_type": "code",
   "execution_count": 10,
   "id": "f15fcad8",
   "metadata": {},
   "outputs": [],
   "source": [
    "# Create ordre.json\n",
    "# In descending order\n",
    "mean_corr = np.zeros(corr.shape[0])\n",
    "order = np.zeros(corr.shape[0], dtype=int)\n",
    "\n",
    "for i in range(mean_corr.shape[0]):\n",
    "    mean = np.mean(np.delete(corr[i], i))\n",
    "    mean_corr[i] = mean\n",
    "\n",
    "order = np.argsort(-1*mean_corr)\n",
    "\n",
    "order_list = order.tolist()\n",
    "with open('ordre.json', 'w') as f:\n",
    "    json.dump(order_list, f)"
   ]
  }
 ],
 "metadata": {
  "kernelspec": {
   "display_name": "Python 3 (ipykernel)",
   "language": "python",
   "name": "python3"
  },
  "language_info": {
   "codemirror_mode": {
    "name": "ipython",
    "version": 3
   },
   "file_extension": ".py",
   "mimetype": "text/x-python",
   "name": "python",
   "nbconvert_exporter": "python",
   "pygments_lexer": "ipython3",
   "version": "3.9.5"
  }
 },
 "nbformat": 4,
 "nbformat_minor": 5
}
