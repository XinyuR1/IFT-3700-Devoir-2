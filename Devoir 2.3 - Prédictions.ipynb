{
 "cells": [
  {
   "cell_type": "code",
   "execution_count": 120,
   "id": "24f603df",
   "metadata": {},
   "outputs": [],
   "source": [
    "# DEVOIR 2\n",
    "# PARTIE III: PRÉDICTIONS\n",
    "import numpy as np\n",
    "import pandas as pd\n",
    "from sklearn.model_selection import train_test_split\n",
    "from sklearn.linear_model import LinearRegression\n",
    "from sklearn.naive_bayes import MultinomialNB\n",
    "from sklearn.metrics import mean_squared_error\n",
    "from sklearn.metrics import accuracy_score\n",
    "from sklearn.preprocessing import StandardScaler\n",
    "from itertools import combinations"
   ]
  },
  {
   "cell_type": "code",
   "execution_count": 105,
   "id": "72f6ac05",
   "metadata": {},
   "outputs": [],
   "source": [
    "# RÉGRESSION LINÉAIRE\n",
    "# On mesure la qualité de la régression linéaire à l'aide du risque empirique\n",
    "# càd la moyenne des risques (erreur quadratique). Le modèle de meilleure qualité\n",
    "# lorsque son risque empirique est le plus petit.\n",
    "\n",
    "# On standardise les données pour comparer les différents modèles.\n",
    "\n",
    "dataB = pd.read_csv('dataB.csv', index_col=0)\n",
    "dataB = dataB.values\n",
    "#dataB = StandardScaler().fit_transform(dataB.values)"
   ]
  },
  {
   "cell_type": "code",
   "execution_count": 106,
   "id": "4a51bf8b",
   "metadata": {},
   "outputs": [],
   "source": [
    "def risk_regression(x, y):\n",
    "    x_train, x_test, y_train, y_test = train_test_split(x, y, test_size = 1/5, random_state = 0)\n",
    "\n",
    "    model = LinearRegression()\n",
    "    model.fit(x_train, y_train)\n",
    "\n",
    "    y_predict = model.predict(x_test)\n",
    "\n",
    "    risk = mean_squared_error(y_test, y_predict)\n",
    "    return risk"
   ]
  },
  {
   "cell_type": "code",
   "execution_count": 107,
   "id": "64160a8f",
   "metadata": {},
   "outputs": [
    {
     "data": {
      "text/plain": [
       "0.03537403119239385"
      ]
     },
     "execution_count": 107,
     "metadata": {},
     "output_type": "execute_result"
    }
   ],
   "source": [
    "# a) Qualité des prédicteurs en fonction des autres colonnes\n",
    "# Exemple pour une seule colonne\n",
    "\n",
    "x = dataB[:,1:]\n",
    "y = dataB[:,0]\n",
    "risk_regression(x,y)"
   ]
  },
  {
   "cell_type": "code",
   "execution_count": 112,
   "id": "df61cecc",
   "metadata": {},
   "outputs": [
    {
     "data": {
      "text/plain": [
       "array([16, 18])"
      ]
     },
     "execution_count": 112,
     "metadata": {},
     "output_type": "execute_result"
    }
   ],
   "source": [
    "# b) Paire de colonnes donnant les meilleures prédictions pour une colonne\n",
    "# Exemple pour une seule colonne (0)\n",
    "\n",
    "other_columns = np.delete(np.arange(40), 0)\n",
    "pairs = list(combinations(other_columns, 2))\n",
    "risk_array_b = np.zeros(len(pairs))\n",
    "\n",
    "# Pour chaque paire\n",
    "for i in range(len(pairs)):\n",
    "    x = dataB[:,pairs[i]]\n",
    "    y = dataB[:,0]\n",
    "    risk_array_b[i] = risk_regression(x,y)\n",
    "\n",
    "# Trouver la paire de colonnes qui minimisent le risque empirique\n",
    "min_index = np.argmin(risk_array_b)\n",
    "min_pairs = np.array(pairs[min_index])\n",
    "min_pairs"
   ]
  },
  {
   "cell_type": "code",
   "execution_count": 115,
   "id": "5eee7939",
   "metadata": {},
   "outputs": [
    {
     "name": "stdout",
     "output_type": "stream",
     "text": [
      "0.3241724334608466\n"
     ]
    }
   ],
   "source": [
    "# c) Paire de colonnes donnant le meilleur prédicteur pour chacune des caractéristiques en moyenne\n",
    "pairs = list(combinations(np.arange(40),2))\n",
    "risk_pairs = np.zeros(len(pairs))\n",
    "\n",
    "# Supposons que nous avons calculé la qualité en moyenne des 38 autres features pour (0,1):\n",
    "predicted_columns = np.delete(np.arange(40), pairs[0])\n",
    "risk_array_c = np.zeros(predicted_columns.shape[0])\n",
    "\n",
    "for i in range(predicted_columns.shape[0]):\n",
    "    x = dataB[:,pairs[0]]\n",
    "    y = dataB[:,i]\n",
    "    risk_array_c[i] = risk_regression(x,y)\n",
    "\n",
    "# np.mean(risk_array) se trouve dans risk_pairs\n",
    "# Retourne opt_index qui est l'argmin de risk_array\n",
    "# Réponse: optimal_pair = np.array(pairs[opt_index])\n",
    "print(np.mean(risk_array))"
   ]
  },
  {
   "cell_type": "code",
   "execution_count": 119,
   "id": "bfe85fab",
   "metadata": {},
   "outputs": [
    {
     "data": {
      "text/plain": [
       "array([[0, 0, 0, ..., 0, 0, 0],\n",
       "       [0, 0, 1, ..., 0, 1, 0],\n",
       "       [0, 0, 0, ..., 1, 1, 1],\n",
       "       ...,\n",
       "       [0, 1, 0, ..., 0, 0, 1],\n",
       "       [0, 0, 0, ..., 1, 0, 1],\n",
       "       [0, 0, 0, ..., 0, 0, 0]], dtype=int64)"
      ]
     },
     "execution_count": 119,
     "metadata": {},
     "output_type": "execute_result"
    }
   ],
   "source": [
    "# CLASSIFIEUR BAYÉSIEN\n",
    "dataC = pd.read_csv('dataC.csv', index_col=0)\n",
    "dataC = dataC.values\n",
    "dataC"
   ]
  },
  {
   "cell_type": "code",
   "execution_count": 131,
   "id": "ea7bd0cd",
   "metadata": {},
   "outputs": [
    {
     "data": {
      "text/plain": [
       "0.125"
      ]
     },
     "execution_count": 131,
     "metadata": {},
     "output_type": "execute_result"
    }
   ],
   "source": [
    "# TEST sur prédire feature 0\n",
    "\n",
    "x = dataC[:,1:]\n",
    "y = dataC[:,0]\n",
    "x_train, x_test, y_train, y_test = train_test_split(x, y, test_size = 1/5, random_state = 0)\n",
    "\n",
    "model = MultinomialNB()\n",
    "model.fit(x_train, y_train)\n",
    "\n",
    "y_predict = model.predict(x_test)\n",
    "error = 1 - accuracy_score(y_test, y_predict)\n",
    "error"
   ]
  },
  {
   "cell_type": "code",
   "execution_count": null,
   "id": "e92e3b2c",
   "metadata": {},
   "outputs": [],
   "source": []
  }
 ],
 "metadata": {
  "kernelspec": {
   "display_name": "Python 3 (ipykernel)",
   "language": "python",
   "name": "python3"
  },
  "language_info": {
   "codemirror_mode": {
    "name": "ipython",
    "version": 3
   },
   "file_extension": ".py",
   "mimetype": "text/x-python",
   "name": "python",
   "nbconvert_exporter": "python",
   "pygments_lexer": "ipython3",
   "version": "3.9.5"
  }
 },
 "nbformat": 4,
 "nbformat_minor": 5
}
