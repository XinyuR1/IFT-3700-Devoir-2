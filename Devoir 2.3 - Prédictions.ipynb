{
 "cells": [
  {
   "cell_type": "code",
   "execution_count": 43,
   "id": "24f603df",
   "metadata": {},
   "outputs": [],
   "source": [
    "# DEVOIR 2\n",
    "# PARTIE III: PRÉDICTIONS\n",
    "import numpy as np\n",
    "import pandas as pd\n",
    "import json\n",
    "from sklearn.model_selection import train_test_split\n",
    "from sklearn.linear_model import LinearRegression\n",
    "from sklearn.naive_bayes import MultinomialNB\n",
    "from sklearn.metrics import mean_squared_error\n",
    "from sklearn.metrics import accuracy_score\n",
    "from sklearn.preprocessing import StandardScaler\n",
    "from itertools import combinations"
   ]
  },
  {
   "cell_type": "code",
   "execution_count": 20,
   "id": "cb357866",
   "metadata": {},
   "outputs": [],
   "source": [
    "features = np.arange(40)"
   ]
  },
  {
   "cell_type": "code",
   "execution_count": 56,
   "id": "72f6ac05",
   "metadata": {},
   "outputs": [],
   "source": [
    "# RÉGRESSION LINÉAIRE\n",
    "# On mesure la qualité de la régression linéaire à l'aide du risque empirique\n",
    "# càd la moyenne des risques (erreur quadratique). Le modèle de meilleure qualité\n",
    "# lorsque son risque empirique est le plus petit.\n",
    "\n",
    "# On standardise les données pour comparer les différents modèles.\n",
    "\n",
    "dataB = pd.read_csv('dataB.csv', index_col=0)\n",
    "#dataB = dataB.values\n",
    "dataB = StandardScaler().fit_transform(dataB.values)"
   ]
  },
  {
   "cell_type": "code",
   "execution_count": 29,
   "id": "4a51bf8b",
   "metadata": {},
   "outputs": [],
   "source": [
    "def risk_regression(x, y):\n",
    "    # Séparer les données en données d'apprentissage et en données de test (ce qu'on veut prédire)\n",
    "    x_train, x_test, y_train, y_test = train_test_split(x, y, test_size = 1/5, random_state = 0)\n",
    "\n",
    "    model = LinearRegression()\n",
    "    model.fit(x_train, y_train)\n",
    "\n",
    "    y_predict = model.predict(x_test)\n",
    "\n",
    "    # Ici, l'erreur quadratique est notre fonction de perte\n",
    "    risk = mean_squared_error(y_test, y_predict)\n",
    "    return risk"
   ]
  },
  {
   "cell_type": "code",
   "execution_count": 36,
   "id": "64160a8f",
   "metadata": {},
   "outputs": [
    {
     "name": "stdout",
     "output_type": "stream",
     "text": [
      "L'attribut avec le plus petit risque empirique est 24.\n"
     ]
    }
   ],
   "source": [
    "# a) Qualité des prédicteurs en fonction des autres colonnes\n",
    "# Exemple pour une seule colonne\n",
    "\n",
    "risk_array_a = np.zeros(features.shape[0])\n",
    "\n",
    "for i in range(features.shape[0]):\n",
    "    x = np.delete(dataB, i, 1)\n",
    "    y = dataB[:,i]\n",
    "    risk_array_a[i] = risk_regression(x,y)\n",
    "\n",
    "data_linear_a = pd.DataFrame(risk_array_a)\n",
    "print(f'L\\'attribut avec le plus petit risque empirique est {np.argmin(risk_array_a)}.')\n",
    "# 24: Âge médian"
   ]
  },
  {
   "cell_type": "code",
   "execution_count": 47,
   "id": "bf7a40c6",
   "metadata": {},
   "outputs": [
    {
     "name": "stdout",
     "output_type": "stream",
     "text": [
      "Caractéristique 0 terminée!\n",
      "Caractéristique 1 terminée!\n",
      "Caractéristique 2 terminée!\n",
      "Caractéristique 3 terminée!\n",
      "Caractéristique 4 terminée!\n",
      "Caractéristique 5 terminée!\n",
      "Caractéristique 6 terminée!\n",
      "Caractéristique 7 terminée!\n",
      "Caractéristique 8 terminée!\n",
      "Caractéristique 9 terminée!\n",
      "Caractéristique 10 terminée!\n",
      "Caractéristique 11 terminée!\n",
      "Caractéristique 12 terminée!\n",
      "Caractéristique 13 terminée!\n",
      "Caractéristique 14 terminée!\n",
      "Caractéristique 15 terminée!\n",
      "Caractéristique 16 terminée!\n",
      "Caractéristique 17 terminée!\n",
      "Caractéristique 18 terminée!\n",
      "Caractéristique 19 terminée!\n",
      "Caractéristique 20 terminée!\n",
      "Caractéristique 21 terminée!\n",
      "Caractéristique 22 terminée!\n",
      "Caractéristique 23 terminée!\n",
      "Caractéristique 24 terminée!\n",
      "Caractéristique 25 terminée!\n",
      "Caractéristique 26 terminée!\n",
      "Caractéristique 27 terminée!\n",
      "Caractéristique 28 terminée!\n",
      "Caractéristique 29 terminée!\n",
      "Caractéristique 30 terminée!\n",
      "Caractéristique 31 terminée!\n",
      "Caractéristique 32 terminée!\n",
      "Caractéristique 33 terminée!\n",
      "Caractéristique 34 terminée!\n",
      "Caractéristique 35 terminée!\n",
      "Caractéristique 36 terminée!\n",
      "Caractéristique 37 terminée!\n",
      "Caractéristique 38 terminée!\n",
      "Caractéristique 39 terminée!\n"
     ]
    }
   ],
   "source": [
    "# b) Paire de colonnes donnant les meilleures prédictions pour une colonne\n",
    "matrix_b = np.zeros((features.shape[0],2), dtype = int)\n",
    "\n",
    "for i in range(features.shape[0]):\n",
    "    other_columns = np.delete(features, i)\n",
    "    pairs = list(combinations(other_columns, 2))\n",
    "    risk_array_b = np.zeros(len(pairs))\n",
    "    \n",
    "    # Pour chaque paire\n",
    "    for j in range(len(pairs)):\n",
    "        x = dataB[:,pairs[j]]\n",
    "        y = dataB[:,i]\n",
    "        risk_array_b[j] = risk_regression(x,y)\n",
    "        \n",
    "    min_index = np.argmin(risk_array_b)\n",
    "    min_pairs = np.array(pairs[min_index])\n",
    "    \n",
    "    matrix_b[i][0] = min_pairs[0]\n",
    "    matrix_b[i][1] = min_pairs[1]\n",
    "    print(f'Caractéristique {i} terminée!')"
   ]
  },
  {
   "cell_type": "code",
   "execution_count": 48,
   "id": "5cf1a87c",
   "metadata": {},
   "outputs": [],
   "source": [
    "# Mettre matrix_b dans le fichier .json pour la régression linéaire\n",
    "linear_list = matrix_b.tolist()\n",
    "with open('lineaire_paires_colonnes.json', 'w') as f:\n",
    "    json.dump(linear_list, f)"
   ]
  },
  {
   "cell_type": "code",
   "execution_count": 60,
   "id": "96bdfb0c",
   "metadata": {},
   "outputs": [
    {
     "name": "stdout",
     "output_type": "stream",
     "text": [
      "Itération 0 complétée!\n",
      "Itération 100 complétée!\n",
      "Itération 200 complétée!\n",
      "Itération 300 complétée!\n",
      "Itération 400 complétée!\n",
      "Itération 500 complétée!\n",
      "Itération 600 complétée!\n",
      "Itération 700 complétée!\n"
     ]
    }
   ],
   "source": [
    "# c) Paire de colonnes donnant le meilleur prédicteur pour chacune des caractéristiques en moyenne\n",
    "\n",
    "opt_index = 0\n",
    "opt_pairs = np.zeros(2, dtype=int)\n",
    "\n",
    "pairs = list(combinations(features, 2))\n",
    "risk_pairs = np.zeros(len(pairs))\n",
    "\n",
    "for i in range(len(pairs)):\n",
    "    if i % 100 == 0:\n",
    "        print(f'Itération {i} complétée!')\n",
    "    \n",
    "    predicted_columns = np.delete(features, pairs[i])\n",
    "    risk_array_c = np.zeros(predicted_columns.shape[0])\n",
    "    \n",
    "    for j in range(predicted_columns.shape[0]):\n",
    "        x = dataB[:,pairs[i]]\n",
    "        y = dataB[:,j]\n",
    "        risk_array_c[j] = risk_regression(x,y)\n",
    "    \n",
    "    risk_pairs[i] = np.mean(risk_array_c)\n",
    "\n",
    "opt_index = np.argmin(risk_pairs)\n",
    "opt_pairs = np.array(pairs[opt_index])"
   ]
  },
  {
   "cell_type": "code",
   "execution_count": 64,
   "id": "864d3592",
   "metadata": {},
   "outputs": [
    {
     "data": {
      "text/plain": [
       "array([11, 24])"
      ]
     },
     "execution_count": 64,
     "metadata": {},
     "output_type": "execute_result"
    }
   ],
   "source": [
    "opt_pairs\n",
    "# 11: % de bouddhistes\n",
    "# 24: Âge médian"
   ]
  },
  {
   "cell_type": "code",
   "execution_count": 75,
   "id": "bfe85fab",
   "metadata": {},
   "outputs": [],
   "source": [
    "# CLASSIFIEUR BAYÉSIEN\n",
    "dataC = pd.read_csv('dataC.csv', index_col=0)\n",
    "dataC = dataC.values"
   ]
  },
  {
   "cell_type": "code",
   "execution_count": 76,
   "id": "5f2dd937",
   "metadata": {},
   "outputs": [],
   "source": [
    "def risk_bayes(x, y):\n",
    "    # Séparer les données en données d'apprentissage et en données de test (ce qu'on veut prédire)\n",
    "    x_train, x_test, y_train, y_test = train_test_split(x, y, test_size = 1/5, random_state = 0)\n",
    "\n",
    "    # On utilise distribution multinomiale comme calcul de vraisemblance\n",
    "    model = MultinomialNB()\n",
    "    model.fit(x_train, y_train)\n",
    "\n",
    "    y_predict = model.predict(x_test)\n",
    "    risk = 1 - accuracy_score(y_test, y_predict)\n",
    "    return risk"
   ]
  },
  {
   "cell_type": "code",
   "execution_count": 77,
   "id": "ea7bd0cd",
   "metadata": {},
   "outputs": [
    {
     "name": "stdout",
     "output_type": "stream",
     "text": [
      "L'attribut avec le plus petit risque empirique est 5.\n"
     ]
    }
   ],
   "source": [
    "# a) Qualité des prédicteurs en fonction des autres colonnes\n",
    "# Exemple pour une seule colonne\n",
    "\n",
    "risk_array_a = np.zeros(features.shape[0])\n",
    "\n",
    "for i in range(features.shape[0]):\n",
    "    x = np.delete(dataC, i, 1)\n",
    "    y = dataC[:,i]\n",
    "    risk_array_a[i] = risk_bayes(x,y)\n",
    "\n",
    "data_linear_a = pd.DataFrame(risk_array_a)\n",
    "print(f'L\\'attribut avec le plus petit risque empirique est {np.argmin(risk_array_a)}.')\n",
    "# 5: Human Development Index"
   ]
  },
  {
   "cell_type": "code",
   "execution_count": 79,
   "id": "a46fb1f7",
   "metadata": {},
   "outputs": [
    {
     "name": "stdout",
     "output_type": "stream",
     "text": [
      "Caractéristique 0 terminée!\n",
      "Caractéristique 1 terminée!\n",
      "Caractéristique 2 terminée!\n",
      "Caractéristique 3 terminée!\n",
      "Caractéristique 4 terminée!\n",
      "Caractéristique 5 terminée!\n",
      "Caractéristique 6 terminée!\n",
      "Caractéristique 7 terminée!\n",
      "Caractéristique 8 terminée!\n",
      "Caractéristique 9 terminée!\n",
      "Caractéristique 10 terminée!\n",
      "Caractéristique 11 terminée!\n",
      "Caractéristique 12 terminée!\n",
      "Caractéristique 13 terminée!\n",
      "Caractéristique 14 terminée!\n",
      "Caractéristique 15 terminée!\n",
      "Caractéristique 16 terminée!\n",
      "Caractéristique 17 terminée!\n",
      "Caractéristique 18 terminée!\n",
      "Caractéristique 19 terminée!\n",
      "Caractéristique 20 terminée!\n",
      "Caractéristique 21 terminée!\n",
      "Caractéristique 22 terminée!\n",
      "Caractéristique 23 terminée!\n",
      "Caractéristique 24 terminée!\n",
      "Caractéristique 25 terminée!\n",
      "Caractéristique 26 terminée!\n",
      "Caractéristique 27 terminée!\n",
      "Caractéristique 28 terminée!\n",
      "Caractéristique 29 terminée!\n",
      "Caractéristique 30 terminée!\n",
      "Caractéristique 31 terminée!\n",
      "Caractéristique 32 terminée!\n",
      "Caractéristique 33 terminée!\n",
      "Caractéristique 34 terminée!\n",
      "Caractéristique 35 terminée!\n",
      "Caractéristique 36 terminée!\n",
      "Caractéristique 37 terminée!\n",
      "Caractéristique 38 terminée!\n",
      "Caractéristique 39 terminée!\n"
     ]
    }
   ],
   "source": [
    "# b) Paire de colonnes donnant les meilleures prédictions pour une colonne\n",
    "matrix_b = np.zeros((features.shape[0],2), dtype = int)\n",
    "\n",
    "for i in range(features.shape[0]):\n",
    "    other_columns = np.delete(features, i)\n",
    "    pairs = list(combinations(other_columns, 2))\n",
    "    risk_array_b = np.zeros(len(pairs))\n",
    "    \n",
    "    # Pour chaque paire\n",
    "    for j in range(len(pairs)):\n",
    "        x = dataC[:,pairs[j]]\n",
    "        y = dataC[:,i]\n",
    "        risk_array_b[j] = risk_bayes(x,y)\n",
    "        \n",
    "    min_index = np.argmin(risk_array_b)\n",
    "    min_pairs = np.array(pairs[min_index])\n",
    "    \n",
    "    matrix_b[i][0] = min_pairs[0]\n",
    "    matrix_b[i][1] = min_pairs[1]\n",
    "    print(f'Caractéristique {i} terminée!')"
   ]
  },
  {
   "cell_type": "code",
   "execution_count": 80,
   "id": "491fcdbe",
   "metadata": {},
   "outputs": [],
   "source": [
    "# Mettre matrix_b dans le fichier .json pour le classifieur bayésien\n",
    "linear_list = matrix_b.tolist()\n",
    "with open('bayesien_paires_colonnes.json', 'w') as f:\n",
    "    json.dump(linear_list, f)"
   ]
  },
  {
   "cell_type": "code",
   "execution_count": 81,
   "id": "6bee4a45",
   "metadata": {},
   "outputs": [
    {
     "name": "stdout",
     "output_type": "stream",
     "text": [
      "Itération 0 complétée!\n",
      "Itération 100 complétée!\n",
      "Itération 200 complétée!\n",
      "Itération 300 complétée!\n",
      "Itération 400 complétée!\n",
      "Itération 500 complétée!\n",
      "Itération 600 complétée!\n",
      "Itération 700 complétée!\n"
     ]
    }
   ],
   "source": [
    "# c) Paire de colonnes donnant le meilleur prédicteur pour chacune des caractéristiques en moyenne\n",
    "\n",
    "opt_index = 0\n",
    "opt_pairs = np.zeros(2, dtype=int)\n",
    "\n",
    "pairs = list(combinations(features, 2))\n",
    "risk_pairs = np.zeros(len(pairs))\n",
    "\n",
    "for i in range(len(pairs)):\n",
    "    if i % 100 == 0:\n",
    "        print(f'Itération {i} complétée!')\n",
    "    \n",
    "    predicted_columns = np.delete(features, pairs[i])\n",
    "    risk_array_c = np.zeros(predicted_columns.shape[0])\n",
    "    \n",
    "    for j in range(predicted_columns.shape[0]):\n",
    "        x = dataC[:,pairs[i]]\n",
    "        y = dataC[:,j]\n",
    "        risk_array_c[j] = risk_bayes(x,y)\n",
    "    \n",
    "    risk_pairs[i] = np.mean(risk_array_c)\n",
    "\n",
    "opt_index = np.argmin(risk_pairs)\n",
    "opt_pairs = np.array(pairs[opt_index])"
   ]
  },
  {
   "cell_type": "code",
   "execution_count": 82,
   "id": "885d0ef9",
   "metadata": {},
   "outputs": [
    {
     "data": {
      "text/plain": [
       "array([ 5, 20])"
      ]
     },
     "execution_count": 82,
     "metadata": {},
     "output_type": "execute_result"
    }
   ],
   "source": [
    "opt_pairs\n",
    "# 5: Human Development Index\n",
    "# 20: Fertility Rate"
   ]
  },
  {
   "cell_type": "code",
   "execution_count": null,
   "id": "359f5535",
   "metadata": {},
   "outputs": [],
   "source": []
  }
 ],
 "metadata": {
  "kernelspec": {
   "display_name": "Python 3 (ipykernel)",
   "language": "python",
   "name": "python3"
  },
  "language_info": {
   "codemirror_mode": {
    "name": "ipython",
    "version": 3
   },
   "file_extension": ".py",
   "mimetype": "text/x-python",
   "name": "python",
   "nbconvert_exporter": "python",
   "pygments_lexer": "ipython3",
   "version": "3.9.5"
  }
 },
 "nbformat": 4,
 "nbformat_minor": 5
}
