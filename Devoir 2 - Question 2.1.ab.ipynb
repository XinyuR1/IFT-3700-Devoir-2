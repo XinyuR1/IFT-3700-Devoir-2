{
 "cells": [
  {
   "cell_type": "code",
   "execution_count": 360,
   "id": "169861a0",
   "metadata": {},
   "outputs": [],
   "source": [
    "import numpy as np\n",
    "import pandas as pd"
   ]
  },
  {
   "cell_type": "code",
   "execution_count": 361,
   "id": "a6952fa2",
   "metadata": {},
   "outputs": [],
   "source": [
    "# 280 countries/territories total"
   ]
  },
  {
   "cell_type": "code",
   "execution_count": 362,
   "id": "1e118a3f",
   "metadata": {},
   "outputs": [],
   "source": [
    "# List of features completed\n",
    "# 1. GDP\n",
    "# 2. Internet Speed\n",
    "# 3. Consumption of Pure Alcohol\n",
    "# 4. Intentional Homicide Victims\n",
    "# 5. Military Expenditures"
   ]
  },
  {
   "cell_type": "code",
   "execution_count": 363,
   "id": "6bf90529",
   "metadata": {},
   "outputs": [],
   "source": [
    "# CREATE A MATRIX OF THE NAME OF COUNTRIES\n",
    "def get_countries(filename):\n",
    "    df_country = pd.read_csv(filename)\n",
    "    return df_country.values"
   ]
  },
  {
   "cell_type": "code",
   "execution_count": 364,
   "id": "bb9e6d7a",
   "metadata": {},
   "outputs": [],
   "source": [
    "# EXPAND THE TABLE FOR ACCUMULATING THE NEXT FEATURE\n",
    "def expand_table(table):\n",
    "    next_factor = np.empty(table.shape[0])\n",
    "    next_factor[:] = np.NaN\n",
    "    \n",
    "    return np.column_stack((table, next_factor))"
   ]
  },
  {
   "cell_type": "code",
   "execution_count": 365,
   "id": "8085991b",
   "metadata": {},
   "outputs": [],
   "source": [
    "# FIND THE INDEX OF THE NAME OF THE COUNTRY AT THE TABLE\n",
    "def find_index(country_matrix, name):\n",
    "    for i in range(country_matrix.shape[0]):\n",
    "        for j in range(country_matrix.shape[1]):\n",
    "            if country_matrix[i][j] == name:\n",
    "                return i\n",
    "            \n",
    "    return -1"
   ]
  },
  {
   "cell_type": "code",
   "execution_count": 366,
   "id": "1f610441",
   "metadata": {},
   "outputs": [],
   "source": [
    "# FILL THE TABLE WITH THE SPECIFIED FEATURE\n",
    "def fill_table(table, feature_table, country_matrix):\n",
    "    array_index = np.array([])\n",
    "    \n",
    "    for i in range(feature_table.shape[0]):\n",
    "        index = find_index(country_matrix, feature_table[i][0])\n",
    "        \n",
    "        if index == -1:\n",
    "            print(f'COUNTRY NOT FOUND: {feature_table[i][0]}')\n",
    "        else:\n",
    "            table[index][-1] = feature_table[i][1]\n",
    "            array_index = np.hstack((array_index,index))\n",
    "    \n",
    "    #Verification state\n",
    "    print(f'# Index found and # Unique index found: {array_index.shape[0]} and {np.unique(array_index).shape[0]}')\n",
    "    #print(np.sort(array_index))\n",
    "    #print(np.unique(array_index))\n",
    "    \n",
    "    return table"
   ]
  },
  {
   "cell_type": "code",
   "execution_count": 367,
   "id": "18ffcad9",
   "metadata": {},
   "outputs": [],
   "source": [
    "# EXTRACT THE DATA WITH THE DESIRED FEATURE\n",
    "# Returns a table: [Country, Values of the feature]\n",
    "def extracted_data(filename, starting_row, column_country, column_feature, is_comma):\n",
    "    df = pd.read_csv(filename)\n",
    "    df = df.iloc[starting_row:, [column_country, column_feature]]\n",
    "    \n",
    "    countries = df.iloc[:,0].values\n",
    "\n",
    "    # Clean the feature data\n",
    "    feature = df.iloc[:,1].values\n",
    "    \n",
    "    if is_comma:\n",
    "        for i in range(feature.shape[0]):\n",
    "            feature[i] = float(str(feature[i]).replace(',','.'))\n",
    "    \n",
    "    return np.column_stack((countries, feature))"
   ]
  },
  {
   "cell_type": "code",
   "execution_count": 368,
   "id": "b26a0529",
   "metadata": {},
   "outputs": [],
   "source": [
    "# PRINCIPAL FUNCTION THAT ADDS A NEW FEATURE TO THE TABLE\n",
    "# Expand the table, extract the data from csv file and fill the table\n",
    "# array_indexes: [starting_row, column_country, column_feature] (Read description of function \"extracted_data\")\n",
    "def update_table(filename, array_indexes, is_comma, table, country_matrix):\n",
    "    table = expand_table(table)\n",
    "    feature_table = extracted_data(filename, array_indexes[0], array_indexes[1], array_indexes[2], is_comma)\n",
    "    table = fill_table(table, feature_table, country_matrix)\n",
    "    \n",
    "    return table"
   ]
  },
  {
   "cell_type": "code",
   "execution_count": 369,
   "id": "f083ea13",
   "metadata": {},
   "outputs": [
    {
     "name": "stdout",
     "output_type": "stream",
     "text": [
      "Number of countries/territories: 280\n"
     ]
    }
   ],
   "source": [
    "country_matrix = get_countries(\"countries.csv\")\n",
    "print(f'Number of countries/territories: {country_matrix.shape[0]}')\n",
    "countries = country_matrix[:,0]\n",
    "table = countries"
   ]
  },
  {
   "cell_type": "code",
   "execution_count": 370,
   "id": "85e414ed",
   "metadata": {},
   "outputs": [
    {
     "name": "stdout",
     "output_type": "stream",
     "text": [
      "COUNTRY NOT FOUND: World\n",
      "# Index found and # Unique index found: 215 and 215\n",
      "# Index found and # Unique index found: 100 and 100\n",
      "# Index found and # Unique index found: 191 and 191\n",
      "# Index found and # Unique index found: 195 and 194\n",
      "# Index found and # Unique index found: 15 and 15\n"
     ]
    }
   ],
   "source": [
    "# Features 1 to 5\n",
    "table = update_table(\"CSV Raw Data/1.csv\", [1, 0, 5], True, table, country_matrix)\n",
    "table = update_table(\"CSV Raw Data/2.csv\", [0, 1, 2], False, table, country_matrix)\n",
    "table = update_table(\"CSV Raw Data/3.csv\", [0, 0, 2], False, table, country_matrix)\n",
    "table = update_table(\"CSV Raw Data/4.csv\", [1, 0, 3], False, table, country_matrix)\n",
    "table = update_table(\"CSV Raw Data/5.csv\", [1, 1, 3], False, table, country_matrix)"
   ]
  },
  {
   "cell_type": "code",
   "execution_count": 371,
   "id": "87cc5014",
   "metadata": {},
   "outputs": [
    {
     "name": "stdout",
     "output_type": "stream",
     "text": [
      "15\n"
     ]
    },
    {
     "data": {
      "text/html": [
       "<div>\n",
       "<style scoped>\n",
       "    .dataframe tbody tr th:only-of-type {\n",
       "        vertical-align: middle;\n",
       "    }\n",
       "\n",
       "    .dataframe tbody tr th {\n",
       "        vertical-align: top;\n",
       "    }\n",
       "\n",
       "    .dataframe thead th {\n",
       "        text-align: right;\n",
       "    }\n",
       "</style>\n",
       "<table border=\"1\" class=\"dataframe\">\n",
       "  <thead>\n",
       "    <tr style=\"text-align: right;\">\n",
       "      <th></th>\n",
       "      <th>COUNTRY</th>\n",
       "      <th>GDP</th>\n",
       "      <th>Internet Speed</th>\n",
       "      <th>Consumption of Pure Alcohol</th>\n",
       "      <th>Intentional Homicide Victims</th>\n",
       "      <th>Military Expenditures</th>\n",
       "    </tr>\n",
       "  </thead>\n",
       "  <tbody>\n",
       "    <tr>\n",
       "      <th>0</th>\n",
       "      <td>Afghanistan</td>\n",
       "      <td>470.000</td>\n",
       "      <td>NaN</td>\n",
       "      <td>0.2</td>\n",
       "      <td>6.7</td>\n",
       "      <td>NaN</td>\n",
       "    </tr>\n",
       "    <tr>\n",
       "      <th>1</th>\n",
       "      <td>Africa</td>\n",
       "      <td>NaN</td>\n",
       "      <td>NaN</td>\n",
       "      <td>NaN</td>\n",
       "      <td>NaN</td>\n",
       "      <td>NaN</td>\n",
       "    </tr>\n",
       "    <tr>\n",
       "      <th>2</th>\n",
       "      <td>Albania</td>\n",
       "      <td>5.303</td>\n",
       "      <td>45.25</td>\n",
       "      <td>7.5</td>\n",
       "      <td>2.3</td>\n",
       "      <td>NaN</td>\n",
       "    </tr>\n",
       "    <tr>\n",
       "      <th>3</th>\n",
       "      <td>Algeria</td>\n",
       "      <td>3.976</td>\n",
       "      <td>NaN</td>\n",
       "      <td>0.9</td>\n",
       "      <td>1.4</td>\n",
       "      <td>NaN</td>\n",
       "    </tr>\n",
       "    <tr>\n",
       "      <th>4</th>\n",
       "      <td>American Samoa</td>\n",
       "      <td>NaN</td>\n",
       "      <td>NaN</td>\n",
       "      <td>NaN</td>\n",
       "      <td>NaN</td>\n",
       "      <td>NaN</td>\n",
       "    </tr>\n",
       "  </tbody>\n",
       "</table>\n",
       "</div>"
      ],
      "text/plain": [
       "          COUNTRY      GDP  Internet Speed  Consumption of Pure Alcohol  \\\n",
       "0     Afghanistan  470.000             NaN                          0.2   \n",
       "1          Africa      NaN             NaN                          NaN   \n",
       "2         Albania    5.303           45.25                          7.5   \n",
       "3         Algeria    3.976             NaN                          0.9   \n",
       "4  American Samoa      NaN             NaN                          NaN   \n",
       "\n",
       "   Intentional Homicide Victims  Military Expenditures  \n",
       "0                           6.7                    NaN  \n",
       "1                           NaN                    NaN  \n",
       "2                           2.3                    NaN  \n",
       "3                           1.4                    NaN  \n",
       "4                           NaN                    NaN  "
      ]
     },
     "execution_count": 371,
     "metadata": {},
     "output_type": "execute_result"
    }
   ],
   "source": [
    "#################################################################################\n",
    "# FINAL STEPS: CONVERTING TO CSV FILE\n",
    "\n",
    "final_table = pd.DataFrame(table, columns=['COUNTRY', 'GDP', 'Internet Speed', 'Consumption of Pure Alcohol',\n",
    "                                           'Intentional Homicide Victims', 'Military Expenditures'])\n",
    "# Convert the features to numeric numbers (float64)\n",
    "\n",
    "# Features 1 to 5\n",
    "final_table[\"GDP\"] = pd.to_numeric(final_table[\"GDP\"])\n",
    "final_table[\"Internet Speed\"] = pd.to_numeric(final_table[\"Internet Speed\"])\n",
    "final_table[\"Consumption of Pure Alcohol\"] = pd.to_numeric(final_table[\"Consumption of Pure Alcohol\"])\n",
    "final_table[\"Intentional Homicide Victims\"] = pd.to_numeric(final_table[\"Intentional Homicide Victims\"])\n",
    "final_table[\"Military Expenditures\"] = pd.to_numeric(final_table[\"Military Expenditures\"])\n",
    "\n",
    "print(final_table.iloc[:,-1].count())\n",
    "final_table.head()"
   ]
  },
  {
   "cell_type": "code",
   "execution_count": 372,
   "id": "99431946",
   "metadata": {},
   "outputs": [],
   "source": [
    "final_table.to_csv(\"final_table.csv\", encoding='utf-8', index=False)"
   ]
  },
  {
   "cell_type": "code",
   "execution_count": 373,
   "id": "b94d57f3",
   "metadata": {},
   "outputs": [
    {
     "data": {
      "text/plain": [
       "GDP                             float64\n",
       "Internet Speed                  float64\n",
       "Consumption of Pure Alcohol     float64\n",
       "Intentional Homicide Victims    float64\n",
       "Military Expenditures           float64\n",
       "dtype: object"
      ]
     },
     "execution_count": 373,
     "metadata": {},
     "output_type": "execute_result"
    }
   ],
   "source": [
    "# VERIFY THE DATA TYPES (FLOAT64 FOR EVERY FEATURE)\n",
    "data=pd.read_csv('final_table.csv', index_col=0)\n",
    "data.dtypes"
   ]
  },
  {
   "cell_type": "code",
   "execution_count": 374,
   "id": "daa4785e",
   "metadata": {},
   "outputs": [
    {
     "data": {
      "text/html": [
       "<div>\n",
       "<style scoped>\n",
       "    .dataframe tbody tr th:only-of-type {\n",
       "        vertical-align: middle;\n",
       "    }\n",
       "\n",
       "    .dataframe tbody tr th {\n",
       "        vertical-align: top;\n",
       "    }\n",
       "\n",
       "    .dataframe thead th {\n",
       "        text-align: right;\n",
       "    }\n",
       "</style>\n",
       "<table border=\"1\" class=\"dataframe\">\n",
       "  <thead>\n",
       "    <tr style=\"text-align: right;\">\n",
       "      <th></th>\n",
       "      <th>GDP</th>\n",
       "      <th>Internet Speed</th>\n",
       "      <th>Consumption of Pure Alcohol</th>\n",
       "      <th>Intentional Homicide Victims</th>\n",
       "      <th>Military Expenditures</th>\n",
       "    </tr>\n",
       "    <tr>\n",
       "      <th>COUNTRY</th>\n",
       "      <th></th>\n",
       "      <th></th>\n",
       "      <th></th>\n",
       "      <th></th>\n",
       "      <th></th>\n",
       "    </tr>\n",
       "  </thead>\n",
       "  <tbody>\n",
       "    <tr>\n",
       "      <th>Afghanistan</th>\n",
       "      <td>470.000</td>\n",
       "      <td>NaN</td>\n",
       "      <td>0.2</td>\n",
       "      <td>6.7</td>\n",
       "      <td>NaN</td>\n",
       "    </tr>\n",
       "    <tr>\n",
       "      <th>Africa</th>\n",
       "      <td>NaN</td>\n",
       "      <td>NaN</td>\n",
       "      <td>NaN</td>\n",
       "      <td>NaN</td>\n",
       "      <td>NaN</td>\n",
       "    </tr>\n",
       "    <tr>\n",
       "      <th>Albania</th>\n",
       "      <td>5.303</td>\n",
       "      <td>45.25</td>\n",
       "      <td>7.5</td>\n",
       "      <td>2.3</td>\n",
       "      <td>NaN</td>\n",
       "    </tr>\n",
       "    <tr>\n",
       "      <th>Algeria</th>\n",
       "      <td>3.976</td>\n",
       "      <td>NaN</td>\n",
       "      <td>0.9</td>\n",
       "      <td>1.4</td>\n",
       "      <td>NaN</td>\n",
       "    </tr>\n",
       "    <tr>\n",
       "      <th>American Samoa</th>\n",
       "      <td>NaN</td>\n",
       "      <td>NaN</td>\n",
       "      <td>NaN</td>\n",
       "      <td>NaN</td>\n",
       "      <td>NaN</td>\n",
       "    </tr>\n",
       "  </tbody>\n",
       "</table>\n",
       "</div>"
      ],
      "text/plain": [
       "                    GDP  Internet Speed  Consumption of Pure Alcohol  \\\n",
       "COUNTRY                                                                \n",
       "Afghanistan     470.000             NaN                          0.2   \n",
       "Africa              NaN             NaN                          NaN   \n",
       "Albania           5.303           45.25                          7.5   \n",
       "Algeria           3.976             NaN                          0.9   \n",
       "American Samoa      NaN             NaN                          NaN   \n",
       "\n",
       "                Intentional Homicide Victims  Military Expenditures  \n",
       "COUNTRY                                                              \n",
       "Afghanistan                              6.7                    NaN  \n",
       "Africa                                   NaN                    NaN  \n",
       "Albania                                  2.3                    NaN  \n",
       "Algeria                                  1.4                    NaN  \n",
       "American Samoa                           NaN                    NaN  "
      ]
     },
     "execution_count": 374,
     "metadata": {},
     "output_type": "execute_result"
    }
   ],
   "source": [
    "data.head()"
   ]
  },
  {
   "cell_type": "code",
   "execution_count": null,
   "id": "70c53302",
   "metadata": {},
   "outputs": [],
   "source": []
  }
 ],
 "metadata": {
  "kernelspec": {
   "display_name": "Python 3 (ipykernel)",
   "language": "python",
   "name": "python3"
  },
  "language_info": {
   "codemirror_mode": {
    "name": "ipython",
    "version": 3
   },
   "file_extension": ".py",
   "mimetype": "text/x-python",
   "name": "python",
   "nbconvert_exporter": "python",
   "pygments_lexer": "ipython3",
   "version": "3.9.5"
  }
 },
 "nbformat": 4,
 "nbformat_minor": 5
}
